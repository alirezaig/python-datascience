{
 "cells": [
  {
   "cell_type": "markdown",
   "metadata": {},
   "source": [
    "This notebook is part of my [Python data science curriculum](http://www.terran.us/articles/python_curriculum.html)"
   ]
  },
  {
   "cell_type": "code",
   "execution_count": 1,
   "metadata": {},
   "outputs": [],
   "source": [
    "import numpy as np\n",
    "import pandas as pd\n",
    "import scipy.stats as stats\n",
    "\n",
    "import statsmodels.api as sm\n",
    "import statsmodels.formula.api as smf\n",
    "import statsmodels.stats.power as power\n",
    "import statsmodels.stats.proportion as proportion\n",
    "\n",
    "import altair as alt\n",
    "alt.renderers.enable('notebook')\n",
    "\n",
    "tips=pd.read_csv('/usr/lib/python3/dist-packages/pandas/tests/data/tips.csv')"
   ]
  },
  {
   "cell_type": "markdown",
   "metadata": {},
   "source": [
    "# Distributions\n",
    "\n",
    "https://docs.scipy.org/doc/scipy/reference/tutorial/stats.html"
   ]
  },
  {
   "cell_type": "markdown",
   "metadata": {},
   "source": [
    "All the distributions are of the form `stats.{name}`\n",
    "\n",
    "Common parameters are:\n",
    "- `loc` (mean) \n",
    "- `scale` (sd)\n",
    "\n",
    "Common functions are:\n",
    "- `stats`, `mean`, `var`: distributional properties\n",
    "- `rvs`: Random values (R's r*)\n",
    "- `pdf`: Probability distribution function (R's d*) for continuous distributions\n",
    "- `pmf`: Probability mass function (R's m*) for discrete distributions\n",
    "- `cdf`: Cumulative distribution function (R's p*)\n",
    "- `ppf`: Percent Point Function (R's q*), inverse of the cdf  Note: _not actually a percent_, goes from 0 to 1.\n",
    "- `sf`: Survival Function, 1-cdf, (R's lower.tail=F)\n",
    "- `isf`: Inverse Survival Function (cdf:ppf :: sf:isf)"
   ]
  },
  {
   "cell_type": "markdown",
   "metadata": {},
   "source": [
    "## Descriptive Statistics"
   ]
  },
  {
   "cell_type": "code",
   "execution_count": 2,
   "metadata": {},
   "outputs": [
    {
     "data": {
      "text/plain": [
       "(array(0.), array(1.02564103), array(0.), array(0.07894737))"
      ]
     },
     "execution_count": 2,
     "metadata": {},
     "output_type": "execute_result"
    }
   ],
   "source": [
    "# Mean, Variance, Skew, Kurtosis (which you can see is excess kurtosis)\n",
    "stats.t.stats(df=80,moments='mvsk')"
   ]
  },
  {
   "cell_type": "code",
   "execution_count": 3,
   "metadata": {},
   "outputs": [
    {
     "name": "stdout",
     "output_type": "stream",
     "text": [
      "AttributeError(\"'norm_gen' object has no attribute 'skew'\",)\n"
     ]
    }
   ],
   "source": [
    "# There's also mean() and var(), but you can't get skew() with a separate function of that name\n",
    "[stats.norm.mean(), stats.norm.var()]\n",
    "try:\n",
    "    stats.norm.skew()\n",
    "except Exception as ex:\n",
    "    print(repr(ex))"
   ]
  },
  {
   "cell_type": "markdown",
   "metadata": {},
   "source": [
    "## Random Draws"
   ]
  },
  {
   "cell_type": "code",
   "execution_count": 4,
   "metadata": {},
   "outputs": [
    {
     "data": {
      "text/plain": [
       "array([ 1.28677558, -0.0720748 , -1.04294764,  0.87754612, -0.00220538,\n",
       "       -1.1727566 ,  1.03985863, -0.16205662,  1.41696977, -0.95579242])"
      ]
     },
     "execution_count": 4,
     "metadata": {},
     "output_type": "execute_result"
    }
   ],
   "source": [
    "stats.norm.rvs(size=10)"
   ]
  },
  {
   "cell_type": "markdown",
   "metadata": {},
   "source": [
    "## Density"
   ]
  },
  {
   "cell_type": "code",
   "execution_count": 5,
   "metadata": {},
   "outputs": [
    {
     "data": {
      "application/javascript": [
       "var spec = {\"config\": {\"view\": {\"width\": 400, \"height\": 300}}, \"layer\": [{\"data\": {\"name\": \"data-114cd604bc27c6e6ff0762c1738416c4\"}, \"mark\": \"line\", \"encoding\": {\"color\": {\"type\": \"nominal\", \"field\": \"dist\"}, \"x\": {\"type\": \"quantitative\", \"field\": \"x\"}, \"y\": {\"type\": \"quantitative\", \"field\": \"y\"}}}, {\"data\": {\"name\": \"data-1880487b0255ac2ba6d8ee7d0a7746d8\"}, \"mark\": \"line\", \"encoding\": {\"color\": {\"type\": \"nominal\", \"field\": \"dist\"}, \"x\": {\"type\": \"quantitative\", \"field\": \"x\"}, \"y\": {\"type\": \"quantitative\", \"field\": \"y\"}}}], \"$schema\": \"https://vega.github.io/schema/vega-lite/v2.6.0.json\", \"datasets\": {\"data-114cd604bc27c6e6ff0762c1738416c4\": [{\"x\": -3.0, \"y\": 0.0044318484119380075, \"dist\": \"normal\"}, {\"x\": -2.9, \"y\": 0.005952532419775854, \"dist\": \"normal\"}, {\"x\": -2.8, \"y\": 0.007915451582979969, \"dist\": \"normal\"}, {\"x\": -2.6999999999999997, \"y\": 0.010420934814422605, \"dist\": \"normal\"}, {\"x\": -2.5999999999999996, \"y\": 0.013582969233685634, \"dist\": \"normal\"}, {\"x\": -2.4999999999999996, \"y\": 0.017528300493568554, \"dist\": \"normal\"}, {\"x\": -2.3999999999999995, \"y\": 0.02239453029484293, \"dist\": \"normal\"}, {\"x\": -2.2999999999999994, \"y\": 0.02832703774160121, \"dist\": \"normal\"}, {\"x\": -2.1999999999999993, \"y\": 0.03547459284623149, \"dist\": \"normal\"}, {\"x\": -2.099999999999999, \"y\": 0.043983595980427274, \"dist\": \"normal\"}, {\"x\": -1.9999999999999991, \"y\": 0.05399096651318815, \"dist\": \"normal\"}, {\"x\": -1.899999999999999, \"y\": 0.06561581477467672, \"dist\": \"normal\"}, {\"x\": -1.799999999999999, \"y\": 0.0789501583008943, \"dist\": \"normal\"}, {\"x\": -1.6999999999999988, \"y\": 0.09404907737688711, \"dist\": \"normal\"}, {\"x\": -1.5999999999999988, \"y\": 0.1109208346794558, \"dist\": \"normal\"}, {\"x\": -1.4999999999999987, \"y\": 0.12951759566589202, \"dist\": \"normal\"}, {\"x\": -1.3999999999999986, \"y\": 0.14972746563574518, \"dist\": \"normal\"}, {\"x\": -1.2999999999999985, \"y\": 0.17136859204780772, \"dist\": \"normal\"}, {\"x\": -1.1999999999999984, \"y\": 0.1941860549832133, \"dist\": \"normal\"}, {\"x\": -1.0999999999999983, \"y\": 0.217852177032551, \"dist\": \"normal\"}, {\"x\": -0.9999999999999982, \"y\": 0.2419707245191438, \"dist\": \"normal\"}, {\"x\": -0.8999999999999981, \"y\": 0.26608524989875526, \"dist\": \"normal\"}, {\"x\": -0.799999999999998, \"y\": 0.28969155276148323, \"dist\": \"normal\"}, {\"x\": -0.699999999999998, \"y\": 0.3122539333667617, \"dist\": \"normal\"}, {\"x\": -0.5999999999999979, \"y\": 0.3332246028918001, \"dist\": \"normal\"}, {\"x\": -0.4999999999999978, \"y\": 0.3520653267642999, \"dist\": \"normal\"}, {\"x\": -0.3999999999999977, \"y\": 0.36827014030332367, \"dist\": \"normal\"}, {\"x\": -0.2999999999999976, \"y\": 0.3813878154605244, \"dist\": \"normal\"}, {\"x\": -0.1999999999999975, \"y\": 0.3910426939754561, \"dist\": \"normal\"}, {\"x\": -0.09999999999999742, \"y\": 0.3969525474770119, \"dist\": \"normal\"}, {\"x\": 2.6645352591003757e-15, \"y\": 0.3989422804014327, \"dist\": \"normal\"}, {\"x\": 0.10000000000000275, \"y\": 0.3969525474770117, \"dist\": \"normal\"}, {\"x\": 0.20000000000000284, \"y\": 0.39104269397545566, \"dist\": \"normal\"}, {\"x\": 0.30000000000000293, \"y\": 0.3813878154605238, \"dist\": \"normal\"}, {\"x\": 0.400000000000003, \"y\": 0.3682701403033229, \"dist\": \"normal\"}, {\"x\": 0.5000000000000031, \"y\": 0.35206532676429897, \"dist\": \"normal\"}, {\"x\": 0.6000000000000032, \"y\": 0.33322460289179906, \"dist\": \"normal\"}, {\"x\": 0.7000000000000033, \"y\": 0.31225393336676055, \"dist\": \"normal\"}, {\"x\": 0.8000000000000034, \"y\": 0.28969155276148195, \"dist\": \"normal\"}, {\"x\": 0.9000000000000035, \"y\": 0.266085249898754, \"dist\": \"normal\"}, {\"x\": 1.0000000000000036, \"y\": 0.24197072451914253, \"dist\": \"normal\"}, {\"x\": 1.1000000000000032, \"y\": 0.2178521770325498, \"dist\": \"normal\"}, {\"x\": 1.2000000000000037, \"y\": 0.1941860549832121, \"dist\": \"normal\"}, {\"x\": 1.3000000000000043, \"y\": 0.1713685920478064, \"dist\": \"normal\"}, {\"x\": 1.400000000000004, \"y\": 0.14972746563574407, \"dist\": \"normal\"}, {\"x\": 1.5000000000000036, \"y\": 0.12951759566589105, \"dist\": \"normal\"}, {\"x\": 1.600000000000004, \"y\": 0.11092083467945486, \"dist\": \"normal\"}, {\"x\": 1.7000000000000046, \"y\": 0.0940490773768862, \"dist\": \"normal\"}, {\"x\": 1.8000000000000043, \"y\": 0.07895015830089355, \"dist\": \"normal\"}, {\"x\": 1.900000000000004, \"y\": 0.06561581477467611, \"dist\": \"normal\"}, {\"x\": 2.0000000000000044, \"y\": 0.05399096651318758, \"dist\": \"normal\"}, {\"x\": 2.100000000000005, \"y\": 0.04398359598042675, \"dist\": \"normal\"}, {\"x\": 2.2000000000000046, \"y\": 0.03547459284623108, \"dist\": \"normal\"}, {\"x\": 2.3000000000000043, \"y\": 0.0283270377416009, \"dist\": \"normal\"}, {\"x\": 2.400000000000005, \"y\": 0.022394530294842643, \"dist\": \"normal\"}, {\"x\": 2.5000000000000053, \"y\": 0.017528300493568304, \"dist\": \"normal\"}, {\"x\": 2.600000000000005, \"y\": 0.013582969233685445, \"dist\": \"normal\"}, {\"x\": 2.7000000000000046, \"y\": 0.010420934814422467, \"dist\": \"normal\"}, {\"x\": 2.800000000000005, \"y\": 0.007915451582979849, \"dist\": \"normal\"}, {\"x\": 2.9000000000000057, \"y\": 0.005952532419775758, \"dist\": \"normal\"}], \"data-1880487b0255ac2ba6d8ee7d0a7746d8\": [{\"x\": -3.0, \"y\": 0.022972037309241335, \"dist\": \"t\"}, {\"x\": -2.9, \"y\": 0.025409183884938426, \"dist\": \"t\"}, {\"x\": -2.8, \"y\": 0.028151623178220894, \"dist\": \"t\"}, {\"x\": -2.6999999999999997, \"y\": 0.031241455256556496, \"dist\": \"t\"}, {\"x\": -2.5999999999999996, \"y\": 0.03472660840217215, \"dist\": \"t\"}, {\"x\": -2.4999999999999996, \"y\": 0.03866148572716732, \"dist\": \"t\"}, {\"x\": -2.3999999999999995, \"y\": 0.04310759487566401, \"dist\": \"t\"}, {\"x\": -2.2999999999999994, \"y\": 0.04813410975961495, \"dist\": \"t\"}, {\"x\": -2.1999999999999993, \"y\": 0.05381828815680242, \"dist\": \"t\"}, {\"x\": -2.099999999999999, \"y\": 0.06024563538951003, \"dist\": \"t\"}, {\"x\": -1.9999999999999991, \"y\": 0.06750966066389297, \"dist\": \"t\"}, {\"x\": -1.899999999999999, \"y\": 0.07571101806804331, \"dist\": \"t\"}, {\"x\": -1.799999999999999, \"y\": 0.08495575927973877, \"dist\": \"t\"}, {\"x\": -1.6999999999999988, \"y\": 0.09535235320233588, \"dist\": \"t\"}, {\"x\": -1.5999999999999988, \"y\": 0.10700705749349014, \"dist\": \"t\"}, {\"x\": -1.4999999999999987, \"y\": 0.12001717451358755, \"dist\": \"t\"}, {\"x\": -1.3999999999999986, \"y\": 0.1344617168204815, \"dist\": \"t\"}, {\"x\": -1.2999999999999985, \"y\": 0.15038908590753622, \"dist\": \"t\"}, {\"x\": -1.1999999999999984, \"y\": 0.16780158735749728, \"dist\": \"t\"}, {\"x\": -1.0999999999999983, \"y\": 0.1866370293854559, \"dist\": \"t\"}, {\"x\": -0.9999999999999982, \"y\": 0.2067483357831724, \"dist\": \"t\"}, {\"x\": -0.8999999999999981, \"y\": 0.22788306587380613, \"dist\": \"t\"}, {\"x\": -0.799999999999998, \"y\": 0.24966590482208958, \"dist\": \"t\"}, {\"x\": -0.699999999999998, \"y\": 0.27158835908824697, \"dist\": \"t\"}, {\"x\": -0.5999999999999979, \"y\": 0.2930106799648134, \"dist\": \"t\"}, {\"x\": -0.4999999999999978, \"y\": 0.31318091100882905, \"dist\": \"t\"}, {\"x\": -0.3999999999999977, \"y\": 0.3312743723492585, \"dist\": \"t\"}, {\"x\": -0.2999999999999976, \"y\": 0.3464535742745421, \"dist\": \"t\"}, {\"x\": -0.1999999999999975, \"y\": 0.35794379463845594, \"dist\": \"t\"}, {\"x\": -0.09999999999999742, \"y\": 0.3651144438285177, \"dist\": \"t\"}, {\"x\": 2.6645352591003757e-15, \"y\": 0.36755259694786135, \"dist\": \"t\"}, {\"x\": 0.10000000000000275, \"y\": 0.36511444382851754, \"dist\": \"t\"}, {\"x\": 0.20000000000000284, \"y\": 0.35794379463845544, \"dist\": \"t\"}, {\"x\": 0.30000000000000293, \"y\": 0.34645357427454126, \"dist\": \"t\"}, {\"x\": 0.400000000000003, \"y\": 0.33127437234925766, \"dist\": \"t\"}, {\"x\": 0.5000000000000031, \"y\": 0.313180911008828, \"dist\": \"t\"}, {\"x\": 0.6000000000000032, \"y\": 0.29301067996481234, \"dist\": \"t\"}, {\"x\": 0.7000000000000033, \"y\": 0.27158835908824586, \"dist\": \"t\"}, {\"x\": 0.8000000000000034, \"y\": 0.24966590482208836, \"dist\": \"t\"}, {\"x\": 0.9000000000000035, \"y\": 0.22788306587380508, \"dist\": \"t\"}, {\"x\": 1.0000000000000036, \"y\": 0.20674833578317128, \"dist\": \"t\"}, {\"x\": 1.1000000000000032, \"y\": 0.18663702938545487, \"dist\": \"t\"}, {\"x\": 1.2000000000000037, \"y\": 0.16780158735749626, \"dist\": \"t\"}, {\"x\": 1.3000000000000043, \"y\": 0.15038908590753527, \"dist\": \"t\"}, {\"x\": 1.400000000000004, \"y\": 0.1344617168204807, \"dist\": \"t\"}, {\"x\": 1.5000000000000036, \"y\": 0.1200171745135869, \"dist\": \"t\"}, {\"x\": 1.600000000000004, \"y\": 0.1070070574934895, \"dist\": \"t\"}, {\"x\": 1.7000000000000046, \"y\": 0.09535235320233523, \"dist\": \"t\"}, {\"x\": 1.8000000000000043, \"y\": 0.08495575927973821, \"dist\": \"t\"}, {\"x\": 1.900000000000004, \"y\": 0.0757110180680429, \"dist\": \"t\"}, {\"x\": 2.0000000000000044, \"y\": 0.06750966066389255, \"dist\": \"t\"}, {\"x\": 2.100000000000005, \"y\": 0.060245635389509625, \"dist\": \"t\"}, {\"x\": 2.2000000000000046, \"y\": 0.053818288156802084, \"dist\": \"t\"}, {\"x\": 2.3000000000000043, \"y\": 0.0481341097596147, \"dist\": \"t\"}, {\"x\": 2.400000000000005, \"y\": 0.04310759487566374, \"dist\": \"t\"}, {\"x\": 2.5000000000000053, \"y\": 0.03866148572716708, \"dist\": \"t\"}, {\"x\": 2.600000000000005, \"y\": 0.03472660840217195, \"dist\": \"t\"}, {\"x\": 2.7000000000000046, \"y\": 0.031241455256556337, \"dist\": \"t\"}, {\"x\": 2.800000000000005, \"y\": 0.028151623178220734, \"dist\": \"t\"}, {\"x\": 2.9000000000000057, \"y\": 0.025409183884938284, \"dist\": \"t\"}]}};\n",
       "var opt = {};\n",
       "var type = \"vega-lite\";\n",
       "var id = \"149ffc5d-0616-42c7-bebf-344ad9cb29ea\";\n",
       "\n",
       "var output_area = this;\n",
       "\n",
       "require([\"nbextensions/jupyter-vega/index\"], function(vega) {\n",
       "  var target = document.createElement(\"div\");\n",
       "  target.id = id;\n",
       "  target.className = \"vega-embed\";\n",
       "\n",
       "  var style = document.createElement(\"style\");\n",
       "  style.textContent = [\n",
       "    \".vega-embed .error p {\",\n",
       "    \"  color: firebrick;\",\n",
       "    \"  font-size: 14px;\",\n",
       "    \"}\",\n",
       "  ].join(\"\\\\n\");\n",
       "\n",
       "  // element is a jQuery wrapped DOM element inside the output area\n",
       "  // see http://ipython.readthedocs.io/en/stable/api/generated/\\\n",
       "  // IPython.display.html#IPython.display.Javascript.__init__\n",
       "  element[0].appendChild(target);\n",
       "  element[0].appendChild(style);\n",
       "\n",
       "  vega.render(\"#\" + id, spec, type, opt, output_area);\n",
       "}, function (err) {\n",
       "  if (err.requireType !== \"scripterror\") {\n",
       "    throw(err);\n",
       "  }\n",
       "});\n"
      ],
      "text/plain": [
       "<vega.vegalite.VegaLite at 0x7efed83315f8>"
      ]
     },
     "metadata": {
      "jupyter-vega": "#149ffc5d-0616-42c7-bebf-344ad9cb29ea"
     },
     "output_type": "display_data"
    },
    {
     "data": {
      "text/plain": []
     },
     "execution_count": 5,
     "metadata": {},
     "output_type": "execute_result"
    },
    {
     "data": {
      "image/png": "[encoded data removed]"
     },
     "metadata": {
      "jupyter-vega": "#149ffc5d-0616-42c7-bebf-344ad9cb29ea"
     },
     "output_type": "display_data"
    },
    {
     "data": {
      "image/png": "[encoded data removed]"
     },
     "metadata": {
      "jupyter-vega": "#149ffc5d-0616-42c7-bebf-344ad9cb29ea"
     },
     "output_type": "display_data"
    },
    {
     "data": {
      "image/png": "[encoded data removed]"
     },
     "metadata": {
      "jupyter-vega": "#149ffc5d-0616-42c7-bebf-344ad9cb29ea"
     },
     "output_type": "display_data"
    }
   ],
   "source": [
    "x=np.arange(-3,3,.1)\n",
    "y=stats.norm.pdf(x)\n",
    "\n",
    "y2=stats.t.pdf(x,df=3)\n",
    "alt.Chart(pd.DataFrame({'x':x,'y':y,'dist':'normal'})).mark_line().encode(x='x',y='y',color='dist') + \\\n",
    "  alt.Chart(pd.DataFrame({'x':x,'y':y2, 'dist':'t'})).mark_line().encode(x='x',y='y',color='dist')"
   ]
  },
  {
   "cell_type": "markdown",
   "metadata": {},
   "source": [
    "If you want a noncentral t distribution, note that it's a separate distribution in Python, `nct`;\n",
    "it's _not_ a parameter to the t distribution like in R."
   ]
  },
  {
   "cell_type": "code",
   "execution_count": 6,
   "metadata": {},
   "outputs": [
    {
     "data": {
      "text/plain": [
       "'df, nc'"
      ]
     },
     "execution_count": 6,
     "metadata": {},
     "output_type": "execute_result"
    }
   ],
   "source": [
    "# You can see what parameters are available with .shapes:\n",
    "stats.nct.shapes"
   ]
  },
  {
   "cell_type": "markdown",
   "metadata": {},
   "source": [
    "## Cumulative Distributions"
   ]
  },
  {
   "cell_type": "code",
   "execution_count": 7,
   "metadata": {},
   "outputs": [
    {
     "data": {
      "text/plain": [
       "array([0.0249979, 0.9750021])"
      ]
     },
     "execution_count": 7,
     "metadata": {},
     "output_type": "execute_result"
    }
   ],
   "source": [
    "stats.norm.cdf([-1.96,1.96])"
   ]
  },
  {
   "cell_type": "code",
   "execution_count": 8,
   "metadata": {},
   "outputs": [
    {
     "data": {
      "text/plain": [
       "array([-1.95996398,  1.95996398])"
      ]
     },
     "execution_count": 8,
     "metadata": {},
     "output_type": "execute_result"
    }
   ],
   "source": [
    "# The inverse of the cdf is the Percent Point Function (actually 0 to 1, not a percent)\n",
    "stats.norm.ppf([0.025,0.975])"
   ]
  },
  {
   "cell_type": "code",
   "execution_count": 9,
   "metadata": {},
   "outputs": [
    {
     "data": {
      "application/javascript": [
       "var spec = {\"config\": {\"view\": {\"width\": 400, \"height\": 300}}, \"layer\": [{\"data\": {\"name\": \"data-fa2d0018fa2b27324b3ee8f41da708b5\"}, \"mark\": \"line\", \"encoding\": {\"color\": {\"type\": \"nominal\", \"field\": \"func\"}, \"x\": {\"type\": \"quantitative\", \"field\": \"x\"}, \"y\": {\"type\": \"quantitative\", \"field\": \"y\"}}}, {\"data\": {\"name\": \"data-e39a807ada98edd35c2b3e786112ef14\"}, \"mark\": \"line\", \"encoding\": {\"color\": {\"type\": \"nominal\", \"field\": \"func\"}, \"x\": {\"type\": \"quantitative\", \"field\": \"x\"}, \"y\": {\"type\": \"quantitative\", \"field\": \"y\"}}}], \"$schema\": \"https://vega.github.io/schema/vega-lite/v2.6.0.json\", \"datasets\": {\"data-fa2d0018fa2b27324b3ee8f41da708b5\": [{\"x\": -3.0, \"y\": 0.0013498980316300933, \"func\": \"cdf\"}, {\"x\": -2.9, \"y\": 0.0018658133003840375, \"func\": \"cdf\"}, {\"x\": -2.8, \"y\": 0.002555130330427932, \"func\": \"cdf\"}, {\"x\": -2.6999999999999997, \"y\": 0.0034669738030406686, \"func\": \"cdf\"}, {\"x\": -2.5999999999999996, \"y\": 0.004661188023718752, \"func\": \"cdf\"}, {\"x\": -2.4999999999999996, \"y\": 0.006209665325776138, \"func\": \"cdf\"}, {\"x\": -2.3999999999999995, \"y\": 0.008197535924596138, \"func\": \"cdf\"}, {\"x\": -2.2999999999999994, \"y\": 0.010724110021675816, \"func\": \"cdf\"}, {\"x\": -2.1999999999999993, \"y\": 0.013903447513498634, \"func\": \"cdf\"}, {\"x\": -2.099999999999999, \"y\": 0.017864420562816587, \"func\": \"cdf\"}, {\"x\": -1.9999999999999991, \"y\": 0.022750131948179254, \"func\": \"cdf\"}, {\"x\": -1.899999999999999, \"y\": 0.02871655981600187, \"func\": \"cdf\"}, {\"x\": -1.799999999999999, \"y\": 0.035930319112925886, \"func\": \"cdf\"}, {\"x\": -1.6999999999999988, \"y\": 0.04456546275854315, \"func\": \"cdf\"}, {\"x\": -1.5999999999999988, \"y\": 0.05479929169955813, \"func\": \"cdf\"}, {\"x\": -1.4999999999999987, \"y\": 0.06680720126885821, \"func\": \"cdf\"}, {\"x\": -1.3999999999999986, \"y\": 0.08075665923377123, \"func\": \"cdf\"}, {\"x\": -1.2999999999999985, \"y\": 0.09680048458561064, \"func\": \"cdf\"}, {\"x\": -1.1999999999999984, \"y\": 0.11506967022170855, \"func\": \"cdf\"}, {\"x\": -1.0999999999999983, \"y\": 0.135666060946383, \"func\": \"cdf\"}, {\"x\": -0.9999999999999982, \"y\": 0.15865525393145746, \"func\": \"cdf\"}, {\"x\": -0.8999999999999981, \"y\": 0.18406012534675997, \"func\": \"cdf\"}, {\"x\": -0.799999999999998, \"y\": 0.2118553985833973, \"func\": \"cdf\"}, {\"x\": -0.699999999999998, \"y\": 0.24196365222307364, \"func\": \"cdf\"}, {\"x\": -0.5999999999999979, \"y\": 0.2742531177500743, \"func\": \"cdf\"}, {\"x\": -0.4999999999999978, \"y\": 0.30853753872598766, \"func\": \"cdf\"}, {\"x\": -0.3999999999999977, \"y\": 0.3445782583896767, \"func\": \"cdf\"}, {\"x\": -0.2999999999999976, \"y\": 0.38208857781104827, \"func\": \"cdf\"}, {\"x\": -0.1999999999999975, \"y\": 0.42074029056089796, \"func\": \"cdf\"}, {\"x\": -0.09999999999999742, \"y\": 0.460172162722972, \"func\": \"cdf\"}, {\"x\": 2.6645352591003757e-15, \"y\": 0.5000000000000011, \"func\": \"cdf\"}, {\"x\": 0.10000000000000275, \"y\": 0.5398278372770301, \"func\": \"cdf\"}, {\"x\": 0.20000000000000284, \"y\": 0.5792597094391041, \"func\": \"cdf\"}, {\"x\": 0.30000000000000293, \"y\": 0.6179114221889538, \"func\": \"cdf\"}, {\"x\": 0.400000000000003, \"y\": 0.6554217416103253, \"func\": \"cdf\"}, {\"x\": 0.5000000000000031, \"y\": 0.6914624612740142, \"func\": \"cdf\"}, {\"x\": 0.6000000000000032, \"y\": 0.7257468822499276, \"func\": \"cdf\"}, {\"x\": 0.7000000000000033, \"y\": 0.7580363477769281, \"func\": \"cdf\"}, {\"x\": 0.8000000000000034, \"y\": 0.7881446014166043, \"func\": \"cdf\"}, {\"x\": 0.9000000000000035, \"y\": 0.8159398746532414, \"func\": \"cdf\"}, {\"x\": 1.0000000000000036, \"y\": 0.8413447460685438, \"func\": \"cdf\"}, {\"x\": 1.1000000000000032, \"y\": 0.864333939053618, \"func\": \"cdf\"}, {\"x\": 1.2000000000000037, \"y\": 0.8849303297782924, \"func\": \"cdf\"}, {\"x\": 1.3000000000000043, \"y\": 0.9031995154143904, \"func\": \"cdf\"}, {\"x\": 1.400000000000004, \"y\": 0.9192433407662295, \"func\": \"cdf\"}, {\"x\": 1.5000000000000036, \"y\": 0.9331927987311424, \"func\": \"cdf\"}, {\"x\": 1.600000000000004, \"y\": 0.9452007083004424, \"func\": \"cdf\"}, {\"x\": 1.7000000000000046, \"y\": 0.9554345372414574, \"func\": \"cdf\"}, {\"x\": 1.8000000000000043, \"y\": 0.9640696808870746, \"func\": \"cdf\"}, {\"x\": 1.900000000000004, \"y\": 0.9712834401839985, \"func\": \"cdf\"}, {\"x\": 2.0000000000000044, \"y\": 0.977249868051821, \"func\": \"cdf\"}, {\"x\": 2.100000000000005, \"y\": 0.9821355794371837, \"func\": \"cdf\"}, {\"x\": 2.2000000000000046, \"y\": 0.9860965524865015, \"func\": \"cdf\"}, {\"x\": 2.3000000000000043, \"y\": 0.9892758899783243, \"func\": \"cdf\"}, {\"x\": 2.400000000000005, \"y\": 0.991802464075404, \"func\": \"cdf\"}, {\"x\": 2.5000000000000053, \"y\": 0.993790334674224, \"func\": \"cdf\"}, {\"x\": 2.600000000000005, \"y\": 0.9953388119762813, \"func\": \"cdf\"}, {\"x\": 2.7000000000000046, \"y\": 0.9965330261969594, \"func\": \"cdf\"}, {\"x\": 2.800000000000005, \"y\": 0.9974448696695721, \"func\": \"cdf\"}, {\"x\": 2.9000000000000057, \"y\": 0.998134186699616, \"func\": \"cdf\"}], \"data-e39a807ada98edd35c2b3e786112ef14\": [{\"x\": -3.0, \"y\": 0.9986501019683699, \"func\": \"sf\"}, {\"x\": -2.9, \"y\": 0.998134186699616, \"func\": \"sf\"}, {\"x\": -2.8, \"y\": 0.997444869669572, \"func\": \"sf\"}, {\"x\": -2.6999999999999997, \"y\": 0.9965330261969594, \"func\": \"sf\"}, {\"x\": -2.5999999999999996, \"y\": 0.9953388119762813, \"func\": \"sf\"}, {\"x\": -2.4999999999999996, \"y\": 0.9937903346742238, \"func\": \"sf\"}, {\"x\": -2.3999999999999995, \"y\": 0.9918024640754038, \"func\": \"sf\"}, {\"x\": -2.2999999999999994, \"y\": 0.9892758899783242, \"func\": \"sf\"}, {\"x\": -2.1999999999999993, \"y\": 0.9860965524865014, \"func\": \"sf\"}, {\"x\": -2.099999999999999, \"y\": 0.9821355794371834, \"func\": \"sf\"}, {\"x\": -1.9999999999999991, \"y\": 0.9772498680518208, \"func\": \"sf\"}, {\"x\": -1.899999999999999, \"y\": 0.9712834401839981, \"func\": \"sf\"}, {\"x\": -1.799999999999999, \"y\": 0.9640696808870741, \"func\": \"sf\"}, {\"x\": -1.6999999999999988, \"y\": 0.9554345372414569, \"func\": \"sf\"}, {\"x\": -1.5999999999999988, \"y\": 0.9452007083004419, \"func\": \"sf\"}, {\"x\": -1.4999999999999987, \"y\": 0.9331927987311418, \"func\": \"sf\"}, {\"x\": -1.3999999999999986, \"y\": 0.9192433407662288, \"func\": \"sf\"}, {\"x\": -1.2999999999999985, \"y\": 0.9031995154143894, \"func\": \"sf\"}, {\"x\": -1.1999999999999984, \"y\": 0.8849303297782914, \"func\": \"sf\"}, {\"x\": -1.0999999999999983, \"y\": 0.864333939053617, \"func\": \"sf\"}, {\"x\": -0.9999999999999982, \"y\": 0.8413447460685426, \"func\": \"sf\"}, {\"x\": -0.8999999999999981, \"y\": 0.81593987465324, \"func\": \"sf\"}, {\"x\": -0.799999999999998, \"y\": 0.7881446014166027, \"func\": \"sf\"}, {\"x\": -0.699999999999998, \"y\": 0.7580363477769263, \"func\": \"sf\"}, {\"x\": -0.5999999999999979, \"y\": 0.7257468822499257, \"func\": \"sf\"}, {\"x\": -0.4999999999999978, \"y\": 0.6914624612740123, \"func\": \"sf\"}, {\"x\": -0.3999999999999977, \"y\": 0.6554217416103233, \"func\": \"sf\"}, {\"x\": -0.2999999999999976, \"y\": 0.6179114221889517, \"func\": \"sf\"}, {\"x\": -0.1999999999999975, \"y\": 0.5792597094391021, \"func\": \"sf\"}, {\"x\": -0.09999999999999742, \"y\": 0.539827837277028, \"func\": \"sf\"}, {\"x\": 2.6645352591003757e-15, \"y\": 0.49999999999999895, \"func\": \"sf\"}, {\"x\": 0.10000000000000275, \"y\": 0.4601721627229699, \"func\": \"sf\"}, {\"x\": 0.20000000000000284, \"y\": 0.42074029056089585, \"func\": \"sf\"}, {\"x\": 0.30000000000000293, \"y\": 0.3820885778110462, \"func\": \"sf\"}, {\"x\": 0.400000000000003, \"y\": 0.3445782583896747, \"func\": \"sf\"}, {\"x\": 0.5000000000000031, \"y\": 0.30853753872598577, \"func\": \"sf\"}, {\"x\": 0.6000000000000032, \"y\": 0.2742531177500725, \"func\": \"sf\"}, {\"x\": 0.7000000000000033, \"y\": 0.24196365222307198, \"func\": \"sf\"}, {\"x\": 0.8000000000000034, \"y\": 0.21185539858339575, \"func\": \"sf\"}, {\"x\": 0.9000000000000035, \"y\": 0.18406012534675859, \"func\": \"sf\"}, {\"x\": 1.0000000000000036, \"y\": 0.15865525393145619, \"func\": \"sf\"}, {\"x\": 1.1000000000000032, \"y\": 0.13566606094638195, \"func\": \"sf\"}, {\"x\": 1.2000000000000037, \"y\": 0.11506967022170761, \"func\": \"sf\"}, {\"x\": 1.3000000000000043, \"y\": 0.09680048458560964, \"func\": \"sf\"}, {\"x\": 1.400000000000004, \"y\": 0.08075665923377046, \"func\": \"sf\"}, {\"x\": 1.5000000000000036, \"y\": 0.0668072012688576, \"func\": \"sf\"}, {\"x\": 1.600000000000004, \"y\": 0.05479929169955756, \"func\": \"sf\"}, {\"x\": 1.7000000000000046, \"y\": 0.0445654627585426, \"func\": \"sf\"}, {\"x\": 1.8000000000000043, \"y\": 0.03593031911292547, \"func\": \"sf\"}, {\"x\": 1.900000000000004, \"y\": 0.028716559816001536, \"func\": \"sf\"}, {\"x\": 2.0000000000000044, \"y\": 0.02275013194817896, \"func\": \"sf\"}, {\"x\": 2.100000000000005, \"y\": 0.017864420562816338, \"func\": \"sf\"}, {\"x\": 2.2000000000000046, \"y\": 0.013903447513498444, \"func\": \"sf\"}, {\"x\": 2.3000000000000043, \"y\": 0.010724110021675672, \"func\": \"sf\"}, {\"x\": 2.400000000000005, \"y\": 0.008197535924596018, \"func\": \"sf\"}, {\"x\": 2.5000000000000053, \"y\": 0.006209665325776037, \"func\": \"sf\"}, {\"x\": 2.600000000000005, \"y\": 0.004661188023718679, \"func\": \"sf\"}, {\"x\": 2.7000000000000046, \"y\": 0.003466973803040619, \"func\": \"sf\"}, {\"x\": 2.800000000000005, \"y\": 0.0025551303304278896, \"func\": \"sf\"}, {\"x\": 2.9000000000000057, \"y\": 0.0018658133003840052, \"func\": \"sf\"}]}};\n",
       "var opt = {};\n",
       "var type = \"vega-lite\";\n",
       "var id = \"46f46b83-ad7f-4a65-ac37-3cdf899c1a4b\";\n",
       "\n",
       "var output_area = this;\n",
       "\n",
       "require([\"nbextensions/jupyter-vega/index\"], function(vega) {\n",
       "  var target = document.createElement(\"div\");\n",
       "  target.id = id;\n",
       "  target.className = \"vega-embed\";\n",
       "\n",
       "  var style = document.createElement(\"style\");\n",
       "  style.textContent = [\n",
       "    \".vega-embed .error p {\",\n",
       "    \"  color: firebrick;\",\n",
       "    \"  font-size: 14px;\",\n",
       "    \"}\",\n",
       "  ].join(\"\\\\n\");\n",
       "\n",
       "  // element is a jQuery wrapped DOM element inside the output area\n",
       "  // see http://ipython.readthedocs.io/en/stable/api/generated/\\\n",
       "  // IPython.display.html#IPython.display.Javascript.__init__\n",
       "  element[0].appendChild(target);\n",
       "  element[0].appendChild(style);\n",
       "\n",
       "  vega.render(\"#\" + id, spec, type, opt, output_area);\n",
       "}, function (err) {\n",
       "  if (err.requireType !== \"scripterror\") {\n",
       "    throw(err);\n",
       "  }\n",
       "});\n"
      ],
      "text/plain": [
       "<vega.vegalite.VegaLite at 0x7efed8619f98>"
      ]
     },
     "metadata": {
      "jupyter-vega": "#46f46b83-ad7f-4a65-ac37-3cdf899c1a4b"
     },
     "output_type": "display_data"
    },
    {
     "data": {
      "text/plain": []
     },
     "execution_count": 9,
     "metadata": {},
     "output_type": "execute_result"
    },
    {
     "data": {
      "image/png": "[encoded data removed]"
     },
     "metadata": {
      "jupyter-vega": "#46f46b83-ad7f-4a65-ac37-3cdf899c1a4b"
     },
     "output_type": "display_data"
    },
    {
     "data": {
      "image/png": "[encoded data removed]"
     },
     "metadata": {
      "jupyter-vega": "#46f46b83-ad7f-4a65-ac37-3cdf899c1a4b"
     },
     "output_type": "display_data"
    },
    {
     "data": {
      "image/png": "[encoded data removed]"
     },
     "metadata": {
      "jupyter-vega": "#46f46b83-ad7f-4a65-ac37-3cdf899c1a4b"
     },
     "output_type": "display_data"
    }
   ],
   "source": [
    "# The other tail is accessed as a separate function, sf()\n",
    "x=np.arange(-3,3,.1)\n",
    "alt.Chart(pd.DataFrame({'x':x,'y':stats.norm.cdf(x),'func':'cdf'})).mark_line().encode(x='x',y='y',color='func') + \\\n",
    "alt.Chart(pd.DataFrame({'x':x,'y':stats.norm.sf(x),'func':'sf'})).mark_line().encode(x='x',y='y',color='func')"
   ]
  },
  {
   "cell_type": "markdown",
   "metadata": {},
   "source": [
    "## Discrete Distributions\n",
    "\n",
    "In Python, discrete distributions have some differently named functions (pmf instead of pdf), but the cumulative functions are the same."
   ]
  },
  {
   "cell_type": "code",
   "execution_count": 10,
   "metadata": {},
   "outputs": [
    {
     "data": {
      "text/plain": [
       "'n, p'"
      ]
     },
     "execution_count": 10,
     "metadata": {},
     "output_type": "execute_result"
    }
   ],
   "source": [
    "stats.binom.shapes"
   ]
  },
  {
   "cell_type": "code",
   "execution_count": 11,
   "metadata": {},
   "outputs": [
    {
     "data": {
      "text/plain": [
       "array([0.0625, 0.25  , 0.375 , 0.25  , 0.0625])"
      ]
     },
     "execution_count": 11,
     "metadata": {},
     "output_type": "execute_result"
    }
   ],
   "source": [
    "stats.binom.pmf(np.arange(0,5), 4,.5)"
   ]
  },
  {
   "cell_type": "code",
   "execution_count": 12,
   "metadata": {},
   "outputs": [
    {
     "data": {
      "text/plain": [
       "array([0.0625, 0.3125, 0.6875, 0.9375, 1.    ])"
      ]
     },
     "execution_count": 12,
     "metadata": {},
     "output_type": "execute_result"
    }
   ],
   "source": [
    "stats.binom.cdf(np.arange(0,5), 4,.5)"
   ]
  },
  {
   "cell_type": "code",
   "execution_count": 13,
   "metadata": {},
   "outputs": [
    {
     "data": {
      "text/plain": [
       "array([0., 1., 2., 3., 4.])"
      ]
     },
     "execution_count": 13,
     "metadata": {},
     "output_type": "execute_result"
    }
   ],
   "source": [
    "stats.binom.ppf([0.0625,0.3125,0.6875,0.9375,1], 4, .5)"
   ]
  },
  {
   "cell_type": "code",
   "execution_count": 14,
   "metadata": {},
   "outputs": [
    {
     "data": {
      "text/plain": [
       "array([1., 1., 2.])"
      ]
     },
     "execution_count": 14,
     "metadata": {},
     "output_type": "execute_result"
    }
   ],
   "source": [
    "stats.binom.ppf([0.3124,0.3125,0.3126], 4, .5)"
   ]
  },
  {
   "cell_type": "code",
   "execution_count": 15,
   "metadata": {},
   "outputs": [
    {
     "data": {
      "text/plain": [
       "array([3., 2., 2.])"
      ]
     },
     "execution_count": 15,
     "metadata": {},
     "output_type": "execute_result"
    }
   ],
   "source": [
    "# the other tail of the ppf is called the isf (inverse survival function)\n",
    "stats.binom.isf([0.3124,0.3125,0.3126], 4, .5)"
   ]
  },
  {
   "cell_type": "markdown",
   "metadata": {},
   "source": [
    "# Continuous Variable Tests\n"
   ]
  },
  {
   "cell_type": "markdown",
   "metadata": {},
   "source": [
    "## Single Sample T-Test\n",
    "\n",
    "The primary function here is `stats.ttest_1samp`.  Only a two-sided test is available; there is no one-sided option (you're expected to check the side and divide the p-value by 2 manually).\n",
    "\n",
    "https://docs.scipy.org/doc/scipy/reference/tutorial/stats.html#t-test-and-ks-test"
   ]
  },
  {
   "cell_type": "code",
   "execution_count": 16,
   "metadata": {},
   "outputs": [
    {
     "data": {
      "text/plain": [
       "Ttest_1sampResult(statistic=-0.37559294451919506, pvalue=0.7075471935626723)"
      ]
     },
     "execution_count": 16,
     "metadata": {},
     "output_type": "execute_result"
    }
   ],
   "source": [
    "# Is the average bill statistically different from $20?\n",
    "stats.ttest_1samp(tips.total_bill, popmean=20)"
   ]
  },
  {
   "cell_type": "markdown",
   "metadata": {},
   "source": [
    "## Two-Sample T-Test\n",
    "\n",
    "`stats.ttest_ind` (the \"ind\" is for \"independent\").  The only significant parameter is `equal_var` - if true, use pooled variance.  Unlike R, the default is _True_.\n",
    "\n",
    "https://docs.scipy.org/doc/scipy/reference/tutorial/stats.html#comparing-two-samples"
   ]
  },
  {
   "cell_type": "code",
   "execution_count": 17,
   "metadata": {},
   "outputs": [
    {
     "data": {
      "text/plain": [
       "Ttest_indResult(statistic=-1.1432770167349968, pvalue=0.2542456188927583)"
      ]
     },
     "execution_count": 17,
     "metadata": {},
     "output_type": "execute_result"
    }
   ],
   "source": [
    "# Do men and women tip differently?\n",
    "tips2 = tips.assign(tip_pct=tips.tip/tips.total_bill)\n",
    "stats.ttest_ind(tips2[tips2.sex=='Male'].tip_pct,\n",
    "                tips2[tips2.sex=='Female'].tip_pct, equal_var=False)"
   ]
  },
  {
   "cell_type": "markdown",
   "metadata": {},
   "source": [
    "## Continuous Power Tests\n",
    "\n",
    "http://www.statsmodels.org/stable/stats.html#power-and-sample-size-calculations\n",
    "\n",
    "Parameters to `tt_ind_solve_power` are:\n",
    "- effect_size\n",
    "- nobs1\n",
    "- alpha (significance level)\n",
    "- power\n",
    "- ratio (nobs2/nobs1), default 1\n",
    "\n",
    "You must specify None for exactly one of the parameters, and it solves for that one.\n",
    "\n",
    "This is very similar to R, except that instead of giving a delta and sd, you need to divide delta by sd and get the effect size yourself.  More conveniently than in R, you can have different values for n, and specify the _ratio_ between them, which is exactly what you want most of the time."
   ]
  },
  {
   "cell_type": "code",
   "execution_count": 18,
   "metadata": {},
   "outputs": [
    {
     "data": {
      "text/plain": [
       "26.98920499749065"
      ]
     },
     "execution_count": 18,
     "metadata": {},
     "output_type": "execute_result"
    }
   ],
   "source": [
    "power.tt_ind_solve_power(effect_size=1, nobs1=None, ratio=1, alpha=0.05, power=0.95)"
   ]
  },
  {
   "cell_type": "code",
   "execution_count": 19,
   "metadata": {},
   "outputs": [
    {
     "data": {
      "text/plain": [
       "0.5620066386966457"
      ]
     },
     "execution_count": 19,
     "metadata": {},
     "output_type": "execute_result"
    }
   ],
   "source": [
    "power.tt_ind_solve_power(effect_size=1, nobs1=10, ratio=1, alpha=0.05, power=None)"
   ]
  },
  {
   "cell_type": "markdown",
   "metadata": {},
   "source": [
    "There is also an analogous `zt_ind_solve_power`, using the z instead of t distribution."
   ]
  },
  {
   "cell_type": "markdown",
   "metadata": {},
   "source": [
    "## ANOVA"
   ]
  },
  {
   "cell_type": "markdown",
   "metadata": {},
   "source": [
    "ANOVA requires a fitted linear regression object, so it will be covered with statsmodels instead of here."
   ]
  },
  {
   "cell_type": "markdown",
   "metadata": {},
   "source": [
    "# Discrete Variable Tests"
   ]
  },
  {
   "cell_type": "markdown",
   "metadata": {},
   "source": [
    "## Single Sample Proportion Tests \n",
    "\n",
    "The Python implementation `proportions_ztest` offers a Z-test instead of R's $X^2$.  There is little or no practical difference in most situations.  The return values are:\n",
    "- z statistic\n",
    "- p value\n",
    "\n",
    "https://www.statsmodels.org/dev/generated/statsmodels.stats.proportion.proportions_ztest.html"
   ]
  },
  {
   "cell_type": "code",
   "execution_count": 20,
   "metadata": {},
   "outputs": [
    {
     "data": {
      "text/plain": [
       "(4.6779276972624935, 2.8978868440605785e-06)"
      ]
     },
     "execution_count": 20,
     "metadata": {},
     "output_type": "execute_result"
    }
   ],
   "source": [
    "proportion.proportions_ztest(sum(tips.sex=='Male'), tips.shape[0], value=0.5)"
   ]
  },
  {
   "cell_type": "markdown",
   "metadata": {},
   "source": [
    "There is also `binom_test`, which is exactly analogous to R's `binom.test`.  These use the binomial distribution instead of an approximation."
   ]
  },
  {
   "cell_type": "code",
   "execution_count": 21,
   "metadata": {},
   "outputs": [
    {
     "data": {
      "text/plain": [
       "0.08240747932752653"
      ]
     },
     "execution_count": 21,
     "metadata": {},
     "output_type": "execute_result"
    }
   ],
   "source": [
    "stats.binom_test(50,120)"
   ]
  },
  {
   "cell_type": "markdown",
   "metadata": {},
   "source": [
    "## Two Sample Proportion Tests"
   ]
  },
  {
   "cell_type": "code",
   "execution_count": 22,
   "metadata": {},
   "outputs": [
    {
     "data": {
      "text/html": [
       "<div>\n",
       "<style scoped>\n",
       "    .dataframe tbody tr th:only-of-type {\n",
       "        vertical-align: middle;\n",
       "    }\n",
       "\n",
       "    .dataframe tbody tr th {\n",
       "        vertical-align: top;\n",
       "    }\n",
       "\n",
       "    .dataframe thead tr th {\n",
       "        text-align: left;\n",
       "    }\n",
       "\n",
       "    .dataframe thead tr:last-of-type th {\n",
       "        text-align: right;\n",
       "    }\n",
       "</style>\n",
       "<table border=\"1\" class=\"dataframe\">\n",
       "  <thead>\n",
       "    <tr>\n",
       "      <th></th>\n",
       "      <th colspan=\"2\" halign=\"left\">sex</th>\n",
       "    </tr>\n",
       "    <tr>\n",
       "      <th></th>\n",
       "      <th>total</th>\n",
       "      <th>male</th>\n",
       "    </tr>\n",
       "    <tr>\n",
       "      <th>smoker</th>\n",
       "      <th></th>\n",
       "      <th></th>\n",
       "    </tr>\n",
       "  </thead>\n",
       "  <tbody>\n",
       "    <tr>\n",
       "      <th>No</th>\n",
       "      <td>151</td>\n",
       "      <td>97</td>\n",
       "    </tr>\n",
       "    <tr>\n",
       "      <th>Yes</th>\n",
       "      <td>93</td>\n",
       "      <td>60</td>\n",
       "    </tr>\n",
       "  </tbody>\n",
       "</table>\n",
       "</div>"
      ],
      "text/plain": [
       "         sex     \n",
       "       total male\n",
       "smoker           \n",
       "No       151   97\n",
       "Yes       93   60"
      ]
     },
     "execution_count": 22,
     "metadata": {},
     "output_type": "execute_result"
    }
   ],
   "source": [
    "t=tips.groupby('smoker').aggregate({'sex':[('total','size'), ('male',lambda x: sum(x=='Male'))]})\n",
    "t"
   ]
  },
  {
   "cell_type": "code",
   "execution_count": 23,
   "metadata": {},
   "outputs": [
    {
     "data": {
      "text/plain": [
       "(-0.04398657223093955, 0.9649151073157316)"
      ]
     },
     "execution_count": 23,
     "metadata": {},
     "output_type": "execute_result"
    }
   ],
   "source": [
    "proportion.proportions_ztest(t.sex.male,t.sex.total)"
   ]
  },
  {
   "cell_type": "markdown",
   "metadata": {},
   "source": [
    "## Chi-squared ($X^2$) tests\n",
    "\n",
    "Remember that with a $X^2$ test, instead of a count of successes and totals, you use a count of successes and failures.\n",
    "\n",
    "The return values from `chi2_contingency` are:\n",
    "- chi^2 statistic\n",
    "- p-value\n",
    "- degrees of freedom\n",
    "- expected values (array)\n",
    "\n",
    "https://docs.scipy.org/doc/scipy/reference/generated/scipy.stats.chi2_contingency.html"
   ]
  },
  {
   "cell_type": "code",
   "execution_count": 24,
   "metadata": {},
   "outputs": [
    {
     "data": {
      "text/html": [
       "<div>\n",
       "<style scoped>\n",
       "    .dataframe tbody tr th:only-of-type {\n",
       "        vertical-align: middle;\n",
       "    }\n",
       "\n",
       "    .dataframe tbody tr th {\n",
       "        vertical-align: top;\n",
       "    }\n",
       "\n",
       "    .dataframe thead th {\n",
       "        text-align: right;\n",
       "    }\n",
       "</style>\n",
       "<table border=\"1\" class=\"dataframe\">\n",
       "  <thead>\n",
       "    <tr style=\"text-align: right;\">\n",
       "      <th>smoker</th>\n",
       "      <th>No</th>\n",
       "      <th>Yes</th>\n",
       "    </tr>\n",
       "    <tr>\n",
       "      <th>sex</th>\n",
       "      <th></th>\n",
       "      <th></th>\n",
       "    </tr>\n",
       "  </thead>\n",
       "  <tbody>\n",
       "    <tr>\n",
       "      <th>Female</th>\n",
       "      <td>54</td>\n",
       "      <td>33</td>\n",
       "    </tr>\n",
       "    <tr>\n",
       "      <th>Male</th>\n",
       "      <td>97</td>\n",
       "      <td>60</td>\n",
       "    </tr>\n",
       "  </tbody>\n",
       "</table>\n",
       "</div>"
      ],
      "text/plain": [
       "smoker  No  Yes\n",
       "sex            \n",
       "Female  54   33\n",
       "Male    97   60"
      ]
     },
     "execution_count": 24,
     "metadata": {},
     "output_type": "execute_result"
    }
   ],
   "source": [
    "t = tips.groupby(['sex','smoker']).size().unstack()\n",
    "t"
   ]
  },
  {
   "cell_type": "code",
   "execution_count": 25,
   "metadata": {},
   "outputs": [
    {
     "data": {
      "text/plain": [
       "(0.001934818536627623, 0.964915107315732, 1, array([[53.84016393, 33.15983607],\n",
       "        [97.15983607, 59.84016393]]))"
      ]
     },
     "execution_count": 25,
     "metadata": {},
     "output_type": "execute_result"
    }
   ],
   "source": [
    "# This is _surprisingly_ close to exactly independent:\n",
    "stats.chi2_contingency(t,correction=False)"
   ]
  },
  {
   "cell_type": "markdown",
   "metadata": {},
   "source": [
    "Note that the implementation of the correction is not the same in Python as in R, so results will not match with correction."
   ]
  },
  {
   "cell_type": "code",
   "execution_count": 26,
   "metadata": {},
   "outputs": [
    {
     "data": {
      "text/plain": [
       "(10.277251918677742,\n",
       " 0.0013468039268008766,\n",
       " 1,\n",
       " array([[ 62.75409836,  24.24590164],\n",
       "        [113.24590164,  43.75409836]]))"
      ]
     },
     "execution_count": 26,
     "metadata": {},
     "output_type": "execute_result"
    }
   ],
   "source": [
    "# This may be more interesting:\n",
    "stats.chi2_contingency(\n",
    "    tips.groupby(['sex','time']).size().unstack(), correction=False)"
   ]
  },
  {
   "cell_type": "code",
   "execution_count": 27,
   "metadata": {},
   "outputs": [
    {
     "data": {
      "text/plain": [
       "(13.22200137240661,\n",
       " 0.004180302092822257,\n",
       " 3,\n",
       " array([[ 6.77459016, 31.0204918 , 27.09836066, 22.10655738],\n",
       "        [12.22540984, 55.9795082 , 48.90163934, 39.89344262]]))"
      ]
     },
     "execution_count": 27,
     "metadata": {},
     "output_type": "execute_result"
    }
   ],
   "source": [
    "# Of course we can also do more than 2x2 this way\n",
    "stats.chi2_contingency(\n",
    "    tips.groupby(['sex','day']).size().unstack(), correction=False)"
   ]
  },
  {
   "cell_type": "markdown",
   "metadata": {},
   "source": [
    "## Discrete Power Tests"
   ]
  },
  {
   "cell_type": "markdown",
   "metadata": {},
   "source": [
    "There are functions available in statsmodels, not in scipy.  You'll need to compute your effect size yourself as a preprocessing step, like in R's pwr() library.\n",
    "\n",
    "http://www.statsmodels.org/stable/generated/statsmodels.stats.proportion.proportion_effectsize.html  \n",
    "http://www.statsmodels.org/stable/generated/statsmodels.stats.power.NormalIndPower.html"
   ]
  },
  {
   "cell_type": "code",
   "execution_count": 28,
   "metadata": {},
   "outputs": [
    {
     "data": {
      "text/plain": [
       "-0.2837941092083278"
      ]
     },
     "execution_count": 28,
     "metadata": {},
     "output_type": "execute_result"
    }
   ],
   "source": [
    "# This is Cohen's standard -2*asin(sqrt(p)) effect size:\n",
    "es=proportion.proportion_effectsize(0.1,0.2)\n",
    "es"
   ]
  },
  {
   "cell_type": "code",
   "execution_count": 29,
   "metadata": {},
   "outputs": [
    {
     "data": {
      "text/plain": [
       "322.6931930526659"
      ]
     },
     "execution_count": 29,
     "metadata": {},
     "output_type": "execute_result"
    }
   ],
   "source": [
    "power.NormalIndPower().solve_power(es,power=0.95, alpha=0.05)"
   ]
  },
  {
   "cell_type": "markdown",
   "metadata": {},
   "source": [
    "Don't be fooled by the functions called \"tost\".  That's actually the Two One Sided T-test function, which is a somewhat esoteric tool used for inverting the definition of null hypothesis and _rejecting_ the idea that two samples are _different_.  I just look at confidence intervals for that; I've never used the tost."
   ]
  },
  {
   "cell_type": "markdown",
   "metadata": {},
   "source": [
    "# Quantile-Quantile Plots\n",
    "\n",
    "There's no convenient qqplot in Altair, so we'll use the one from matplotlib."
   ]
  },
  {
   "cell_type": "code",
   "execution_count": 48,
   "metadata": {},
   "outputs": [
    {
     "data": {
      "image/png": "[encoded data removed]",
      "text/plain": [
       "<Figure size 576x576 with 1 Axes>"
      ]
     },
     "metadata": {},
     "output_type": "display_data"
    }
   ],
   "source": [
    "import matplotlib.pyplot as plt\n",
    "%matplotlib inline\n",
    "plt.rcParams[\"figure.figsize\"] = [8,8]\n",
    "stats.probplot(stats.norm().rvs(25),plot=plt)\n",
    "plt.show()"
   ]
  },
  {
   "cell_type": "code",
   "execution_count": null,
   "metadata": {},
   "outputs": [],
   "source": []
  }
 ],
 "metadata": {
  "kernelspec": {
   "display_name": "Python 3",
   "language": "python",
   "name": "python3"
  },
  "language_info": {
   "codemirror_mode": {
    "name": "ipython",
    "version": 3
   },
   "file_extension": ".py",
   "mimetype": "text/x-python",
   "name": "python",
   "nbconvert_exporter": "python",
   "pygments_lexer": "ipython3",
   "version": "3.6.5"
  },
  "toc": {
   "base_numbering": 1,
   "nav_menu": {},
   "number_sections": true,
   "sideBar": true,
   "skip_h1_title": false,
   "title_cell": "Table of Contents",
   "title_sidebar": "Contents",
   "toc_cell": false,
   "toc_position": {
    "height": "calc(100% - 180px)",
    "left": "10px",
    "top": "150px",
    "width": "215px"
   },
   "toc_section_display": true,
   "toc_window_display": true
  }
 },
 "nbformat": 4,
 "nbformat_minor": 2
}
