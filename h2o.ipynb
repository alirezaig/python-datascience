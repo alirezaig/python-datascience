{
 "cells": [
  {
   "cell_type": "markdown",
   "metadata": {},
   "source": [
    "This notebook is part of my [Python data science curriculum](http://www.terran.us/articles/python_curriculum.html)\n",
    "\n",
    "There are two major sets of documentation which are relevant for H2O:\n",
    "\n",
    "http://docs.h2o.ai/h2o/latest-stable/h2o-docs/welcome.html  \n",
    "http://docs.h2o.ai/h2o/latest-stable/h2o-py/docs/intro.html\n"
   ]
  },
  {
   "cell_type": "code",
   "execution_count": 1,
   "metadata": {},
   "outputs": [
    {
     "data": {
      "text/plain": [
       "RendererRegistry.enable('notebook')"
      ]
     },
     "execution_count": 1,
     "metadata": {},
     "output_type": "execute_result"
    }
   ],
   "source": [
    "import pandas as pd\n",
    "import altair as alt\n",
    "alt.renderers.enable('notebook')"
   ]
  },
  {
   "cell_type": "markdown",
   "metadata": {},
   "source": [
    "# Cluster Init"
   ]
  },
  {
   "cell_type": "code",
   "execution_count": 2,
   "metadata": {},
   "outputs": [
    {
     "name": "stdout",
     "output_type": "stream",
     "text": [
      "Checking whether there is an H2O instance running at http://localhost:54321..... not found.\n",
      "Attempting to start a local H2O server...\n",
      "  Java Version: openjdk version \"1.8.0_111\"; OpenJDK Runtime Environment (build 1.8.0_111-8u111-b14-2~bpo8+1-b14); OpenJDK 64-Bit Server VM (build 25.111-b14, mixed mode)\n",
      "  Starting server from /opt/pyenv/versions/anaconda3-5.2.0/lib/python3.6/site-packages/h2o/backend/bin/h2o.jar\n",
      "  Ice root: /tmp/tmpz21aee3a\n",
      "  JVM stdout: /tmp/tmpz21aee3a/h2o_terran_started_from_python.out\n",
      "  JVM stderr: /tmp/tmpz21aee3a/h2o_terran_started_from_python.err\n",
      "  Server is running at http://127.0.0.1:54321\n",
      "Connecting to H2O server at http://127.0.0.1:54321... successful.\n"
     ]
    },
    {
     "data": {
      "text/html": [
       "<div style=\"overflow:auto\"><table style=\"width:50%\"><tr><td>H2O cluster uptime:</td>\n",
       "<td>01 secs</td></tr>\n",
       "<tr><td>H2O cluster timezone:</td>\n",
       "<td>America/New_York</td></tr>\n",
       "<tr><td>H2O data parsing timezone:</td>\n",
       "<td>UTC</td></tr>\n",
       "<tr><td>H2O cluster version:</td>\n",
       "<td>3.22.0.2</td></tr>\n",
       "<tr><td>H2O cluster version age:</td>\n",
       "<td>21 days, 13 hours and 13 minutes </td></tr>\n",
       "<tr><td>H2O cluster name:</td>\n",
       "<td>H2O_from_python_terran_lnzuev</td></tr>\n",
       "<tr><td>H2O cluster total nodes:</td>\n",
       "<td>1</td></tr>\n",
       "<tr><td>H2O cluster free memory:</td>\n",
       "<td>10.50 Gb</td></tr>\n",
       "<tr><td>H2O cluster total cores:</td>\n",
       "<td>24</td></tr>\n",
       "<tr><td>H2O cluster allowed cores:</td>\n",
       "<td>24</td></tr>\n",
       "<tr><td>H2O cluster status:</td>\n",
       "<td>accepting new members, healthy</td></tr>\n",
       "<tr><td>H2O connection url:</td>\n",
       "<td>http://127.0.0.1:54321</td></tr>\n",
       "<tr><td>H2O connection proxy:</td>\n",
       "<td>None</td></tr>\n",
       "<tr><td>H2O internal security:</td>\n",
       "<td>False</td></tr>\n",
       "<tr><td>H2O API Extensions:</td>\n",
       "<td>XGBoost, Algos, AutoML, Core V3, Core V4</td></tr>\n",
       "<tr><td>Python version:</td>\n",
       "<td>3.6.5 final</td></tr></table></div>"
      ],
      "text/plain": [
       "--------------------------  ----------------------------------------\n",
       "H2O cluster uptime:         01 secs\n",
       "H2O cluster timezone:       America/New_York\n",
       "H2O data parsing timezone:  UTC\n",
       "H2O cluster version:        3.22.0.2\n",
       "H2O cluster version age:    21 days, 13 hours and 13 minutes\n",
       "H2O cluster name:           H2O_from_python_terran_lnzuev\n",
       "H2O cluster total nodes:    1\n",
       "H2O cluster free memory:    10.50 Gb\n",
       "H2O cluster total cores:    24\n",
       "H2O cluster allowed cores:  24\n",
       "H2O cluster status:         accepting new members, healthy\n",
       "H2O connection url:         http://127.0.0.1:54321\n",
       "H2O connection proxy:\n",
       "H2O internal security:      False\n",
       "H2O API Extensions:         XGBoost, Algos, AutoML, Core V3, Core V4\n",
       "Python version:             3.6.5 final\n",
       "--------------------------  ----------------------------------------"
      ]
     },
     "metadata": {},
     "output_type": "display_data"
    }
   ],
   "source": [
    "import h2o\n",
    "h2o.init()"
   ]
  },
  {
   "cell_type": "markdown",
   "metadata": {},
   "source": [
    "# Data Loading"
   ]
  },
  {
   "cell_type": "markdown",
   "metadata": {},
   "source": [
    "At first I thought you could only load from disk:"
   ]
  },
  {
   "cell_type": "code",
   "execution_count": 3,
   "metadata": {},
   "outputs": [
    {
     "name": "stdout",
     "output_type": "stream",
     "text": [
      "Parse progress: |█████████████████████████████████████████████████████████| 100%\n"
     ]
    }
   ],
   "source": [
    "from plotnine.data import diamonds\n",
    "diamonds.to_csv('/tmp/diamonds.csv')\n",
    "h2o_diamonds = h2o.import_file('/tmp/diamonds.csv')"
   ]
  },
  {
   "cell_type": "markdown",
   "metadata": {},
   "source": [
    "But in fact you __can__ transfer data from Python.  The key piece of information is that you use the h2o.H2OFrame __constructor__ to do it.  See references:\n",
    "\n",
    "http://docs.h2o.ai/h2o/latest-stable/h2o-py/docs/data.html#loading-data-from-a-python-object  \n",
    "http://docs.h2o.ai/h2o/latest-stable/h2o-py/docs/frame.html#h2oframe  "
   ]
  },
  {
   "cell_type": "code",
   "execution_count": 4,
   "metadata": {},
   "outputs": [
    {
     "name": "stdout",
     "output_type": "stream",
     "text": [
      "Parse progress: |█████████████████████████████████████████████████████████| 100%\n"
     ]
    }
   ],
   "source": [
    "# The destination_frame argument is optional, but if you don't use it, you get a horrible hex name.\n",
    "h2o_diamonds2 = h2o.H2OFrame(diamonds, destination_frame='diamonds2')"
   ]
  },
  {
   "cell_type": "code",
   "execution_count": 5,
   "metadata": {},
   "outputs": [
    {
     "data": {
      "text/html": [
       "<div>\n",
       "<style scoped>\n",
       "    .dataframe tbody tr th:only-of-type {\n",
       "        vertical-align: middle;\n",
       "    }\n",
       "\n",
       "    .dataframe tbody tr th {\n",
       "        vertical-align: top;\n",
       "    }\n",
       "\n",
       "    .dataframe thead th {\n",
       "        text-align: right;\n",
       "    }\n",
       "</style>\n",
       "<table border=\"1\" class=\"dataframe\">\n",
       "  <thead>\n",
       "    <tr style=\"text-align: right;\">\n",
       "      <th></th>\n",
       "      <th>key</th>\n",
       "    </tr>\n",
       "  </thead>\n",
       "  <tbody>\n",
       "    <tr>\n",
       "      <th>0</th>\n",
       "      <td>diamonds.hex</td>\n",
       "    </tr>\n",
       "    <tr>\n",
       "      <th>1</th>\n",
       "      <td>diamonds2</td>\n",
       "    </tr>\n",
       "  </tbody>\n",
       "</table>\n",
       "</div>"
      ],
      "text/plain": [
       "            key\n",
       "0  diamonds.hex\n",
       "1     diamonds2"
      ]
     },
     "execution_count": 5,
     "metadata": {},
     "output_type": "execute_result"
    }
   ],
   "source": [
    "h2o.ls()"
   ]
  },
  {
   "cell_type": "code",
   "execution_count": 6,
   "metadata": {},
   "outputs": [
    {
     "data": {
      "text/html": [
       "<table>\n",
       "<thead>\n",
       "<tr><th style=\"text-align: right;\">  carat</th><th>cut      </th><th>color  </th><th>clarity  </th><th style=\"text-align: right;\">  depth</th><th style=\"text-align: right;\">  table</th><th style=\"text-align: right;\">  price</th><th style=\"text-align: right;\">   x</th><th style=\"text-align: right;\">   y</th><th style=\"text-align: right;\">   z</th></tr>\n",
       "</thead>\n",
       "<tbody>\n",
       "<tr><td style=\"text-align: right;\">   0.23</td><td>Ideal    </td><td>E      </td><td>SI2      </td><td style=\"text-align: right;\">   61.5</td><td style=\"text-align: right;\">     55</td><td style=\"text-align: right;\">    326</td><td style=\"text-align: right;\">3.95</td><td style=\"text-align: right;\">3.98</td><td style=\"text-align: right;\">2.43</td></tr>\n",
       "<tr><td style=\"text-align: right;\">   0.21</td><td>Premium  </td><td>E      </td><td>SI1      </td><td style=\"text-align: right;\">   59.8</td><td style=\"text-align: right;\">     61</td><td style=\"text-align: right;\">    326</td><td style=\"text-align: right;\">3.89</td><td style=\"text-align: right;\">3.84</td><td style=\"text-align: right;\">2.31</td></tr>\n",
       "<tr><td style=\"text-align: right;\">   0.23</td><td>Good     </td><td>E      </td><td>VS1      </td><td style=\"text-align: right;\">   56.9</td><td style=\"text-align: right;\">     65</td><td style=\"text-align: right;\">    327</td><td style=\"text-align: right;\">4.05</td><td style=\"text-align: right;\">4.07</td><td style=\"text-align: right;\">2.31</td></tr>\n",
       "<tr><td style=\"text-align: right;\">   0.29</td><td>Premium  </td><td>I      </td><td>VS2      </td><td style=\"text-align: right;\">   62.4</td><td style=\"text-align: right;\">     58</td><td style=\"text-align: right;\">    334</td><td style=\"text-align: right;\">4.2 </td><td style=\"text-align: right;\">4.23</td><td style=\"text-align: right;\">2.63</td></tr>\n",
       "<tr><td style=\"text-align: right;\">   0.31</td><td>Good     </td><td>J      </td><td>SI2      </td><td style=\"text-align: right;\">   63.3</td><td style=\"text-align: right;\">     58</td><td style=\"text-align: right;\">    335</td><td style=\"text-align: right;\">4.34</td><td style=\"text-align: right;\">4.35</td><td style=\"text-align: right;\">2.75</td></tr>\n",
       "<tr><td style=\"text-align: right;\">   0.24</td><td>Very Good</td><td>J      </td><td>VVS2     </td><td style=\"text-align: right;\">   62.8</td><td style=\"text-align: right;\">     57</td><td style=\"text-align: right;\">    336</td><td style=\"text-align: right;\">3.94</td><td style=\"text-align: right;\">3.96</td><td style=\"text-align: right;\">2.48</td></tr>\n",
       "<tr><td style=\"text-align: right;\">   0.24</td><td>Very Good</td><td>I      </td><td>VVS1     </td><td style=\"text-align: right;\">   62.3</td><td style=\"text-align: right;\">     57</td><td style=\"text-align: right;\">    336</td><td style=\"text-align: right;\">3.95</td><td style=\"text-align: right;\">3.98</td><td style=\"text-align: right;\">2.47</td></tr>\n",
       "<tr><td style=\"text-align: right;\">   0.26</td><td>Very Good</td><td>H      </td><td>SI1      </td><td style=\"text-align: right;\">   61.9</td><td style=\"text-align: right;\">     55</td><td style=\"text-align: right;\">    337</td><td style=\"text-align: right;\">4.07</td><td style=\"text-align: right;\">4.11</td><td style=\"text-align: right;\">2.53</td></tr>\n",
       "<tr><td style=\"text-align: right;\">   0.22</td><td>Fair     </td><td>E      </td><td>VS2      </td><td style=\"text-align: right;\">   65.1</td><td style=\"text-align: right;\">     61</td><td style=\"text-align: right;\">    337</td><td style=\"text-align: right;\">3.87</td><td style=\"text-align: right;\">3.78</td><td style=\"text-align: right;\">2.49</td></tr>\n",
       "<tr><td style=\"text-align: right;\">   0.23</td><td>Very Good</td><td>H      </td><td>VS1      </td><td style=\"text-align: right;\">   59.4</td><td style=\"text-align: right;\">     61</td><td style=\"text-align: right;\">    338</td><td style=\"text-align: right;\">4   </td><td style=\"text-align: right;\">4.05</td><td style=\"text-align: right;\">2.39</td></tr>\n",
       "</tbody>\n",
       "</table>"
      ]
     },
     "metadata": {},
     "output_type": "display_data"
    },
    {
     "data": {
      "text/plain": []
     },
     "execution_count": 6,
     "metadata": {},
     "output_type": "execute_result"
    }
   ],
   "source": [
    "h2o_diamonds2"
   ]
  },
  {
   "cell_type": "markdown",
   "metadata": {},
   "source": [
    "# Linear Regression"
   ]
  },
  {
   "cell_type": "markdown",
   "metadata": {},
   "source": [
    "## Failed Attempt"
   ]
  },
  {
   "cell_type": "markdown",
   "metadata": {},
   "source": [
    "Let's fit a very simple model:"
   ]
  },
  {
   "cell_type": "code",
   "execution_count": 7,
   "metadata": {},
   "outputs": [],
   "source": [
    "h2o_lm = h2o.estimators.H2OGeneralizedLinearEstimator(family='gaussian')"
   ]
  },
  {
   "cell_type": "code",
   "execution_count": 8,
   "metadata": {},
   "outputs": [
    {
     "name": "stdout",
     "output_type": "stream",
     "text": [
      "glm Model Build progress: |███████████████████████████████████████████████| 100%\n"
     ]
    }
   ],
   "source": [
    "h2o_lm.train(x=['carat','cut','color','clarity'],y='price',training_frame=h2o_diamonds2)"
   ]
  },
  {
   "cell_type": "code",
   "execution_count": 9,
   "metadata": {},
   "outputs": [
    {
     "name": "stdout",
     "output_type": "stream",
     "text": [
      "Model Details\n",
      "=============\n",
      "H2OGeneralizedLinearEstimator :  Generalized Linear Modeling\n",
      "Model Key:  GLM_model_python_1544750361877_1\n",
      "\n",
      "\n",
      "ModelMetricsRegressionGLM: glm\n",
      "** Reported on train data. **\n",
      "\n",
      "MSE: 10733609.79576042\n",
      "RMSE: 3276.2188259883405\n",
      "MAE: 2430.585433525635\n",
      "RMSLE: 0.9615249847776893\n",
      "R^2: 0.3255806286420655\n",
      "Mean Residual Deviance: 10733609.79576042\n",
      "Null degrees of freedom: 53939\n",
      "Residual degrees of freedom: 53919\n",
      "Null deviance: 858473135517.3629\n",
      "Residual deviance: 578970912383.317\n",
      "AIC: 1026347.841393112\n",
      "Scoring History: \n"
     ]
    },
    {
     "data": {
      "text/html": [
       "<div style=\"overflow:auto\"><table style=\"width:50%\"><tr><td><b></b></td>\n",
       "<td><b>timestamp</b></td>\n",
       "<td><b>duration</b></td>\n",
       "<td><b>iterations</b></td>\n",
       "<td><b>negative_log_likelihood</b></td>\n",
       "<td><b>objective</b></td></tr>\n",
       "<tr><td></td>\n",
       "<td>2018-12-13 20:19:30</td>\n",
       "<td> 0.000 sec</td>\n",
       "<td>0</td>\n",
       "<td>858473135517.3977051</td>\n",
       "<td>15915334.3625769</td></tr></table></div>"
      ],
      "text/plain": [
       "    timestamp            duration    iterations    negative_log_likelihood    objective\n",
       "--  -------------------  ----------  ------------  -------------------------  -----------\n",
       "    2018-12-13 20:19:30  0.000 sec   0             8.58473e+11                1.59153e+07"
      ]
     },
     "metadata": {},
     "output_type": "display_data"
    },
    {
     "data": {
      "text/plain": []
     },
     "execution_count": 9,
     "metadata": {},
     "output_type": "execute_result"
    }
   ],
   "source": [
    "h2o_lm"
   ]
  },
  {
   "cell_type": "markdown",
   "metadata": {},
   "source": [
    "__This is not right at all.  $R^2$ should be 0.91 for this model, not 0.35!__\n",
    "\n",
    "__Aha, it appears the default model is regularized.__  This is not explicitly stated but it is implied by the available arguments."
   ]
  },
  {
   "cell_type": "markdown",
   "metadata": {},
   "source": [
    "## Successful Attempt"
   ]
  },
  {
   "cell_type": "code",
   "execution_count": 10,
   "metadata": {},
   "outputs": [
    {
     "name": "stdout",
     "output_type": "stream",
     "text": [
      "glm Model Build progress: |███████████████████████████████████████████████| 100%\n",
      "Model Details\n",
      "=============\n",
      "H2OGeneralizedLinearEstimator :  Generalized Linear Modeling\n",
      "Model Key:  GLM_model_python_1544750361877_2\n",
      "\n",
      "\n",
      "ModelMetricsRegressionGLM: glm\n",
      "** Reported on train data. **\n",
      "\n",
      "MSE: 1337834.1891373708\n",
      "RMSE: 1156.6478241614302\n",
      "MAE: 803.6533760003574\n",
      "RMSLE: NaN\n",
      "R^2: 0.9159405540179452\n",
      "Mean Residual Deviance: 1337834.1891373708\n",
      "Null degrees of freedom: 53939\n",
      "Residual degrees of freedom: 53921\n",
      "Null deviance: 858473135517.3629\n",
      "Residual deviance: 72162776162.06978\n",
      "AIC: 914023.0749361591\n",
      "Scoring History: \n"
     ]
    },
    {
     "data": {
      "text/html": [
       "<div style=\"overflow:auto\"><table style=\"width:50%\"><tr><td><b></b></td>\n",
       "<td><b>timestamp</b></td>\n",
       "<td><b>duration</b></td>\n",
       "<td><b>iterations</b></td>\n",
       "<td><b>negative_log_likelihood</b></td>\n",
       "<td><b>objective</b></td></tr>\n",
       "<tr><td></td>\n",
       "<td>2018-12-13 20:19:31</td>\n",
       "<td> 0.000 sec</td>\n",
       "<td>0</td>\n",
       "<td>858473135517.3977051</td>\n",
       "<td>15915334.3625769</td></tr></table></div>"
      ],
      "text/plain": [
       "    timestamp            duration    iterations    negative_log_likelihood    objective\n",
       "--  -------------------  ----------  ------------  -------------------------  -----------\n",
       "    2018-12-13 20:19:31  0.000 sec   0             8.58473e+11                1.59153e+07"
      ]
     },
     "metadata": {},
     "output_type": "display_data"
    },
    {
     "data": {
      "text/plain": []
     },
     "execution_count": 10,
     "metadata": {},
     "output_type": "execute_result"
    }
   ],
   "source": [
    "# Note the lambda_=0 to turn off regularization\n",
    "h2o_lm = h2o.estimators.H2OGeneralizedLinearEstimator(family='gaussian',lambda_=0)\n",
    "h2o_lm.train(x=['carat','cut','color','clarity'],y='price',training_frame=h2o_diamonds2)\n",
    "h2o_lm"
   ]
  },
  {
   "cell_type": "markdown",
   "metadata": {},
   "source": [
    "That's more like it!"
   ]
  },
  {
   "cell_type": "code",
   "execution_count": 11,
   "metadata": {},
   "outputs": [
    {
     "data": {
      "text/plain": [
       "{'Intercept': -7362.802156302129,\n",
       " 'clarity.IF': 5419.646844614482,\n",
       " 'clarity.SI1': 3573.6879873533635,\n",
       " 'clarity.SI2': 2625.949986564772,\n",
       " 'clarity.VS1': 4534.878969577319,\n",
       " 'clarity.VS2': 4217.829101987275,\n",
       " 'clarity.VVS1': 5072.027644985769,\n",
       " 'clarity.VVS2': 4967.199410006727,\n",
       " 'color.E': -211.68248136947267,\n",
       " 'color.F': -303.3100325817252,\n",
       " 'color.G': -506.1995360406308,\n",
       " 'color.H': -978.697664842068,\n",
       " 'color.I': -1440.301901907411,\n",
       " 'color.J': -2325.2223602461086,\n",
       " 'cut.Good': 655.7674482639526,\n",
       " 'cut.Ideal': 998.254438325935,\n",
       " 'cut.Premium': 869.3959030779079,\n",
       " 'cut.Very Good': 848.7168776837254,\n",
       " 'carat': 8886.128882503353}"
      ]
     },
     "execution_count": 11,
     "metadata": {},
     "output_type": "execute_result"
    }
   ],
   "source": [
    "h2o_lm.coef()"
   ]
  },
  {
   "cell_type": "code",
   "execution_count": 12,
   "metadata": {},
   "outputs": [
    {
     "data": {
      "text/html": [
       "<div>\n",
       "<style scoped>\n",
       "    .dataframe tbody tr th:only-of-type {\n",
       "        vertical-align: middle;\n",
       "    }\n",
       "\n",
       "    .dataframe tbody tr th {\n",
       "        vertical-align: top;\n",
       "    }\n",
       "\n",
       "    .dataframe thead th {\n",
       "        text-align: right;\n",
       "    }\n",
       "</style>\n",
       "<table border=\"1\" class=\"dataframe\">\n",
       "  <thead>\n",
       "    <tr style=\"text-align: right;\">\n",
       "      <th></th>\n",
       "      <th>key</th>\n",
       "    </tr>\n",
       "  </thead>\n",
       "  <tbody>\n",
       "    <tr>\n",
       "      <th>0</th>\n",
       "      <td>GLM_model_python_1544750361877_1</td>\n",
       "    </tr>\n",
       "    <tr>\n",
       "      <th>1</th>\n",
       "      <td>GLM_model_python_1544750361877_2</td>\n",
       "    </tr>\n",
       "    <tr>\n",
       "      <th>2</th>\n",
       "      <td>diamonds.hex</td>\n",
       "    </tr>\n",
       "    <tr>\n",
       "      <th>3</th>\n",
       "      <td>diamonds2</td>\n",
       "    </tr>\n",
       "    <tr>\n",
       "      <th>4</th>\n",
       "      <td>modelmetrics_GLM_model_python_1544750361877_1@...</td>\n",
       "    </tr>\n",
       "    <tr>\n",
       "      <th>5</th>\n",
       "      <td>modelmetrics_GLM_model_python_1544750361877_2@...</td>\n",
       "    </tr>\n",
       "  </tbody>\n",
       "</table>\n",
       "</div>"
      ],
      "text/plain": [
       "                                                 key\n",
       "0                   GLM_model_python_1544750361877_1\n",
       "1                   GLM_model_python_1544750361877_2\n",
       "2                                       diamonds.hex\n",
       "3                                          diamonds2\n",
       "4  modelmetrics_GLM_model_python_1544750361877_1@...\n",
       "5  modelmetrics_GLM_model_python_1544750361877_2@..."
      ]
     },
     "execution_count": 12,
     "metadata": {},
     "output_type": "execute_result"
    }
   ],
   "source": [
    "h2o.ls()"
   ]
  },
  {
   "cell_type": "markdown",
   "metadata": {},
   "source": [
    "# Random Forest"
   ]
  },
  {
   "cell_type": "code",
   "execution_count": 13,
   "metadata": {},
   "outputs": [
    {
     "name": "stdout",
     "output_type": "stream",
     "text": [
      "drf Model Build progress: |███████████████████████████████████████████████| 100%\n",
      "Model Details\n",
      "=============\n",
      "H2ORandomForestEstimator :  Distributed Random Forest\n",
      "Model Key:  DRF_model_python_1544750361877_3\n",
      "\n",
      "\n",
      "ModelMetricsRegression: drf\n",
      "** Reported on train data. **\n",
      "\n",
      "MSE: 2079779.0992632748\n",
      "RMSE: 1442.143924600896\n",
      "MAE: 966.3844774489775\n",
      "RMSLE: 0.5464101031548934\n",
      "Mean Residual Deviance: 2079779.0992632748\n",
      "Scoring History: \n"
     ]
    },
    {
     "data": {
      "text/html": [
       "<div style=\"overflow:auto\"><table style=\"width:50%\"><tr><td><b></b></td>\n",
       "<td><b>timestamp</b></td>\n",
       "<td><b>duration</b></td>\n",
       "<td><b>number_of_trees</b></td>\n",
       "<td><b>training_rmse</b></td>\n",
       "<td><b>training_mae</b></td>\n",
       "<td><b>training_deviance</b></td></tr>\n",
       "<tr><td></td>\n",
       "<td>2018-12-13 20:19:31</td>\n",
       "<td> 0.099 sec</td>\n",
       "<td>0.0</td>\n",
       "<td>nan</td>\n",
       "<td>nan</td>\n",
       "<td>nan</td></tr>\n",
       "<tr><td></td>\n",
       "<td>2018-12-13 20:19:32</td>\n",
       "<td> 0.599 sec</td>\n",
       "<td>1.0</td>\n",
       "<td>1572.8323757</td>\n",
       "<td>936.4122636</td>\n",
       "<td>2473801.6821759</td></tr>\n",
       "<tr><td></td>\n",
       "<td>2018-12-13 20:19:32</td>\n",
       "<td> 0.750 sec</td>\n",
       "<td>2.0</td>\n",
       "<td>1511.6251593</td>\n",
       "<td>980.5250812</td>\n",
       "<td>2285010.6223487</td></tr>\n",
       "<tr><td></td>\n",
       "<td>2018-12-13 20:19:32</td>\n",
       "<td> 0.861 sec</td>\n",
       "<td>3.0</td>\n",
       "<td>1689.9269547</td>\n",
       "<td>1047.6371095</td>\n",
       "<td>2855853.1122827</td></tr>\n",
       "<tr><td></td>\n",
       "<td>2018-12-13 20:19:32</td>\n",
       "<td> 1.000 sec</td>\n",
       "<td>4.0</td>\n",
       "<td>1492.0456369</td>\n",
       "<td>896.8322222</td>\n",
       "<td>2226200.1827169</td></tr>\n",
       "<tr><td>---</td>\n",
       "<td>---</td>\n",
       "<td>---</td>\n",
       "<td>---</td>\n",
       "<td>---</td>\n",
       "<td>---</td>\n",
       "<td>---</td></tr>\n",
       "<tr><td></td>\n",
       "<td>2018-12-13 20:19:34</td>\n",
       "<td> 2.717 sec</td>\n",
       "<td>46.0</td>\n",
       "<td>1440.3415218</td>\n",
       "<td>966.2892714</td>\n",
       "<td>2074583.6993443</td></tr>\n",
       "<tr><td></td>\n",
       "<td>2018-12-13 20:19:34</td>\n",
       "<td> 2.741 sec</td>\n",
       "<td>47.0</td>\n",
       "<td>1462.3473237</td>\n",
       "<td>981.7449913</td>\n",
       "<td>2138459.6951667</td></tr>\n",
       "<tr><td></td>\n",
       "<td>2018-12-13 20:19:34</td>\n",
       "<td> 2.766 sec</td>\n",
       "<td>48.0</td>\n",
       "<td>1465.3928902</td>\n",
       "<td>983.4891060</td>\n",
       "<td>2147376.3225565</td></tr>\n",
       "<tr><td></td>\n",
       "<td>2018-12-13 20:19:34</td>\n",
       "<td> 2.796 sec</td>\n",
       "<td>49.0</td>\n",
       "<td>1447.4702824</td>\n",
       "<td>972.0903774</td>\n",
       "<td>2095170.2184324</td></tr>\n",
       "<tr><td></td>\n",
       "<td>2018-12-13 20:19:34</td>\n",
       "<td> 2.825 sec</td>\n",
       "<td>50.0</td>\n",
       "<td>1442.1439246</td>\n",
       "<td>966.3844774</td>\n",
       "<td>2079779.0992633</td></tr></table></div>"
      ],
      "text/plain": [
       "     timestamp            duration    number_of_trees    training_rmse       training_mae        training_deviance\n",
       "---  -------------------  ----------  -----------------  ------------------  ------------------  -------------------\n",
       "     2018-12-13 20:19:31  0.099 sec   0.0                nan                 nan                 nan\n",
       "     2018-12-13 20:19:32  0.599 sec   1.0                1572.8323757399799  936.412263596716    2473801.682175869\n",
       "     2018-12-13 20:19:32  0.750 sec   2.0                1511.6251593396855  980.5250812429891   2285010.62234873\n",
       "     2018-12-13 20:19:32  0.861 sec   3.0                1689.9269547180704  1047.6371094907183  2855853.1122826915\n",
       "     2018-12-13 20:19:32  1.000 sec   4.0                1492.0456369417573  896.8322222088989   2226200.182716934\n",
       "---  ---                  ---         ---                ---                 ---                 ---\n",
       "     2018-12-13 20:19:34  2.717 sec   46.0               1440.341521773313   966.2892713705475   2074583.6993442627\n",
       "     2018-12-13 20:19:34  2.741 sec   47.0               1462.347323711689   981.7449913222137   2138459.695166739\n",
       "     2018-12-13 20:19:34  2.766 sec   48.0               1465.3928901685279  983.489105994372    2147376.322556471\n",
       "     2018-12-13 20:19:34  2.796 sec   49.0               1447.4702824004373  972.0903773725037   2095170.218432402\n",
       "     2018-12-13 20:19:34  2.825 sec   50.0               1442.143924600896   966.3844774489775   2079779.0992632748"
      ]
     },
     "metadata": {},
     "output_type": "display_data"
    },
    {
     "name": "stdout",
     "output_type": "stream",
     "text": [
      "\n",
      "See the whole table with table.as_data_frame()\n",
      "Variable Importances: \n"
     ]
    },
    {
     "data": {
      "text/html": [
       "<div style=\"overflow:auto\"><table style=\"width:50%\"><tr><td><b>variable</b></td>\n",
       "<td><b>relative_importance</b></td>\n",
       "<td><b>scaled_importance</b></td>\n",
       "<td><b>percentage</b></td></tr>\n",
       "<tr><td>carat</td>\n",
       "<td>18256318431232.0000000</td>\n",
       "<td>1.0</td>\n",
       "<td>0.9027340</td></tr>\n",
       "<tr><td>clarity</td>\n",
       "<td>931802841088.0000000</td>\n",
       "<td>0.0510400</td>\n",
       "<td>0.0460756</td></tr>\n",
       "<tr><td>color</td>\n",
       "<td>737371488256.0000000</td>\n",
       "<td>0.0403899</td>\n",
       "<td>0.0364614</td></tr>\n",
       "<tr><td>cut</td>\n",
       "<td>297871540224.0000000</td>\n",
       "<td>0.0163161</td>\n",
       "<td>0.0147291</td></tr></table></div>"
      ],
      "text/plain": [
       "variable    relative_importance    scaled_importance    percentage\n",
       "----------  ---------------------  -------------------  ------------\n",
       "carat       1.82563e+13            1                    0.902734\n",
       "clarity     9.31803e+11            0.05104              0.0460756\n",
       "color       7.37371e+11            0.0403899            0.0364614\n",
       "cut         2.97872e+11            0.0163161            0.0147291"
      ]
     },
     "metadata": {},
     "output_type": "display_data"
    },
    {
     "data": {
      "text/plain": []
     },
     "execution_count": 13,
     "metadata": {},
     "output_type": "execute_result"
    }
   ],
   "source": [
    "h2o_rf = h2o.estimators.random_forest.H2ORandomForestEstimator()\n",
    "h2o_rf.train(x=['carat','cut','color','clarity'],y='price',training_frame=h2o_diamonds2)\n",
    "h2o_rf\n"
   ]
  },
  {
   "cell_type": "code",
   "execution_count": 14,
   "metadata": {},
   "outputs": [
    {
     "data": {
      "text/plain": [
       "[('carat', 18256318431232.0, 1.0, 0.9027339941905617),\n",
       " ('clarity', 931802841088.0, 0.05104001908149883, 0.04607556028900392),\n",
       " ('color', 737371488256.0, 0.04038993354731048, 0.03646136603625495),\n",
       " ('cut', 297871540224.0, 0.01631607935334959, 0.014729079484179432)]"
      ]
     },
     "execution_count": 14,
     "metadata": {},
     "output_type": "execute_result"
    }
   ],
   "source": [
    "h2o_rf.varimp()"
   ]
  },
  {
   "cell_type": "markdown",
   "metadata": {},
   "source": [
    "# Gradient Boosting"
   ]
  },
  {
   "cell_type": "markdown",
   "metadata": {},
   "source": [
    "We will split the data into training and test, use cross-validation on the training data to tune the hyperparameters, and then evaluate on the test data.  This is a standard workflow for high-variance ML models."
   ]
  },
  {
   "cell_type": "markdown",
   "metadata": {},
   "source": [
    "First split the data\n",
    "\n",
    "http://docs.h2o.ai/h2o/latest-stable/h2o-docs/data-munging/splitting-datasets.html"
   ]
  },
  {
   "cell_type": "code",
   "execution_count": 15,
   "metadata": {},
   "outputs": [],
   "source": [
    "diamonds_split = h2o_diamonds2.split_frame(ratios=[0.75], destination_frames=['diamonds_train','diamonds_test'])"
   ]
  },
  {
   "cell_type": "code",
   "execution_count": 16,
   "metadata": {},
   "outputs": [
    {
     "data": {
      "text/plain": [
       "[40444, 10]"
      ]
     },
     "execution_count": 16,
     "metadata": {},
     "output_type": "execute_result"
    }
   ],
   "source": [
    "diamonds_split[0].dim"
   ]
  },
  {
   "cell_type": "markdown",
   "metadata": {},
   "source": [
    "Then fit a model with cross-validation by specifying nfolds  \n",
    "http://docs.h2o.ai/h2o/latest-stable/h2o-docs/cross-validation.html"
   ]
  },
  {
   "cell_type": "code",
   "execution_count": 17,
   "metadata": {},
   "outputs": [],
   "source": [
    "h2o_gb = h2o.estimators.gbm.H2OGradientBoostingEstimator(nfolds=5)                                                       "
   ]
  },
  {
   "cell_type": "code",
   "execution_count": 18,
   "metadata": {},
   "outputs": [
    {
     "name": "stdout",
     "output_type": "stream",
     "text": [
      "gbm Model Build progress: |███████████████████████████████████████████████| 100%\n"
     ]
    }
   ],
   "source": [
    "h2o_gb.train(x=['carat','cut','color','clarity'],y='price',training_frame=diamonds_split[0])"
   ]
  },
  {
   "cell_type": "code",
   "execution_count": 19,
   "metadata": {},
   "outputs": [
    {
     "name": "stdout",
     "output_type": "stream",
     "text": [
      "Model Details\n",
      "=============\n",
      "H2OGradientBoostingEstimator :  Gradient Boosting Machine\n",
      "Model Key:  GBM_model_python_1544750361877_4\n",
      "\n",
      "\n",
      "ModelMetricsRegression: gbm\n",
      "** Reported on train data. **\n",
      "\n",
      "MSE: 291289.0591014654\n",
      "RMSE: 539.7120149685992\n",
      "MAE: 291.15811039439154\n",
      "RMSLE: 0.11403758077295047\n",
      "Mean Residual Deviance: 291289.0591014654\n",
      "\n",
      "ModelMetricsRegression: gbm\n",
      "** Reported on cross-validation data. **\n",
      "\n",
      "MSE: 318952.6407328581\n",
      "RMSE: 564.7589226677682\n",
      "MAE: 300.514499690523\n",
      "RMSLE: 0.11638301817429214\n",
      "Mean Residual Deviance: 318952.6407328581\n",
      "Cross-Validation Metrics Summary: \n"
     ]
    },
    {
     "data": {
      "text/html": [
       "<div style=\"overflow:auto\"><table style=\"width:50%\"><tr><td><b></b></td>\n",
       "<td><b>mean</b></td>\n",
       "<td><b>sd</b></td>\n",
       "<td><b>cv_1_valid</b></td>\n",
       "<td><b>cv_2_valid</b></td>\n",
       "<td><b>cv_3_valid</b></td>\n",
       "<td><b>cv_4_valid</b></td>\n",
       "<td><b>cv_5_valid</b></td></tr>\n",
       "<tr><td>mae</td>\n",
       "<td>300.5128</td>\n",
       "<td>3.677444</td>\n",
       "<td>306.593</td>\n",
       "<td>302.6331</td>\n",
       "<td>299.6562</td>\n",
       "<td>291.09317</td>\n",
       "<td>302.58844</td></tr>\n",
       "<tr><td>mean_residual_deviance</td>\n",
       "<td>318975.66</td>\n",
       "<td>9070.769</td>\n",
       "<td>337070.2</td>\n",
       "<td>326859.25</td>\n",
       "<td>310532.75</td>\n",
       "<td>300005.06</td>\n",
       "<td>320411.0</td></tr>\n",
       "<tr><td>mse</td>\n",
       "<td>318975.66</td>\n",
       "<td>9070.769</td>\n",
       "<td>337070.2</td>\n",
       "<td>326859.25</td>\n",
       "<td>310532.75</td>\n",
       "<td>300005.06</td>\n",
       "<td>320411.0</td></tr>\n",
       "<tr><td>r2</td>\n",
       "<td>0.9800078</td>\n",
       "<td>0.0004752</td>\n",
       "<td>0.9794658</td>\n",
       "<td>0.9795043</td>\n",
       "<td>0.9807221</td>\n",
       "<td>0.9809305</td>\n",
       "<td>0.9794166</td></tr>\n",
       "<tr><td>residual_deviance</td>\n",
       "<td>318975.66</td>\n",
       "<td>9070.769</td>\n",
       "<td>337070.2</td>\n",
       "<td>326859.25</td>\n",
       "<td>310532.75</td>\n",
       "<td>300005.06</td>\n",
       "<td>320411.0</td></tr>\n",
       "<tr><td>rmse</td>\n",
       "<td>564.6648</td>\n",
       "<td>8.041395</td>\n",
       "<td>580.57745</td>\n",
       "<td>571.71606</td>\n",
       "<td>557.25464</td>\n",
       "<td>547.7272</td>\n",
       "<td>566.0486</td></tr>\n",
       "<tr><td>rmsle</td>\n",
       "<td>0.1163747</td>\n",
       "<td>0.0008166</td>\n",
       "<td>0.1151984</td>\n",
       "<td>0.1153711</td>\n",
       "<td>0.1163005</td>\n",
       "<td>0.1165711</td>\n",
       "<td>0.1184322</td></tr></table></div>"
      ],
      "text/plain": [
       "                        mean      sd           cv_1_valid    cv_2_valid    cv_3_valid    cv_4_valid    cv_5_valid\n",
       "----------------------  --------  -----------  ------------  ------------  ------------  ------------  ------------\n",
       "mae                     300.513   3.67744      306.593       302.633       299.656       291.093       302.588\n",
       "mean_residual_deviance  318976    9070.77      337070        326859        310533        300005        320411\n",
       "mse                     318976    9070.77      337070        326859        310533        300005        320411\n",
       "r2                      0.980008  0.000475228  0.979466      0.979504      0.980722      0.98093       0.979417\n",
       "residual_deviance       318976    9070.77      337070        326859        310533        300005        320411\n",
       "rmse                    564.665   8.04139      580.577       571.716       557.255       547.727       566.049\n",
       "rmsle                   0.116375  0.000816584  0.115198      0.115371      0.116301      0.116571      0.118432"
      ]
     },
     "metadata": {},
     "output_type": "display_data"
    },
    {
     "name": "stdout",
     "output_type": "stream",
     "text": [
      "Scoring History: \n"
     ]
    },
    {
     "data": {
      "text/html": [
       "<div style=\"overflow:auto\"><table style=\"width:50%\"><tr><td><b></b></td>\n",
       "<td><b>timestamp</b></td>\n",
       "<td><b>duration</b></td>\n",
       "<td><b>number_of_trees</b></td>\n",
       "<td><b>training_rmse</b></td>\n",
       "<td><b>training_mae</b></td>\n",
       "<td><b>training_deviance</b></td></tr>\n",
       "<tr><td></td>\n",
       "<td>2018-12-13 20:19:43</td>\n",
       "<td> 6.711 sec</td>\n",
       "<td>0.0</td>\n",
       "<td>3994.3964930</td>\n",
       "<td>3033.6648252</td>\n",
       "<td>15955203.3430623</td></tr>\n",
       "<tr><td></td>\n",
       "<td>2018-12-13 20:19:43</td>\n",
       "<td> 6.769 sec</td>\n",
       "<td>1.0</td>\n",
       "<td>3619.8152636</td>\n",
       "<td>2739.5361668</td>\n",
       "<td>13103062.5423542</td></tr>\n",
       "<tr><td></td>\n",
       "<td>2018-12-13 20:19:43</td>\n",
       "<td> 6.827 sec</td>\n",
       "<td>2.0</td>\n",
       "<td>3283.5998197</td>\n",
       "<td>2476.0971627</td>\n",
       "<td>10782027.7762236</td></tr>\n",
       "<tr><td></td>\n",
       "<td>2018-12-13 20:19:43</td>\n",
       "<td> 6.884 sec</td>\n",
       "<td>3.0</td>\n",
       "<td>2983.6510957</td>\n",
       "<td>2238.4966037</td>\n",
       "<td>8902173.8607495</td></tr>\n",
       "<tr><td></td>\n",
       "<td>2018-12-13 20:19:43</td>\n",
       "<td> 6.928 sec</td>\n",
       "<td>4.0</td>\n",
       "<td>2715.2776594</td>\n",
       "<td>2026.2305075</td>\n",
       "<td>7372732.7677644</td></tr>\n",
       "<tr><td>---</td>\n",
       "<td>---</td>\n",
       "<td>---</td>\n",
       "<td>---</td>\n",
       "<td>---</td>\n",
       "<td>---</td>\n",
       "<td>---</td></tr>\n",
       "<tr><td></td>\n",
       "<td>2018-12-13 20:19:44</td>\n",
       "<td> 7.437 sec</td>\n",
       "<td>46.0</td>\n",
       "<td>547.1342616</td>\n",
       "<td>296.8247327</td>\n",
       "<td>299355.9001715</td></tr>\n",
       "<tr><td></td>\n",
       "<td>2018-12-13 20:19:44</td>\n",
       "<td> 7.449 sec</td>\n",
       "<td>47.0</td>\n",
       "<td>544.7315694</td>\n",
       "<td>295.1905176</td>\n",
       "<td>296732.4826661</td></tr>\n",
       "<tr><td></td>\n",
       "<td>2018-12-13 20:19:44</td>\n",
       "<td> 7.460 sec</td>\n",
       "<td>48.0</td>\n",
       "<td>543.2680914</td>\n",
       "<td>293.7298975</td>\n",
       "<td>295140.2191057</td></tr>\n",
       "<tr><td></td>\n",
       "<td>2018-12-13 20:19:44</td>\n",
       "<td> 7.470 sec</td>\n",
       "<td>49.0</td>\n",
       "<td>541.3042959</td>\n",
       "<td>292.4713330</td>\n",
       "<td>293010.3407167</td></tr>\n",
       "<tr><td></td>\n",
       "<td>2018-12-13 20:19:44</td>\n",
       "<td> 7.479 sec</td>\n",
       "<td>50.0</td>\n",
       "<td>539.7120150</td>\n",
       "<td>291.1581104</td>\n",
       "<td>291289.0591015</td></tr></table></div>"
      ],
      "text/plain": [
       "     timestamp            duration    number_of_trees    training_rmse       training_mae        training_deviance\n",
       "---  -------------------  ----------  -----------------  ------------------  ------------------  -------------------\n",
       "     2018-12-13 20:19:43  6.711 sec   0.0                3994.396492971414   3033.6648251877127  15955203.34306233\n",
       "     2018-12-13 20:19:43  6.769 sec   1.0                3619.8152635672122  2739.5361668161627  13103062.542354165\n",
       "     2018-12-13 20:19:43  6.827 sec   2.0                3283.5998197441195  2476.0971627230224  10782027.776223615\n",
       "     2018-12-13 20:19:43  6.884 sec   3.0                2983.6510956794987  2238.4966036962855  8902173.860749472\n",
       "     2018-12-13 20:19:43  6.928 sec   4.0                2715.277659423504   2026.230507450068   7372732.76776438\n",
       "---  ---                  ---         ---                ---                 ---                 ---\n",
       "     2018-12-13 20:19:44  7.437 sec   46.0               547.1342615588293   296.8247327203744   299355.9001715254\n",
       "     2018-12-13 20:19:44  7.449 sec   47.0               544.7315693679818   295.1905175738089   296732.4826661044\n",
       "     2018-12-13 20:19:44  7.460 sec   48.0               543.2680913744997   293.7298975444526   295140.2191056917\n",
       "     2018-12-13 20:19:44  7.470 sec   49.0               541.3042958602255   292.4713330190102   293010.34071673447\n",
       "     2018-12-13 20:19:44  7.479 sec   50.0               539.7120149685992   291.15811039439154  291289.0591014654"
      ]
     },
     "metadata": {},
     "output_type": "display_data"
    },
    {
     "name": "stdout",
     "output_type": "stream",
     "text": [
      "\n",
      "See the whole table with table.as_data_frame()\n",
      "Variable Importances: \n"
     ]
    },
    {
     "data": {
      "text/html": [
       "<div style=\"overflow:auto\"><table style=\"width:50%\"><tr><td><b>variable</b></td>\n",
       "<td><b>relative_importance</b></td>\n",
       "<td><b>scaled_importance</b></td>\n",
       "<td><b>percentage</b></td></tr>\n",
       "<tr><td>carat</td>\n",
       "<td>2981761384448.0000000</td>\n",
       "<td>1.0</td>\n",
       "<td>0.8942768</td></tr>\n",
       "<tr><td>clarity</td>\n",
       "<td>226965176320.0000000</td>\n",
       "<td>0.0761178</td>\n",
       "<td>0.0680704</td></tr>\n",
       "<tr><td>color</td>\n",
       "<td>115138985984.0000000</td>\n",
       "<td>0.0386144</td>\n",
       "<td>0.0345320</td></tr>\n",
       "<tr><td>cut</td>\n",
       "<td>10405691392.0000000</td>\n",
       "<td>0.0034898</td>\n",
       "<td>0.0031208</td></tr></table></div>"
      ],
      "text/plain": [
       "variable    relative_importance    scaled_importance    percentage\n",
       "----------  ---------------------  -------------------  ------------\n",
       "carat       2.98176e+12            1                    0.894277\n",
       "clarity     2.26965e+11            0.0761178            0.0680704\n",
       "color       1.15139e+11            0.0386144            0.034532\n",
       "cut         1.04057e+10            0.00348978           0.00312083"
      ]
     },
     "metadata": {},
     "output_type": "display_data"
    },
    {
     "data": {
      "text/plain": []
     },
     "execution_count": 19,
     "metadata": {},
     "output_type": "execute_result"
    }
   ],
   "source": [
    "h2o_gb"
   ]
  },
  {
   "cell_type": "markdown",
   "metadata": {},
   "source": [
    "That didn't print well; let's try this instead:"
   ]
  },
  {
   "cell_type": "code",
   "execution_count": 20,
   "metadata": {},
   "outputs": [
    {
     "data": {
      "text/html": [
       "<div>\n",
       "<style scoped>\n",
       "    .dataframe tbody tr th:only-of-type {\n",
       "        vertical-align: middle;\n",
       "    }\n",
       "\n",
       "    .dataframe tbody tr th {\n",
       "        vertical-align: top;\n",
       "    }\n",
       "\n",
       "    .dataframe thead th {\n",
       "        text-align: right;\n",
       "    }\n",
       "</style>\n",
       "<table border=\"1\" class=\"dataframe\">\n",
       "  <thead>\n",
       "    <tr style=\"text-align: right;\">\n",
       "      <th></th>\n",
       "      <th></th>\n",
       "      <th>mean</th>\n",
       "      <th>sd</th>\n",
       "      <th>cv_1_valid</th>\n",
       "      <th>cv_2_valid</th>\n",
       "      <th>cv_3_valid</th>\n",
       "      <th>cv_4_valid</th>\n",
       "      <th>cv_5_valid</th>\n",
       "    </tr>\n",
       "  </thead>\n",
       "  <tbody>\n",
       "    <tr>\n",
       "      <th>0</th>\n",
       "      <td>mae</td>\n",
       "      <td>300.5128</td>\n",
       "      <td>3.677444</td>\n",
       "      <td>306.593</td>\n",
       "      <td>302.6331</td>\n",
       "      <td>299.6562</td>\n",
       "      <td>291.09317</td>\n",
       "      <td>302.58844</td>\n",
       "    </tr>\n",
       "    <tr>\n",
       "      <th>1</th>\n",
       "      <td>mean_residual_deviance</td>\n",
       "      <td>318975.66</td>\n",
       "      <td>9070.769</td>\n",
       "      <td>337070.2</td>\n",
       "      <td>326859.25</td>\n",
       "      <td>310532.75</td>\n",
       "      <td>300005.06</td>\n",
       "      <td>320411.0</td>\n",
       "    </tr>\n",
       "    <tr>\n",
       "      <th>2</th>\n",
       "      <td>mse</td>\n",
       "      <td>318975.66</td>\n",
       "      <td>9070.769</td>\n",
       "      <td>337070.2</td>\n",
       "      <td>326859.25</td>\n",
       "      <td>310532.75</td>\n",
       "      <td>300005.06</td>\n",
       "      <td>320411.0</td>\n",
       "    </tr>\n",
       "    <tr>\n",
       "      <th>3</th>\n",
       "      <td>r2</td>\n",
       "      <td>0.9800078</td>\n",
       "      <td>4.7522815E-4</td>\n",
       "      <td>0.9794658</td>\n",
       "      <td>0.9795043</td>\n",
       "      <td>0.9807221</td>\n",
       "      <td>0.98093045</td>\n",
       "      <td>0.97941655</td>\n",
       "    </tr>\n",
       "    <tr>\n",
       "      <th>4</th>\n",
       "      <td>residual_deviance</td>\n",
       "      <td>318975.66</td>\n",
       "      <td>9070.769</td>\n",
       "      <td>337070.2</td>\n",
       "      <td>326859.25</td>\n",
       "      <td>310532.75</td>\n",
       "      <td>300005.06</td>\n",
       "      <td>320411.0</td>\n",
       "    </tr>\n",
       "    <tr>\n",
       "      <th>5</th>\n",
       "      <td>rmse</td>\n",
       "      <td>564.6648</td>\n",
       "      <td>8.041395</td>\n",
       "      <td>580.57745</td>\n",
       "      <td>571.71606</td>\n",
       "      <td>557.25464</td>\n",
       "      <td>547.7272</td>\n",
       "      <td>566.0486</td>\n",
       "    </tr>\n",
       "    <tr>\n",
       "      <th>6</th>\n",
       "      <td>rmsle</td>\n",
       "      <td>0.11637469</td>\n",
       "      <td>8.165836E-4</td>\n",
       "      <td>0.11519845</td>\n",
       "      <td>0.115371145</td>\n",
       "      <td>0.11630051</td>\n",
       "      <td>0.116571106</td>\n",
       "      <td>0.11843221</td>\n",
       "    </tr>\n",
       "  </tbody>\n",
       "</table>\n",
       "</div>"
      ],
      "text/plain": [
       "                                 mean            sd  cv_1_valid   cv_2_valid  \\\n",
       "0                     mae    300.5128      3.677444     306.593     302.6331   \n",
       "1  mean_residual_deviance   318975.66      9070.769    337070.2    326859.25   \n",
       "2                     mse   318975.66      9070.769    337070.2    326859.25   \n",
       "3                      r2   0.9800078  4.7522815E-4   0.9794658    0.9795043   \n",
       "4       residual_deviance   318975.66      9070.769    337070.2    326859.25   \n",
       "5                    rmse    564.6648      8.041395   580.57745    571.71606   \n",
       "6                   rmsle  0.11637469   8.165836E-4  0.11519845  0.115371145   \n",
       "\n",
       "   cv_3_valid   cv_4_valid  cv_5_valid  \n",
       "0    299.6562    291.09317   302.58844  \n",
       "1   310532.75    300005.06    320411.0  \n",
       "2   310532.75    300005.06    320411.0  \n",
       "3   0.9807221   0.98093045  0.97941655  \n",
       "4   310532.75    300005.06    320411.0  \n",
       "5   557.25464     547.7272    566.0486  \n",
       "6  0.11630051  0.116571106  0.11843221  "
      ]
     },
     "execution_count": 20,
     "metadata": {},
     "output_type": "execute_result"
    }
   ],
   "source": [
    "h2o_gb.cross_validation_metrics_summary().as_data_frame()"
   ]
  },
  {
   "cell_type": "code",
   "execution_count": 21,
   "metadata": {},
   "outputs": [
    {
     "name": "stdout",
     "output_type": "stream",
     "text": [
      "gbm Model Build progress: |███████████████████████████████████████████████| 100%\n",
      "gbm Model Build progress: |███████████████████████████████████████████████| 100%\n",
      "gbm Model Build progress: |███████████████████████████████████████████████| 100%\n",
      "gbm Model Build progress: |███████████████████████████████████████████████| 100%\n",
      "gbm Model Build progress: |███████████████████████████████████████████████| 100%\n",
      "gbm Model Build progress: |███████████████████████████████████████████████| 100%\n",
      "gbm Model Build progress: |███████████████████████████████████████████████| 100%\n",
      "gbm Model Build progress: |███████████████████████████████████████████████| 100%\n",
      "gbm Model Build progress: |███████████████████████████████████████████████| 100%\n",
      "gbm Model Build progress: |███████████████████████████████████████████████| 100%\n",
      "gbm Model Build progress: |███████████████████████████████████████████████| 100%\n",
      "gbm Model Build progress: |███████████████████████████████████████████████| 100%\n",
      "gbm Model Build progress: |███████████████████████████████████████████████| 100%\n",
      "gbm Model Build progress: |███████████████████████████████████████████████| 100%\n",
      "gbm Model Build progress: |███████████████████████████████████████████████| 100%\n"
     ]
    }
   ],
   "source": [
    "results=pd.DataFrame()\n",
    "for lr in [0.02,.05,0.1,0.2,0.5]:\n",
    "    for ntrees in [5,50,500]:\n",
    "        h2o_gb = h2o.estimators.gbm.H2OGradientBoostingEstimator(nfolds=5,learn_rate=lr,ntrees=ntrees)\n",
    "        h2o_gb.train(x=['carat','cut','color','clarity','x','y','z','depth','table'],y='price',training_frame=diamonds_split[0])\n",
    "        tmp=h2o_gb.cross_validation_metrics_summary().as_data_frame()\n",
    "        tmp['lr']=lr\n",
    "        tmp['ntrees']=ntrees\n",
    "        results=pd.concat([results,tmp])\n",
    "    "
   ]
  },
  {
   "cell_type": "code",
   "execution_count": 22,
   "metadata": {},
   "outputs": [
    {
     "data": {
      "text/html": [
       "<div>\n",
       "<style scoped>\n",
       "    .dataframe tbody tr th:only-of-type {\n",
       "        vertical-align: middle;\n",
       "    }\n",
       "\n",
       "    .dataframe tbody tr th {\n",
       "        vertical-align: top;\n",
       "    }\n",
       "\n",
       "    .dataframe thead th {\n",
       "        text-align: right;\n",
       "    }\n",
       "</style>\n",
       "<table border=\"1\" class=\"dataframe\">\n",
       "  <thead>\n",
       "    <tr style=\"text-align: right;\">\n",
       "      <th></th>\n",
       "      <th></th>\n",
       "      <th>mean</th>\n",
       "      <th>sd</th>\n",
       "      <th>cv_1_valid</th>\n",
       "      <th>cv_2_valid</th>\n",
       "      <th>cv_3_valid</th>\n",
       "      <th>cv_4_valid</th>\n",
       "      <th>cv_5_valid</th>\n",
       "      <th>lr</th>\n",
       "      <th>ntrees</th>\n",
       "    </tr>\n",
       "  </thead>\n",
       "  <tbody>\n",
       "    <tr>\n",
       "      <th>5</th>\n",
       "      <td>rmse</td>\n",
       "      <td>531.83060</td>\n",
       "      <td>10.007129</td>\n",
       "      <td>540.29706</td>\n",
       "      <td>535.80707</td>\n",
       "      <td>516.2322</td>\n",
       "      <td>551.65186</td>\n",
       "      <td>515.16504</td>\n",
       "      <td>0.10</td>\n",
       "      <td>500</td>\n",
       "    </tr>\n",
       "    <tr>\n",
       "      <th>5</th>\n",
       "      <td>rmse</td>\n",
       "      <td>531.89950</td>\n",
       "      <td>7.004916</td>\n",
       "      <td>533.2855</td>\n",
       "      <td>548.17737</td>\n",
       "      <td>533.898</td>\n",
       "      <td>518.42834</td>\n",
       "      <td>525.70825</td>\n",
       "      <td>0.05</td>\n",
       "      <td>500</td>\n",
       "    </tr>\n",
       "    <tr>\n",
       "      <th>5</th>\n",
       "      <td>rmse</td>\n",
       "      <td>540.66590</td>\n",
       "      <td>3.400645</td>\n",
       "      <td>546.65967</td>\n",
       "      <td>545.441</td>\n",
       "      <td>540.56244</td>\n",
       "      <td>535.2106</td>\n",
       "      <td>535.45575</td>\n",
       "      <td>0.02</td>\n",
       "      <td>500</td>\n",
       "    </tr>\n",
       "    <tr>\n",
       "      <th>5</th>\n",
       "      <td>rmse</td>\n",
       "      <td>546.05880</td>\n",
       "      <td>11.197579</td>\n",
       "      <td>538.4264</td>\n",
       "      <td>552.35156</td>\n",
       "      <td>547.7864</td>\n",
       "      <td>521.8549</td>\n",
       "      <td>569.87463</td>\n",
       "      <td>0.20</td>\n",
       "      <td>500</td>\n",
       "    </tr>\n",
       "    <tr>\n",
       "      <th>5</th>\n",
       "      <td>rmse</td>\n",
       "      <td>550.65186</td>\n",
       "      <td>14.800012</td>\n",
       "      <td>583.1655</td>\n",
       "      <td>560.83276</td>\n",
       "      <td>547.0235</td>\n",
       "      <td>542.37396</td>\n",
       "      <td>519.86346</td>\n",
       "      <td>0.20</td>\n",
       "      <td>50</td>\n",
       "    </tr>\n",
       "  </tbody>\n",
       "</table>\n",
       "</div>"
      ],
      "text/plain": [
       "              mean         sd cv_1_valid cv_2_valid cv_3_valid cv_4_valid  \\\n",
       "5  rmse  531.83060  10.007129  540.29706  535.80707   516.2322  551.65186   \n",
       "5  rmse  531.89950   7.004916   533.2855  548.17737    533.898  518.42834   \n",
       "5  rmse  540.66590   3.400645  546.65967    545.441  540.56244   535.2106   \n",
       "5  rmse  546.05880  11.197579   538.4264  552.35156   547.7864   521.8549   \n",
       "5  rmse  550.65186  14.800012   583.1655  560.83276   547.0235  542.37396   \n",
       "\n",
       "  cv_5_valid    lr  ntrees  \n",
       "5  515.16504  0.10     500  \n",
       "5  525.70825  0.05     500  \n",
       "5  535.45575  0.02     500  \n",
       "5  569.87463  0.20     500  \n",
       "5  519.86346  0.20      50  "
      ]
     },
     "execution_count": 22,
     "metadata": {},
     "output_type": "execute_result"
    }
   ],
   "source": [
    "tmp=results[lambda x: x.iloc[:,0]=='rmse'].copy()\n",
    "# For some reason all the data is strings\n",
    "tmp['mean']=tmp['mean'].astype('double')\n",
    "\n",
    "tmp.sort_values('mean').head()"
   ]
  },
  {
   "cell_type": "code",
   "execution_count": 23,
   "metadata": {},
   "outputs": [
    {
     "data": {
      "application/javascript": [
       "var spec = {\"config\": {\"view\": {\"width\": 400, \"height\": 300}}, \"data\": {\"name\": \"data-c5a3ea4c81b97b3c5eb01ff026d06443\"}, \"mark\": \"point\", \"encoding\": {\"color\": {\"type\": \"nominal\", \"field\": \"ntrees\"}, \"x\": {\"type\": \"quantitative\", \"field\": \"lr\"}, \"y\": {\"type\": \"quantitative\", \"field\": \"mean\"}}, \"selection\": {\"selector001\": {\"type\": \"interval\", \"bind\": \"scales\", \"encodings\": [\"x\", \"y\"]}}, \"$schema\": \"https://vega.github.io/schema/vega-lite/v2.6.0.json\", \"datasets\": {\"data-c5a3ea4c81b97b3c5eb01ff026d06443\": [{\"\": \"rmse\", \"mean\": 3635.3438, \"sd\": \"39.68693\", \"cv_1_valid\": \"3586.019\", \"cv_2_valid\": \"3662.3457\", \"cv_3_valid\": \"3620.5728\", \"cv_4_valid\": \"3577.463\", \"cv_5_valid\": \"3730.318\", \"lr\": 0.02, \"ntrees\": 5}, {\"\": \"rmse\", \"mean\": 1657.2518, \"sd\": \"18.66671\", \"cv_1_valid\": \"1696.8447\", \"cv_2_valid\": \"1615.7197\", \"cv_3_valid\": \"1669.15\", \"cv_4_valid\": \"1652.8997\", \"cv_5_valid\": \"1651.6453\", \"lr\": 0.02, \"ntrees\": 50}, {\"\": \"rmse\", \"mean\": 540.6659, \"sd\": \"3.400645\", \"cv_1_valid\": \"546.65967\", \"cv_2_valid\": \"545.441\", \"cv_3_valid\": \"540.56244\", \"cv_4_valid\": \"535.2106\", \"cv_5_valid\": \"535.45575\", \"lr\": 0.02, \"ntrees\": 500}, {\"\": \"rmse\", \"mean\": 3153.1628, \"sd\": \"21.952799\", \"cv_1_valid\": \"3212.7288\", \"cv_2_valid\": \"3128.7449\", \"cv_3_valid\": \"3154.6409\", \"cv_4_valid\": \"3133.8528\", \"cv_5_valid\": \"3135.8464\", \"lr\": 0.05, \"ntrees\": 5}, {\"\": \"rmse\", \"mean\": 716.6177, \"sd\": \"6.9464097\", \"cv_1_valid\": \"708.68677\", \"cv_2_valid\": \"724.70624\", \"cv_3_valid\": \"701.2694\", \"cv_4_valid\": \"722.93756\", \"cv_5_valid\": \"725.4886\", \"lr\": 0.05, \"ntrees\": 50}, {\"\": \"rmse\", \"mean\": 531.8995, \"sd\": \"7.004916\", \"cv_1_valid\": \"533.2855\", \"cv_2_valid\": \"548.17737\", \"cv_3_valid\": \"533.898\", \"cv_4_valid\": \"518.42834\", \"cv_5_valid\": \"525.70825\", \"lr\": 0.05, \"ntrees\": 500}, {\"\": \"rmse\", \"mean\": 2477.3313, \"sd\": \"18.71351\", \"cv_1_valid\": \"2488.8528\", \"cv_2_valid\": \"2513.6484\", \"cv_3_valid\": \"2490.6804\", \"cv_4_valid\": \"2446.9724\", \"cv_5_valid\": \"2446.5024\", \"lr\": 0.1, \"ntrees\": 5}, {\"\": \"rmse\", \"mean\": 565.0766, \"sd\": \"8.956516\", \"cv_1_valid\": \"561.61664\", \"cv_2_valid\": \"564.6479\", \"cv_3_valid\": \"544.11255\", \"cv_4_valid\": \"572.93604\", \"cv_5_valid\": \"582.06995\", \"lr\": 0.1, \"ntrees\": 50}, {\"\": \"rmse\", \"mean\": 531.8306, \"sd\": \"10.007129\", \"cv_1_valid\": \"540.29706\", \"cv_2_valid\": \"535.80707\", \"cv_3_valid\": \"516.2322\", \"cv_4_valid\": \"551.65186\", \"cv_5_valid\": \"515.16504\", \"lr\": 0.1, \"ntrees\": 500}, {\"\": \"rmse\", \"mean\": 1536.56, \"sd\": \"15.477462\", \"cv_1_valid\": \"1514.1921\", \"cv_2_valid\": \"1549.8633\", \"cv_3_valid\": \"1570.8384\", \"cv_4_valid\": \"1534.5679\", \"cv_5_valid\": \"1513.3384\", \"lr\": 0.2, \"ntrees\": 5}, {\"\": \"rmse\", \"mean\": 550.65186, \"sd\": \"14.800012\", \"cv_1_valid\": \"583.1655\", \"cv_2_valid\": \"560.83276\", \"cv_3_valid\": \"547.0235\", \"cv_4_valid\": \"542.37396\", \"cv_5_valid\": \"519.86346\", \"lr\": 0.2, \"ntrees\": 50}, {\"\": \"rmse\", \"mean\": 546.0588, \"sd\": \"11.197579\", \"cv_1_valid\": \"538.4264\", \"cv_2_valid\": \"552.35156\", \"cv_3_valid\": \"547.7864\", \"cv_4_valid\": \"521.8549\", \"cv_5_valid\": \"569.87463\", \"lr\": 0.2, \"ntrees\": 500}, {\"\": \"rmse\", \"mean\": 685.9752, \"sd\": \"21.071066\", \"cv_1_valid\": \"694.2111\", \"cv_2_valid\": \"699.37805\", \"cv_3_valid\": \"630.75226\", \"cv_4_valid\": \"719.7807\", \"cv_5_valid\": \"685.75385\", \"lr\": 0.5, \"ntrees\": 5}, {\"\": \"rmse\", \"mean\": 574.26886, \"sd\": \"9.783495\", \"cv_1_valid\": \"589.31525\", \"cv_2_valid\": \"558.8676\", \"cv_3_valid\": \"588.0991\", \"cv_4_valid\": \"577.81476\", \"cv_5_valid\": \"557.2475\", \"lr\": 0.5, \"ntrees\": 50}, {\"\": \"rmse\", \"mean\": 569.99304, \"sd\": \"7.875081\", \"cv_1_valid\": \"564.31213\", \"cv_2_valid\": \"576.54767\", \"cv_3_valid\": \"562.4053\", \"cv_4_valid\": \"558.10504\", \"cv_5_valid\": \"588.59503\", \"lr\": 0.5, \"ntrees\": 500}]}};\n",
       "var opt = {};\n",
       "var type = \"vega-lite\";\n",
       "var id = \"00a59a30-ca2a-4623-a591-99a9dad62aec\";\n",
       "\n",
       "var output_area = this;\n",
       "\n",
       "require([\"nbextensions/jupyter-vega/index\"], function(vega) {\n",
       "  var target = document.createElement(\"div\");\n",
       "  target.id = id;\n",
       "  target.className = \"vega-embed\";\n",
       "\n",
       "  var style = document.createElement(\"style\");\n",
       "  style.textContent = [\n",
       "    \".vega-embed .error p {\",\n",
       "    \"  color: firebrick;\",\n",
       "    \"  font-size: 14px;\",\n",
       "    \"}\",\n",
       "  ].join(\"\\\\n\");\n",
       "\n",
       "  // element is a jQuery wrapped DOM element inside the output area\n",
       "  // see http://ipython.readthedocs.io/en/stable/api/generated/\\\n",
       "  // IPython.display.html#IPython.display.Javascript.__init__\n",
       "  element[0].appendChild(target);\n",
       "  element[0].appendChild(style);\n",
       "\n",
       "  vega.render(\"#\" + id, spec, type, opt, output_area);\n",
       "}, function (err) {\n",
       "  if (err.requireType !== \"scripterror\") {\n",
       "    throw(err);\n",
       "  }\n",
       "});\n"
      ],
      "text/plain": [
       "<vega.vegalite.VegaLite at 0x7f90d7b0cba8>"
      ]
     },
     "metadata": {
      "jupyter-vega": "#00a59a30-ca2a-4623-a591-99a9dad62aec"
     },
     "output_type": "display_data"
    },
    {
     "data": {
      "text/plain": []
     },
     "execution_count": 23,
     "metadata": {},
     "output_type": "execute_result"
    },
    {
     "data": {
      "image/png": "[encoded data removed]"
     },
     "metadata": {
      "jupyter-vega": "#00a59a30-ca2a-4623-a591-99a9dad62aec"
     },
     "output_type": "display_data"
    },
    {
     "data": {
      "image/png": "[encoded data removed]"
     },
     "metadata": {
      "jupyter-vega": "#00a59a30-ca2a-4623-a591-99a9dad62aec"
     },
     "output_type": "display_data"
    }
   ],
   "source": [
    "c=alt.Chart(tmp[tmp.iloc[:,0]=='rmse'])\n",
    "c.mark_point().encode(x='lr:Q',color='ntrees:N',y='mean').interactive()\n",
    "\n",
    "# I didn't end up using this because it was too dense to see on the chart\n",
    "#tmp['sd']=tmp['sd'].astype('double')\n",
    "#tmp['low']=tmp['mean'] - 2*tmp.sd\n",
    "#tmp['high']=tmp['mean'] + 2*tmp.sd\n"
   ]
  },
  {
   "cell_type": "code",
   "execution_count": 24,
   "metadata": {},
   "outputs": [
    {
     "name": "stdout",
     "output_type": "stream",
     "text": [
      "gbm Model Build progress: |███████████████████████████████████████████████| 100%\n",
      "Model Details\n",
      "=============\n",
      "H2OGradientBoostingEstimator :  Gradient Boosting Machine\n",
      "Model Key:  GBM_model_python_1544750361877_20\n",
      "\n",
      "\n",
      "ModelMetricsRegression: gbm\n",
      "** Reported on train data. **\n",
      "\n",
      "MSE: 199491.27996210408\n",
      "RMSE: 446.64446706760407\n",
      "MAE: 245.20373751829243\n",
      "RMSLE: 0.09238790883975073\n",
      "Mean Residual Deviance: 199491.27996210408\n",
      "\n",
      "ModelMetricsRegression: gbm\n",
      "** Reported on validation data. **\n",
      "\n",
      "MSE: 282715.38209518313\n",
      "RMSE: 531.7098664640173\n",
      "MAE: 272.9169159379671\n",
      "RMSLE: 0.10024026821592041\n",
      "Mean Residual Deviance: 282715.38209518313\n",
      "Scoring History: \n"
     ]
    },
    {
     "data": {
      "text/html": [
       "<div style=\"overflow:auto\"><table style=\"width:50%\"><tr><td><b></b></td>\n",
       "<td><b>timestamp</b></td>\n",
       "<td><b>duration</b></td>\n",
       "<td><b>number_of_trees</b></td>\n",
       "<td><b>training_rmse</b></td>\n",
       "<td><b>training_mae</b></td>\n",
       "<td><b>training_deviance</b></td>\n",
       "<td><b>validation_rmse</b></td>\n",
       "<td><b>validation_mae</b></td>\n",
       "<td><b>validation_deviance</b></td></tr>\n",
       "<tr><td></td>\n",
       "<td>2018-12-13 20:22:13</td>\n",
       "<td> 0.012 sec</td>\n",
       "<td>0.0</td>\n",
       "<td>3994.3964930</td>\n",
       "<td>3033.6648252</td>\n",
       "<td>15955203.3430623</td>\n",
       "<td>3974.4125294</td>\n",
       "<td>3030.7853958</td>\n",
       "<td>15795954.9541093</td></tr>\n",
       "<tr><td></td>\n",
       "<td>2018-12-13 20:22:13</td>\n",
       "<td> 0.046 sec</td>\n",
       "<td>1.0</td>\n",
       "<td>3807.5820000</td>\n",
       "<td>2886.4265493</td>\n",
       "<td>14497680.6866169</td>\n",
       "<td>3788.0669152</td>\n",
       "<td>2883.1127535</td>\n",
       "<td>14349450.9542388</td></tr>\n",
       "<tr><td></td>\n",
       "<td>2018-12-13 20:22:13</td>\n",
       "<td> 0.080 sec</td>\n",
       "<td>2.0</td>\n",
       "<td>3630.4535985</td>\n",
       "<td>2746.4540468</td>\n",
       "<td>13180193.3309136</td>\n",
       "<td>3611.2379138</td>\n",
       "<td>2742.5377061</td>\n",
       "<td>13041039.2699111</td></tr>\n",
       "<tr><td></td>\n",
       "<td>2018-12-13 20:22:13</td>\n",
       "<td> 0.114 sec</td>\n",
       "<td>3.0</td>\n",
       "<td>3461.9263567</td>\n",
       "<td>2613.9418380</td>\n",
       "<td>11984934.0991557</td>\n",
       "<td>3442.9996808</td>\n",
       "<td>2609.8667122</td>\n",
       "<td>11854246.8019348</td></tr>\n",
       "<tr><td></td>\n",
       "<td>2018-12-13 20:22:13</td>\n",
       "<td> 0.148 sec</td>\n",
       "<td>4.0</td>\n",
       "<td>3302.6116250</td>\n",
       "<td>2488.2785488</td>\n",
       "<td>10907243.5457967</td>\n",
       "<td>3283.7466748</td>\n",
       "<td>2484.0030167</td>\n",
       "<td>10782992.2244687</td></tr>\n",
       "<tr><td>---</td>\n",
       "<td>---</td>\n",
       "<td>---</td>\n",
       "<td>---</td>\n",
       "<td>---</td>\n",
       "<td>---</td>\n",
       "<td>---</td>\n",
       "<td>---</td>\n",
       "<td>---</td>\n",
       "<td>---</td></tr>\n",
       "<tr><td></td>\n",
       "<td>2018-12-13 20:22:17</td>\n",
       "<td> 3.911 sec</td>\n",
       "<td>136.0</td>\n",
       "<td>509.3181942</td>\n",
       "<td>274.0300863</td>\n",
       "<td>259405.0229416</td>\n",
       "<td>548.3043298</td>\n",
       "<td>285.9402525</td>\n",
       "<td>300637.6381091</td></tr>\n",
       "<tr><td></td>\n",
       "<td>2018-12-13 20:22:17</td>\n",
       "<td> 3.937 sec</td>\n",
       "<td>137.0</td>\n",
       "<td>508.9517086</td>\n",
       "<td>273.7642643</td>\n",
       "<td>259031.8416455</td>\n",
       "<td>548.1878262</td>\n",
       "<td>285.7466014</td>\n",
       "<td>300509.8927846</td></tr>\n",
       "<tr><td></td>\n",
       "<td>2018-12-13 20:22:17</td>\n",
       "<td> 3.967 sec</td>\n",
       "<td>138.0</td>\n",
       "<td>508.5194376</td>\n",
       "<td>273.4900699</td>\n",
       "<td>258592.0184162</td>\n",
       "<td>548.0704907</td>\n",
       "<td>285.5630409</td>\n",
       "<td>300381.2628092</td></tr>\n",
       "<tr><td></td>\n",
       "<td>2018-12-13 20:22:17</td>\n",
       "<td> 3.995 sec</td>\n",
       "<td>139.0</td>\n",
       "<td>507.9360878</td>\n",
       "<td>273.2626132</td>\n",
       "<td>257999.0692650</td>\n",
       "<td>547.7861315</td>\n",
       "<td>285.3970975</td>\n",
       "<td>300069.6458349</td></tr>\n",
       "<tr><td></td>\n",
       "<td>2018-12-13 20:22:21</td>\n",
       "<td> 7.678 sec</td>\n",
       "<td>500.0</td>\n",
       "<td>446.6444671</td>\n",
       "<td>245.2037375</td>\n",
       "<td>199491.2799621</td>\n",
       "<td>531.7098665</td>\n",
       "<td>272.9169159</td>\n",
       "<td>282715.3820952</td></tr></table></div>"
      ],
      "text/plain": [
       "     timestamp            duration    number_of_trees    training_rmse       training_mae        training_deviance    validation_rmse     validation_mae      validation_deviance\n",
       "---  -------------------  ----------  -----------------  ------------------  ------------------  -------------------  ------------------  ------------------  ---------------------\n",
       "     2018-12-13 20:22:13  0.012 sec   0.0                3994.396492971414   3033.6648251877127  15955203.34306233    3974.4125294324067  3030.7853957997095  15795954.954109302\n",
       "     2018-12-13 20:22:13  0.046 sec   1.0                3807.5819999859423  2886.426549251067   14497680.68661695    3788.066915227183   2883.1127534798256  14349450.954238785\n",
       "     2018-12-13 20:22:13  0.080 sec   2.0                3630.4535985071607  2746.454046835497   13180193.330913592   3611.2379137784733  2742.53770613293    13041039.2699111\n",
       "     2018-12-13 20:22:13  0.114 sec   3.0                3461.926356691562   2613.941837981221   11984934.099155711   3442.9996807921466  2609.866712234026   11854246.801934823\n",
       "     2018-12-13 20:22:13  0.148 sec   4.0                3302.6116250320283  2488.278548758198   10907243.545796694   3283.746674831774   2484.0030167165005  10782992.22446873\n",
       "---  ---                  ---         ---                ---                 ---                 ---                  ---                 ---                 ---\n",
       "     2018-12-13 20:22:17  3.911 sec   136.0              509.3181941985041   274.03008625965043  259405.02294162515   548.3043298288841   285.940252512957    300637.6381091017\n",
       "     2018-12-13 20:22:17  3.937 sec   137.0              508.95170855933     273.7642643381186   259031.84164546116   548.1878261915048   285.746601429158    300509.8927845675\n",
       "     2018-12-13 20:22:17  3.967 sec   138.0              508.5194375991771   273.490069877829    258592.01841618336   548.0704907301554   285.5630408757036   300381.2628091933\n",
       "     2018-12-13 20:22:17  3.995 sec   139.0              507.9360877758028   273.2626131654033   257999.06926498804   547.7861314736491   285.39709747711527  300069.64583486604\n",
       "     2018-12-13 20:22:21  7.678 sec   500.0              446.64446706760407  245.20373751829243  199491.27996210408   531.7098664640173   272.9169159379671   282715.38209518313"
      ]
     },
     "metadata": {},
     "output_type": "display_data"
    },
    {
     "name": "stdout",
     "output_type": "stream",
     "text": [
      "\n",
      "See the whole table with table.as_data_frame()\n",
      "Variable Importances: \n"
     ]
    },
    {
     "data": {
      "text/html": [
       "<div style=\"overflow:auto\"><table style=\"width:50%\"><tr><td><b>variable</b></td>\n",
       "<td><b>relative_importance</b></td>\n",
       "<td><b>scaled_importance</b></td>\n",
       "<td><b>percentage</b></td></tr>\n",
       "<tr><td>y</td>\n",
       "<td>3249070145536.0000000</td>\n",
       "<td>1.0</td>\n",
       "<td>0.4971292</td></tr>\n",
       "<tr><td>carat</td>\n",
       "<td>2369863811072.0000000</td>\n",
       "<td>0.7293976</td>\n",
       "<td>0.3626048</td></tr>\n",
       "<tr><td>clarity</td>\n",
       "<td>426141483008.0000000</td>\n",
       "<td>0.1311580</td>\n",
       "<td>0.0652025</td></tr>\n",
       "<tr><td>color</td>\n",
       "<td>226389131264.0000000</td>\n",
       "<td>0.0696781</td>\n",
       "<td>0.0346390</td></tr>\n",
       "<tr><td>x</td>\n",
       "<td>138247340032.0000000</td>\n",
       "<td>0.0425498</td>\n",
       "<td>0.0211528</td></tr>\n",
       "<tr><td>z</td>\n",
       "<td>106740916224.0000000</td>\n",
       "<td>0.0328528</td>\n",
       "<td>0.0163321</td></tr>\n",
       "<tr><td>cut</td>\n",
       "<td>10334444544.0000000</td>\n",
       "<td>0.0031807</td>\n",
       "<td>0.0015812</td></tr>\n",
       "<tr><td>depth</td>\n",
       "<td>6291180544.0000000</td>\n",
       "<td>0.0019363</td>\n",
       "<td>0.0009626</td></tr>\n",
       "<tr><td>table</td>\n",
       "<td>2587166464.0000000</td>\n",
       "<td>0.0007963</td>\n",
       "<td>0.0003959</td></tr></table></div>"
      ],
      "text/plain": [
       "variable    relative_importance    scaled_importance    percentage\n",
       "----------  ---------------------  -------------------  ------------\n",
       "y           3.24907e+12            1                    0.497129\n",
       "carat       2.36986e+12            0.729398             0.362605\n",
       "clarity     4.26141e+11            0.131158             0.0652025\n",
       "color       2.26389e+11            0.0696781            0.034639\n",
       "x           1.38247e+11            0.0425498            0.0211528\n",
       "z           1.06741e+11            0.0328528            0.0163321\n",
       "cut         1.03344e+10            0.00318074           0.00158124\n",
       "depth       6.29118e+09            0.0019363            0.000962592\n",
       "table       2.58717e+09            0.000796279          0.000395854"
      ]
     },
     "metadata": {},
     "output_type": "display_data"
    },
    {
     "data": {
      "text/plain": []
     },
     "execution_count": 24,
     "metadata": {},
     "output_type": "execute_result"
    }
   ],
   "source": [
    "h2o_gb_best = h2o.estimators.gbm.H2OGradientBoostingEstimator(learn_rate=0.05,ntrees=500)\n",
    "h2o_gb_best.train(\n",
    "    x=['carat','cut','color','clarity','x','y','z','depth','table'],y='price',\n",
    "    training_frame=diamonds_split[0],validation_frame=diamonds_split[1])\n",
    "h2o_gb_best"
   ]
  },
  {
   "cell_type": "markdown",
   "metadata": {},
   "source": [
    "Alternatively, you could try H2OGridSearch  \n",
    "http://docs.h2o.ai/h2o/latest-stable/h2o-docs/grid-search.html#grid-search-example-in-python"
   ]
  },
  {
   "cell_type": "markdown",
   "metadata": {},
   "source": [
    "# Predictions\n",
    "\n",
    "We can also run the models and get the results back in Pandas objects:"
   ]
  },
  {
   "cell_type": "code",
   "execution_count": 31,
   "metadata": {},
   "outputs": [
    {
     "name": "stdout",
     "output_type": "stream",
     "text": [
      "gbm prediction progress: |████████████████████████████████████████████████| 100%\n",
      "glm prediction progress: |████████████████████████████████████████████████| 100%\n"
     ]
    }
   ],
   "source": [
    "gb_predictions=h2o_gb_best.predict(diamonds_split[1])\n",
    "lm_predictions=h2o_lm.predict(diamonds_split[1])"
   ]
  },
  {
   "cell_type": "code",
   "execution_count": 43,
   "metadata": {},
   "outputs": [
    {
     "data": {
      "application/javascript": [
       "var spec = {\"config\": {\"view\": {\"width\": 400, \"height\": 300}}, \"data\": {\"name\": \"data-bde6d9de5a8ac26eb9d447a237d4b685\"}, \"mark\": {\"type\": \"circle\", \"opacity\": 0.25}, \"encoding\": {\"color\": {\"type\": \"nominal\", \"field\": \"model\"}, \"x\": {\"type\": \"quantitative\", \"field\": \"price\"}, \"y\": {\"type\": \"quantitative\", \"field\": \"pred\"}}, \"selection\": {\"selector004\": {\"type\": \"interval\", \"bind\": \"scales\", \"encodings\": [\"x\", \"y\"]}}, \"$schema\": \"https://vega.github.io/schema/vega-lite/v2.6.0.json\", \"datasets\": {\"data-bde6d9de5a8ac26eb9d447a237d4b685\": [{\"carat\": 1.51, \"cut\": \"Ideal\", \"color\": \"E\", \"clarity\": \"VS2\", \"depth\": 62.7, \"table\": 57.0, \"price\": 14482, \"x\": 7.31, \"y\": 7.26, \"z\": 4.57, \"model\": \"lm\", \"pred\": 11059.653515221673}, {\"carat\": 0.33, \"cut\": \"Good\", \"color\": \"E\", \"clarity\": \"VS2\", \"depth\": 57.3, \"table\": 59.0, \"price\": 574, \"x\": 4.6, \"y\": 4.62, \"z\": 2.64, \"model\": \"gb\", \"pred\": 699.8679163694818}, {\"carat\": 0.41, \"cut\": \"Very Good\", \"color\": \"J\", \"clarity\": \"IF\", \"depth\": 63.5, \"table\": 54.0, \"price\": 1061, \"x\": 4.75, \"y\": 4.7, \"z\": 3.0, \"model\": \"lm\", \"pred\": 223.65204757634362}, {\"carat\": 0.41, \"cut\": \"Premium\", \"color\": \"D\", \"clarity\": \"SI2\", \"depth\": 62.0, \"table\": 58.0, \"price\": 683, \"x\": 4.74, \"y\": 4.78, \"z\": 2.95, \"model\": \"gb\", \"pred\": 780.6036596364778}, {\"carat\": 0.34, \"cut\": \"Ideal\", \"color\": \"G\", \"clarity\": \"VS2\", \"depth\": 62.2, \"table\": 53.0, \"price\": 765, \"x\": 4.51, \"y\": 4.46, \"z\": 2.79, \"model\": \"lm\", \"pred\": 368.36566802158995}, {\"carat\": 0.81, \"cut\": \"Premium\", \"color\": \"F\", \"clarity\": \"SI1\", \"depth\": 59.4, \"table\": 60.0, \"price\": 2403, \"x\": 6.11, \"y\": 6.07, \"z\": 3.62, \"model\": \"gb\", \"pred\": 3052.7376085870405}, {\"carat\": 0.91, \"cut\": \"Good\", \"color\": \"D\", \"clarity\": \"SI1\", \"depth\": 64.0, \"table\": 58.0, \"price\": 3796, \"x\": 6.06, \"y\": 6.09, \"z\": 3.89, \"model\": \"lm\", \"pred\": 4953.030562393239}, {\"carat\": 0.31, \"cut\": \"Ideal\", \"color\": \"E\", \"clarity\": \"VS2\", \"depth\": 61.7, \"table\": 57.0, \"price\": 627, \"x\": 4.35, \"y\": 4.37, \"z\": 2.69, \"model\": \"lm\", \"pred\": 396.2988562176479}, {\"carat\": 1.73, \"cut\": \"Premium\", \"color\": \"J\", \"clarity\": \"SI1\", \"depth\": 61.0, \"table\": 59.0, \"price\": 9165, \"x\": 7.75, \"y\": 7.68, \"z\": 4.71, \"model\": \"gb\", \"pred\": 8777.29623956177}, {\"carat\": 0.56, \"cut\": \"Ideal\", \"color\": \"G\", \"clarity\": \"VS2\", \"depth\": 62.1, \"table\": 56.0, \"price\": 1698, \"x\": 5.31, \"y\": 5.29, \"z\": 3.29, \"model\": \"gb\", \"pred\": 1671.3980546581063}, {\"carat\": 0.44, \"cut\": \"Very Good\", \"color\": \"D\", \"clarity\": \"VS2\", \"depth\": 62.8, \"table\": 58.0, \"price\": 850, \"x\": 4.79, \"y\": 4.86, \"z\": 3.03, \"model\": \"lm\", \"pred\": 1613.6405316703467}, {\"carat\": 1.19, \"cut\": \"Premium\", \"color\": \"I\", \"clarity\": \"VS2\", \"depth\": 61.7, \"table\": 57.0, \"price\": 5439, \"x\": 6.84, \"y\": 6.77, \"z\": 4.2, \"model\": \"lm\", \"pred\": 6858.614317034632}, {\"carat\": 0.3, \"cut\": \"Good\", \"color\": \"E\", \"clarity\": \"SI1\", \"depth\": 63.7, \"table\": 58.0, \"price\": 526, \"x\": 4.24, \"y\": 4.27, \"z\": 2.71, \"model\": \"gb\", \"pred\": 569.1113077268443}, {\"carat\": 0.35, \"cut\": \"Ideal\", \"color\": \"D\", \"clarity\": \"SI2\", \"depth\": 62.4, \"table\": 55.0, \"price\": 522, \"x\": 4.53, \"y\": 4.54, \"z\": 2.83, \"model\": \"gb\", \"pred\": 617.0584497555596}, {\"carat\": 0.6, \"cut\": \"Ideal\", \"color\": \"G\", \"clarity\": \"VS2\", \"depth\": 62.0, \"table\": 54.0, \"price\": 1861, \"x\": 5.43, \"y\": 5.47, \"z\": 3.38, \"model\": \"lm\", \"pred\": 2678.759177472461}, {\"carat\": 0.72, \"cut\": \"Good\", \"color\": \"H\", \"clarity\": \"SI2\", \"depth\": 64.1, \"table\": 58.0, \"price\": 1799, \"x\": 5.68, \"y\": 5.65, \"z\": 3.63, \"model\": \"lm\", \"pred\": 1338.2304090869432}, {\"carat\": 0.38, \"cut\": \"Ideal\", \"color\": \"E\", \"clarity\": \"SI1\", \"depth\": 61.4, \"table\": 57.0, \"price\": 653, \"x\": 4.64, \"y\": 4.67, \"z\": 2.86, \"model\": \"lm\", \"pred\": 374.1867633589709}, {\"carat\": 0.38, \"cut\": \"Premium\", \"color\": \"I\", \"clarity\": \"SI1\", \"depth\": 60.5, \"table\": 58.0, \"price\": 746, \"x\": 4.72, \"y\": 4.67, \"z\": 2.84, \"model\": \"gb\", \"pred\": 577.0848728107726}, {\"carat\": 1.0, \"cut\": \"Fair\", \"color\": \"I\", \"clarity\": \"I1\", \"depth\": 66.9, \"table\": 57.0, \"price\": 1997, \"x\": 6.15, \"y\": 6.03, \"z\": 4.09, \"model\": \"gb\", \"pred\": 2160.0228431046908}, {\"carat\": 0.3, \"cut\": \"Premium\", \"color\": \"G\", \"clarity\": \"VVS1\", \"depth\": 61.8, \"table\": 59.0, \"price\": 1013, \"x\": 4.33, \"y\": 4.28, \"z\": 2.66, \"model\": \"lm\", \"pred\": 738.2605204719231}, {\"carat\": 0.53, \"cut\": \"Fair\", \"color\": \"E\", \"clarity\": \"SI1\", \"depth\": 56.2, \"table\": 64.0, \"price\": 1286, \"x\": 5.43, \"y\": 5.41, \"z\": 3.05, \"model\": \"lm\", \"pred\": 708.8516574085397}, {\"carat\": 1.01, \"cut\": \"Fair\", \"color\": \"E\", \"clarity\": \"VS2\", \"depth\": 64.8, \"table\": 59.0, \"price\": 4972, \"x\": 6.34, \"y\": 6.26, \"z\": 4.08, \"model\": \"gb\", \"pred\": 5760.855965845423}, {\"carat\": 1.24, \"cut\": \"Ideal\", \"color\": \"I\", \"clarity\": \"SI1\", \"depth\": 61.3, \"table\": 56.0, \"price\": 5714, \"x\": 6.9, \"y\": 6.93, \"z\": 4.24, \"model\": \"gb\", \"pred\": 5974.525840793407}, {\"carat\": 0.72, \"cut\": \"Ideal\", \"color\": \"D\", \"clarity\": \"SI1\", \"depth\": 61.5, \"table\": 54.0, \"price\": 2804, \"x\": 5.77, \"y\": 5.8, \"z\": 3.56, \"model\": \"gb\", \"pred\": 3017.721426180468}, {\"carat\": 0.3, \"cut\": \"Premium\", \"color\": \"E\", \"clarity\": \"VS2\", \"depth\": 62.2, \"table\": 60.0, \"price\": 844, \"x\": 4.28, \"y\": 4.24, \"z\": 2.65, \"model\": \"gb\", \"pred\": 735.5104063499225}, {\"carat\": 2.19, \"cut\": \"Ideal\", \"color\": \"D\", \"clarity\": \"SI2\", \"depth\": 61.8, \"table\": 57.0, \"price\": 18693, \"x\": 8.23, \"y\": 8.49, \"z\": 5.17, \"model\": \"lm\", \"pred\": 15722.024521270923}, {\"carat\": 0.71, \"cut\": \"Ideal\", \"color\": \"D\", \"clarity\": \"SI2\", \"depth\": 60.4, \"table\": 56.0, \"price\": 2516, \"x\": 5.79, \"y\": 5.83, \"z\": 3.51, \"model\": \"gb\", \"pred\": 2676.6183692022664}, {\"carat\": 1.7, \"cut\": \"Ideal\", \"color\": \"J\", \"clarity\": \"VS2\", \"depth\": 62.2, \"table\": 56.0, \"price\": 9276, \"x\": 7.64, \"y\": 7.61, \"z\": 4.74, \"model\": \"lm\", \"pred\": 10634.478124020672}, {\"carat\": 0.72, \"cut\": \"Ideal\", \"color\": \"H\", \"clarity\": \"VS1\", \"depth\": 61.9, \"table\": 56.0, \"price\": 2585, \"x\": 5.73, \"y\": 5.78, \"z\": 3.56, \"model\": \"gb\", \"pred\": 3015.939518643215}, {\"carat\": 1.2, \"cut\": \"Premium\", \"color\": \"H\", \"clarity\": \"VVS2\", \"depth\": 60.0, \"table\": 60.0, \"price\": 5174, \"x\": 6.86, \"y\": 6.78, \"z\": 4.09, \"model\": \"gb\", \"pred\": 7150.951624759145}, {\"carat\": 1.6, \"cut\": \"Ideal\", \"color\": \"H\", \"clarity\": \"VS1\", \"depth\": 61.4, \"table\": 57.0, \"price\": 12566, \"x\": 7.53, \"y\": 7.59, \"z\": 4.64, \"model\": \"lm\", \"pred\": 11409.43979876442}, {\"carat\": 0.51, \"cut\": \"Ideal\", \"color\": \"G\", \"clarity\": \"VVS1\", \"depth\": 62.3, \"table\": 55.0, \"price\": 2111, \"x\": 5.14, \"y\": 5.1, \"z\": 3.19, \"model\": \"gb\", \"pred\": 2039.139062932364}, {\"carat\": 0.4, \"cut\": \"Ideal\", \"color\": \"I\", \"clarity\": \"VVS2\", \"depth\": 61.4, \"table\": 56.0, \"price\": 1240, \"x\": 4.76, \"y\": 4.79, \"z\": 2.93, \"model\": \"lm\", \"pred\": 716.8013431244626}, {\"carat\": 1.52, \"cut\": \"Ideal\", \"color\": \"G\", \"clarity\": \"VS2\", \"depth\": 61.3, \"table\": 59.0, \"price\": 12161, \"x\": 7.35, \"y\": 7.4, \"z\": 4.52, \"model\": \"lm\", \"pred\": 10853.997749375549}, {\"carat\": 1.21, \"cut\": \"Ideal\", \"color\": \"I\", \"clarity\": \"VS1\", \"depth\": 61.5, \"table\": 58.0, \"price\": 6691, \"x\": 6.84, \"y\": 6.88, \"z\": 4.22, \"model\": \"gb\", \"pred\": 6616.504284239975}, {\"carat\": 1.0, \"cut\": \"Premium\", \"color\": \"F\", \"clarity\": \"VS1\", \"depth\": 62.6, \"table\": 58.0, \"price\": 7244, \"x\": 6.4, \"y\": 6.37, \"z\": 4.0, \"model\": \"gb\", \"pred\": 6988.654682605198}, {\"carat\": 0.3, \"cut\": \"Ideal\", \"color\": \"E\", \"clarity\": \"VS2\", \"depth\": 61.5, \"table\": 55.0, \"price\": 658, \"x\": 4.29, \"y\": 4.33, \"z\": 2.65, \"model\": \"gb\", \"pred\": 684.6459296728922}, {\"carat\": 0.36, \"cut\": \"Premium\", \"color\": \"D\", \"clarity\": \"VS2\", \"depth\": 60.5, \"table\": 58.0, \"price\": 1094, \"x\": 4.63, \"y\": 4.6, \"z\": 2.79, \"model\": \"gb\", \"pred\": 952.3015064626437}, {\"carat\": 1.0, \"cut\": \"Premium\", \"color\": \"H\", \"clarity\": \"SI2\", \"depth\": 61.2, \"table\": 59.0, \"price\": 3850, \"x\": 6.38, \"y\": 6.42, \"z\": 3.92, \"model\": \"lm\", \"pred\": 4039.9749510018373}, {\"carat\": 0.37, \"cut\": \"Ideal\", \"color\": \"G\", \"clarity\": \"VVS1\", \"depth\": 61.4, \"table\": 55.0, \"price\": 936, \"x\": 4.67, \"y\": 4.71, \"z\": 2.88, \"model\": \"gb\", \"pred\": 1061.2329205038463}, {\"carat\": 0.9, \"cut\": \"Premium\", \"color\": \"G\", \"clarity\": \"I1\", \"depth\": 61.3, \"table\": 59.0, \"price\": 1777, \"x\": 6.2, \"y\": 6.15, \"z\": 3.78, \"model\": \"lm\", \"pred\": 997.9102049881668}, {\"carat\": 0.3, \"cut\": \"Very Good\", \"color\": \"G\", \"clarity\": \"IF\", \"depth\": 58.4, \"table\": 62.0, \"price\": 835, \"x\": 4.4, \"y\": 4.43, \"z\": 2.58, \"model\": \"lm\", \"pred\": 1065.2006947064538}, {\"carat\": 1.0, \"cut\": \"Ideal\", \"color\": \"J\", \"clarity\": \"VS1\", \"depth\": 62.3, \"table\": 56.0, \"price\": 4144, \"x\": 6.43, \"y\": 6.38, \"z\": 3.99, \"model\": \"lm\", \"pred\": 4731.23777385837}, {\"carat\": 0.71, \"cut\": \"Ideal\", \"color\": \"H\", \"clarity\": \"VVS2\", \"depth\": 61.5, \"table\": 54.0, \"price\": 2594, \"x\": 5.74, \"y\": 5.8, \"z\": 3.55, \"model\": \"gb\", \"pred\": 3080.9083823472233}, {\"carat\": 1.5, \"cut\": \"Ideal\", \"color\": \"H\", \"clarity\": \"SI1\", \"depth\": 62.0, \"table\": 55.0, \"price\": 10989, \"x\": 7.29, \"y\": 7.34, \"z\": 4.54, \"model\": \"gb\", \"pred\": 9878.278516141136}, {\"carat\": 0.73, \"cut\": \"Very Good\", \"color\": \"F\", \"clarity\": \"SI1\", \"depth\": 60.4, \"table\": 57.0, \"price\": 2549, \"x\": 5.86, \"y\": 5.89, \"z\": 3.55, \"model\": \"lm\", \"pred\": 3243.166760380683}, {\"carat\": 0.3, \"cut\": \"Very Good\", \"color\": \"H\", \"clarity\": \"SI1\", \"depth\": 62.9, \"table\": 56.0, \"price\": 421, \"x\": 4.28, \"y\": 4.31, \"z\": 2.7, \"model\": \"lm\", \"pred\": -1253.2562913561023}, {\"carat\": 1.3, \"cut\": \"Ideal\", \"color\": \"G\", \"clarity\": \"IF\", \"depth\": 62.3, \"table\": 56.0, \"price\": 12467, \"x\": 6.95, \"y\": 6.99, \"z\": 4.34, \"model\": \"gb\", \"pred\": 12392.910156462243}, {\"carat\": 1.25, \"cut\": \"Premium\", \"color\": \"I\", \"clarity\": \"VS2\", \"depth\": 61.2, \"table\": 58.0, \"price\": 6300, \"x\": 6.94, \"y\": 6.89, \"z\": 4.23, \"model\": \"gb\", \"pred\": 5978.176713940357}, {\"carat\": 0.3, \"cut\": \"Ideal\", \"color\": \"D\", \"clarity\": \"SI1\", \"depth\": 61.3, \"table\": 57.0, \"price\": 670, \"x\": 4.34, \"y\": 4.37, \"z\": 2.67, \"model\": \"gb\", \"pred\": 646.1414153195424}, {\"carat\": 0.72, \"cut\": \"Ideal\", \"color\": \"H\", \"clarity\": \"SI1\", \"depth\": 62.0, \"table\": 57.0, \"price\": 2361, \"x\": 5.73, \"y\": 5.76, \"z\": 3.56, \"model\": \"gb\", \"pred\": 2523.552771430134}, {\"carat\": 1.01, \"cut\": \"Very Good\", \"color\": \"E\", \"clarity\": \"SI2\", \"depth\": 60.4, \"table\": 60.0, \"price\": 4352, \"x\": 6.48, \"y\": 6.57, \"z\": 3.94, \"model\": \"lm\", \"pred\": 4875.172397905283}, {\"carat\": 0.92, \"cut\": \"Ideal\", \"color\": \"G\", \"clarity\": \"SI2\", \"depth\": 63.0, \"table\": 57.0, \"price\": 3697, \"x\": 6.16, \"y\": 6.13, \"z\": 3.87, \"model\": \"lm\", \"pred\": 3930.441304451032}, {\"carat\": 0.4, \"cut\": \"Ideal\", \"color\": \"I\", \"clarity\": \"IF\", \"depth\": 62.2, \"table\": 56.0, \"price\": 1050, \"x\": 4.75, \"y\": 4.71, \"z\": 2.94, \"model\": \"gb\", \"pred\": 1012.6242033293444}, {\"carat\": 2.04, \"cut\": \"Premium\", \"color\": \"F\", \"clarity\": \"SI2\", \"depth\": 60.2, \"table\": 58.0, \"price\": 18066, \"x\": 8.17, \"y\": 8.24, \"z\": 4.94, \"model\": \"gb\", \"pred\": 16538.67825816716}, {\"carat\": 0.3, \"cut\": \"Very Good\", \"color\": \"E\", \"clarity\": \"VS2\", \"depth\": 61.7, \"table\": 61.0, \"price\": 658, \"x\": 4.28, \"y\": 4.31, \"z\": 2.65, \"model\": \"gb\", \"pred\": 629.7471565186484}, {\"carat\": 0.57, \"cut\": \"Very Good\", \"color\": \"I\", \"clarity\": \"SI1\", \"depth\": 62.5, \"table\": 58.0, \"price\": 1180, \"x\": 5.22, \"y\": 5.27, \"z\": 3.28, \"model\": \"gb\", \"pred\": 1227.3769475246283}, {\"carat\": 0.72, \"cut\": \"Ideal\", \"color\": \"I\", \"clarity\": \"VS1\", \"depth\": 60.7, \"table\": 57.0, \"price\": 2539, \"x\": 5.78, \"y\": 5.81, \"z\": 3.51, \"model\": \"lm\", \"pred\": 3128.0421450961285}, {\"carat\": 0.3, \"cut\": \"Very Good\", \"color\": \"G\", \"clarity\": \"VVS2\", \"depth\": 63.1, \"table\": 56.0, \"price\": 878, \"x\": 4.23, \"y\": 4.2, \"z\": 2.66, \"model\": \"lm\", \"pred\": 612.7532600986979}, {\"carat\": 0.5, \"cut\": \"Premium\", \"color\": \"E\", \"clarity\": \"VS2\", \"depth\": 61.3, \"table\": 60.0, \"price\": 1624, \"x\": 5.07, \"y\": 5.11, \"z\": 3.12, \"model\": \"lm\", \"pred\": 1955.8048086452573}, {\"carat\": 1.14, \"cut\": \"Premium\", \"color\": \"H\", \"clarity\": \"VS2\", \"depth\": 60.2, \"table\": 58.0, \"price\": 6095, \"x\": 6.81, \"y\": 6.74, \"z\": 4.08, \"model\": \"lm\", \"pred\": 6875.912109974807}, {\"carat\": 0.55, \"cut\": \"Very Good\", \"color\": \"F\", \"clarity\": \"VS2\", \"depth\": 62.1, \"table\": 55.4, \"price\": 1777, \"x\": 5.25, \"y\": 5.27, \"z\": 3.26, \"model\": \"gb\", \"pred\": 1650.6889899779546}, {\"carat\": 1.1, \"cut\": \"Premium\", \"color\": \"G\", \"clarity\": \"VS2\", \"depth\": 60.5, \"table\": 60.0, \"price\": 6284, \"x\": 6.67, \"y\": 6.58, \"z\": 4.01, \"model\": \"lm\", \"pred\": 6992.9650834761105}, {\"carat\": 0.3, \"cut\": \"Ideal\", \"color\": \"D\", \"clarity\": \"SI1\", \"depth\": 61.0, \"table\": 56.0, \"price\": 552, \"x\": 4.3, \"y\": 4.33, \"z\": 2.63, \"model\": \"lm\", \"pred\": -125.02106587182516}, {\"carat\": 0.38, \"cut\": \"Ideal\", \"color\": \"F\", \"clarity\": \"SI1\", \"depth\": 61.7, \"table\": 56.0, \"price\": 766, \"x\": 4.68, \"y\": 4.72, \"z\": 2.9, \"model\": \"lm\", \"pred\": 282.559212146718}, {\"carat\": 0.26, \"cut\": \"Very Good\", \"color\": \"F\", \"clarity\": \"VVS1\", \"depth\": 60.8, \"table\": 58.0, \"price\": 679, \"x\": 4.11, \"y\": 4.18, \"z\": 2.52, \"model\": \"lm\", \"pred\": 565.0258432365126}, {\"carat\": 0.56, \"cut\": \"Ideal\", \"color\": \"H\", \"clarity\": \"VS2\", \"depth\": 61.2, \"table\": 57.0, \"price\": 1388, \"x\": 5.29, \"y\": 5.33, \"z\": 3.25, \"model\": \"gb\", \"pred\": 1530.5972217392614}, {\"carat\": 0.51, \"cut\": \"Good\", \"color\": \"D\", \"clarity\": \"VS2\", \"depth\": 58.0, \"table\": 60.0, \"price\": 1831, \"x\": 5.26, \"y\": 5.29, \"z\": 3.06, \"model\": \"lm\", \"pred\": 2042.7201240258082}, {\"carat\": 1.29, \"cut\": \"Premium\", \"color\": \"H\", \"clarity\": \"VS2\", \"depth\": 61.2, \"table\": 60.0, \"price\": 7153, \"x\": 7.03, \"y\": 6.95, \"z\": 4.28, \"model\": \"lm\", \"pred\": 8208.831442350314}, {\"carat\": 1.14, \"cut\": \"Premium\", \"color\": \"F\", \"clarity\": \"SI2\", \"depth\": 60.8, \"table\": 58.0, \"price\": 5008, \"x\": 6.79, \"y\": 6.74, \"z\": 4.11, \"model\": \"lm\", \"pred\": 5959.420626812648}, {\"carat\": 0.53, \"cut\": \"Good\", \"color\": \"E\", \"clarity\": \"SI1\", \"depth\": 57.8, \"table\": 57.0, \"price\": 1328, \"x\": 5.33, \"y\": 5.29, \"z\": 3.07, \"model\": \"lm\", \"pred\": 1364.619105672492}, {\"carat\": 0.32, \"cut\": \"Premium\", \"color\": \"H\", \"clarity\": \"VVS2\", \"depth\": 62.2, \"table\": 58.0, \"price\": 773, \"x\": 4.38, \"y\": 4.33, \"z\": 2.71, \"model\": \"gb\", \"pred\": 763.3036309109508}, {\"carat\": 0.71, \"cut\": \"Very Good\", \"color\": \"G\", \"clarity\": \"VS2\", \"depth\": 62.1, \"table\": 58.0, \"price\": 2649, \"x\": 5.69, \"y\": 5.77, \"z\": 3.56, \"model\": \"gb\", \"pred\": 2816.3621499767964}, {\"carat\": 0.54, \"cut\": \"Ideal\", \"color\": \"F\", \"clarity\": \"VVS2\", \"depth\": 61.9, \"table\": 56.0, \"price\": 2168, \"x\": 5.2, \"y\": 5.23, \"z\": 3.23, \"model\": \"gb\", \"pred\": 2257.8794426942677}, {\"carat\": 1.57, \"cut\": \"Premium\", \"color\": \"H\", \"clarity\": \"VS1\", \"depth\": 60.5, \"table\": 61.0, \"price\": 10930, \"x\": 7.6, \"y\": 7.51, \"z\": 4.57, \"model\": \"lm\", \"pred\": 11013.997397041294}, {\"carat\": 0.71, \"cut\": \"Ideal\", \"color\": \"G\", \"clarity\": \"VVS1\", \"depth\": 61.7, \"table\": 57.0, \"price\": 2930, \"x\": 5.75, \"y\": 5.7, \"z\": 3.53, \"model\": \"lm\", \"pred\": 4510.431897546324}, {\"carat\": 0.51, \"cut\": \"Premium\", \"color\": \"F\", \"clarity\": \"VVS2\", \"depth\": 62.3, \"table\": 58.0, \"price\": 1953, \"x\": 5.08, \"y\": 5.1, \"z\": 3.17, \"model\": \"gb\", \"pred\": 2087.2146785321147}, {\"carat\": 0.73, \"cut\": \"Ideal\", \"color\": \"F\", \"clarity\": \"VVS1\", \"depth\": 61.4, \"table\": 56.0, \"price\": 5154, \"x\": 5.8, \"y\": 5.81, \"z\": 3.56, \"model\": \"lm\", \"pred\": 4891.043978655299}, {\"carat\": 0.55, \"cut\": \"Ideal\", \"color\": \"F\", \"clarity\": \"VVS2\", \"depth\": 61.1, \"table\": 57.0, \"price\": 2629, \"x\": 5.28, \"y\": 5.31, \"z\": 3.24, \"model\": \"gb\", \"pred\": 2287.0856927248155}, {\"carat\": 1.03, \"cut\": \"Premium\", \"color\": \"E\", \"clarity\": \"SI2\", \"depth\": 61.0, \"table\": 60.0, \"price\": 4522, \"x\": 6.53, \"y\": 6.46, \"z\": 3.96, \"model\": \"lm\", \"pred\": 5073.574000949532}, {\"carat\": 2.09, \"cut\": \"Premium\", \"color\": \"H\", \"clarity\": \"SI2\", \"depth\": 60.9, \"table\": 58.0, \"price\": 13119, \"x\": 8.23, \"y\": 8.2, \"z\": 5.0, \"model\": \"gb\", \"pred\": 14748.129457587893}, {\"carat\": 0.7, \"cut\": \"Ideal\", \"color\": \"H\", \"clarity\": \"VS2\", \"depth\": 63.0, \"table\": 55.0, \"price\": 2536, \"x\": 5.7, \"y\": 5.67, \"z\": 3.58, \"model\": \"lm\", \"pred\": 3094.8739369213613}, {\"carat\": 0.26, \"cut\": \"Very Good\", \"color\": \"G\", \"clarity\": \"VVS2\", \"depth\": 62.5, \"table\": 55.0, \"price\": 486, \"x\": 4.1, \"y\": 4.12, \"z\": 2.57, \"model\": \"gb\", \"pred\": 524.3803776392219}, {\"carat\": 1.52, \"cut\": \"Ideal\", \"color\": \"J\", \"clarity\": \"VS1\", \"depth\": 62.8, \"table\": 54.3, \"price\": 8687, \"x\": 7.32, \"y\": 7.35, \"z\": 4.61, \"model\": \"lm\", \"pred\": 9352.024792760112}, {\"carat\": 0.54, \"cut\": \"Very Good\", \"color\": \"G\", \"clarity\": \"VVS2\", \"depth\": 61.8, \"table\": 57.0, \"price\": 1751, \"x\": 5.22, \"y\": 5.26, \"z\": 3.24, \"model\": \"gb\", \"pred\": 1946.6504986571586}, {\"carat\": 1.52, \"cut\": \"Very Good\", \"color\": \"F\", \"clarity\": \"VS2\", \"depth\": 62.3, \"table\": 56.0, \"price\": 14412, \"x\": 7.29, \"y\": 7.34, \"z\": 4.56, \"model\": \"gb\", \"pred\": 14122.805889574249}, {\"carat\": 1.05, \"cut\": \"Very Good\", \"color\": \"G\", \"clarity\": \"SI2\", \"depth\": 62.5, \"table\": 60.0, \"price\": 4241, \"x\": 6.45, \"y\": 6.5, \"z\": 4.05, \"model\": \"gb\", \"pred\": 4364.703242481357}, {\"carat\": 0.32, \"cut\": \"Ideal\", \"color\": \"F\", \"clarity\": \"VVS1\", \"depth\": 61.0, \"table\": 56.0, \"price\": 912, \"x\": 4.42, \"y\": 4.43, \"z\": 2.7, \"model\": \"lm\", \"pred\": 1247.731136828922}, {\"carat\": 0.32, \"cut\": \"Ideal\", \"color\": \"F\", \"clarity\": \"VVS1\", \"depth\": 61.4, \"table\": 56.0, \"price\": 926, \"x\": 4.38, \"y\": 4.42, \"z\": 2.7, \"model\": \"lm\", \"pred\": 1247.731136828922}, {\"carat\": 1.31, \"cut\": \"Very Good\", \"color\": \"I\", \"clarity\": \"SI2\", \"depth\": 60.8, \"table\": 57.0, \"price\": 5582, \"x\": 7.06, \"y\": 7.12, \"z\": 4.31, \"model\": \"lm\", \"pred\": 6312.391642118352}, {\"carat\": 0.53, \"cut\": \"Ideal\", \"color\": \"E\", \"clarity\": \"VS2\", \"depth\": 62.5, \"table\": 57.0, \"price\": 1607, \"x\": 5.16, \"y\": 5.18, \"z\": 3.23, \"model\": \"gb\", \"pred\": 1731.883670512258}, {\"carat\": 0.31, \"cut\": \"Premium\", \"color\": \"D\", \"clarity\": \"SI1\", \"depth\": 60.2, \"table\": 56.0, \"price\": 732, \"x\": 4.4, \"y\": 4.37, \"z\": 2.64, \"model\": \"gb\", \"pred\": 742.7202885254724}, {\"carat\": 0.6, \"cut\": \"Ideal\", \"color\": \"G\", \"clarity\": \"VVS2\", \"depth\": 61.4, \"table\": 59.0, \"price\": 2313, \"x\": 5.37, \"y\": 5.41, \"z\": 3.31, \"model\": \"gb\", \"pred\": 2298.637112172923}, {\"carat\": 0.5, \"cut\": \"Premium\", \"color\": \"E\", \"clarity\": \"SI2\", \"depth\": 60.3, \"table\": 60.0, \"price\": 1286, \"x\": 5.11, \"y\": 5.07, \"z\": 3.07, \"model\": \"lm\", \"pred\": 363.92569322275534}, {\"carat\": 0.43, \"cut\": \"Premium\", \"color\": \"H\", \"clarity\": \"SI2\", \"depth\": 61.8, \"table\": 59.0, \"price\": 887, \"x\": 4.86, \"y\": 4.85, \"z\": 3.0, \"model\": \"lm\", \"pred\": -1025.1185120250748}, {\"carat\": 1.3, \"cut\": \"Very Good\", \"color\": \"F\", \"clarity\": \"SI2\", \"depth\": 61.1, \"table\": 58.0, \"price\": 6149, \"x\": 6.98, \"y\": 7.02, \"z\": 4.28, \"model\": \"gb\", \"pred\": 6117.650241003508}, {\"carat\": 0.41, \"cut\": \"Good\", \"color\": \"J\", \"clarity\": \"IF\", \"depth\": 63.5, \"table\": 54.0, \"price\": 827, \"x\": 4.7, \"y\": 4.75, \"z\": 3.0, \"model\": \"gb\", \"pred\": 831.9885203795479}, {\"carat\": 1.0, \"cut\": \"Very Good\", \"color\": \"I\", \"clarity\": \"SI1\", \"depth\": 59.3, \"table\": 63.0, \"price\": 3360, \"x\": 6.52, \"y\": 6.47, \"z\": 3.85, \"model\": \"lm\", \"pred\": 4505.429689330903}, {\"carat\": 0.5, \"cut\": \"Very Good\", \"color\": \"F\", \"clarity\": \"SI1\", \"depth\": 60.0, \"table\": 54.0, \"price\": 1122, \"x\": 5.13, \"y\": 5.2, \"z\": 3.1, \"model\": \"gb\", \"pred\": 1211.89731203336}, {\"carat\": 1.01, \"cut\": \"Ideal\", \"color\": \"G\", \"clarity\": \"VS2\", \"depth\": 62.4, \"table\": 57.0, \"price\": 6340, \"x\": 6.39, \"y\": 6.36, \"z\": 3.98, \"model\": \"gb\", \"pred\": 6196.7174910406075}, {\"carat\": 0.73, \"cut\": \"Premium\", \"color\": \"H\", \"clarity\": \"SI2\", \"depth\": 61.2, \"table\": 59.0, \"price\": 1699, \"x\": 5.83, \"y\": 5.77, \"z\": 3.55, \"model\": \"lm\", \"pred\": 1640.7201527259306}, {\"carat\": 0.55, \"cut\": \"Very Good\", \"color\": \"D\", \"clarity\": \"VS1\", \"depth\": 59.5, \"table\": 56.0, \"price\": 2251, \"x\": 5.35, \"y\": 5.38, \"z\": 3.19, \"model\": \"gb\", \"pred\": 2058.546695763382}, {\"carat\": 1.51, \"cut\": \"Premium\", \"color\": \"E\", \"clarity\": \"SI2\", \"depth\": 62.7, \"table\": 58.0, \"price\": 6342, \"x\": 7.27, \"y\": 7.24, \"z\": 4.55, \"model\": \"gb\", \"pred\": 9034.376518608442}, {\"carat\": 0.34, \"cut\": \"Ideal\", \"color\": \"G\", \"clarity\": \"VS2\", \"depth\": 62.2, \"table\": 53.0, \"price\": 596, \"x\": 4.46, \"y\": 4.51, \"z\": 2.79, \"model\": \"gb\", \"pred\": 652.4435386992031}, {\"carat\": 0.41, \"cut\": \"Ideal\", \"color\": \"G\", \"clarity\": \"VS2\", \"depth\": 62.5, \"table\": 54.0, \"price\": 827, \"x\": 4.75, \"y\": 4.78, \"z\": 2.98, \"model\": \"gb\", \"pred\": 867.9473213128717}, {\"carat\": 1.17, \"cut\": \"Ideal\", \"color\": \"F\", \"clarity\": \"VVS1\", \"depth\": 62.1, \"table\": 57.0, \"price\": 11886, \"x\": 6.82, \"y\": 6.73, \"z\": 4.21, \"model\": \"gb\", \"pred\": 11961.163132929843}, {\"carat\": 0.39, \"cut\": \"Very Good\", \"color\": \"J\", \"clarity\": \"VS1\", \"depth\": 63.1, \"table\": 56.0, \"price\": 790, \"x\": 4.7, \"y\": 4.62, \"z\": 2.94, \"model\": \"gb\", \"pred\": 645.3166008737377}, {\"carat\": 1.7, \"cut\": \"Premium\", \"color\": \"H\", \"clarity\": \"VS2\", \"depth\": 62.8, \"table\": 58.0, \"price\": 12992, \"x\": 7.57, \"y\": 7.52, \"z\": 4.74, \"model\": \"lm\", \"pred\": 11852.144284176688}, {\"carat\": 0.72, \"cut\": \"Very Good\", \"color\": \"J\", \"clarity\": \"VVS1\", \"depth\": 61.4, \"table\": 61.0, \"price\": 2093, \"x\": 5.7, \"y\": 5.77, \"z\": 3.52, \"model\": \"lm\", \"pred\": 2630.7328015236717}, {\"carat\": 0.55, \"cut\": \"Ideal\", \"color\": \"D\", \"clarity\": \"SI1\", \"depth\": 60.6, \"table\": 56.0, \"price\": 1819, \"x\": 5.32, \"y\": 5.27, \"z\": 3.21, \"model\": \"gb\", \"pred\": 1689.1343287631375}, {\"carat\": 0.7, \"cut\": \"Very Good\", \"color\": \"F\", \"clarity\": \"SI1\", \"depth\": 62.3, \"table\": 57.0, \"price\": 2196, \"x\": 5.65, \"y\": 5.69, \"z\": 3.53, \"model\": \"lm\", \"pred\": 2976.5828939055823}, {\"carat\": 1.61, \"cut\": \"Ideal\", \"color\": \"E\", \"clarity\": \"SI2\", \"depth\": 61.6, \"table\": 56.0, \"price\": 9961, \"x\": 7.54, \"y\": 7.62, \"z\": 4.67, \"model\": \"gb\", \"pred\": 10606.242483714965}, {\"carat\": 0.7, \"cut\": \"Ideal\", \"color\": \"G\", \"clarity\": \"VS1\", \"depth\": 61.9, \"table\": 55.0, \"price\": 3384, \"x\": 5.67, \"y\": 5.71, \"z\": 3.52, \"model\": \"lm\", \"pred\": 3884.4219333128412}, {\"carat\": 1.11, \"cut\": \"Premium\", \"color\": \"H\", \"clarity\": \"SI2\", \"depth\": 61.5, \"table\": 59.0, \"price\": 4212, \"x\": 6.61, \"y\": 6.56, \"z\": 4.05, \"model\": \"gb\", \"pred\": 4350.238502654849}, {\"carat\": 2.39, \"cut\": \"Ideal\", \"color\": \"J\", \"clarity\": \"VS1\", \"depth\": 62.1, \"table\": 57.0, \"price\": 17365, \"x\": 8.53, \"y\": 8.57, \"z\": 5.31, \"model\": \"lm\", \"pred\": 17082.956920538036}, {\"carat\": 1.0, \"cut\": \"Premium\", \"color\": \"J\", \"clarity\": \"VS1\", \"depth\": 62.8, \"table\": 57.0, \"price\": 4144, \"x\": 6.39, \"y\": 6.35, \"z\": 4.0, \"model\": \"lm\", \"pred\": 4602.379238610341}, {\"carat\": 0.32, \"cut\": \"Ideal\", \"color\": \"J\", \"clarity\": \"VS2\", \"depth\": 62.1, \"table\": 54.0, \"price\": 393, \"x\": 4.38, \"y\": 4.44, \"z\": 2.74, \"model\": \"lm\", \"pred\": -1628.3797338339546}, {\"carat\": 0.84, \"cut\": \"Very Good\", \"color\": \"F\", \"clarity\": \"SI2\", \"depth\": 62.8, \"table\": 57.0, \"price\": 2656, \"x\": 5.99, \"y\": 6.04, \"z\": 3.78, \"model\": \"gb\", \"pred\": 2853.548540170907}, {\"carat\": 1.04, \"cut\": \"Premium\", \"color\": \"H\", \"clarity\": \"VS2\", \"depth\": 58.7, \"table\": 62.0, \"price\": 4477, \"x\": 6.67, \"y\": 6.65, \"z\": 3.91, \"model\": \"lm\", \"pred\": 5987.2992217244755}, {\"carat\": 1.01, \"cut\": \"Ideal\", \"color\": \"G\", \"clarity\": \"VS1\", \"depth\": 62.9, \"table\": 57.0, \"price\": 6176, \"x\": 6.43, \"y\": 6.39, \"z\": 4.03, \"model\": \"gb\", \"pred\": 6907.052733954643}, {\"carat\": 0.29, \"cut\": \"Ideal\", \"color\": \"H\", \"clarity\": \"VS1\", \"depth\": 62.4, \"table\": 54.0, \"price\": 464, \"x\": 4.23, \"y\": 4.26, \"z\": 2.65, \"model\": \"gb\", \"pred\": 494.6378613867769}, {\"carat\": 1.05, \"cut\": \"Ideal\", \"color\": \"H\", \"clarity\": \"SI1\", \"depth\": 62.5, \"table\": 56.0, \"price\": 5027, \"x\": 6.52, \"y\": 6.43, \"z\": 4.05, \"model\": \"gb\", \"pred\": 5053.288795161663}, {\"carat\": 1.66, \"cut\": \"Ideal\", \"color\": \"E\", \"clarity\": \"SI2\", \"depth\": 62.7, \"table\": 56.0, \"price\": 10754, \"x\": 7.45, \"y\": 7.63, \"z\": 4.73, \"model\": \"gb\", \"pred\": 11133.269035304333}, {\"carat\": 0.35, \"cut\": \"Very Good\", \"color\": \"G\", \"clarity\": \"IF\", \"depth\": 62.1, \"table\": 54.0, \"price\": 892, \"x\": 4.53, \"y\": 4.57, \"z\": 2.82, \"model\": \"lm\", \"pred\": 1509.5071388316198}, {\"carat\": 1.01, \"cut\": \"Premium\", \"color\": \"F\", \"clarity\": \"SI2\", \"depth\": 59.2, \"table\": 58.0, \"price\": 3837, \"x\": 6.5, \"y\": 6.47, \"z\": 0.0, \"model\": \"lm\", \"pred\": 4804.223872087213}, {\"carat\": 1.5, \"cut\": \"Premium\", \"color\": \"G\", \"clarity\": \"SI2\", \"depth\": 58.5, \"table\": 62.0, \"price\": 8736, \"x\": 7.44, \"y\": 7.4, \"z\": 4.34, \"model\": \"gb\", \"pred\": 7506.966681851442}, {\"carat\": 0.4, \"cut\": \"Very Good\", \"color\": \"G\", \"clarity\": \"VVS2\", \"depth\": 61.6, \"table\": 58.0, \"price\": 925, \"x\": 4.73, \"y\": 4.78, \"z\": 2.93, \"model\": \"gb\", \"pred\": 1051.3238328421926}, {\"carat\": 0.3, \"cut\": \"Very Good\", \"color\": \"J\", \"clarity\": \"VS1\", \"depth\": 63.3, \"table\": 60.0, \"price\": 506, \"x\": 4.25, \"y\": 4.22, \"z\": 2.68, \"model\": \"gb\", \"pred\": 413.5936201262725}, {\"carat\": 0.41, \"cut\": \"Very Good\", \"color\": \"E\", \"clarity\": \"VS1\", \"depth\": 63.4, \"table\": 55.0, \"price\": 1160, \"x\": 4.7, \"y\": 4.73, \"z\": 2.99, \"model\": \"gb\", \"pred\": 999.4819060476933}, {\"carat\": 0.35, \"cut\": \"Very Good\", \"color\": \"G\", \"clarity\": \"VS1\", \"depth\": 60.7, \"table\": 61.0, \"price\": 706, \"x\": 4.54, \"y\": 4.58, \"z\": 2.77, \"model\": \"lm\", \"pred\": 624.7392637944586}, {\"carat\": 1.2, \"cut\": \"Premium\", \"color\": \"E\", \"clarity\": \"SI1\", \"depth\": 61.8, \"table\": 56.0, \"price\": 6653, \"x\": 6.82, \"y\": 6.75, \"z\": 4.19, \"model\": \"gb\", \"pred\": 6594.230762472047}, {\"carat\": 0.3, \"cut\": \"Ideal\", \"color\": \"E\", \"clarity\": \"VS2\", \"depth\": 62.0, \"table\": 56.0, \"price\": 658, \"x\": 4.31, \"y\": 4.34, \"z\": 2.68, \"model\": \"gb\", \"pred\": 698.9753645445658}, {\"carat\": 0.27, \"cut\": \"Very Good\", \"color\": \"G\", \"clarity\": \"VS2\", \"depth\": 61.5, \"table\": 57.0, \"price\": 439, \"x\": 4.18, \"y\": 4.22, \"z\": 2.58, \"model\": \"lm\", \"pred\": -403.20091439585394}, {\"carat\": 0.73, \"cut\": \"Ideal\", \"color\": \"D\", \"clarity\": \"VS1\", \"depth\": 60.9, \"table\": 55.0, \"price\": 3937, \"x\": 5.83, \"y\": 5.86, \"z\": 3.56, \"model\": \"lm\", \"pred\": 4657.205335828573}, {\"carat\": 0.32, \"cut\": \"Ideal\", \"color\": \"I\", \"clarity\": \"VS2\", \"depth\": 62.5, \"table\": 57.0, \"price\": 576, \"x\": 4.39, \"y\": 4.35, \"z\": 2.73, \"model\": \"lm\", \"pred\": -743.4592754952563}, {\"carat\": 0.3, \"cut\": \"Ideal\", \"color\": \"E\", \"clarity\": \"VS2\", \"depth\": 61.8, \"table\": 56.0, \"price\": 658, \"x\": 4.29, \"y\": 4.32, \"z\": 2.66, \"model\": \"lm\", \"pred\": 307.43756739261426}, {\"carat\": 0.36, \"cut\": \"Premium\", \"color\": \"G\", \"clarity\": \"IF\", \"depth\": 61.0, \"table\": 59.0, \"price\": 1148, \"x\": 4.6, \"y\": 4.55, \"z\": 2.79, \"model\": \"lm\", \"pred\": 1619.0474530508375}, {\"carat\": 0.5, \"cut\": \"Ideal\", \"color\": \"G\", \"clarity\": \"VVS2\", \"depth\": 60.5, \"table\": 55.0, \"price\": 1838, \"x\": 5.13, \"y\": 5.15, \"z\": 3.11, \"model\": \"gb\", \"pred\": 1831.2418452525947}, {\"carat\": 0.39, \"cut\": \"Very Good\", \"color\": \"G\", \"clarity\": \"SI1\", \"depth\": 62.4, \"table\": 58.0, \"price\": 684, \"x\": 4.67, \"y\": 4.72, \"z\": 2.93, \"model\": \"lm\", \"pred\": 18.993436870636287}, {\"carat\": 0.71, \"cut\": \"Premium\", \"color\": \"E\", \"clarity\": \"SI1\", \"depth\": 62.7, \"table\": 58.0, \"price\": 2853, \"x\": 5.73, \"y\": 5.66, \"z\": 3.57, \"model\": \"gb\", \"pred\": 2555.7245669175377}, {\"carat\": 0.42, \"cut\": \"Ideal\", \"color\": \"H\", \"clarity\": \"IF\", \"depth\": 61.7, \"table\": 55.0, \"price\": 1273, \"x\": 4.84, \"y\": 4.82, \"z\": 2.98, \"model\": \"lm\", \"pred\": 1808.575592447628}, {\"carat\": 0.3, \"cut\": \"Ideal\", \"color\": \"F\", \"clarity\": \"VS2\", \"depth\": 60.9, \"table\": 56.0, \"price\": 605, \"x\": 4.32, \"y\": 4.35, \"z\": 2.64, \"model\": \"lm\", \"pred\": 215.81001618036132}, {\"carat\": 0.31, \"cut\": \"Ideal\", \"color\": \"D\", \"clarity\": \"VS2\", \"depth\": 62.6, \"table\": 56.0, \"price\": 734, \"x\": 4.33, \"y\": 4.36, \"z\": 2.72, \"model\": \"gb\", \"pred\": 745.374026163618}, {\"carat\": 2.03, \"cut\": \"Ideal\", \"color\": \"J\", \"clarity\": \"VS2\", \"depth\": 60.5, \"table\": 57.0, \"price\": 14083, \"x\": 8.26, \"y\": 8.2, \"z\": 4.98, \"model\": \"gb\", \"pred\": 13508.648735072049}, {\"carat\": 0.3, \"cut\": \"Premium\", \"color\": \"G\", \"clarity\": \"SI2\", \"depth\": 62.7, \"table\": 55.0, \"price\": 452, \"x\": 4.29, \"y\": 4.26, \"z\": 2.68, \"model\": \"lm\", \"pred\": -1707.817137949074}, {\"carat\": 1.73, \"cut\": \"Premium\", \"color\": \"G\", \"clarity\": \"VS2\", \"depth\": 61.6, \"table\": 58.0, \"price\": 16960, \"x\": 7.74, \"y\": 7.71, \"z\": 4.76, \"model\": \"lm\", \"pred\": 12591.226279453225}, {\"carat\": 1.52, \"cut\": \"Ideal\", \"color\": \"J\", \"clarity\": \"SI1\", \"depth\": 61.9, \"table\": 56.0, \"price\": 8131, \"x\": 7.37, \"y\": 7.41, \"z\": 4.57, \"model\": \"gb\", \"pred\": 7486.223741602522}, {\"carat\": 0.36, \"cut\": \"Ideal\", \"color\": \"E\", \"clarity\": \"SI1\", \"depth\": 62.1, \"table\": 56.0, \"price\": 631, \"x\": 4.56, \"y\": 4.59, \"z\": 2.84, \"model\": \"gb\", \"pred\": 739.5673707459558}, {\"carat\": 0.91, \"cut\": \"Premium\", \"color\": \"G\", \"clarity\": \"SI1\", \"depth\": 62.6, \"table\": 56.0, \"price\": 3763, \"x\": 6.21, \"y\": 6.16, \"z\": 3.87, \"model\": \"gb\", \"pred\": 3992.606414450935}, {\"carat\": 0.24, \"cut\": \"Very Good\", \"color\": \"D\", \"clarity\": \"VVS2\", \"depth\": 61.3, \"table\": 58.0, \"price\": 485, \"x\": 3.99, \"y\": 4.03, \"z\": 2.46, \"model\": \"gb\", \"pred\": 536.6320414721472}, {\"carat\": 1.08, \"cut\": \"Ideal\", \"color\": \"H\", \"clarity\": \"SI2\", \"depth\": 62.1, \"table\": 56.0, \"price\": 4344, \"x\": 6.54, \"y\": 6.6, \"z\": 4.08, \"model\": \"gb\", \"pred\": 4582.41781554897}, {\"carat\": 0.55, \"cut\": \"Ideal\", \"color\": \"G\", \"clarity\": \"SI1\", \"depth\": 61.7, \"table\": 58.0, \"price\": 1417, \"x\": 5.27, \"y\": 5.29, \"z\": 3.26, \"model\": \"lm\", \"pred\": 1590.3116187133828}, {\"carat\": 0.81, \"cut\": \"Very Good\", \"color\": \"I\", \"clarity\": \"SI1\", \"depth\": 60.3, \"table\": 58.0, \"price\": 2701, \"x\": 6.0, \"y\": 6.04, \"z\": 3.63, \"model\": \"gb\", \"pred\": 2506.495018380365}, {\"carat\": 1.51, \"cut\": \"Very Good\", \"color\": \"I\", \"clarity\": \"SI2\", \"depth\": 60.6, \"table\": 60.2, \"price\": 7441, \"x\": 7.32, \"y\": 7.37, \"z\": 4.45, \"model\": \"lm\", \"pred\": 8089.617418619021}, {\"carat\": 0.56, \"cut\": \"Ideal\", \"color\": \"F\", \"clarity\": \"VS2\", \"depth\": 62.6, \"table\": 56.0, \"price\": 1761, \"x\": 5.28, \"y\": 5.3, \"z\": 3.31, \"model\": \"gb\", \"pred\": 1738.9438570548284}, {\"carat\": 0.27, \"cut\": \"Ideal\", \"color\": \"H\", \"clarity\": \"VS2\", \"depth\": 61.8, \"table\": 56.0, \"price\": 599, \"x\": 4.15, \"y\": 4.17, \"z\": 2.57, \"model\": \"gb\", \"pred\": 466.00458002569803}, {\"carat\": 0.42, \"cut\": \"Ideal\", \"color\": \"G\", \"clarity\": \"VVS1\", \"depth\": 62.0, \"table\": 56.0, \"price\": 1179, \"x\": 4.81, \"y\": 4.84, \"z\": 2.99, \"model\": \"lm\", \"pred\": 1933.4545216203526}, {\"carat\": 0.44, \"cut\": \"Ideal\", \"color\": \"E\", \"clarity\": \"VVS2\", \"depth\": 60.7, \"table\": 57.0, \"price\": 1334, \"x\": 4.92, \"y\": 4.9, \"z\": 2.98, \"model\": \"lm\", \"pred\": 2300.865918962535}, {\"carat\": 0.34, \"cut\": \"Ideal\", \"color\": \"I\", \"clarity\": \"VVS1\", \"depth\": 61.8, \"table\": 56.0, \"price\": 626, \"x\": 4.47, \"y\": 4.5, \"z\": 2.77, \"model\": \"gb\", \"pred\": 721.1802901240503}, {\"carat\": 0.5, \"cut\": \"Premium\", \"color\": \"E\", \"clarity\": \"SI2\", \"depth\": 61.8, \"table\": 59.0, \"price\": 1181, \"x\": 5.07, \"y\": 5.03, \"z\": 3.12, \"model\": \"gb\", \"pred\": 1131.1014175560765}, {\"carat\": 0.4, \"cut\": \"Ideal\", \"color\": \"E\", \"clarity\": \"VVS1\", \"depth\": 61.3, \"table\": 56.0, \"price\": 1778, \"x\": 4.75, \"y\": 4.78, \"z\": 2.92, \"model\": \"lm\", \"pred\": 2050.248998641443}, {\"carat\": 1.17, \"cut\": \"Fair\", \"color\": \"H\", \"clarity\": \"SI2\", \"depth\": 60.0, \"table\": 66.0, \"price\": 4717, \"x\": 6.86, \"y\": 6.78, \"z\": 4.09, \"model\": \"lm\", \"pred\": 4681.220957949498}, {\"carat\": 0.32, \"cut\": \"Ideal\", \"color\": \"F\", \"clarity\": \"VS1\", \"depth\": 61.3, \"table\": 55.0, \"price\": 725, \"x\": 4.4, \"y\": 4.44, \"z\": 2.71, \"model\": \"lm\", \"pred\": 710.582461420473}, {\"carat\": 1.14, \"cut\": \"Very Good\", \"color\": \"G\", \"clarity\": \"VS2\", \"depth\": 63.2, \"table\": 56.0, \"price\": 6435, \"x\": 6.67, \"y\": 6.63, \"z\": 4.2, \"model\": \"gb\", \"pred\": 6560.991667017943}, {\"carat\": 0.73, \"cut\": \"Ideal\", \"color\": \"H\", \"clarity\": \"VS2\", \"depth\": 62.5, \"table\": 58.0, \"price\": 2752, \"x\": 5.71, \"y\": 5.75, \"z\": 3.58, \"model\": \"gb\", \"pred\": 2711.723740167587}, {\"carat\": 0.33, \"cut\": \"Ideal\", \"color\": \"F\", \"clarity\": \"VVS1\", \"depth\": 62.5, \"table\": 54.0, \"price\": 880, \"x\": 4.43, \"y\": 4.46, \"z\": 2.78, \"model\": \"lm\", \"pred\": 1336.5924256539574}, {\"carat\": 1.01, \"cut\": \"Good\", \"color\": \"D\", \"clarity\": \"VS1\", \"depth\": 64.1, \"table\": 55.0, \"price\": 8339, \"x\": 6.29, \"y\": 6.38, \"z\": 4.06, \"model\": \"gb\", \"pred\": 7590.763868939734}, {\"carat\": 1.01, \"cut\": \"Ideal\", \"color\": \"E\", \"clarity\": \"SI1\", \"depth\": 59.8, \"table\": 60.0, \"price\": 5751, \"x\": 6.56, \"y\": 6.48, \"z\": 3.9, \"model\": \"lm\", \"pred\": 5972.447959336084}, {\"carat\": 0.83, \"cut\": \"Very Good\", \"color\": \"H\", \"clarity\": \"VS2\", \"depth\": 61.7, \"table\": 59.0, \"price\": 3249, \"x\": 5.95, \"y\": 6.02, \"z\": 3.69, \"model\": \"gb\", \"pred\": 3095.2751166686853}, {\"carat\": 0.31, \"cut\": \"Ideal\", \"color\": \"E\", \"clarity\": \"VVS1\", \"depth\": 61.7, \"table\": 56.0, \"price\": 853, \"x\": 4.38, \"y\": 4.4, \"z\": 2.71, \"model\": \"lm\", \"pred\": 1250.4973992161422}, {\"carat\": 0.3, \"cut\": \"Ideal\", \"color\": \"J\", \"clarity\": \"VVS2\", \"depth\": 62.3, \"table\": 58.0, \"price\": 439, \"x\": 4.26, \"y\": 4.28, \"z\": 2.66, \"model\": \"lm\", \"pred\": -1056.7320034645697}, {\"carat\": 1.1, \"cut\": \"Very Good\", \"color\": \"G\", \"clarity\": \"VVS2\", \"depth\": 60.5, \"table\": 55.7, \"price\": 9050, \"x\": 6.7, \"y\": 6.76, \"z\": 4.07, \"model\": \"lm\", \"pred\": 7721.656366101381}, {\"carat\": 0.24, \"cut\": \"Ideal\", \"color\": \"I\", \"clarity\": \"VS1\", \"depth\": 62.0, \"table\": 56.0, \"price\": 432, \"x\": 4.0, \"y\": 4.01, \"z\": 2.48, \"model\": \"lm\", \"pred\": -1137.299718505481}, {\"carat\": 0.72, \"cut\": \"Premium\", \"color\": \"I\", \"clarity\": \"VS2\", \"depth\": 60.9, \"table\": 60.0, \"price\": 2216, \"x\": 5.76, \"y\": 5.8, \"z\": 3.52, \"model\": \"gb\", \"pred\": 2316.4364991808748}, {\"carat\": 0.72, \"cut\": \"Premium\", \"color\": \"D\", \"clarity\": \"SI1\", \"depth\": 61.4, \"table\": 59.0, \"price\": 2954, \"x\": 5.71, \"y\": 5.79, \"z\": 3.53, \"model\": \"lm\", \"pred\": 3478.2945295315576}, {\"carat\": 0.77, \"cut\": \"Premium\", \"color\": \"G\", \"clarity\": \"SI2\", \"depth\": 61.9, \"table\": 59.0, \"price\": 2391, \"x\": 5.88, \"y\": 5.84, \"z\": 3.63, \"model\": \"gb\", \"pred\": 2322.8256660631364}, {\"carat\": 1.5, \"cut\": \"Ideal\", \"color\": \"I\", \"clarity\": \"VS2\", \"depth\": 60.0, \"table\": 61.0, \"price\": 9827, \"x\": 7.39, \"y\": 7.42, \"z\": 4.44, \"model\": \"lm\", \"pred\": 9742.1728058587}, {\"carat\": 1.01, \"cut\": \"Premium\", \"color\": \"H\", \"clarity\": \"VS2\", \"depth\": 61.2, \"table\": 59.0, \"price\": 4959, \"x\": 6.45, \"y\": 6.47, \"z\": 3.95, \"model\": \"gb\", \"pred\": 5282.144047083004}, {\"carat\": 0.51, \"cut\": \"Very Good\", \"color\": \"H\", \"clarity\": \"VS1\", \"depth\": 60.7, \"table\": 56.0, \"price\": 1628, \"x\": 5.18, \"y\": 5.21, \"z\": 3.16, \"model\": \"lm\", \"pred\": 1574.0217561935578}, {\"carat\": 0.9, \"cut\": \"Ideal\", \"color\": \"I\", \"clarity\": \"VS1\", \"depth\": 62.9, \"table\": 58.0, \"price\": 3867, \"x\": 6.13, \"y\": 6.18, \"z\": 3.87, \"model\": \"gb\", \"pred\": 3768.640009412213}, {\"carat\": 0.53, \"cut\": \"Ideal\", \"color\": \"G\", \"clarity\": \"SI1\", \"depth\": 61.0, \"table\": 55.0, \"price\": 1439, \"x\": 5.23, \"y\": 5.26, \"z\": 3.2, \"model\": \"lm\", \"pred\": 1412.5890410633153}, {\"carat\": 0.36, \"cut\": \"Ideal\", \"color\": \"D\", \"clarity\": \"SI1\", \"depth\": 62.7, \"table\": 57.0, \"price\": 851, \"x\": 4.59, \"y\": 4.54, \"z\": 2.86, \"model\": \"lm\", \"pred\": 408.1466670783766}, {\"carat\": 0.32, \"cut\": \"Premium\", \"color\": \"G\", \"clarity\": \"IF\", \"depth\": 61.0, \"table\": 59.0, \"price\": 891, \"x\": 4.38, \"y\": 4.41, \"z\": 2.68, \"model\": \"lm\", \"pred\": 1263.6022977507027}, {\"carat\": 0.51, \"cut\": \"Ideal\", \"color\": \"D\", \"clarity\": \"VS2\", \"depth\": 62.1, \"table\": 56.0, \"price\": 1882, \"x\": 5.16, \"y\": 5.11, \"z\": 3.19, \"model\": \"gb\", \"pred\": 1830.379787585835}, {\"carat\": 0.33, \"cut\": \"Premium\", \"color\": \"D\", \"clarity\": \"VS2\", \"depth\": 61.1, \"table\": 56.0, \"price\": 1069, \"x\": 4.54, \"y\": 4.5, \"z\": 2.76, \"model\": \"lm\", \"pred\": 656.8453799891604}, {\"carat\": 0.4, \"cut\": \"Ideal\", \"color\": \"G\", \"clarity\": \"IF\", \"depth\": 62.3, \"table\": 55.0, \"price\": 1229, \"x\": 4.74, \"y\": 4.76, \"z\": 2.96, \"model\": \"lm\", \"pred\": 2103.3511435989976}, {\"carat\": 1.16, \"cut\": \"Ideal\", \"color\": \"H\", \"clarity\": \"SI2\", \"depth\": 61.9, \"table\": 56.0, \"price\": 4797, \"x\": 6.73, \"y\": 6.77, \"z\": 4.18, \"model\": \"lm\", \"pred\": 5590.6141074504}, {\"carat\": 2.01, \"cut\": \"Fair\", \"color\": \"F\", \"clarity\": \"I1\", \"depth\": 58.7, \"table\": 66.0, \"price\": 7294, \"x\": 8.3, \"y\": 8.19, \"z\": 4.84, \"model\": \"lm\", \"pred\": 10195.006864947885}, {\"carat\": 0.44, \"cut\": \"Ideal\", \"color\": \"I\", \"clarity\": \"VS1\", \"depth\": 61.1, \"table\": 56.0, \"price\": 807, \"x\": 4.92, \"y\": 4.96, \"z\": 3.02, \"model\": \"lm\", \"pred\": 639.9260579951897}, {\"carat\": 0.57, \"cut\": \"Ideal\", \"color\": \"G\", \"clarity\": \"VS2\", \"depth\": 60.7, \"table\": 55.0, \"price\": 1613, \"x\": 5.41, \"y\": 5.39, \"z\": 3.28, \"model\": \"lm\", \"pred\": 2412.175310997361}, {\"carat\": 0.4, \"cut\": \"Ideal\", \"color\": \"F\", \"clarity\": \"VVS1\", \"depth\": 61.1, \"table\": 56.0, \"price\": 1908, \"x\": 4.78, \"y\": 4.81, \"z\": 2.93, \"model\": \"lm\", \"pred\": 1958.621447429191}, {\"carat\": 0.97, \"cut\": \"Ideal\", \"color\": \"H\", \"clarity\": \"VS2\", \"depth\": 62.9, \"table\": 56.0, \"price\": 4943, \"x\": 6.35, \"y\": 6.31, \"z\": 3.98, \"model\": \"lm\", \"pred\": 5494.128735197265}, {\"carat\": 0.52, \"cut\": \"Good\", \"color\": \"F\", \"clarity\": \"VS1\", \"depth\": 61.0, \"table\": 61.0, \"price\": 1419, \"x\": 5.22, \"y\": 5.17, \"z\": 3.17, \"model\": \"gb\", \"pred\": 1772.6269511400228}, {\"carat\": 1.01, \"cut\": \"Good\", \"color\": \"J\", \"clarity\": \"VS1\", \"depth\": 60.4, \"table\": 64.0, \"price\": 4129, \"x\": 6.48, \"y\": 6.44, \"z\": 3.9, \"model\": \"lm\", \"pred\": 4477.61207262142}, {\"carat\": 0.34, \"cut\": \"Ideal\", \"color\": \"G\", \"clarity\": \"VS2\", \"depth\": 62.1, \"table\": 57.0, \"price\": 596, \"x\": 4.46, \"y\": 4.5, \"z\": 2.78, \"model\": \"lm\", \"pred\": 368.36566802158995}, {\"carat\": 1.51, \"cut\": \"Very Good\", \"color\": \"I\", \"clarity\": \"SI1\", \"depth\": 62.6, \"table\": 60.0, \"price\": 8637, \"x\": 7.27, \"y\": 7.34, \"z\": 4.57, \"model\": \"gb\", \"pred\": 8630.311901132014}, {\"carat\": 0.52, \"cut\": \"Ideal\", \"color\": \"D\", \"clarity\": \"VS2\", \"depth\": 61.7, \"table\": 56.0, \"price\": 1919, \"x\": 5.18, \"y\": 5.16, \"z\": 3.19, \"model\": \"lm\", \"pred\": 2474.0684029128233}, {\"carat\": 0.3, \"cut\": \"Very Good\", \"color\": \"I\", \"clarity\": \"IF\", \"depth\": 63.3, \"table\": 57.0, \"price\": 810, \"x\": 4.3, \"y\": 4.23, \"z\": 2.7, \"model\": \"gb\", \"pred\": 749.8035735477665}, {\"carat\": 0.54, \"cut\": \"Very Good\", \"color\": \"D\", \"clarity\": \"VS2\", \"depth\": 61.7, \"table\": 58.0, \"price\": 1892, \"x\": 5.16, \"y\": 5.24, \"z\": 3.21, \"model\": \"gb\", \"pred\": 1812.383619166116}, {\"carat\": 0.53, \"cut\": \"Ideal\", \"color\": \"G\", \"clarity\": \"VVS2\", \"depth\": 61.9, \"table\": 54.0, \"price\": 1867, \"x\": 5.2, \"y\": 5.23, \"z\": 3.23, \"model\": \"lm\", \"pred\": 2806.10046371668}, {\"carat\": 0.26, \"cut\": \"Very Good\", \"color\": \"F\", \"clarity\": \"VS1\", \"depth\": 60.5, \"table\": 59.0, \"price\": 453, \"x\": 4.12, \"y\": 4.18, \"z\": 2.51, \"model\": \"lm\", \"pred\": 27.87716782806183}, {\"carat\": 1.13, \"cut\": \"Ideal\", \"color\": \"H\", \"clarity\": \"SI1\", \"depth\": 62.3, \"table\": 56.0, \"price\": 5384, \"x\": 6.66, \"y\": 6.69, \"z\": 4.16, \"model\": \"gb\", \"pred\": 5480.5655431688265}, {\"carat\": 0.41, \"cut\": \"Ideal\", \"color\": \"D\", \"clarity\": \"VVS2\", \"depth\": 61.1, \"table\": 56.0, \"price\": 1181, \"x\": 4.81, \"y\": 4.78, \"z\": 2.93, \"model\": \"gb\", \"pred\": 1313.824839653584}, {\"carat\": 1.13, \"cut\": \"Premium\", \"color\": \"G\", \"clarity\": \"VS2\", \"depth\": 62.5, \"table\": 58.0, \"price\": 6743, \"x\": 6.69, \"y\": 6.59, \"z\": 4.15, \"model\": \"lm\", \"pred\": 7259.54894995121}, {\"carat\": 0.53, \"cut\": \"Good\", \"color\": \"H\", \"clarity\": \"IF\", \"depth\": 61.2, \"table\": 65.0, \"price\": 1440, \"x\": 5.16, \"y\": 5.27, \"z\": 3.19, \"model\": \"lm\", \"pred\": 2443.5627794610145}, {\"carat\": 0.3, \"cut\": \"Fair\", \"color\": \"F\", \"clarity\": \"VS2\", \"depth\": 64.5, \"table\": 55.0, \"price\": 662, \"x\": 4.31, \"y\": 4.19, \"z\": 2.74, \"model\": \"gb\", \"pred\": 681.4804839022895}, {\"carat\": 0.31, \"cut\": \"Ideal\", \"color\": \"H\", \"clarity\": \"VS2\", \"depth\": 62.2, \"table\": 55.0, \"price\": 489, \"x\": 4.35, \"y\": 4.37, \"z\": 2.71, \"model\": \"lm\", \"pred\": -370.7163272549478}, {\"carat\": 1.01, \"cut\": \"Very Good\", \"color\": \"E\", \"clarity\": \"VVS2\", \"depth\": 63.1, \"table\": 57.0, \"price\": 8849, \"x\": 6.31, \"y\": 6.39, \"z\": 4.01, \"model\": \"gb\", \"pred\": 9261.015990781269}, {\"carat\": 0.5, \"cut\": \"Ideal\", \"color\": \"H\", \"clarity\": \"VS1\", \"depth\": 61.1, \"table\": 56.0, \"price\": 1637, \"x\": 5.1, \"y\": 5.14, \"z\": 3.13, \"model\": \"lm\", \"pred\": 1634.6980280107337}, {\"carat\": 0.7, \"cut\": \"Premium\", \"color\": \"E\", \"clarity\": \"VS1\", \"depth\": 59.6, \"table\": 57.0, \"price\": 2818, \"x\": 5.91, \"y\": 5.83, \"z\": 3.5, \"model\": \"lm\", \"pred\": 4050.080452735971}, {\"carat\": 1.53, \"cut\": \"Ideal\", \"color\": \"F\", \"clarity\": \"VS1\", \"depth\": 61.5, \"table\": 59.0, \"price\": 15592, \"x\": 7.38, \"y\": 7.46, \"z\": 4.56, \"model\": \"gb\", \"pred\": 16867.59563639704}, {\"carat\": 0.32, \"cut\": \"Ideal\", \"color\": \"D\", \"clarity\": \"VS2\", \"depth\": 61.5, \"table\": 55.0, \"price\": 808, \"x\": 4.43, \"y\": 4.45, \"z\": 2.73, \"model\": \"gb\", \"pred\": 820.4450828723116}, {\"carat\": 0.32, \"cut\": \"Very Good\", \"color\": \"H\", \"clarity\": \"VS2\", \"depth\": 63.1, \"table\": 55.0, \"price\": 648, \"x\": 4.36, \"y\": 4.33, \"z\": 2.74, \"model\": \"lm\", \"pred\": -431.39259907212363}, {\"carat\": 1.5, \"cut\": \"Ideal\", \"color\": \"H\", \"clarity\": \"VS1\", \"depth\": 61.3, \"table\": 55.0, \"price\": 10080, \"x\": 7.37, \"y\": 7.34, \"z\": 4.51, \"model\": \"gb\", \"pred\": 11256.073900586365}, {\"carat\": 1.05, \"cut\": \"Ideal\", \"color\": \"D\", \"clarity\": \"SI1\", \"depth\": 60.0, \"table\": 55.0, \"price\": 5104, \"x\": 6.66, \"y\": 6.61, \"z\": 3.98, \"model\": \"lm\", \"pred\": 6539.575596005691}, {\"carat\": 1.7, \"cut\": \"Ideal\", \"color\": \"J\", \"clarity\": \"VS1\", \"depth\": 60.9, \"table\": 58.0, \"price\": 10589, \"x\": 7.73, \"y\": 7.68, \"z\": 4.69, \"model\": \"lm\", \"pred\": 10951.527991610717}, {\"carat\": 0.41, \"cut\": \"Premium\", \"color\": \"E\", \"clarity\": \"SI1\", \"depth\": 61.0, \"table\": 59.0, \"price\": 755, \"x\": 4.78, \"y\": 4.82, \"z\": 2.93, \"model\": \"lm\", \"pred\": 511.91209458604413}, {\"carat\": 0.32, \"cut\": \"Ideal\", \"color\": \"E\", \"clarity\": \"VVS2\", \"depth\": 61.2, \"table\": 57.0, \"price\": 729, \"x\": 4.38, \"y\": 4.41, \"z\": 2.69, \"model\": \"gb\", \"pred\": 843.2917496153592}, {\"carat\": 0.87, \"cut\": \"Very Good\", \"color\": \"J\", \"clarity\": \"SI1\", \"depth\": 61.4, \"table\": 57.0, \"price\": 2300, \"x\": 6.14, \"y\": 6.17, \"z\": 3.78, \"model\": \"gb\", \"pred\": 2630.3104862278765}, {\"carat\": 0.71, \"cut\": \"Ideal\", \"color\": \"D\", \"clarity\": \"SI2\", \"depth\": 61.0, \"table\": 56.0, \"price\": 2505, \"x\": 5.77, \"y\": 5.8, \"z\": 3.53, \"model\": \"lm\", \"pred\": 2570.5537751659585}, {\"carat\": 0.25, \"cut\": \"Very Good\", \"color\": \"D\", \"clarity\": \"VVS2\", \"depth\": 63.0, \"table\": 56.0, \"price\": 512, \"x\": 3.98, \"y\": 4.02, \"z\": 2.52, \"model\": \"gb\", \"pred\": 595.0991263120873}, {\"carat\": 1.0, \"cut\": \"Fair\", \"color\": \"F\", \"clarity\": \"I1\", \"depth\": 68.0, \"table\": 57.0, \"price\": 2280, \"x\": 6.14, \"y\": 6.05, \"z\": 4.15, \"model\": \"gb\", \"pred\": 2272.3423207848305}, {\"carat\": 1.11, \"cut\": \"Ideal\", \"color\": \"I\", \"clarity\": \"VS2\", \"depth\": 61.7, \"table\": 55.0, \"price\": 5506, \"x\": 6.66, \"y\": 6.69, \"z\": 4.12, \"model\": \"gb\", \"pred\": 5521.131506639204}, {\"carat\": 2.0, \"cut\": \"Very Good\", \"color\": \"J\", \"clarity\": \"SI1\", \"depth\": 62.2, \"table\": 59.0, \"price\": 12196, \"x\": 7.92, \"y\": 7.97, \"z\": 4.94, \"model\": \"gb\", \"pred\": 12390.087805701904}, {\"carat\": 1.51, \"cut\": \"Ideal\", \"color\": \"E\", \"clarity\": \"VS2\", \"depth\": 59.8, \"table\": 59.0, \"price\": 13986, \"x\": 7.55, \"y\": 7.47, \"z\": 4.49, \"model\": \"lm\", \"pred\": 11059.653515221673}, {\"carat\": 1.21, \"cut\": \"Very Good\", \"color\": \"I\", \"clarity\": \"SI1\", \"depth\": 62.9, \"table\": 55.0, \"price\": 5452, \"x\": 6.69, \"y\": 6.76, \"z\": 4.23, \"model\": \"lm\", \"pred\": 6371.516754656606}, {\"carat\": 0.51, \"cut\": \"Very Good\", \"color\": \"F\", \"clarity\": \"VS2\", \"depth\": 63.0, \"table\": 57.0, \"price\": 1423, \"x\": 5.05, \"y\": 5.11, \"z\": 3.2, \"model\": \"lm\", \"pred\": 1932.359520863857}, {\"carat\": 0.31, \"cut\": \"Ideal\", \"color\": \"D\", \"clarity\": \"VS2\", \"depth\": 61.6, \"table\": 55.0, \"price\": 942, \"x\": 4.37, \"y\": 4.36, \"z\": 2.69, \"model\": \"lm\", \"pred\": 607.9813375871199}, {\"carat\": 0.33, \"cut\": \"Ideal\", \"color\": \"I\", \"clarity\": \"SI1\", \"depth\": 61.5, \"table\": 57.0, \"price\": 572, \"x\": 4.49, \"y\": 4.46, \"z\": 2.75, \"model\": \"gb\", \"pred\": 502.54810491078246}, {\"carat\": 0.39, \"cut\": \"Premium\", \"color\": \"E\", \"clarity\": \"VS1\", \"depth\": 58.8, \"table\": 59.0, \"price\": 1097, \"x\": 4.76, \"y\": 4.73, \"z\": 2.79, \"model\": \"gb\", \"pred\": 1038.171780514202}, {\"carat\": 0.9, \"cut\": \"Ideal\", \"color\": \"F\", \"clarity\": \"SI1\", \"depth\": 62.2, \"table\": 55.0, \"price\": 4390, \"x\": 6.16, \"y\": 6.21, \"z\": 3.85, \"model\": \"gb\", \"pred\": 4440.594106509951}, {\"carat\": 1.01, \"cut\": \"Very Good\", \"color\": \"G\", \"clarity\": \"SI2\", \"depth\": 61.8, \"table\": 58.0, \"price\": 3966, \"x\": 6.36, \"y\": 6.39, \"z\": 3.94, \"model\": \"lm\", \"pred\": 4580.6553432341225}, {\"carat\": 1.25, \"cut\": \"Ideal\", \"color\": \"H\", \"clarity\": \"SI2\", \"depth\": 62.7, \"table\": 56.0, \"price\": 5670, \"x\": 6.92, \"y\": 6.87, \"z\": 4.32, \"model\": \"gb\", \"pred\": 5742.213481541394}, {\"carat\": 0.46, \"cut\": \"Ideal\", \"color\": \"G\", \"clarity\": \"IF\", \"depth\": 60.9, \"table\": 57.0, \"price\": 1560, \"x\": 4.98, \"y\": 5.01, \"z\": 3.04, \"model\": \"lm\", \"pred\": 2636.5188765491994}, {\"carat\": 0.7, \"cut\": \"Very Good\", \"color\": \"F\", \"clarity\": \"VS2\", \"depth\": 62.4, \"table\": 59.0, \"price\": 2400, \"x\": 5.64, \"y\": 5.71, \"z\": 3.54, \"model\": \"gb\", \"pred\": 2728.172075600966}, {\"carat\": 0.73, \"cut\": \"Ideal\", \"color\": \"H\", \"clarity\": \"VS2\", \"depth\": 61.4, \"table\": 55.0, \"price\": 3164, \"x\": 5.79, \"y\": 5.82, \"z\": 3.56, \"model\": \"gb\", \"pred\": 2859.2974719029357}, {\"carat\": 1.01, \"cut\": \"Very Good\", \"color\": \"D\", \"clarity\": \"SI1\", \"depth\": 60.8, \"table\": 57.0, \"price\": 5386, \"x\": 6.58, \"y\": 6.54, \"z\": 3.99, \"model\": \"lm\", \"pred\": 6034.592880063347}, {\"carat\": 0.25, \"cut\": \"Very Good\", \"color\": \"E\", \"clarity\": \"VVS1\", \"depth\": 62.9, \"table\": 59.0, \"price\": 576, \"x\": 3.99, \"y\": 4.02, \"z\": 2.52, \"model\": \"gb\", \"pred\": 575.8178397278739}, {\"carat\": 1.0, \"cut\": \"Good\", \"color\": \"G\", \"clarity\": \"SI1\", \"depth\": 62.2, \"table\": 63.0, \"price\": 5483, \"x\": 6.36, \"y\": 6.41, \"z\": 3.97, \"model\": \"gb\", \"pred\": 4678.9162869482725}, {\"carat\": 1.03, \"cut\": \"Ideal\", \"color\": \"F\", \"clarity\": \"I1\", \"depth\": 61.0, \"table\": 56.0, \"price\": 3634, \"x\": 6.58, \"y\": 6.52, \"z\": 3.99, \"model\": \"gb\", \"pred\": 3546.8068458537077}, {\"carat\": 1.01, \"cut\": \"Good\", \"color\": \"D\", \"clarity\": \"SI2\", \"depth\": 63.9, \"table\": 57.0, \"price\": 4588, \"x\": 6.29, \"y\": 6.36, \"z\": 4.04, \"model\": \"lm\", \"pred\": 4893.905449854982}, {\"carat\": 0.38, \"cut\": \"Premium\", \"color\": \"F\", \"clarity\": \"VS1\", \"depth\": 62.7, \"table\": 57.0, \"price\": 1101, \"x\": 4.71, \"y\": 4.64, \"z\": 2.93, \"model\": \"lm\", \"pred\": 1114.8916591226468}, {\"carat\": 0.31, \"cut\": \"Ideal\", \"color\": \"F\", \"clarity\": \"VVS1\", \"depth\": 60.7, \"table\": 57.0, \"price\": 1140, \"x\": 4.41, \"y\": 4.39, \"z\": 2.67, \"model\": \"lm\", \"pred\": 1158.8698480038902}, {\"carat\": 0.65, \"cut\": \"Ideal\", \"color\": \"F\", \"clarity\": \"VS1\", \"depth\": 62.2, \"table\": 57.0, \"price\": 2340, \"x\": 5.6, \"y\": 5.53, \"z\": 3.46, \"model\": \"gb\", \"pred\": 2518.569804518155}, {\"carat\": 0.9, \"cut\": \"Premium\", \"color\": \"E\", \"clarity\": \"SI1\", \"depth\": 61.6, \"table\": 57.0, \"price\": 4385, \"x\": 6.25, \"y\": 6.19, \"z\": 3.83, \"model\": \"lm\", \"pred\": 4866.115247012686}, {\"carat\": 0.25, \"cut\": \"Ideal\", \"color\": \"H\", \"clarity\": \"SI1\", \"depth\": 62.8, \"table\": 54.0, \"price\": 357, \"x\": 4.05, \"y\": 4.07, \"z\": 2.55, \"model\": \"gb\", \"pred\": 418.1430315160165}, {\"carat\": 0.55, \"cut\": \"Ideal\", \"color\": \"F\", \"clarity\": \"VS2\", \"depth\": 61.4, \"table\": 57.0, \"price\": 1865, \"x\": 5.29, \"y\": 5.25, \"z\": 3.24, \"model\": \"gb\", \"pred\": 1681.0421001125565}, {\"carat\": 0.34, \"cut\": \"Ideal\", \"color\": \"H\", \"clarity\": \"VVS2\", \"depth\": 61.8, \"table\": 54.0, \"price\": 880, \"x\": 4.49, \"y\": 4.47, \"z\": 2.77, \"model\": \"gb\", \"pred\": 753.4230390250655}, {\"carat\": 0.41, \"cut\": \"Ideal\", \"color\": \"G\", \"clarity\": \"VVS2\", \"depth\": 60.9, \"table\": 56.0, \"price\": 960, \"x\": 4.81, \"y\": 4.84, \"z\": 2.94, \"model\": \"lm\", \"pred\": 1739.7649978162765}, {\"carat\": 0.78, \"cut\": \"Premium\", \"color\": \"E\", \"clarity\": \"VS2\", \"depth\": 62.8, \"table\": 60.0, \"price\": 3494, \"x\": 5.86, \"y\": 5.79, \"z\": 3.66, \"model\": \"lm\", \"pred\": 4443.920895746197}, {\"carat\": 0.3, \"cut\": \"Very Good\", \"color\": \"G\", \"clarity\": \"VVS2\", \"depth\": 62.3, \"table\": 59.0, \"price\": 684, \"x\": 4.25, \"y\": 4.29, \"z\": 2.66, \"model\": \"gb\", \"pred\": 683.4498704412457}, {\"carat\": 1.0, \"cut\": \"Premium\", \"color\": \"I\", \"clarity\": \"VS2\", \"depth\": 62.7, \"table\": 62.0, \"price\": 3918, \"x\": 6.32, \"y\": 6.27, \"z\": 3.95, \"model\": \"gb\", \"pred\": 4228.839550995404}, {\"carat\": 1.08, \"cut\": \"Very Good\", \"color\": \"G\", \"clarity\": \"SI2\", \"depth\": 62.9, \"table\": 59.0, \"price\": 4544, \"x\": 6.53, \"y\": 6.57, \"z\": 4.12, \"model\": \"lm\", \"pred\": 5202.684365009361}, {\"carat\": 0.72, \"cut\": \"Ideal\", \"color\": \"I\", \"clarity\": \"VVS2\", \"depth\": 62.5, \"table\": 56.0, \"price\": 2594, \"x\": 5.71, \"y\": 5.74, \"z\": 3.58, \"model\": \"gb\", \"pred\": 2574.0649851883272}, {\"carat\": 1.03, \"cut\": \"Fair\", \"color\": \"G\", \"clarity\": \"SI1\", \"depth\": 64.7, \"table\": 63.0, \"price\": 4424, \"x\": 6.36, \"y\": 6.31, \"z\": 4.1, \"model\": \"gb\", \"pred\": 4404.551545358865}, {\"carat\": 0.33, \"cut\": \"Premium\", \"color\": \"G\", \"clarity\": \"VS2\", \"depth\": 61.3, \"table\": 59.0, \"price\": 743, \"x\": 4.46, \"y\": 4.44, \"z\": 2.73, \"model\": \"gb\", \"pred\": 717.956726821742}, {\"carat\": 0.32, \"cut\": \"Good\", \"color\": \"E\", \"clarity\": \"VS2\", \"depth\": 58.8, \"table\": 63.0, \"price\": 801, \"x\": 4.48, \"y\": 4.54, \"z\": 2.65, \"model\": \"gb\", \"pred\": 647.4810855352757}, {\"carat\": 0.38, \"cut\": \"Ideal\", \"color\": \"H\", \"clarity\": \"VS2\", \"depth\": 62.4, \"table\": 56.0, \"price\": 660, \"x\": 4.62, \"y\": 4.65, \"z\": 2.89, \"model\": \"gb\", \"pred\": 709.8704040978541}, {\"carat\": 0.7, \"cut\": \"Very Good\", \"color\": \"H\", \"clarity\": \"VS2\", \"depth\": 57.9, \"table\": 62.0, \"price\": 2508, \"x\": 5.8, \"y\": 5.9, \"z\": 3.39, \"model\": \"gb\", \"pred\": 2329.9786448382283}, {\"carat\": 2.66, \"cut\": \"Good\", \"color\": \"H\", \"clarity\": \"SI2\", \"depth\": 64.3, \"table\": 60.0, \"price\": 18495, \"x\": 8.71, \"y\": 8.65, \"z\": 5.58, \"model\": \"lm\", \"pred\": 18577.320441143453}, {\"carat\": 1.11, \"cut\": \"Premium\", \"color\": \"H\", \"clarity\": \"SI1\", \"depth\": 62.1, \"table\": 58.0, \"price\": 5102, \"x\": 6.6, \"y\": 6.57, \"z\": 4.09, \"model\": \"lm\", \"pred\": 5965.1871288657985}, {\"carat\": 1.03, \"cut\": \"Good\", \"color\": \"H\", \"clarity\": \"SI1\", \"depth\": 63.3, \"table\": 57.0, \"price\": 4843, \"x\": 6.39, \"y\": 6.41, \"z\": 4.05, \"model\": \"gb\", \"pred\": 4589.848274603157}, {\"carat\": 0.5, \"cut\": \"Premium\", \"color\": \"E\", \"clarity\": \"VS1\", \"depth\": 62.8, \"table\": 59.0, \"price\": 1775, \"x\": 5.09, \"y\": 5.0, \"z\": 3.17, \"model\": \"lm\", \"pred\": 2272.8546762353026}, {\"carat\": 0.54, \"cut\": \"Ideal\", \"color\": \"G\", \"clarity\": \"VS1\", \"depth\": 62.2, \"table\": 56.0, \"price\": 1760, \"x\": 5.23, \"y\": 5.19, \"z\": 3.24, \"model\": \"lm\", \"pred\": 2462.641312112305}, {\"carat\": 0.59, \"cut\": \"Premium\", \"color\": \"H\", \"clarity\": \"VS2\", \"depth\": 60.2, \"table\": 60.0, \"price\": 1590, \"x\": 5.45, \"y\": 5.42, \"z\": 3.27, \"model\": \"lm\", \"pred\": 1988.5412245979635}, {\"carat\": 0.24, \"cut\": \"Very Good\", \"color\": \"F\", \"clarity\": \"VVS1\", \"depth\": 58.7, \"table\": 59.0, \"price\": 552, \"x\": 4.04, \"y\": 4.1, \"z\": 2.39, \"model\": \"lm\", \"pred\": 387.3032655864454}, {\"carat\": 0.58, \"cut\": \"Ideal\", \"color\": \"E\", \"clarity\": \"VS2\", \"depth\": 61.7, \"table\": 57.0, \"price\": 1809, \"x\": 5.42, \"y\": 5.35, \"z\": 3.32, \"model\": \"gb\", \"pred\": 1920.8193524141307}, {\"carat\": 0.4, \"cut\": \"Ideal\", \"color\": \"G\", \"clarity\": \"VS1\", \"depth\": 61.3, \"table\": 55.0, \"price\": 1125, \"x\": 4.78, \"y\": 4.75, \"z\": 2.92, \"model\": \"lm\", \"pred\": 1218.583268561836}, {\"carat\": 1.51, \"cut\": \"Premium\", \"color\": \"J\", \"clarity\": \"SI1\", \"depth\": 59.9, \"table\": 60.0, \"price\": 7822, \"x\": 7.46, \"y\": 7.41, \"z\": 4.45, \"model\": \"gb\", \"pred\": 6867.636933877502}, {\"carat\": 1.5, \"cut\": \"Good\", \"color\": \"H\", \"clarity\": \"VS1\", \"depth\": 63.8, \"table\": 61.0, \"price\": 9878, \"x\": 7.17, \"y\": 7.12, \"z\": 4.56, \"model\": \"gb\", \"pred\": 9459.698569425285}, {\"carat\": 0.53, \"cut\": \"Ideal\", \"color\": \"I\", \"clarity\": \"VS1\", \"depth\": 62.3, \"table\": 56.0, \"price\": 1427, \"x\": 5.19, \"y\": 5.23, \"z\": 3.24, \"model\": \"lm\", \"pred\": 1439.6776574204916}, {\"carat\": 0.41, \"cut\": \"Premium\", \"color\": \"F\", \"clarity\": \"VVS2\", \"depth\": 61.6, \"table\": 59.0, \"price\": 951, \"x\": 4.73, \"y\": 4.79, \"z\": 2.93, \"model\": \"gb\", \"pred\": 1127.6345325658535}, {\"carat\": 0.78, \"cut\": \"Ideal\", \"color\": \"G\", \"clarity\": \"SI2\", \"depth\": 61.9, \"table\": 55.0, \"price\": 2240, \"x\": 5.91, \"y\": 5.94, \"z\": 3.67, \"model\": \"gb\", \"pred\": 2640.4413474450325}, {\"carat\": 1.0, \"cut\": \"Good\", \"color\": \"E\", \"clarity\": \"VS1\", \"depth\": 60.1, \"table\": 63.0, \"price\": 7556, \"x\": 6.42, \"y\": 6.45, \"z\": 3.87, \"model\": \"gb\", \"pred\": 7108.583129997036}, {\"carat\": 1.18, \"cut\": \"Good\", \"color\": \"D\", \"clarity\": \"SI2\", \"depth\": 60.7, \"table\": 63.0, \"price\": 5168, \"x\": 6.77, \"y\": 6.81, \"z\": 4.12, \"model\": \"lm\", \"pred\": 6404.547359880552}, {\"carat\": 1.06, \"cut\": \"Premium\", \"color\": \"E\", \"clarity\": \"VS2\", \"depth\": 62.3, \"table\": 58.0, \"price\": 6716, \"x\": 6.49, \"y\": 6.52, \"z\": 4.05, \"model\": \"lm\", \"pred\": 6932.036982847138}, {\"carat\": 0.26, \"cut\": \"Premium\", \"color\": \"E\", \"clarity\": \"VVS2\", \"depth\": 60.8, \"table\": 61.0, \"price\": 724, \"x\": 4.13, \"y\": 4.12, \"z\": 2.51, \"model\": \"lm\", \"pred\": 572.5041848639039}, {\"carat\": 2.18, \"cut\": \"Very Good\", \"color\": \"I\", \"clarity\": \"SI2\", \"depth\": 63.3, \"table\": 58.0, \"price\": 12220, \"x\": 8.22, \"y\": 8.18, \"z\": 5.19, \"model\": \"lm\", \"pred\": 14043.32376989627}, {\"carat\": 1.01, \"cut\": \"Very Good\", \"color\": \"H\", \"clarity\": \"VS2\", \"depth\": 63.2, \"table\": 58.0, \"price\": 5260, \"x\": 6.34, \"y\": 6.26, \"z\": 3.98, \"model\": \"lm\", \"pred\": 5700.03632985519}, {\"carat\": 1.15, \"cut\": \"Very Good\", \"color\": \"E\", \"clarity\": \"IF\", \"depth\": 59.2, \"table\": 57.0, \"price\": 12895, \"x\": 6.78, \"y\": 6.86, \"z\": 4.04, \"model\": \"lm\", \"pred\": 8912.92729950546}, {\"carat\": 0.29, \"cut\": \"Ideal\", \"color\": \"G\", \"clarity\": \"VS1\", \"depth\": 62.2, \"table\": 54.0, \"price\": 507, \"x\": 4.23, \"y\": 4.26, \"z\": 2.64, \"model\": \"lm\", \"pred\": 241.10909148646627}, {\"carat\": 1.41, \"cut\": \"Ideal\", \"color\": \"F\", \"clarity\": \"VVS1\", \"depth\": 61.1, \"table\": 57.0, \"price\": 16545, \"x\": 7.2, \"y\": 7.28, \"z\": 4.42, \"model\": \"gb\", \"pred\": 16971.511404507233}, {\"carat\": 0.81, \"cut\": \"Very Good\", \"color\": \"G\", \"clarity\": \"SI1\", \"depth\": 62.3, \"table\": 59.0, \"price\": 3095, \"x\": 5.93, \"y\": 5.98, \"z\": 3.71, \"model\": \"gb\", \"pred\": 2814.115182608969}, {\"carat\": 0.54, \"cut\": \"Ideal\", \"color\": \"G\", \"clarity\": \"VVS2\", \"depth\": 61.9, \"table\": 57.0, \"price\": 1981, \"x\": 5.22, \"y\": 5.25, \"z\": 3.24, \"model\": \"gb\", \"pred\": 1973.7332642661843}, {\"carat\": 0.59, \"cut\": \"Ideal\", \"color\": \"E\", \"clarity\": \"VS2\", \"depth\": 62.3, \"table\": 55.0, \"price\": 1968, \"x\": 5.35, \"y\": 5.38, \"z\": 3.34, \"model\": \"lm\", \"pred\": 2884.414943318588}, {\"carat\": 1.21, \"cut\": \"Very Good\", \"color\": \"H\", \"clarity\": \"VS1\", \"depth\": 62.4, \"table\": 60.0, \"price\": 7279, \"x\": 6.73, \"y\": 6.79, \"z\": 4.22, \"model\": \"gb\", \"pred\": 6969.697301746948}, {\"carat\": 0.34, \"cut\": \"Ideal\", \"color\": \"G\", \"clarity\": \"VVS2\", \"depth\": 62.4, \"table\": 53.0, \"price\": 751, \"x\": 4.49, \"y\": 4.52, \"z\": 2.81, \"model\": \"lm\", \"pred\": 1117.7359760410427}, {\"carat\": 1.06, \"cut\": \"Ideal\", \"color\": \"D\", \"clarity\": \"SI2\", \"depth\": 62.3, \"table\": 55.0, \"price\": 5253, \"x\": 6.54, \"y\": 6.5, \"z\": 4.06, \"model\": \"lm\", \"pred\": 5680.698884042134}, {\"carat\": 0.77, \"cut\": \"Very Good\", \"color\": \"D\", \"clarity\": \"VS1\", \"depth\": 62.4, \"table\": 58.0, \"price\": 3643, \"x\": 5.82, \"y\": 5.87, \"z\": 3.65, \"model\": \"lm\", \"pred\": 4863.112930486498}, {\"carat\": 1.01, \"cut\": \"Very Good\", \"color\": \"D\", \"clarity\": \"SI1\", \"depth\": 62.5, \"table\": 61.0, \"price\": 5832, \"x\": 6.34, \"y\": 6.4, \"z\": 3.98, \"model\": \"lm\", \"pred\": 6034.592880063347}, {\"carat\": 0.3, \"cut\": \"Ideal\", \"color\": \"G\", \"clarity\": \"VVS2\", \"depth\": 62.1, \"table\": 55.0, \"price\": 665, \"x\": 4.32, \"y\": 4.35, \"z\": 2.69, \"model\": \"lm\", \"pred\": 762.2908207409073}, {\"carat\": 0.7, \"cut\": \"Good\", \"color\": \"D\", \"clarity\": \"VS2\", \"depth\": 64.1, \"table\": 59.0, \"price\": 3033, \"x\": 5.56, \"y\": 5.49, \"z\": 3.54, \"model\": \"gb\", \"pred\": 2668.0865664441576}, {\"carat\": 0.7, \"cut\": \"Very Good\", \"color\": \"E\", \"clarity\": \"IF\", \"depth\": 60.3, \"table\": 59.0, \"price\": 4679, \"x\": 5.72, \"y\": 5.76, \"z\": 3.46, \"model\": \"gb\", \"pred\": 3819.183573598412}, {\"carat\": 0.76, \"cut\": \"Good\", \"color\": \"I\", \"clarity\": \"SI1\", \"depth\": 64.1, \"table\": 59.0, \"price\": 2016, \"x\": 5.75, \"y\": 5.73, \"z\": 3.68, \"model\": \"lm\", \"pred\": 2179.8093281103243}, {\"carat\": 0.27, \"cut\": \"Ideal\", \"color\": \"G\", \"clarity\": \"VVS2\", \"depth\": 62.8, \"table\": 56.0, \"price\": 641, \"x\": 4.12, \"y\": 4.16, \"z\": 2.6, \"model\": \"gb\", \"pred\": 591.8752367386099}, {\"carat\": 0.34, \"cut\": \"Very Good\", \"color\": \"E\", \"clarity\": \"VS2\", \"depth\": 62.7, \"table\": 56.0, \"price\": 696, \"x\": 4.48, \"y\": 4.51, \"z\": 2.82, \"model\": \"lm\", \"pred\": 513.3451620505393}, {\"carat\": 0.41, \"cut\": \"Ideal\", \"color\": \"H\", \"clarity\": \"VS2\", \"depth\": 61.7, \"table\": 56.0, \"price\": 1163, \"x\": 4.77, \"y\": 4.79, \"z\": 2.95, \"model\": \"gb\", \"pred\": 847.281724098741}, {\"carat\": 0.7, \"cut\": \"Very Good\", \"color\": \"I\", \"clarity\": \"SI1\", \"depth\": 62.7, \"table\": 56.0, \"price\": 1918, \"x\": 5.64, \"y\": 5.68, \"z\": 3.55, \"model\": \"lm\", \"pred\": 1839.591024579896}, {\"carat\": 1.13, \"cut\": \"Ideal\", \"color\": \"I\", \"clarity\": \"SI2\", \"depth\": 61.7, \"table\": 57.0, \"price\": 4307, \"x\": 6.59, \"y\": 6.7, \"z\": 4.13, \"model\": \"lm\", \"pred\": 4862.426003909956}, {\"carat\": 1.61, \"cut\": \"Ideal\", \"color\": \"E\", \"clarity\": \"SI2\", \"depth\": 63.0, \"table\": 60.0, \"price\": 11090, \"x\": 7.45, \"y\": 7.42, \"z\": 4.68, \"model\": \"gb\", \"pred\": 10245.720044428852}, {\"carat\": 0.77, \"cut\": \"Very Good\", \"color\": \"G\", \"clarity\": \"VS1\", \"depth\": 62.3, \"table\": 58.0, \"price\": 3240, \"x\": 5.82, \"y\": 5.86, \"z\": 3.64, \"model\": \"lm\", \"pred\": 4356.9133944458645}, {\"carat\": 0.52, \"cut\": \"Ideal\", \"color\": \"D\", \"clarity\": \"VS2\", \"depth\": 61.3, \"table\": 56.0, \"price\": 1822, \"x\": 5.15, \"y\": 5.2, \"z\": 3.17, \"model\": \"lm\", \"pred\": 2474.0684029128233}, {\"carat\": 0.53, \"cut\": \"Ideal\", \"color\": \"H\", \"clarity\": \"VVS1\", \"depth\": 61.6, \"table\": 54.0, \"price\": 1743, \"x\": 5.2, \"y\": 5.25, \"z\": 3.22, \"model\": \"gb\", \"pred\": 1884.0797218218415}, {\"carat\": 0.55, \"cut\": \"Ideal\", \"color\": \"E\", \"clarity\": \"SI1\", \"depth\": 61.4, \"table\": 55.0, \"price\": 1668, \"x\": 5.29, \"y\": 5.26, \"z\": 3.24, \"model\": \"lm\", \"pred\": 1884.8286733845407}, {\"carat\": 0.38, \"cut\": \"Ideal\", \"color\": \"E\", \"clarity\": \"VVS2\", \"depth\": 61.6, \"table\": 55.0, \"price\": 1100, \"x\": 4.63, \"y\": 4.66, \"z\": 2.86, \"model\": \"gb\", \"pred\": 1101.3496656517004}, {\"carat\": 1.22, \"cut\": \"Premium\", \"color\": \"F\", \"clarity\": \"VS2\", \"depth\": 59.8, \"table\": 59.0, \"price\": 8417, \"x\": 6.96, \"y\": 6.92, \"z\": 4.15, \"model\": \"gb\", \"pred\": 8653.419547686024}, {\"carat\": 0.3, \"cut\": \"Very Good\", \"color\": \"E\", \"clarity\": \"SI2\", \"depth\": 61.7, \"table\": 61.0, \"price\": 421, \"x\": 4.28, \"y\": 4.31, \"z\": 2.65, \"model\": \"lm\", \"pred\": -1433.9791086720982}, {\"carat\": 0.71, \"cut\": \"Ideal\", \"color\": \"E\", \"clarity\": \"VS2\", \"depth\": 61.1, \"table\": 56.0, \"price\": 3342, \"x\": 5.77, \"y\": 5.79, \"z\": 3.53, \"model\": \"lm\", \"pred\": 3950.7504092189893}, {\"carat\": 1.52, \"cut\": \"Very Good\", \"color\": \"E\", \"clarity\": \"SI1\", \"depth\": 63.5, \"table\": 58.0, \"price\": 11176, \"x\": 7.36, \"y\": 7.29, \"z\": 4.65, \"model\": \"gb\", \"pred\": 11795.508353694711}, {\"carat\": 1.58, \"cut\": \"Very Good\", \"color\": \"D\", \"clarity\": \"SI1\", \"depth\": 62.7, \"table\": 60.0, \"price\": 13869, \"x\": 7.37, \"y\": 7.41, \"z\": 4.63, \"model\": \"lm\", \"pred\": 11099.68634309026}, {\"carat\": 1.12, \"cut\": \"Very Good\", \"color\": \"G\", \"clarity\": \"SI1\", \"depth\": 59.5, \"table\": 62.0, \"price\": 5088, \"x\": 6.76, \"y\": 6.81, \"z\": 4.04, \"model\": \"gb\", \"pred\": 5492.470060369602}, {\"carat\": 0.51, \"cut\": \"Ideal\", \"color\": \"F\", \"clarity\": \"VVS2\", \"depth\": 61.8, \"table\": 56.0, \"price\": 2098, \"x\": 5.13, \"y\": 5.16, \"z\": 3.18, \"model\": \"lm\", \"pred\": 2831.267389525517}, {\"carat\": 1.02, \"cut\": \"Premium\", \"color\": \"H\", \"clarity\": \"VS2\", \"depth\": 61.2, \"table\": 58.0, \"price\": 5312, \"x\": 6.5, \"y\": 6.47, \"z\": 3.97, \"model\": \"lm\", \"pred\": 5809.576644074406}, {\"carat\": 0.56, \"cut\": \"Premium\", \"color\": \"E\", \"clarity\": \"SI1\", \"depth\": 62.5, \"table\": 59.0, \"price\": 1653, \"x\": 5.24, \"y\": 5.2, \"z\": 3.26, \"model\": \"gb\", \"pred\": 1625.3777388591755}, {\"carat\": 0.3, \"cut\": \"Premium\", \"color\": \"J\", \"clarity\": \"VS1\", \"depth\": 62.6, \"table\": 58.0, \"price\": 506, \"x\": 4.32, \"y\": 4.27, \"z\": 2.69, \"model\": \"gb\", \"pred\": 497.5950883265091}, {\"carat\": 1.03, \"cut\": \"Ideal\", \"color\": \"G\", \"clarity\": \"VS2\", \"depth\": 62.8, \"table\": 55.0, \"price\": 6645, \"x\": 6.48, \"y\": 6.44, \"z\": 4.05, \"model\": \"gb\", \"pred\": 6456.609455457558}, {\"carat\": 0.72, \"cut\": \"Ideal\", \"color\": \"J\", \"clarity\": \"VS1\", \"depth\": 62.3, \"table\": 55.0, \"price\": 1832, \"x\": 5.77, \"y\": 5.69, \"z\": 3.57, \"model\": \"gb\", \"pred\": 2145.6901200838824}, {\"carat\": 0.75, \"cut\": \"Fair\", \"color\": \"D\", \"clarity\": \"SI1\", \"depth\": 65.1, \"table\": 57.0, \"price\": 2376, \"x\": 5.64, \"y\": 5.6, \"z\": 3.66, \"model\": \"lm\", \"pred\": 2875.482492928749}, {\"carat\": 0.8, \"cut\": \"Ideal\", \"color\": \"F\", \"clarity\": \"VS2\", \"depth\": 61.2, \"table\": 58.0, \"price\": 3713, \"x\": 5.99, \"y\": 6.03, \"z\": 3.68, \"model\": \"gb\", \"pred\": 3724.0576689165523}, {\"carat\": 0.34, \"cut\": \"Ideal\", \"color\": \"H\", \"clarity\": \"IF\", \"depth\": 61.6, \"table\": 54.0, \"price\": 863, \"x\": 4.49, \"y\": 4.53, \"z\": 2.78, \"model\": \"gb\", \"pred\": 895.1480121457921}, {\"carat\": 0.4, \"cut\": \"Premium\", \"color\": \"D\", \"clarity\": \"SI2\", \"depth\": 61.1, \"table\": 58.0, \"price\": 855, \"x\": 4.76, \"y\": 4.73, \"z\": 2.9, \"model\": \"gb\", \"pred\": 775.3662797316415}, {\"carat\": 0.79, \"cut\": \"Premium\", \"color\": \"D\", \"clarity\": \"SI1\", \"depth\": 61.4, \"table\": 59.0, \"price\": 3112, \"x\": 5.89, \"y\": 5.96, \"z\": 3.64, \"model\": \"lm\", \"pred\": 4100.323551306791}, {\"carat\": 0.41, \"cut\": \"Ideal\", \"color\": \"J\", \"clarity\": \"VS1\", \"depth\": 62.7, \"table\": 54.0, \"price\": 648, \"x\": 4.75, \"y\": 4.79, \"z\": 2.99, \"model\": \"gb\", \"pred\": 636.5081816570805}, {\"carat\": 0.55, \"cut\": \"Ideal\", \"color\": \"F\", \"clarity\": \"VS1\", \"depth\": 61.4, \"table\": 55.0, \"price\": 1805, \"x\": 5.24, \"y\": 5.28, \"z\": 3.23, \"model\": \"lm\", \"pred\": 2754.392104396245}, {\"carat\": 1.09, \"cut\": \"Very Good\", \"color\": \"G\", \"clarity\": \"VVS2\", \"depth\": 59.8, \"table\": 61.0, \"price\": 7583, \"x\": 6.64, \"y\": 6.7, \"z\": 3.99, \"model\": \"gb\", \"pred\": 8167.023913505158}, {\"carat\": 0.42, \"cut\": \"Very Good\", \"color\": \"I\", \"clarity\": \"SI1\", \"depth\": 61.0, \"table\": 55.8, \"price\": 712, \"x\": 4.83, \"y\": 4.86, \"z\": 2.96, \"model\": \"lm\", \"pred\": -648.5250625210438}, {\"carat\": 0.23, \"cut\": \"Very Good\", \"color\": \"F\", \"clarity\": \"VVS2\", \"depth\": 60.4, \"table\": 61.0, \"price\": 465, \"x\": 3.92, \"y\": 3.96, \"z\": 2.38, \"model\": \"gb\", \"pred\": 500.36217526267}, {\"carat\": 0.9, \"cut\": \"Very Good\", \"color\": \"H\", \"clarity\": \"VS1\", \"depth\": 61.5, \"table\": 59.0, \"price\": 4136, \"x\": 6.13, \"y\": 6.19, \"z\": 3.79, \"model\": \"lm\", \"pred\": 5039.612020369866}, {\"carat\": 0.72, \"cut\": \"Premium\", \"color\": \"F\", \"clarity\": \"VS1\", \"depth\": 62.2, \"table\": 57.0, \"price\": 3167, \"x\": 5.74, \"y\": 5.67, \"z\": 3.55, \"model\": \"gb\", \"pred\": 2967.373210549957}, {\"carat\": 0.31, \"cut\": \"Very Good\", \"color\": \"G\", \"clarity\": \"SI1\", \"depth\": 63.0, \"table\": 56.0, \"price\": 462, \"x\": 4.3, \"y\": 4.34, \"z\": 2.72, \"model\": \"gb\", \"pred\": 511.99027801691267}, {\"carat\": 0.3, \"cut\": \"Premium\", \"color\": \"E\", \"clarity\": \"VS2\", \"depth\": 61.8, \"table\": 58.0, \"price\": 658, \"x\": 4.31, \"y\": 4.36, \"z\": 2.68, \"model\": \"gb\", \"pred\": 699.1762782792998}, {\"carat\": 1.31, \"cut\": \"Premium\", \"color\": \"H\", \"clarity\": \"VS2\", \"depth\": 62.5, \"table\": 58.0, \"price\": 7277, \"x\": 6.97, \"y\": 6.94, \"z\": 4.35, \"model\": \"lm\", \"pred\": 8386.554020000382}, {\"carat\": 0.7, \"cut\": \"Ideal\", \"color\": \"F\", \"clarity\": \"VVS2\", \"depth\": 61.0, \"table\": 57.0, \"price\": 3478, \"x\": 5.73, \"y\": 5.75, \"z\": 3.5, \"model\": \"lm\", \"pred\": 4519.631877201155}, {\"carat\": 0.92, \"cut\": \"Premium\", \"color\": \"I\", \"clarity\": \"SI1\", \"depth\": 60.7, \"table\": 58.0, \"price\": 3529, \"x\": 6.3, \"y\": 6.25, \"z\": 3.81, \"model\": \"lm\", \"pred\": 3815.2184041248174}, {\"carat\": 1.02, \"cut\": \"Good\", \"color\": \"H\", \"clarity\": \"SI1\", \"depth\": 57.1, \"table\": 61.0, \"price\": 4167, \"x\": 6.66, \"y\": 6.57, \"z\": 3.78, \"model\": \"lm\", \"pred\": 4951.807074626538}, {\"carat\": 0.31, \"cut\": \"Premium\", \"color\": \"E\", \"clarity\": \"VS2\", \"depth\": 62.7, \"table\": 58.0, \"price\": 680, \"x\": 4.31, \"y\": 4.33, \"z\": 2.71, \"model\": \"lm\", \"pred\": 267.4403209696211}, {\"carat\": 0.3, \"cut\": \"Ideal\", \"color\": \"F\", \"clarity\": \"VVS1\", \"depth\": 61.7, \"table\": 57.0, \"price\": 1041, \"x\": 4.28, \"y\": 4.31, \"z\": 2.65, \"model\": \"lm\", \"pred\": 1070.0085591788547}, {\"carat\": 0.31, \"cut\": \"Ideal\", \"color\": \"E\", \"clarity\": \"VVS1\", \"depth\": 61.7, \"table\": 56.0, \"price\": 853, \"x\": 4.38, \"y\": 4.4, \"z\": 2.71, \"model\": \"gb\", \"pred\": 953.3669802510616}, {\"carat\": 0.61, \"cut\": \"Ideal\", \"color\": \"F\", \"clarity\": \"VS2\", \"depth\": 62.4, \"table\": 55.0, \"price\": 2002, \"x\": 5.42, \"y\": 5.45, \"z\": 3.39, \"model\": \"lm\", \"pred\": 2970.5099697564006}, {\"carat\": 1.4, \"cut\": \"Very Good\", \"color\": \"G\", \"clarity\": \"VS2\", \"depth\": 60.1, \"table\": 62.0, \"price\": 10351, \"x\": 7.16, \"y\": 7.25, \"z\": 4.33, \"model\": \"gb\", \"pred\": 10184.955105485764}, {\"carat\": 0.9, \"cut\": \"Premium\", \"color\": \"E\", \"clarity\": \"SI1\", \"depth\": 60.3, \"table\": 56.0, \"price\": 4209, \"x\": 6.29, \"y\": 6.21, \"z\": 3.77, \"model\": \"gb\", \"pred\": 4117.077300330295}, {\"carat\": 0.48, \"cut\": \"Very Good\", \"color\": \"D\", \"clarity\": \"VVS2\", \"depth\": 59.5, \"table\": 57.0, \"price\": 2329, \"x\": 5.16, \"y\": 5.12, \"z\": 3.06, \"model\": \"lm\", \"pred\": 2718.455994989933}, {\"carat\": 1.52, \"cut\": \"Premium\", \"color\": \"I\", \"clarity\": \"VS2\", \"depth\": 59.0, \"table\": 59.0, \"price\": 9057, \"x\": 7.53, \"y\": 7.46, \"z\": 4.42, \"model\": \"lm\", \"pred\": 9791.03684826074}, {\"carat\": 0.51, \"cut\": \"Very Good\", \"color\": \"J\", \"clarity\": \"SI1\", \"depth\": 62.6, \"table\": 59.0, \"price\": 930, \"x\": 5.06, \"y\": 5.1, \"z\": 3.18, \"model\": \"lm\", \"pred\": -733.6939214344384}, {\"carat\": 1.01, \"cut\": \"Ideal\", \"color\": \"H\", \"clarity\": \"SI1\", \"depth\": 62.6, \"table\": 55.0, \"price\": 5126, \"x\": 6.41, \"y\": 6.44, \"z\": 4.02, \"model\": \"gb\", \"pred\": 4929.652879643856}, {\"carat\": 0.4, \"cut\": \"Very Good\", \"color\": \"E\", \"clarity\": \"SI1\", \"depth\": 62.8, \"table\": 59.0, \"price\": 707, \"x\": 4.67, \"y\": 4.7, \"z\": 2.94, \"model\": \"lm\", \"pred\": 402.3717803668287}, {\"carat\": 1.24, \"cut\": \"Very Good\", \"color\": \"E\", \"clarity\": \"VS1\", \"depth\": 62.0, \"table\": 58.0, \"price\": 10185, \"x\": 6.9, \"y\": 6.96, \"z\": 4.3, \"model\": \"gb\", \"pred\": 10483.693662729716}, {\"carat\": 0.31, \"cut\": \"Premium\", \"color\": \"H\", \"clarity\": \"VS1\", \"depth\": 61.1, \"table\": 59.0, \"price\": 698, \"x\": 4.36, \"y\": 4.35, \"z\": 2.66, \"model\": \"lm\", \"pred\": -182.5249949129302}, {\"carat\": 0.74, \"cut\": \"Ideal\", \"color\": \"H\", \"clarity\": \"IF\", \"depth\": 60.9, \"table\": 57.0, \"price\": 3760, \"x\": 5.83, \"y\": 5.85, \"z\": 3.56, \"model\": \"gb\", \"pred\": 3442.5190119919343}, {\"carat\": 2.29, \"cut\": \"Ideal\", \"color\": \"J\", \"clarity\": \"SI2\", \"depth\": 62.8, \"table\": 56.0, \"price\": 14500, \"x\": 8.36, \"y\": 8.39, \"z\": 5.25, \"model\": \"gb\", \"pred\": 13995.982997861682}, {\"carat\": 1.0, \"cut\": \"Premium\", \"color\": \"D\", \"clarity\": \"SI2\", \"depth\": 62.4, \"table\": 58.0, \"price\": 4816, \"x\": 6.36, \"y\": 6.33, \"z\": 3.96, \"model\": \"lm\", \"pred\": 5018.672615843904}, {\"carat\": 0.9, \"cut\": \"Premium\", \"color\": \"E\", \"clarity\": \"SI1\", \"depth\": 63.0, \"table\": 59.0, \"price\": 4334, \"x\": 6.13, \"y\": 6.1, \"z\": 3.85, \"model\": \"gb\", \"pred\": 4172.875242873697}, {\"carat\": 0.7, \"cut\": \"Premium\", \"color\": \"G\", \"clarity\": \"IF\", \"depth\": 62.2, \"table\": 58.0, \"price\": 3591, \"x\": 5.63, \"y\": 5.69, \"z\": 3.52, \"model\": \"gb\", \"pred\": 3276.5859187882365}, {\"carat\": 2.0, \"cut\": \"Very Good\", \"color\": \"J\", \"clarity\": \"SI2\", \"depth\": 61.9, \"table\": 55.0, \"price\": 11792, \"x\": 8.06, \"y\": 8.09, \"z\": 5.0, \"model\": \"lm\", \"pred\": 11558.900112706968}, {\"carat\": 0.54, \"cut\": \"Ideal\", \"color\": \"I\", \"clarity\": \"SI1\", \"depth\": 62.0, \"table\": 55.0, \"price\": 1057, \"x\": 5.21, \"y\": 5.25, \"z\": 3.24, \"model\": \"gb\", \"pred\": 1137.6509254860198}, {\"carat\": 0.28, \"cut\": \"Ideal\", \"color\": \"F\", \"clarity\": \"IF\", \"depth\": 62.4, \"table\": 55.0, \"price\": 828, \"x\": 4.2, \"y\": 4.17, \"z\": 2.61, \"model\": \"gb\", \"pred\": 709.7210458050453}, {\"carat\": 0.32, \"cut\": \"Premium\", \"color\": \"G\", \"clarity\": \"VS2\", \"depth\": 62.6, \"table\": 58.0, \"price\": 720, \"x\": 4.39, \"y\": 4.37, \"z\": 2.74, \"model\": \"gb\", \"pred\": 727.1576777176438}, {\"carat\": 0.33, \"cut\": \"Ideal\", \"color\": \"G\", \"clarity\": \"VS2\", \"depth\": 62.3, \"table\": 57.0, \"price\": 579, \"x\": 4.4, \"y\": 4.43, \"z\": 2.75, \"model\": \"gb\", \"pred\": 636.0672584140178}, {\"carat\": 0.51, \"cut\": \"Very Good\", \"color\": \"H\", \"clarity\": \"SI1\", \"depth\": 63.4, \"table\": 57.0, \"price\": 1227, \"x\": 5.09, \"y\": 5.06, \"z\": 3.22, \"model\": \"gb\", \"pred\": 1124.4181415547123}, {\"carat\": 0.51, \"cut\": \"Ideal\", \"color\": \"H\", \"clarity\": \"SI1\", \"depth\": 61.7, \"table\": 55.0, \"price\": 1354, \"x\": 5.12, \"y\": 5.16, \"z\": 3.17, \"model\": \"gb\", \"pred\": 1215.653233918964}, {\"carat\": 0.78, \"cut\": \"Ideal\", \"color\": \"G\", \"clarity\": \"VS1\", \"depth\": 61.6, \"table\": 55.0, \"price\": 3736, \"x\": 5.91, \"y\": 5.94, \"z\": 3.65, \"model\": \"gb\", \"pred\": 3512.185048759586}, {\"carat\": 0.82, \"cut\": \"Good\", \"color\": \"J\", \"clarity\": \"SI1\", \"depth\": 57.4, \"table\": 59.0, \"price\": 2140, \"x\": 6.25, \"y\": 6.19, \"z\": 3.57, \"model\": \"lm\", \"pred\": 1828.0566027218274}, {\"carat\": 0.81, \"cut\": \"Ideal\", \"color\": \"F\", \"clarity\": \"SI2\", \"depth\": 62.6, \"table\": 55.0, \"price\": 2795, \"x\": 5.92, \"y\": 5.96, \"z\": 3.72, \"model\": \"lm\", \"pred\": 3155.85663083457}, {\"carat\": 1.04, \"cut\": \"Ideal\", \"color\": \"D\", \"clarity\": \"VS2\", \"depth\": 61.9, \"table\": 55.0, \"price\": 7220, \"x\": 6.5, \"y\": 6.52, \"z\": 4.03, \"model\": \"gb\", \"pred\": 7686.769471614758}, {\"carat\": 0.39, \"cut\": \"Ideal\", \"color\": \"E\", \"clarity\": \"VS1\", \"depth\": 60.2, \"table\": 56.0, \"price\": 876, \"x\": 4.78, \"y\": 4.79, \"z\": 2.88, \"model\": \"gb\", \"pred\": 1102.8637435162877}, {\"carat\": 0.54, \"cut\": \"Ideal\", \"color\": \"E\", \"clarity\": \"VS2\", \"depth\": 60.5, \"table\": 56.0, \"price\": 1754, \"x\": 5.26, \"y\": 5.28, \"z\": 3.19, \"model\": \"gb\", \"pred\": 1776.0823236477065}, {\"carat\": 2.55, \"cut\": \"Premium\", \"color\": \"I\", \"clarity\": \"VS1\", \"depth\": 61.8, \"table\": 62.0, \"price\": 18766, \"x\": 8.7, \"y\": 8.65, \"z\": 5.36, \"model\": \"lm\", \"pred\": 19260.79946482924}, {\"carat\": 2.01, \"cut\": \"Premium\", \"color\": \"J\", \"clarity\": \"SI1\", \"depth\": 60.3, \"table\": 56.0, \"price\": 11188, \"x\": 8.02, \"y\": 7.96, \"z\": 4.82, \"model\": \"lm\", \"pred\": 12616.178427714773}, {\"carat\": 0.93, \"cut\": \"Ideal\", \"color\": \"E\", \"clarity\": \"VS2\", \"depth\": 62.4, \"table\": 56.0, \"price\": 5411, \"x\": 6.26, \"y\": 6.3, \"z\": 3.92, \"model\": \"gb\", \"pred\": 5690.236864113851}, {\"carat\": 0.5, \"cut\": \"Very Good\", \"color\": \"E\", \"clarity\": \"VS2\", \"depth\": 62.4, \"table\": 57.0, \"price\": 1568, \"x\": 5.01, \"y\": 5.03, \"z\": 3.13, \"model\": \"gb\", \"pred\": 1560.2833282683484}, {\"carat\": 0.34, \"cut\": \"Ideal\", \"color\": \"H\", \"clarity\": \"VVS2\", \"depth\": 62.2, \"table\": 55.0, \"price\": 880, \"x\": 4.49, \"y\": 4.48, \"z\": 2.79, \"model\": \"gb\", \"pred\": 772.713991830728}, {\"carat\": 0.55, \"cut\": \"Ideal\", \"color\": \"E\", \"clarity\": \"VS1\", \"depth\": 62.0, \"table\": 56.0, \"price\": 2107, \"x\": 5.27, \"y\": 5.24, \"z\": 3.26, \"model\": \"lm\", \"pred\": 2846.0196556084966}, {\"carat\": 2.09, \"cut\": \"Premium\", \"color\": \"H\", \"clarity\": \"SI2\", \"depth\": 61.0, \"table\": 60.0, \"price\": 10182, \"x\": 8.28, \"y\": 8.19, \"z\": 5.02, \"model\": \"gb\", \"pred\": 14366.893136418357}, {\"carat\": 0.3, \"cut\": \"Ideal\", \"color\": \"G\", \"clarity\": \"SI2\", \"depth\": 60.6, \"table\": 56.0, \"price\": 405, \"x\": 4.35, \"y\": 4.4, \"z\": 2.65, \"model\": \"gb\", \"pred\": 428.97634492828234}, {\"carat\": 1.59, \"cut\": \"Very Good\", \"color\": \"I\", \"clarity\": \"VS1\", \"depth\": 61.2, \"table\": 57.8, \"price\": 11018, \"x\": 7.5, \"y\": 7.52, \"z\": 4.6, \"model\": \"lm\", \"pred\": 10709.436712231836}, {\"carat\": 1.0, \"cut\": \"Good\", \"color\": \"G\", \"clarity\": \"SI2\", \"depth\": 64.2, \"table\": 57.0, \"price\": 3906, \"x\": 6.25, \"y\": 6.27, \"z\": 4.02, \"model\": \"gb\", \"pred\": 3755.9621246374654}, {\"carat\": 1.09, \"cut\": \"Ideal\", \"color\": \"H\", \"clarity\": \"SI1\", \"depth\": 62.3, \"table\": 55.0, \"price\": 5125, \"x\": 6.58, \"y\": 6.61, \"z\": 4.11, \"model\": \"lm\", \"pred\": 5916.323086463759}, {\"carat\": 1.1, \"cut\": \"Very Good\", \"color\": \"I\", \"clarity\": \"VS2\", \"depth\": 61.8, \"table\": 58.0, \"price\": 5524, \"x\": 6.59, \"y\": 6.62, \"z\": 4.08, \"model\": \"lm\", \"pred\": 6038.183692215151}, {\"carat\": 0.33, \"cut\": \"Ideal\", \"color\": \"E\", \"clarity\": \"VS2\", \"depth\": 61.5, \"table\": 57.0, \"price\": 928, \"x\": 4.47, \"y\": 4.41, \"z\": 2.73, \"model\": \"gb\", \"pred\": 846.5418959219446}, {\"carat\": 1.0, \"cut\": \"Very Good\", \"color\": \"F\", \"clarity\": \"VS2\", \"depth\": 61.9, \"table\": 59.0, \"price\": 5505, \"x\": 6.34, \"y\": 6.38, \"z\": 3.94, \"model\": \"lm\", \"pred\": 6286.562673290499}, {\"carat\": 1.3, \"cut\": \"Ideal\", \"color\": \"F\", \"clarity\": \"VS2\", \"depth\": 62.2, \"table\": 56.0, \"price\": 10090, \"x\": 6.98, \"y\": 6.94, \"z\": 4.33, \"model\": \"lm\", \"pred\": 9101.938898683718}, {\"carat\": 1.02, \"cut\": \"Very Good\", \"color\": \"E\", \"clarity\": \"VS2\", \"depth\": 60.6, \"table\": 61.0, \"price\": 6366, \"x\": 6.44, \"y\": 6.47, \"z\": 3.91, \"model\": \"gb\", \"pred\": 6592.727591817868}, {\"carat\": 0.3, \"cut\": \"Ideal\", \"color\": \"E\", \"clarity\": \"VVS1\", \"depth\": 61.0, \"table\": 56.0, \"price\": 813, \"x\": 4.34, \"y\": 4.38, \"z\": 2.66, \"model\": \"lm\", \"pred\": 1161.6361103911067}, {\"carat\": 0.32, \"cut\": \"Very Good\", \"color\": \"G\", \"clarity\": \"SI1\", \"depth\": 63.0, \"table\": 56.0, \"price\": 477, \"x\": 4.35, \"y\": 4.38, \"z\": 2.75, \"model\": \"gb\", \"pred\": 512.2313156799851}, {\"carat\": 1.54, \"cut\": \"Very Good\", \"color\": \"I\", \"clarity\": \"SI2\", \"depth\": 59.4, \"table\": 61.0, \"price\": 7589, \"x\": 7.49, \"y\": 7.56, \"z\": 4.47, \"model\": \"gb\", \"pred\": 7485.082504126613}, {\"carat\": 0.41, \"cut\": \"Premium\", \"color\": \"E\", \"clarity\": \"VS1\", \"depth\": 62.8, \"table\": 58.0, \"price\": 1153, \"x\": 4.72, \"y\": 4.7, \"z\": 2.96, \"model\": \"lm\", \"pred\": 1473.10307681}, {\"carat\": 0.33, \"cut\": \"Very Good\", \"color\": \"H\", \"clarity\": \"VS1\", \"depth\": 62.9, \"table\": 59.0, \"price\": 579, \"x\": 4.35, \"y\": 4.4, \"z\": 2.75, \"model\": \"lm\", \"pred\": -25.481442657045587}, {\"carat\": 1.09, \"cut\": \"Ideal\", \"color\": \"G\", \"clarity\": \"VS1\", \"depth\": 62.4, \"table\": 57.0, \"price\": 6934, \"x\": 6.55, \"y\": 6.63, \"z\": 4.11, \"model\": \"lm\", \"pred\": 7350.012197489151}, {\"carat\": 0.52, \"cut\": \"Fair\", \"color\": \"E\", \"clarity\": \"VVS2\", \"depth\": 57.2, \"table\": 64.0, \"price\": 2079, \"x\": 5.27, \"y\": 5.36, \"z\": 3.04, \"model\": \"gb\", \"pred\": 2113.4336121744914}, {\"carat\": 1.32, \"cut\": \"Very Good\", \"color\": \"H\", \"clarity\": \"SI1\", \"depth\": 62.3, \"table\": 57.0, \"price\": 7270, \"x\": 7.04, \"y\": 6.99, \"z\": 4.37, \"model\": \"gb\", \"pred\": 6945.070720899055}, {\"carat\": 0.31, \"cut\": \"Ideal\", \"color\": \"H\", \"clarity\": \"VS1\", \"depth\": 61.7, \"table\": 57.0, \"price\": 544, \"x\": 4.34, \"y\": 4.38, \"z\": 2.69, \"model\": \"gb\", \"pred\": 591.6801002744091}, {\"carat\": 0.31, \"cut\": \"Premium\", \"color\": \"H\", \"clarity\": \"SI1\", \"depth\": 62.3, \"table\": 55.0, \"price\": 573, \"x\": 4.36, \"y\": 4.34, \"z\": 2.71, \"model\": \"lm\", \"pred\": -1143.715977136886}, {\"carat\": 0.23, \"cut\": \"Ideal\", \"color\": \"H\", \"clarity\": \"VS1\", \"depth\": 61.2, \"table\": 55.0, \"price\": 423, \"x\": 3.94, \"y\": 3.97, \"z\": 2.42, \"model\": \"lm\", \"pred\": -764.5567702651715}, {\"carat\": 0.4, \"cut\": \"Fair\", \"color\": \"G\", \"clarity\": \"SI1\", \"depth\": 59.9, \"table\": 67.0, \"price\": 960, \"x\": 4.81, \"y\": 4.77, \"z\": 2.87, \"model\": \"lm\", \"pred\": -740.8621519880553}, {\"carat\": 0.36, \"cut\": \"Very Good\", \"color\": \"G\", \"clarity\": \"SI2\", \"depth\": 61.9, \"table\": 56.0, \"price\": 473, \"x\": 4.55, \"y\": 4.59, \"z\": 2.83, \"model\": \"lm\", \"pred\": -1195.328430393055}, {\"carat\": 1.22, \"cut\": \"Premium\", \"color\": \"H\", \"clarity\": \"VS2\", \"depth\": 61.4, \"table\": 62.0, \"price\": 5944, \"x\": 6.92, \"y\": 6.76, \"z\": 4.22, \"model\": \"lm\", \"pred\": 7586.802420575075}, {\"carat\": 1.65, \"cut\": \"Ideal\", \"color\": \"J\", \"clarity\": \"SI1\", \"depth\": 62.5, \"table\": 56.0, \"price\": 8334, \"x\": 7.59, \"y\": 7.54, \"z\": 4.73, \"model\": \"gb\", \"pred\": 7674.683844420497}, {\"carat\": 0.57, \"cut\": \"Premium\", \"color\": \"F\", \"clarity\": \"SI1\", \"depth\": 60.7, \"table\": 58.0, \"price\": 1571, \"x\": 5.36, \"y\": 5.32, \"z\": 3.24, \"model\": \"gb\", \"pred\": 1570.695868316709}, {\"carat\": 0.91, \"cut\": \"Very Good\", \"color\": \"J\", \"clarity\": \"SI2\", \"depth\": 62.0, \"table\": 56.0, \"price\": 3181, \"x\": 6.18, \"y\": 6.23, \"z\": 3.85, \"model\": \"gb\", \"pred\": 3003.116621729589}, {\"carat\": 0.91, \"cut\": \"Premium\", \"color\": \"E\", \"clarity\": \"VS1\", \"depth\": 62.8, \"table\": 60.0, \"price\": 4969, \"x\": 6.11, \"y\": 6.08, \"z\": 3.83, \"model\": \"gb\", \"pred\": 4789.751027972108}, {\"carat\": 1.62, \"cut\": \"Very Good\", \"color\": \"E\", \"clarity\": \"SI2\", \"depth\": 60.8, \"table\": 59.0, \"price\": 9355, \"x\": 7.57, \"y\": 7.62, \"z\": 4.62, \"model\": \"gb\", \"pred\": 10421.962395854664}, {\"carat\": 0.52, \"cut\": \"Ideal\", \"color\": \"F\", \"clarity\": \"VS1\", \"depth\": 61.5, \"table\": 56.0, \"price\": 2138, \"x\": 5.19, \"y\": 5.22, \"z\": 3.2, \"model\": \"lm\", \"pred\": 2487.808237921144}, {\"carat\": 1.56, \"cut\": \"Very Good\", \"color\": \"J\", \"clarity\": \"SI1\", \"depth\": 59.6, \"table\": 58.0, \"price\": 7424, \"x\": 7.55, \"y\": 7.59, \"z\": 4.51, \"model\": \"gb\", \"pred\": 6880.566195861806}, {\"carat\": 1.07, \"cut\": \"Ideal\", \"color\": \"H\", \"clarity\": \"SI1\", \"depth\": 61.1, \"table\": 56.0, \"price\": 4955, \"x\": 6.63, \"y\": 6.6, \"z\": 4.04, \"model\": \"gb\", \"pred\": 5267.464802218272}, {\"carat\": 0.51, \"cut\": \"Very Good\", \"color\": \"G\", \"clarity\": \"VS2\", \"depth\": 62.6, \"table\": 57.0, \"price\": 1343, \"x\": 5.1, \"y\": 5.15, \"z\": 3.21, \"model\": \"gb\", \"pred\": 1531.302506803206}, {\"carat\": 0.32, \"cut\": \"Ideal\", \"color\": \"D\", \"clarity\": \"VS2\", \"depth\": 62.2, \"table\": 55.0, \"price\": 758, \"x\": 4.37, \"y\": 4.41, \"z\": 2.73, \"model\": \"lm\", \"pred\": 696.8426264121534}, {\"carat\": 0.38, \"cut\": \"Very Good\", \"color\": \"F\", \"clarity\": \"SI1\", \"depth\": 61.7, \"table\": 58.0, \"price\": 672, \"x\": 4.66, \"y\": 4.73, \"z\": 2.89, \"model\": \"lm\", \"pred\": 133.02165150450858}, {\"carat\": 1.55, \"cut\": \"Premium\", \"color\": \"E\", \"clarity\": \"SI2\", \"depth\": 58.5, \"table\": 57.0, \"price\": 7161, \"x\": 7.66, \"y\": 7.57, \"z\": 4.46, \"model\": \"gb\", \"pred\": 8876.9188640587}, {\"carat\": 0.93, \"cut\": \"Premium\", \"color\": \"G\", \"clarity\": \"SI2\", \"depth\": 61.7, \"table\": 60.0, \"price\": 3802, \"x\": 6.25, \"y\": 6.2, \"z\": 3.84, \"model\": \"gb\", \"pred\": 3385.443662498749}, {\"carat\": 0.72, \"cut\": \"Premium\", \"color\": \"D\", \"clarity\": \"SI2\", \"depth\": 60.5, \"table\": 58.0, \"price\": 2670, \"x\": 5.88, \"y\": 5.79, \"z\": 3.53, \"model\": \"gb\", \"pred\": 2574.5343394252914}, {\"carat\": 1.14, \"cut\": \"Fair\", \"color\": \"J\", \"clarity\": \"SI2\", \"depth\": 64.4, \"table\": 55.0, \"price\": 3403, \"x\": 6.56, \"y\": 6.54, \"z\": 4.22, \"model\": \"gb\", \"pred\": 3514.488425533424}, {\"carat\": 1.51, \"cut\": \"Ideal\", \"color\": \"H\", \"clarity\": \"VS2\", \"depth\": 62.5, \"table\": 55.0, \"price\": 10763, \"x\": 7.29, \"y\": 7.34, \"z\": 4.57, \"model\": \"gb\", \"pred\": 11021.45782962199}, {\"carat\": 0.57, \"cut\": \"Premium\", \"color\": \"G\", \"clarity\": \"VS2\", \"depth\": 59.7, \"table\": 59.0, \"price\": 1728, \"x\": 5.41, \"y\": 5.37, \"z\": 3.22, \"model\": \"lm\", \"pred\": 2283.316775749335}, {\"carat\": 0.55, \"cut\": \"Premium\", \"color\": \"G\", \"clarity\": \"SI1\", \"depth\": 62.1, \"table\": 56.0, \"price\": 1321, \"x\": 5.28, \"y\": 5.22, \"z\": 3.26, \"model\": \"gb\", \"pred\": 1404.4370485382592}, {\"carat\": 2.0, \"cut\": \"Ideal\", \"color\": \"I\", \"clarity\": \"SI2\", \"depth\": 59.8, \"table\": 55.0, \"price\": 11255, \"x\": 8.28, \"y\": 8.18, \"z\": 4.92, \"model\": \"gb\", \"pred\": 13061.001390195037}, {\"carat\": 1.05, \"cut\": \"Very Good\", \"color\": \"G\", \"clarity\": \"SI1\", \"depth\": 59.7, \"table\": 58.0, \"price\": 5019, \"x\": 6.6, \"y\": 6.66, \"z\": 3.96, \"model\": \"gb\", \"pred\": 4980.601354806355}, {\"carat\": 1.51, \"cut\": \"Premium\", \"color\": \"F\", \"clarity\": \"VS2\", \"depth\": 61.7, \"table\": 58.0, \"price\": 13945, \"x\": 7.33, \"y\": 7.28, \"z\": 4.51, \"model\": \"lm\", \"pred\": 10839.167428761391}, {\"carat\": 1.22, \"cut\": \"Very Good\", \"color\": \"I\", \"clarity\": \"VS2\", \"depth\": 63.3, \"table\": 57.0, \"price\": 5979, \"x\": 6.74, \"y\": 6.82, \"z\": 4.29, \"model\": \"gb\", \"pred\": 5582.450252468369}, {\"carat\": 1.57, \"cut\": \"Premium\", \"color\": \"D\", \"clarity\": \"SI1\", \"depth\": 62.2, \"table\": 59.0, \"price\": 11976, \"x\": 7.37, \"y\": 7.45, \"z\": 4.61, \"model\": \"lm\", \"pred\": 11031.50407965941}, {\"carat\": 0.28, \"cut\": \"Very Good\", \"color\": \"D\", \"clarity\": \"VVS2\", \"depth\": 64.0, \"table\": 56.0, \"price\": 532, \"x\": 4.14, \"y\": 4.17, \"z\": 2.66, \"model\": \"gb\", \"pred\": 618.1629517550086}, {\"carat\": 0.7, \"cut\": \"Very Good\", \"color\": \"G\", \"clarity\": \"VVS1\", \"depth\": 63.1, \"table\": 56.0, \"price\": 3073, \"x\": 5.64, \"y\": 5.67, \"z\": 3.57, \"model\": \"lm\", \"pred\": 4272.0330480790835}, {\"carat\": 0.45, \"cut\": \"Ideal\", \"color\": \"I\", \"clarity\": \"VS1\", \"depth\": 61.9, \"table\": 54.0, \"price\": 825, \"x\": 4.95, \"y\": 4.97, \"z\": 3.07, \"model\": \"gb\", \"pred\": 838.9717463212061}, {\"carat\": 1.11, \"cut\": \"Premium\", \"color\": \"H\", \"clarity\": \"VS2\", \"depth\": 62.6, \"table\": 58.0, \"price\": 5781, \"x\": 6.63, \"y\": 6.59, \"z\": 4.14, \"model\": \"lm\", \"pred\": 6609.328243499708}, {\"carat\": 0.71, \"cut\": \"Ideal\", \"color\": \"F\", \"clarity\": \"SI1\", \"depth\": 61.3, \"table\": 57.0, \"price\": 2699, \"x\": 5.72, \"y\": 5.79, \"z\": 3.53, \"model\": \"gb\", \"pred\": 2737.522708858966}, {\"carat\": 0.31, \"cut\": \"Ideal\", \"color\": \"E\", \"clarity\": \"VS2\", \"depth\": 61.8, \"table\": 55.0, \"price\": 872, \"x\": 4.39, \"y\": 4.35, \"z\": 2.7, \"model\": \"lm\", \"pred\": 396.2988562176479}, {\"carat\": 1.6, \"cut\": \"Premium\", \"color\": \"D\", \"clarity\": \"SI2\", \"depth\": 61.9, \"table\": 58.0, \"price\": 10064, \"x\": 7.54, \"y\": 7.49, \"z\": 4.65, \"model\": \"gb\", \"pred\": 9768.435698280016}, {\"carat\": 0.41, \"cut\": \"Ideal\", \"color\": \"F\", \"clarity\": \"VVS2\", \"depth\": 61.2, \"table\": 56.0, \"price\": 1192, \"x\": 4.8, \"y\": 4.78, \"z\": 2.93, \"model\": \"gb\", \"pred\": 1191.1136393757974}, {\"carat\": 0.32, \"cut\": \"Ideal\", \"color\": \"D\", \"clarity\": \"VS2\", \"depth\": 62.1, \"table\": 56.0, \"price\": 972, \"x\": 4.43, \"y\": 4.39, \"z\": 2.74, \"model\": \"lm\", \"pred\": 696.8426264121534}, {\"carat\": 2.2, \"cut\": \"Premium\", \"color\": \"I\", \"clarity\": \"VS2\", \"depth\": 62.0, \"table\": 57.0, \"price\": 18364, \"x\": 8.38, \"y\": 8.34, \"z\": 5.18, \"model\": \"gb\", \"pred\": 16789.01710032997}, {\"carat\": 0.33, \"cut\": \"Premium\", \"color\": \"G\", \"clarity\": \"VVS1\", \"depth\": 60.9, \"table\": 60.0, \"price\": 868, \"x\": 4.46, \"y\": 4.5, \"z\": 2.73, \"model\": \"lm\", \"pred\": 1004.8443869470237}, {\"carat\": 0.41, \"cut\": \"Ideal\", \"color\": \"F\", \"clarity\": \"VS1\", \"depth\": 62.1, \"table\": 56.0, \"price\": 1007, \"x\": 4.74, \"y\": 4.76, \"z\": 2.95, \"model\": \"gb\", \"pred\": 1053.7790752264177}, {\"carat\": 1.0, \"cut\": \"Good\", \"color\": \"F\", \"clarity\": \"SI2\", \"depth\": 59.4, \"table\": 64.0, \"price\": 3259, \"x\": 6.52, \"y\": 6.48, \"z\": 3.86, \"model\": \"gb\", \"pred\": 4005.055823558613}, {\"carat\": 0.24, \"cut\": \"Ideal\", \"color\": \"F\", \"clarity\": \"VVS2\", \"depth\": 61.0, \"table\": 56.0, \"price\": 678, \"x\": 4.05, \"y\": 4.08, \"z\": 2.48, \"model\": \"lm\", \"pred\": 432.01259124961234}, {\"carat\": 0.3, \"cut\": \"Ideal\", \"color\": \"H\", \"clarity\": \"VS1\", \"depth\": 62.3, \"table\": 55.0, \"price\": 675, \"x\": 4.34, \"y\": 4.29, \"z\": 2.69, \"model\": \"gb\", \"pred\": 665.14306752118}, {\"carat\": 1.02, \"cut\": \"Ideal\", \"color\": \"F\", \"clarity\": \"SI2\", \"depth\": 62.1, \"table\": 56.0, \"price\": 4162, \"x\": 6.41, \"y\": 6.44, \"z\": 3.99, \"model\": \"lm\", \"pred\": 5021.943696160274}, {\"carat\": 0.31, \"cut\": \"Ideal\", \"color\": \"D\", \"clarity\": \"SI1\", \"depth\": 61.3, \"table\": 55.0, \"price\": 565, \"x\": 4.36, \"y\": 4.41, \"z\": 2.69, \"model\": \"gb\", \"pred\": 648.1006379641099}, {\"carat\": 0.42, \"cut\": \"Ideal\", \"color\": \"G\", \"clarity\": \"VS2\", \"depth\": 61.7, \"table\": 57.0, \"price\": 1087, \"x\": 4.83, \"y\": 4.8, \"z\": 2.97, \"model\": \"lm\", \"pred\": 1079.255978621858}, {\"carat\": 0.53, \"cut\": \"Premium\", \"color\": \"H\", \"clarity\": \"IF\", \"depth\": 62.5, \"table\": 59.0, \"price\": 1957, \"x\": 5.15, \"y\": 5.18, \"z\": 3.23, \"model\": \"lm\", \"pred\": 2657.1912342749697}, {\"carat\": 0.32, \"cut\": \"Ideal\", \"color\": \"H\", \"clarity\": \"SI2\", \"depth\": 61.9, \"table\": 54.0, \"price\": 420, \"x\": 4.42, \"y\": 4.46, \"z\": 2.75, \"model\": \"lm\", \"pred\": -1873.734153852417}, {\"carat\": 0.75, \"cut\": \"Ideal\", \"color\": \"D\", \"clarity\": \"VS2\", \"depth\": 62.4, \"table\": 55.0, \"price\": 3456, \"x\": 5.83, \"y\": 5.8, \"z\": 3.63, \"model\": \"lm\", \"pred\": 4517.878045888595}, {\"carat\": 0.41, \"cut\": \"Good\", \"color\": \"E\", \"clarity\": \"VVS1\", \"depth\": 60.4, \"table\": 61.0, \"price\": 1169, \"x\": 4.76, \"y\": 4.81, \"z\": 2.89, \"model\": \"gb\", \"pred\": 1177.8126657443559}, {\"carat\": 0.82, \"cut\": \"Ideal\", \"color\": \"F\", \"clarity\": \"SI1\", \"depth\": 62.6, \"table\": 56.0, \"price\": 3251, \"x\": 5.95, \"y\": 5.99, \"z\": 3.74, \"model\": \"gb\", \"pred\": 3204.778816945522}, {\"carat\": 1.07, \"cut\": \"Premium\", \"color\": \"I\", \"clarity\": \"SI1\", \"depth\": 61.2, \"table\": 58.0, \"price\": 4126, \"x\": 6.62, \"y\": 6.55, \"z\": 4.03, \"model\": \"gb\", \"pred\": 4360.3378973162235}, {\"carat\": 1.35, \"cut\": \"Ideal\", \"color\": \"G\", \"clarity\": \"IF\", \"depth\": 62.2, \"table\": 57.0, \"price\": 14616, \"x\": 7.07, \"y\": 7.11, \"z\": 4.41, \"model\": \"lm\", \"pred\": 10545.173581977186}, {\"carat\": 0.44, \"cut\": \"Ideal\", \"color\": \"G\", \"clarity\": \"VVS1\", \"depth\": 61.3, \"table\": 56.0, \"price\": 1202, \"x\": 4.91, \"y\": 4.93, \"z\": 3.01, \"model\": \"lm\", \"pred\": 2111.17709927042}, {\"carat\": 0.3, \"cut\": \"Premium\", \"color\": \"E\", \"clarity\": \"VS2\", \"depth\": 62.2, \"table\": 60.0, \"price\": 658, \"x\": 4.24, \"y\": 4.28, \"z\": 2.65, \"model\": \"gb\", \"pred\": 701.3378397572293}, {\"carat\": 0.63, \"cut\": \"Premium\", \"color\": \"G\", \"clarity\": \"VS2\", \"depth\": 61.5, \"table\": 57.0, \"price\": 1871, \"x\": 5.54, \"y\": 5.51, \"z\": 3.4, \"model\": \"gb\", \"pred\": 1949.1837148430263}, {\"carat\": 1.43, \"cut\": \"Very Good\", \"color\": \"G\", \"clarity\": \"VS2\", \"depth\": 62.2, \"table\": 58.0, \"price\": 10419, \"x\": 7.15, \"y\": 7.18, \"z\": 4.46, \"model\": \"gb\", \"pred\": 10715.365728618946}, {\"carat\": 1.71, \"cut\": \"Ideal\", \"color\": \"F\", \"clarity\": \"SI2\", \"depth\": 62.1, \"table\": 54.0, \"price\": 11199, \"x\": 7.72, \"y\": 7.67, \"z\": 4.78, \"model\": \"lm\", \"pred\": 11153.372625087588}, {\"carat\": 0.4, \"cut\": \"Ideal\", \"color\": \"F\", \"clarity\": \"VVS1\", \"depth\": 61.3, \"table\": 55.0, \"price\": 1263, \"x\": 4.75, \"y\": 4.78, \"z\": 2.92, \"model\": \"lm\", \"pred\": 1958.621447429191}, {\"carat\": 0.42, \"cut\": \"Very Good\", \"color\": \"F\", \"clarity\": \"VS1\", \"depth\": 61.9, \"table\": 55.0, \"price\": 1031, \"x\": 4.78, \"y\": 4.82, \"z\": 2.97, \"model\": \"gb\", \"pred\": 1023.0166318329487}, {\"carat\": 0.71, \"cut\": \"Ideal\", \"color\": \"H\", \"clarity\": \"VVS2\", \"depth\": 61.7, \"table\": 57.0, \"price\": 3371, \"x\": 5.68, \"y\": 5.73, \"z\": 3.53, \"model\": \"gb\", \"pred\": 2958.155041063807}, {\"carat\": 0.53, \"cut\": \"Ideal\", \"color\": \"G\", \"clarity\": \"VVS1\", \"depth\": 62.1, \"table\": 56.0, \"price\": 1958, \"x\": 5.19, \"y\": 5.21, \"z\": 3.23, \"model\": \"gb\", \"pred\": 2097.8220145913283}, {\"carat\": 0.71, \"cut\": \"Ideal\", \"color\": \"I\", \"clarity\": \"VS2\", \"depth\": 62.0, \"table\": 54.0, \"price\": 2272, \"x\": 5.73, \"y\": 5.77, \"z\": 3.56, \"model\": \"lm\", \"pred\": 2722.130988681052}, {\"carat\": 3.01, \"cut\": \"Ideal\", \"color\": \"J\", \"clarity\": \"I1\", \"depth\": 65.4, \"table\": 60.0, \"price\": 16538, \"x\": 8.99, \"y\": 8.93, \"z\": 5.86, \"model\": \"gb\", \"pred\": 10788.983135476523}, {\"carat\": 0.9, \"cut\": \"Ideal\", \"color\": \"E\", \"clarity\": \"SI2\", \"depth\": 61.7, \"table\": 56.0, \"price\": 4034, \"x\": 6.21, \"y\": 6.26, \"z\": 3.85, \"model\": \"lm\", \"pred\": 4047.2357814721254}, {\"carat\": 0.41, \"cut\": \"Very Good\", \"color\": \"E\", \"clarity\": \"VS1\", \"depth\": 63.4, \"table\": 55.0, \"price\": 1160, \"x\": 4.7, \"y\": 4.73, \"z\": 2.99, \"model\": \"lm\", \"pred\": 1452.4240514158166}, {\"carat\": 1.0, \"cut\": \"Premium\", \"color\": \"F\", \"clarity\": \"SI1\", \"depth\": 61.6, \"table\": 61.0, \"price\": 5292, \"x\": 6.37, \"y\": 6.3, \"z\": 3.9, \"model\": \"gb\", \"pred\": 4831.685222658932}, {\"carat\": 0.44, \"cut\": \"Ideal\", \"color\": \"G\", \"clarity\": \"VS2\", \"depth\": 62.0, \"table\": 55.0, \"price\": 869, \"x\": 4.89, \"y\": 4.91, \"z\": 3.04, \"model\": \"gb\", \"pred\": 962.6766263531958}, {\"carat\": 0.4, \"cut\": \"Ideal\", \"color\": \"E\", \"clarity\": \"VS2\", \"depth\": 62.6, \"table\": 57.0, \"price\": 1038, \"x\": 4.7, \"y\": 4.68, \"z\": 2.93, \"model\": \"gb\", \"pred\": 952.9199644808164}, {\"carat\": 2.01, \"cut\": \"Premium\", \"color\": \"H\", \"clarity\": \"SI2\", \"depth\": 62.3, \"table\": 60.0, \"price\": 14558, \"x\": 7.97, \"y\": 7.95, \"z\": 4.96, \"model\": \"lm\", \"pred\": 13014.965122330224}, {\"carat\": 0.76, \"cut\": \"Premium\", \"color\": \"I\", \"clarity\": \"VS2\", \"depth\": 62.8, \"table\": 61.0, \"price\": 2175, \"x\": 5.78, \"y\": 5.74, \"z\": 3.62, \"model\": \"lm\", \"pred\": 3037.5788975581922}, {\"carat\": 0.27, \"cut\": \"Ideal\", \"color\": \"I\", \"clarity\": \"VS2\", \"depth\": 62.1, \"table\": 56.0, \"price\": 534, \"x\": 4.14, \"y\": 4.18, \"z\": 2.58, \"model\": \"lm\", \"pred\": -1187.7657196204245}, {\"carat\": 0.73, \"cut\": \"Premium\", \"color\": \"E\", \"clarity\": \"VS2\", \"depth\": 61.9, \"table\": 57.0, \"price\": 3127, \"x\": 5.79, \"y\": 5.75, \"z\": 3.57, \"model\": \"lm\", \"pred\": 3999.6144516210293}, {\"carat\": 0.7, \"cut\": \"Very Good\", \"color\": \"D\", \"clarity\": \"SI1\", \"depth\": 60.3, \"table\": 60.0, \"price\": 2656, \"x\": 5.74, \"y\": 5.77, \"z\": 3.47, \"model\": \"gb\", \"pred\": 2692.958615959759}, {\"carat\": 0.5, \"cut\": \"Very Good\", \"color\": \"E\", \"clarity\": \"VS2\", \"depth\": 63.2, \"table\": 56.0, \"price\": 1629, \"x\": 5.06, \"y\": 5.03, \"z\": 3.19, \"model\": \"lm\", \"pred\": 1935.1257832510755}, {\"carat\": 0.5, \"cut\": \"Good\", \"color\": \"I\", \"clarity\": \"VS1\", \"depth\": 61.2, \"table\": 61.0, \"price\": 1193, \"x\": 5.03, \"y\": 5.06, \"z\": 3.09, \"model\": \"gb\", \"pred\": 1223.396902938976}, {\"carat\": 0.41, \"cut\": \"Very Good\", \"color\": \"F\", \"clarity\": \"VS1\", \"depth\": 63.0, \"table\": 57.0, \"price\": 931, \"x\": 4.66, \"y\": 4.7, \"z\": 2.95, \"model\": \"gb\", \"pred\": 914.672315208844}, {\"carat\": 0.3, \"cut\": \"Premium\", \"color\": \"E\", \"clarity\": \"VS2\", \"depth\": 62.2, \"table\": 60.0, \"price\": 658, \"x\": 4.24, \"y\": 4.28, \"z\": 2.65, \"model\": \"lm\", \"pred\": 178.57903214458747}, {\"carat\": 0.72, \"cut\": \"Ideal\", \"color\": \"G\", \"clarity\": \"VS1\", \"depth\": 61.3, \"table\": 56.0, \"price\": 3102, \"x\": 5.77, \"y\": 5.82, \"z\": 3.55, \"model\": \"lm\", \"pred\": 4062.144510962909}, {\"carat\": 0.72, \"cut\": \"Ideal\", \"color\": \"F\", \"clarity\": \"VVS1\", \"depth\": 61.7, \"table\": 56.0, \"price\": 3795, \"x\": 5.73, \"y\": 5.77, \"z\": 3.55, \"model\": \"lm\", \"pred\": 4802.182689830263}, {\"carat\": 1.0, \"cut\": \"Good\", \"color\": \"J\", \"clarity\": \"VVS1\", \"depth\": 63.5, \"table\": 59.0, \"price\": 4633, \"x\": 6.29, \"y\": 6.34, \"z\": 4.01, \"model\": \"gb\", \"pred\": 4888.0832665401}, {\"carat\": 1.0, \"cut\": \"Fair\", \"color\": \"I\", \"clarity\": \"I1\", \"depth\": 66.9, \"table\": 57.0, \"price\": 1997, \"x\": 6.15, \"y\": 6.03, \"z\": 4.09, \"model\": \"lm\", \"pred\": 83.02482429381325}, {\"carat\": 1.01, \"cut\": \"Ideal\", \"color\": \"D\", \"clarity\": \"SI2\", \"depth\": 61.3, \"table\": 54.0, \"price\": 4916, \"x\": 6.47, \"y\": 6.52, \"z\": 3.99, \"model\": \"lm\", \"pred\": 5236.392439916966}, {\"carat\": 0.75, \"cut\": \"Good\", \"color\": \"E\", \"clarity\": \"SI1\", \"depth\": 63.4, \"table\": 57.0, \"price\": 2674, \"x\": 5.75, \"y\": 5.77, \"z\": 3.65, \"model\": \"lm\", \"pred\": 3319.567459823228}, {\"carat\": 1.01, \"cut\": \"Very Good\", \"color\": \"G\", \"clarity\": \"VVS2\", \"depth\": 61.9, \"table\": 58.0, \"price\": 6257, \"x\": 6.38, \"y\": 6.48, \"z\": 3.98, \"model\": \"gb\", \"pred\": 7598.2315750109465}, {\"carat\": 0.9, \"cut\": \"Good\", \"color\": \"E\", \"clarity\": \"SI1\", \"depth\": 63.8, \"table\": 56.0, \"price\": 3800, \"x\": 6.12, \"y\": 6.05, \"z\": 3.88, \"model\": \"gb\", \"pred\": 3843.11172351441}, {\"carat\": 0.79, \"cut\": \"Very Good\", \"color\": \"D\", \"clarity\": \"SI2\", \"depth\": 59.7, \"table\": 58.0, \"price\": 2878, \"x\": 6.0, \"y\": 6.07, \"z\": 3.6, \"model\": \"lm\", \"pred\": 3131.9065251240168}, {\"carat\": 0.32, \"cut\": \"Ideal\", \"color\": \"D\", \"clarity\": \"VS2\", \"depth\": 62.2, \"table\": 56.0, \"price\": 972, \"x\": 4.39, \"y\": 4.36, \"z\": 2.72, \"model\": \"lm\", \"pred\": 696.8426264121534}, {\"carat\": 0.91, \"cut\": \"Ideal\", \"color\": \"E\", \"clarity\": \"SI1\", \"depth\": 61.9, \"table\": 55.0, \"price\": 5458, \"x\": 6.21, \"y\": 6.23, \"z\": 3.85, \"model\": \"gb\", \"pred\": 4731.156518788679}, {\"carat\": 1.26, \"cut\": \"Premium\", \"color\": \"D\", \"clarity\": \"VVS2\", \"depth\": 60.5, \"table\": 58.0, \"price\": 14663, \"x\": 6.99, \"y\": 7.03, \"z\": 4.24, \"model\": \"gb\", \"pred\": 13572.961055121987}, {\"carat\": 0.94, \"cut\": \"Ideal\", \"color\": \"G\", \"clarity\": \"VVS1\", \"depth\": 62.4, \"table\": 58.0, \"price\": 6488, \"x\": 6.22, \"y\": 6.27, \"z\": 3.9, \"model\": \"gb\", \"pred\": 6144.105248571043}, {\"carat\": 1.02, \"cut\": \"Premium\", \"color\": \"H\", \"clarity\": \"I1\", \"depth\": 62.5, \"table\": 60.0, \"price\": 3199, \"x\": 6.41, \"y\": 6.39, \"z\": 4.0, \"model\": \"lm\", \"pred\": 1591.7475420871313}, {\"carat\": 0.66, \"cut\": \"Very Good\", \"color\": \"D\", \"clarity\": \"VVS2\", \"depth\": 60.7, \"table\": 59.0, \"price\": 4311, \"x\": 5.6, \"y\": 5.67, \"z\": 3.42, \"model\": \"lm\", \"pred\": 4317.959193840537}, {\"carat\": 1.17, \"cut\": \"Ideal\", \"color\": \"G\", \"clarity\": \"VVS1\", \"depth\": 61.7, \"table\": 57.0, \"price\": 10342, \"x\": 6.84, \"y\": 6.9, \"z\": 4.13, \"model\": \"gb\", \"pred\": 10445.361797704032}, {\"carat\": 0.7, \"cut\": \"Ideal\", \"color\": \"G\", \"clarity\": \"VS2\", \"depth\": 62.1, \"table\": 57.0, \"price\": 2536, \"x\": 5.66, \"y\": 5.7, \"z\": 3.53, \"model\": \"gb\", \"pred\": 2717.2473263653437}, {\"carat\": 0.35, \"cut\": \"Very Good\", \"color\": \"D\", \"clarity\": \"VS1\", \"depth\": 60.9, \"table\": 58.0, \"price\": 763, \"x\": 4.54, \"y\": 4.56, \"z\": 2.77, \"model\": \"lm\", \"pred\": 1130.9387998350896}, {\"carat\": 0.91, \"cut\": \"Premium\", \"color\": \"G\", \"clarity\": \"SI2\", \"depth\": 61.3, \"table\": 60.0, \"price\": 3423, \"x\": 6.17, \"y\": 6.2, \"z\": 3.79, \"model\": \"lm\", \"pred\": 3712.7214803779707}, {\"carat\": 0.58, \"cut\": \"Ideal\", \"color\": \"E\", \"clarity\": \"VS1\", \"depth\": 62.9, \"table\": 54.0, \"price\": 2192, \"x\": 5.34, \"y\": 5.31, \"z\": 3.35, \"model\": \"gb\", \"pred\": 2064.599164875594}, {\"carat\": 2.12, \"cut\": \"Ideal\", \"color\": \"I\", \"clarity\": \"SI1\", \"depth\": 62.2, \"table\": 57.0, \"price\": 12284, \"x\": 8.21, \"y\": 8.14, \"z\": 5.08, \"model\": \"lm\", \"pred\": 14607.431598376868}, {\"carat\": 0.3, \"cut\": \"Ideal\", \"color\": \"E\", \"clarity\": \"VVS1\", \"depth\": 62.1, \"table\": 57.0, \"price\": 862, \"x\": 4.27, \"y\": 4.29, \"z\": 2.66, \"model\": \"lm\", \"pred\": 1161.6361103911067}, {\"carat\": 0.54, \"cut\": \"Premium\", \"color\": \"E\", \"clarity\": \"SI2\", \"depth\": 61.9, \"table\": 58.0, \"price\": 1250, \"x\": 5.24, \"y\": 5.19, \"z\": 3.23, \"model\": \"gb\", \"pred\": 1286.5317207534306}, {\"carat\": 0.9, \"cut\": \"Fair\", \"color\": \"H\", \"clarity\": \"SI2\", \"depth\": 66.0, \"table\": 63.0, \"price\": 2376, \"x\": 5.89, \"y\": 5.79, \"z\": 3.86, \"model\": \"gb\", \"pred\": 2704.7586751104304}, {\"carat\": 0.52, \"cut\": \"Ideal\", \"color\": \"D\", \"clarity\": \"VVS1\", \"depth\": 62.1, \"table\": 54.0, \"price\": 3373, \"x\": 5.15, \"y\": 5.18, \"z\": 3.21, \"model\": \"gb\", \"pred\": 2948.522844498881}, {\"carat\": 0.35, \"cut\": \"Fair\", \"color\": \"E\", \"clarity\": \"VVS2\", \"depth\": 66.2, \"table\": 61.0, \"price\": 738, \"x\": 4.4, \"y\": 4.36, \"z\": 2.9, \"model\": \"lm\", \"pred\": 502.8598812112986}, {\"carat\": 1.58, \"cut\": \"Very Good\", \"color\": \"H\", \"clarity\": \"VS1\", \"depth\": 60.3, \"table\": 62.0, \"price\": 12483, \"x\": 7.53, \"y\": 7.57, \"z\": 4.55, \"model\": \"gb\", \"pred\": 11617.851784472725}, {\"carat\": 0.32, \"cut\": \"Ideal\", \"color\": \"E\", \"clarity\": \"VS2\", \"depth\": 62.1, \"table\": 56.0, \"price\": 900, \"x\": 4.43, \"y\": 4.4, \"z\": 2.74, \"model\": \"gb\", \"pred\": 819.806787786211}, {\"carat\": 0.4, \"cut\": \"Ideal\", \"color\": \"I\", \"clarity\": \"SI1\", \"depth\": 61.6, \"table\": 56.0, \"price\": 765, \"x\": 4.74, \"y\": 4.68, \"z\": 2.9, \"model\": \"lm\", \"pred\": -676.7100795288998}, {\"carat\": 1.51, \"cut\": \"Ideal\", \"color\": \"E\", \"clarity\": \"SI1\", \"depth\": 62.2, \"table\": 56.0, \"price\": 13254, \"x\": 7.31, \"y\": 7.36, \"z\": 4.56, \"model\": \"gb\", \"pred\": 12000.361538234536}, {\"carat\": 0.75, \"cut\": \"Premium\", \"color\": \"F\", \"clarity\": \"VS2\", \"depth\": 61.6, \"table\": 58.0, \"price\": 3013, \"x\": 5.84, \"y\": 5.89, \"z\": 3.61, \"model\": \"lm\", \"pred\": 4085.709478058844}, {\"carat\": 1.08, \"cut\": \"Ideal\", \"color\": \"I\", \"clarity\": \"VS2\", \"depth\": 61.8, \"table\": 54.2, \"price\": 5357, \"x\": 6.57, \"y\": 6.6, \"z\": 4.07, \"model\": \"gb\", \"pred\": 5213.943846597007}, {\"carat\": 1.51, \"cut\": \"Very Good\", \"color\": \"J\", \"clarity\": \"SI1\", \"depth\": 62.4, \"table\": 58.0, \"price\": 7136, \"x\": 7.27, \"y\": 7.32, \"z\": 4.55, \"model\": \"gb\", \"pred\": 7195.8549560703295}, {\"carat\": 0.36, \"cut\": \"Premium\", \"color\": \"G\", \"clarity\": \"VS1\", \"depth\": 62.2, \"table\": 59.0, \"price\": 726, \"x\": 4.53, \"y\": 4.57, \"z\": 2.83, \"model\": \"lm\", \"pred\": 734.2795780136738}, {\"carat\": 0.7, \"cut\": \"Ideal\", \"color\": \"F\", \"clarity\": \"SI2\", \"depth\": 61.8, \"table\": 56.0, \"price\": 2171, \"x\": 5.69, \"y\": 5.71, \"z\": 3.52, \"model\": \"gb\", \"pred\": 2279.1645728867943}, {\"carat\": 0.56, \"cut\": \"Very Good\", \"color\": \"D\", \"clarity\": \"SI1\", \"depth\": 59.9, \"table\": 60.0, \"price\": 1723, \"x\": 5.33, \"y\": 5.39, \"z\": 3.21, \"model\": \"lm\", \"pred\": 2035.8348829368374}, {\"carat\": 0.52, \"cut\": \"Premium\", \"color\": \"F\", \"clarity\": \"SI1\", \"depth\": 61.5, \"table\": 60.0, \"price\": 1280, \"x\": 5.16, \"y\": 5.15, \"z\": 3.17, \"model\": \"lm\", \"pred\": 1397.75872044916}, {\"carat\": 1.32, \"cut\": \"Premium\", \"color\": \"G\", \"clarity\": \"VS1\", \"depth\": 60.6, \"table\": 57.0, \"price\": 9979, \"x\": 7.14, \"y\": 7.09, \"z\": 4.31, \"model\": \"lm\", \"pred\": 9264.963305216896}, {\"carat\": 0.55, \"cut\": \"Very Good\", \"color\": \"E\", \"clarity\": \"SI1\", \"depth\": 64.2, \"table\": 55.0, \"price\": 1417, \"x\": 5.18, \"y\": 5.2, \"z\": 3.33, \"model\": \"lm\", \"pred\": 1735.2911127423313}, {\"carat\": 0.91, \"cut\": \"Premium\", \"color\": \"F\", \"clarity\": \"SI1\", \"depth\": 61.7, \"table\": 59.0, \"price\": 4036, \"x\": 6.21, \"y\": 6.17, \"z\": 3.82, \"model\": \"gb\", \"pred\": 4153.710404550327}, {\"carat\": 0.5, \"cut\": \"Premium\", \"color\": \"F\", \"clarity\": \"VS1\", \"depth\": 61.3, \"table\": 59.0, \"price\": 1710, \"x\": 5.09, \"y\": 5.15, \"z\": 3.14, \"model\": \"lm\", \"pred\": 2181.2271250230506}, {\"carat\": 0.57, \"cut\": \"Very Good\", \"color\": \"E\", \"clarity\": \"VVS2\", \"depth\": 60.0, \"table\": 61.0, \"price\": 2485, \"x\": 5.36, \"y\": 5.44, \"z\": 3.24, \"model\": \"lm\", \"pred\": 3306.525113045761}, {\"carat\": 1.0, \"cut\": \"Good\", \"color\": \"I\", \"clarity\": \"SI1\", \"depth\": 61.0, \"table\": 60.0, \"price\": 4496, \"x\": 6.36, \"y\": 6.39, \"z\": 3.89, \"model\": \"gb\", \"pred\": 4102.8046530807815}, {\"carat\": 0.3, \"cut\": \"Ideal\", \"color\": \"H\", \"clarity\": \"VS1\", \"depth\": 62.1, \"table\": 54.0, \"price\": 526, \"x\": 4.32, \"y\": 4.35, \"z\": 2.69, \"model\": \"gb\", \"pred\": 551.6960792624363}, {\"carat\": 0.7, \"cut\": \"Ideal\", \"color\": \"D\", \"clarity\": \"VS1\", \"depth\": 62.9, \"table\": 57.0, \"price\": 3229, \"x\": 5.67, \"y\": 5.61, \"z\": 3.55, \"model\": \"gb\", \"pred\": 3270.605513235691}, {\"carat\": 1.19, \"cut\": \"Ideal\", \"color\": \"I\", \"clarity\": \"SI1\", \"depth\": 62.3, \"table\": 55.0, \"price\": 5690, \"x\": 6.8, \"y\": 6.82, \"z\": 4.24, \"model\": \"gb\", \"pred\": 5255.376581112525}, {\"carat\": 0.3, \"cut\": \"Very Good\", \"color\": \"D\", \"clarity\": \"SI1\", \"depth\": 61.3, \"table\": 60.0, \"price\": 552, \"x\": 4.26, \"y\": 4.32, \"z\": 2.63, \"model\": \"lm\", \"pred\": -274.5586265140346}, {\"carat\": 0.71, \"cut\": \"Premium\", \"color\": \"H\", \"clarity\": \"VS1\", \"depth\": 59.1, \"table\": 61.0, \"price\": 2572, \"x\": 5.87, \"y\": 5.83, \"z\": 3.46, \"model\": \"lm\", \"pred\": 3371.9265580884116}, {\"carat\": 0.91, \"cut\": \"Very Good\", \"color\": \"E\", \"clarity\": \"VS1\", \"depth\": 61.8, \"table\": 60.0, \"price\": 5530, \"x\": 6.17, \"y\": 6.2, \"z\": 3.82, \"model\": \"gb\", \"pred\": 5140.204414152211}, {\"carat\": 0.32, \"cut\": \"Good\", \"color\": \"E\", \"clarity\": \"SI1\", \"depth\": 63.2, \"table\": 56.0, \"price\": 561, \"x\": 4.35, \"y\": 4.38, \"z\": 2.76, \"model\": \"lm\", \"pred\": -501.46795965321235}, {\"carat\": 1.04, \"cut\": \"Premium\", \"color\": \"G\", \"clarity\": \"VS1\", \"depth\": 61.5, \"table\": 61.0, \"price\": 6814, \"x\": 6.56, \"y\": 6.51, \"z\": 4.02, \"model\": \"lm\", \"pred\": 6776.847218115955}, {\"carat\": 0.7, \"cut\": \"Very Good\", \"color\": \"F\", \"clarity\": \"SI2\", \"depth\": 56.9, \"table\": 62.0, \"price\": 2177, \"x\": 5.87, \"y\": 5.9, \"z\": 3.35, \"model\": \"gb\", \"pred\": 1974.279873793616}, {\"carat\": 0.31, \"cut\": \"Good\", \"color\": \"G\", \"clarity\": \"IF\", \"depth\": 63.9, \"table\": 58.0, \"price\": 924, \"x\": 4.27, \"y\": 4.3, \"z\": 2.74, \"model\": \"gb\", \"pred\": 856.5027344286414}, {\"carat\": 2.23, \"cut\": \"Very Good\", \"color\": \"G\", \"clarity\": \"I1\", \"depth\": 63.5, \"table\": 57.0, \"price\": 7006, \"x\": 8.24, \"y\": 8.2, \"z\": 5.22, \"model\": \"gb\", \"pred\": 7325.413222028166}, {\"carat\": 0.64, \"cut\": \"Good\", \"color\": \"F\", \"clarity\": \"VS1\", \"depth\": 57.7, \"table\": 61.0, \"price\": 2222, \"x\": 5.68, \"y\": 5.75, \"z\": 3.29, \"model\": \"lm\", \"pred\": 3211.6567137595644}, {\"carat\": 1.55, \"cut\": \"Ideal\", \"color\": \"D\", \"clarity\": \"SI1\", \"depth\": 61.7, \"table\": 57.0, \"price\": 9565, \"x\": 7.47, \"y\": 7.43, \"z\": 4.59, \"model\": \"gb\", \"pred\": 12719.177069190791}, {\"carat\": 0.36, \"cut\": \"Ideal\", \"color\": \"G\", \"clarity\": \"VVS2\", \"depth\": 62.3, \"table\": 56.0, \"price\": 1053, \"x\": 4.56, \"y\": 4.53, \"z\": 2.83, \"model\": \"gb\", \"pred\": 903.7666065978324}, {\"carat\": 1.5, \"cut\": \"Premium\", \"color\": \"G\", \"clarity\": \"SI1\", \"depth\": 62.3, \"table\": 60.0, \"price\": 7535, \"x\": 7.27, \"y\": 7.17, \"z\": 4.5, \"model\": \"lm\", \"pred\": 9903.27552184354}, {\"carat\": 0.34, \"cut\": \"Premium\", \"color\": \"H\", \"clarity\": \"VS2\", \"depth\": 61.9, \"table\": 56.0, \"price\": 689, \"x\": 4.49, \"y\": 4.46, \"z\": 2.77, \"model\": \"gb\", \"pred\": 669.1277026866069}, {\"carat\": 0.3, \"cut\": \"Ideal\", \"color\": \"G\", \"clarity\": \"IF\", \"depth\": 62.2, \"table\": 56.0, \"price\": 850, \"x\": 4.26, \"y\": 4.29, \"z\": 2.66, \"model\": \"lm\", \"pred\": 1214.7382553486632}, {\"carat\": 0.79, \"cut\": \"Ideal\", \"color\": \"F\", \"clarity\": \"SI1\", \"depth\": 62.0, \"table\": 55.0, \"price\": 3081, \"x\": 5.93, \"y\": 5.95, \"z\": 3.68, \"model\": \"lm\", \"pred\": 3925.872053973092}, {\"carat\": 1.01, \"cut\": \"Very Good\", \"color\": \"D\", \"clarity\": \"SI2\", \"depth\": 60.1, \"table\": 60.0, \"price\": 4690, \"x\": 6.41, \"y\": 6.47, \"z\": 3.87, \"model\": \"gb\", \"pred\": 4558.317822211558}, {\"carat\": 0.72, \"cut\": \"Fair\", \"color\": \"G\", \"clarity\": \"VS2\", \"depth\": 64.6, \"table\": 55.0, \"price\": 2306, \"x\": 5.66, \"y\": 5.71, \"z\": 3.67, \"model\": \"lm\", \"pred\": 2746.840205046929}, {\"carat\": 0.3, \"cut\": \"Ideal\", \"color\": \"F\", \"clarity\": \"VS2\", \"depth\": 60.4, \"table\": 56.0, \"price\": 776, \"x\": 4.37, \"y\": 4.34, \"z\": 2.63, \"model\": \"lm\", \"pred\": 215.81001618036132}, {\"carat\": 1.01, \"cut\": \"Very Good\", \"color\": \"E\", \"clarity\": \"VVS1\", \"depth\": 62.3, \"table\": 56.0, \"price\": 10704, \"x\": 6.41, \"y\": 6.47, \"z\": 4.01, \"model\": \"gb\", \"pred\": 10686.263941378003}, {\"carat\": 0.74, \"cut\": \"Ideal\", \"color\": \"G\", \"clarity\": \"SI2\", \"depth\": 62.7, \"table\": 56.0, \"price\": 2423, \"x\": 5.75, \"y\": 5.8, \"z\": 3.62, \"model\": \"gb\", \"pred\": 2333.0243783133537}, {\"carat\": 2.01, \"cut\": \"Premium\", \"color\": \"I\", \"clarity\": \"SI2\", \"depth\": 63.0, \"table\": 59.0, \"price\": 9658, \"x\": 8.04, \"y\": 7.97, \"z\": 5.04, \"model\": \"lm\", \"pred\": 12553.36088526488}, {\"carat\": 0.9, \"cut\": \"Premium\", \"color\": \"I\", \"clarity\": \"VS1\", \"depth\": 62.9, \"table\": 60.0, \"price\": 3484, \"x\": 6.09, \"y\": 6.05, \"z\": 3.82, \"model\": \"gb\", \"pred\": 3186.7615046721394}, {\"carat\": 0.24, \"cut\": \"Very Good\", \"color\": \"D\", \"clarity\": \"VVS2\", \"depth\": 60.1, \"table\": 57.0, \"price\": 499, \"x\": 4.03, \"y\": 4.09, \"z\": 2.44, \"model\": \"gb\", \"pred\": 553.8642848796649}, {\"carat\": 0.32, \"cut\": \"Premium\", \"color\": \"H\", \"clarity\": \"VS2\", \"depth\": 60.7, \"table\": 58.0, \"price\": 648, \"x\": 4.46, \"y\": 4.43, \"z\": 2.7, \"model\": \"gb\", \"pred\": 632.0214782204916}, {\"carat\": 0.25, \"cut\": \"Very Good\", \"color\": \"D\", \"clarity\": \"VS1\", \"depth\": 60.8, \"table\": 60.0, \"price\": 388, \"x\": 4.07, \"y\": 4.09, \"z\": 2.48, \"model\": \"lm\", \"pred\": 242.3259115847532}, {\"carat\": 0.37, \"cut\": \"Ideal\", \"color\": \"F\", \"clarity\": \"VVS2\", \"depth\": 61.6, \"table\": 57.0, \"price\": 920, \"x\": 4.59, \"y\": 4.63, \"z\": 2.84, \"model\": \"lm\", \"pred\": 1587.2093459750477}, {\"carat\": 0.74, \"cut\": \"Good\", \"color\": \"G\", \"clarity\": \"SI1\", \"depth\": 64.2, \"table\": 59.0, \"price\": 1865, \"x\": 5.69, \"y\": 5.62, \"z\": 3.63, \"model\": \"gb\", \"pred\": 2234.895831153865}, {\"carat\": 2.01, \"cut\": \"Very Good\", \"color\": \"H\", \"clarity\": \"SI2\", \"depth\": 63.2, \"table\": 57.0, \"price\": 14150, \"x\": 8.02, \"y\": 7.97, \"z\": 5.05, \"model\": \"gb\", \"pred\": 13506.989771463812}, {\"carat\": 0.9, \"cut\": \"Good\", \"color\": \"I\", \"clarity\": \"VS2\", \"depth\": 63.8, \"table\": 55.0, \"price\": 3246, \"x\": 6.16, \"y\": 6.07, \"z\": 3.9, \"model\": \"lm\", \"pred\": 4068.008486294705}, {\"carat\": 0.29, \"cut\": \"Very Good\", \"color\": \"F\", \"clarity\": \"VS1\", \"depth\": 61.2, \"table\": 58.0, \"price\": 504, \"x\": 4.24, \"y\": 4.29, \"z\": 2.61, \"model\": \"gb\", \"pred\": 554.1738726311801}, {\"carat\": 2.22, \"cut\": \"Very Good\", \"color\": \"I\", \"clarity\": \"SI2\", \"depth\": 63.2, \"table\": 57.0, \"price\": 16547, \"x\": 8.28, \"y\": 8.23, \"z\": 5.22, \"model\": \"lm\", \"pred\": 14398.768925196404}, {\"carat\": 0.38, \"cut\": \"Ideal\", \"color\": \"E\", \"clarity\": \"VVS2\", \"depth\": 61.6, \"table\": 55.0, \"price\": 1100, \"x\": 4.63, \"y\": 4.66, \"z\": 2.86, \"model\": \"lm\", \"pred\": 1767.6981860123333}, {\"carat\": 1.02, \"cut\": \"Ideal\", \"color\": \"E\", \"clarity\": \"SI2\", \"depth\": 62.4, \"table\": 55.0, \"price\": 4478, \"x\": 6.47, \"y\": 6.44, \"z\": 4.03, \"model\": \"gb\", \"pred\": 4722.555288275375}, {\"carat\": 0.35, \"cut\": \"Ideal\", \"color\": \"E\", \"clarity\": \"SI1\", \"depth\": 62.3, \"table\": 56.0, \"price\": 614, \"x\": 4.53, \"y\": 4.56, \"z\": 2.83, \"model\": \"gb\", \"pred\": 710.2537734989514}, {\"carat\": 0.75, \"cut\": \"Ideal\", \"color\": \"J\", \"clarity\": \"VS1\", \"depth\": 61.9, \"table\": 56.0, \"price\": 2161, \"x\": 5.81, \"y\": 5.85, \"z\": 3.61, \"model\": \"lm\", \"pred\": 2509.705553232531}, {\"carat\": 0.3, \"cut\": \"Very Good\", \"color\": \"E\", \"clarity\": \"VS2\", \"depth\": 62.8, \"table\": 56.0, \"price\": 658, \"x\": 4.28, \"y\": 4.32, \"z\": 2.7, \"model\": \"lm\", \"pred\": 157.90000675040483}, {\"carat\": 1.01, \"cut\": \"Fair\", \"color\": \"F\", \"clarity\": \"VS2\", \"depth\": 66.1, \"table\": 61.0, \"price\": 4791, \"x\": 6.1, \"y\": 6.04, \"z\": 4.01, \"model\": \"gb\", \"pred\": 5043.396733402178}, {\"carat\": 1.09, \"cut\": \"Premium\", \"color\": \"F\", \"clarity\": \"VS1\", \"depth\": 60.9, \"table\": 58.0, \"price\": 8057, \"x\": 6.63, \"y\": 6.67, \"z\": 4.05, \"model\": \"gb\", \"pred\": 7635.101252385086}, {\"carat\": 0.72, \"cut\": \"Ideal\", \"color\": \"E\", \"clarity\": \"VS2\", \"depth\": 60.8, \"table\": 56.0, \"price\": 3304, \"x\": 5.81, \"y\": 5.84, \"z\": 3.54, \"model\": \"gb\", \"pred\": 3282.543888235136}, {\"carat\": 0.31, \"cut\": \"Ideal\", \"color\": \"G\", \"clarity\": \"IF\", \"depth\": 61.9, \"table\": 56.0, \"price\": 871, \"x\": 4.33, \"y\": 4.35, \"z\": 2.68, \"model\": \"gb\", \"pred\": 890.0032784136915}, {\"carat\": 0.52, \"cut\": \"Very Good\", \"color\": \"H\", \"clarity\": \"VS1\", \"depth\": 63.5, \"table\": 58.0, \"price\": 1572, \"x\": 5.08, \"y\": 5.13, \"z\": 3.24, \"model\": \"gb\", \"pred\": 1474.2271389697187}, {\"carat\": 1.07, \"cut\": \"Very Good\", \"color\": \"E\", \"clarity\": \"IF\", \"depth\": 58.6, \"table\": 63.0, \"price\": 11475, \"x\": 6.7, \"y\": 6.79, \"z\": 3.95, \"model\": \"lm\", \"pred\": 8202.036988905194}, {\"carat\": 1.51, \"cut\": \"Very Good\", \"color\": \"J\", \"clarity\": \"VS1\", \"depth\": 61.2, \"table\": 63.0, \"price\": 8524, \"x\": 7.31, \"y\": 7.24, \"z\": 4.45, \"model\": \"lm\", \"pred\": 9113.625943292873}, {\"carat\": 0.41, \"cut\": \"Ideal\", \"color\": \"F\", \"clarity\": \"VS1\", \"depth\": 62.6, \"table\": 55.0, \"price\": 1076, \"x\": 4.77, \"y\": 4.75, \"z\": 2.98, \"model\": \"lm\", \"pred\": 1510.3340608457736}, {\"carat\": 0.43, \"cut\": \"Very Good\", \"color\": \"E\", \"clarity\": \"SI2\", \"depth\": 59.0, \"table\": 60.0, \"price\": 765, \"x\": 4.9, \"y\": 4.96, \"z\": 2.91, \"model\": \"lm\", \"pred\": -278.78235394666166}, {\"carat\": 1.0, \"cut\": \"Good\", \"color\": \"F\", \"clarity\": \"VS2\", \"depth\": 63.8, \"table\": 58.0, \"price\": 6098, \"x\": 6.28, \"y\": 6.32, \"z\": 4.02, \"model\": \"gb\", \"pred\": 5861.962763449314}, {\"carat\": 1.11, \"cut\": \"Very Good\", \"color\": \"E\", \"clarity\": \"SI2\", \"depth\": 62.8, \"table\": 55.0, \"price\": 4914, \"x\": 6.6, \"y\": 6.62, \"z\": 4.15, \"model\": \"gb\", \"pred\": 4755.467949196367}, {\"carat\": 0.3, \"cut\": \"Ideal\", \"color\": \"E\", \"clarity\": \"VVS2\", \"depth\": 62.3, \"table\": 56.0, \"price\": 766, \"x\": 4.3, \"y\": 4.34, \"z\": 2.69, \"model\": \"gb\", \"pred\": 799.5778655411183}, {\"carat\": 0.42, \"cut\": \"Very Good\", \"color\": \"D\", \"clarity\": \"SI1\", \"depth\": 62.8, \"table\": 58.0, \"price\": 810, \"x\": 4.76, \"y\": 4.79, \"z\": 3.0, \"model\": \"gb\", \"pred\": 883.6609884753329}, {\"carat\": 1.41, \"cut\": \"Premium\", \"color\": \"I\", \"clarity\": \"SI2\", \"depth\": 62.9, \"table\": 59.0, \"price\": 6751, \"x\": 7.14, \"y\": 7.08, \"z\": 4.47, \"model\": \"gb\", \"pred\": 6016.917405853416}, {\"carat\": 0.4, \"cut\": \"Ideal\", \"color\": \"D\", \"clarity\": \"VS2\", \"depth\": 61.3, \"table\": 57.0, \"price\": 982, \"x\": 4.75, \"y\": 4.77, \"z\": 2.92, \"model\": \"gb\", \"pred\": 1038.1888393826289}, {\"carat\": 0.33, \"cut\": \"Ideal\", \"color\": \"G\", \"clarity\": \"VS1\", \"depth\": 62.1, \"table\": 55.0, \"price\": 854, \"x\": 4.46, \"y\": 4.43, \"z\": 2.76, \"model\": \"lm\", \"pred\": 596.5542467866007}, {\"carat\": 1.03, \"cut\": \"Premium\", \"color\": \"G\", \"clarity\": \"SI1\", \"depth\": 60.1, \"table\": 60.0, \"price\": 5581, \"x\": 6.55, \"y\": 6.52, \"z\": 3.93, \"model\": \"gb\", \"pred\": 4867.582513463354}, {\"carat\": 0.71, \"cut\": \"Ideal\", \"color\": \"D\", \"clarity\": \"SI2\", \"depth\": 62.5, \"table\": 56.0, \"price\": 2487, \"x\": 5.7, \"y\": 5.73, \"z\": 3.57, \"model\": \"gb\", \"pred\": 2557.5899697161717}, {\"carat\": 1.44, \"cut\": \"Premium\", \"color\": \"I\", \"clarity\": \"VS1\", \"depth\": 62.6, \"table\": 59.0, \"price\": 8426, \"x\": 7.08, \"y\": 7.14, \"z\": 4.45, \"model\": \"lm\", \"pred\": 9397.196405250515}, {\"carat\": 0.77, \"cut\": \"Very Good\", \"color\": \"F\", \"clarity\": \"VVS2\", \"depth\": 60.6, \"table\": 60.0, \"price\": 3917, \"x\": 5.89, \"y\": 5.92, \"z\": 3.58, \"model\": \"gb\", \"pred\": 3384.1180756116723}, {\"carat\": 0.43, \"cut\": \"Premium\", \"color\": \"G\", \"clarity\": \"VVS1\", \"depth\": 60.3, \"table\": 58.0, \"price\": 1207, \"x\": 4.87, \"y\": 4.91, \"z\": 2.95, \"model\": \"gb\", \"pred\": 1206.6562354309922}, {\"carat\": 0.52, \"cut\": \"Premium\", \"color\": \"H\", \"clarity\": \"VVS2\", \"depth\": 61.1, \"table\": 59.0, \"price\": 2246, \"x\": 5.21, \"y\": 5.17, \"z\": 3.17, \"model\": \"lm\", \"pred\": 2115.8825108421815}, {\"carat\": 1.18, \"cut\": \"Premium\", \"color\": \"F\", \"clarity\": \"SI1\", \"depth\": 62.3, \"table\": 59.0, \"price\": 6542, \"x\": 6.75, \"y\": 6.67, \"z\": 4.18, \"model\": \"gb\", \"pred\": 5719.214271256371}, {\"carat\": 1.16, \"cut\": \"Ideal\", \"color\": \"I\", \"clarity\": \"VS2\", \"depth\": 60.1, \"table\": 62.0, \"price\": 5587, \"x\": 6.83, \"y\": 6.78, \"z\": 4.09, \"model\": \"gb\", \"pred\": 5283.573282426825}, {\"carat\": 1.01, \"cut\": \"Premium\", \"color\": \"E\", \"clarity\": \"SI1\", \"depth\": 60.7, \"table\": 58.0, \"price\": 5525, \"x\": 6.5, \"y\": 6.48, \"z\": 3.94, \"model\": \"gb\", \"pred\": 5288.61782899466}, {\"carat\": 1.26, \"cut\": \"Ideal\", \"color\": \"J\", \"clarity\": \"VS2\", \"depth\": 63.2, \"table\": 57.0, \"price\": 5306, \"x\": 6.86, \"y\": 6.81, \"z\": 4.32, \"model\": \"lm\", \"pred\": 6724.581415719199}, {\"carat\": 0.38, \"cut\": \"Premium\", \"color\": \"E\", \"clarity\": \"SI1\", \"depth\": 58.1, \"table\": 58.0, \"price\": 658, \"x\": 4.85, \"y\": 4.79, \"z\": 2.8, \"model\": \"gb\", \"pred\": 862.717191408991}, {\"carat\": 1.0, \"cut\": \"Fair\", \"color\": \"E\", \"clarity\": \"VS2\", \"depth\": 65.0, \"table\": 58.0, \"price\": 5376, \"x\": 6.21, \"y\": 6.16, \"z\": 4.02, \"model\": \"lm\", \"pred\": 5529.473346819027}, {\"carat\": 1.06, \"cut\": \"Very Good\", \"color\": \"G\", \"clarity\": \"VS1\", \"depth\": 62.8, \"table\": 54.0, \"price\": 6663, \"x\": 6.5, \"y\": 6.56, \"z\": 4.1, \"model\": \"gb\", \"pred\": 6846.435455071178}, {\"carat\": 0.51, \"cut\": \"Premium\", \"color\": \"E\", \"clarity\": \"SI2\", \"depth\": 60.3, \"table\": 56.0, \"price\": 1205, \"x\": 5.22, \"y\": 5.19, \"z\": 3.14, \"model\": \"lm\", \"pred\": 452.786982047789}, {\"carat\": 0.75, \"cut\": \"Good\", \"color\": \"D\", \"clarity\": \"SI1\", \"depth\": 63.6, \"table\": 58.0, \"price\": 3078, \"x\": 5.65, \"y\": 5.77, \"z\": 3.63, \"model\": \"lm\", \"pred\": 3531.2499411927006}, {\"carat\": 1.19, \"cut\": \"Ideal\", \"color\": \"F\", \"clarity\": \"VVS2\", \"depth\": 61.7, \"table\": 56.0, \"price\": 10436, \"x\": 6.82, \"y\": 6.85, \"z\": 4.22, \"model\": \"gb\", \"pred\": 11358.825428242466}, {\"carat\": 0.26, \"cut\": \"Premium\", \"color\": \"D\", \"clarity\": \"VS1\", \"depth\": 60.0, \"table\": 56.0, \"price\": 546, \"x\": 4.18, \"y\": 4.15, \"z\": 2.5, \"model\": \"lm\", \"pred\": 351.86622580397034}, {\"carat\": 0.42, \"cut\": \"Ideal\", \"color\": \"I\", \"clarity\": \"VS2\", \"depth\": 61.4, \"table\": 56.0, \"price\": 1081, \"x\": 4.83, \"y\": 4.85, \"z\": 2.97, \"model\": \"lm\", \"pred\": 145.15361275507803}, {\"carat\": 1.0, \"cut\": \"Fair\", \"color\": \"J\", \"clarity\": \"SI1\", \"depth\": 64.9, \"table\": 58.0, \"price\": 3427, \"x\": 6.29, \"y\": 6.23, \"z\": 4.06, \"model\": \"lm\", \"pred\": 2771.7923533084786}, {\"carat\": 0.71, \"cut\": \"Very Good\", \"color\": \"I\", \"clarity\": \"VS2\", \"depth\": 61.1, \"table\": 60.0, \"price\": 2384, \"x\": 5.72, \"y\": 5.77, \"z\": 3.51, \"model\": \"lm\", \"pred\": 2572.593428038842}, {\"carat\": 2.2, \"cut\": \"Premium\", \"color\": \"H\", \"clarity\": \"SI1\", \"depth\": 61.2, \"table\": 59.0, \"price\": 17265, \"x\": 8.42, \"y\": 8.37, \"z\": 0.0, \"model\": \"gb\", \"pred\": 16081.504044701336}, {\"carat\": 1.12, \"cut\": \"Ideal\", \"color\": \"G\", \"clarity\": \"VVS2\", \"depth\": 61.5, \"table\": 57.0, \"price\": 10305, \"x\": 6.65, \"y\": 6.67, \"z\": 4.1, \"model\": \"gb\", \"pred\": 8597.20877539613}, {\"carat\": 1.65, \"cut\": \"Ideal\", \"color\": \"G\", \"clarity\": \"VS2\", \"depth\": 61.9, \"table\": 57.0, \"price\": 14593, \"x\": 7.65, \"y\": 7.61, \"z\": 4.72, \"model\": \"gb\", \"pred\": 14869.042390532231}, {\"carat\": 1.62, \"cut\": \"Very Good\", \"color\": \"D\", \"clarity\": \"SI2\", \"depth\": 61.2, \"table\": 61.0, \"price\": 9034, \"x\": 7.53, \"y\": 7.6, \"z\": 4.63, \"model\": \"lm\", \"pred\": 10507.393497601804}, {\"carat\": 1.01, \"cut\": \"Very Good\", \"color\": \"F\", \"clarity\": \"SI2\", \"depth\": 63.3, \"table\": 57.0, \"price\": 4299, \"x\": 6.39, \"y\": 6.37, \"z\": 4.04, \"model\": \"gb\", \"pred\": 4198.578071210204}, {\"carat\": 1.2, \"cut\": \"Ideal\", \"color\": \"H\", \"clarity\": \"VS2\", \"depth\": 62.2, \"table\": 55.0, \"price\": 6956, \"x\": 6.76, \"y\": 6.85, \"z\": 4.23, \"model\": \"lm\", \"pred\": 7537.938378173038}, {\"carat\": 0.64, \"cut\": \"Very Good\", \"color\": \"D\", \"clarity\": \"SI1\", \"depth\": 62.3, \"table\": 58.0, \"price\": 1969, \"x\": 5.49, \"y\": 5.53, \"z\": 3.43, \"model\": \"lm\", \"pred\": 2746.725193537105}, {\"carat\": 0.31, \"cut\": \"Premium\", \"color\": \"D\", \"clarity\": \"SI2\", \"depth\": 61.5, \"table\": 60.0, \"price\": 593, \"x\": 4.34, \"y\": 4.31, \"z\": 2.66, \"model\": \"lm\", \"pred\": -1112.7563130834096}, {\"carat\": 1.22, \"cut\": \"Ideal\", \"color\": \"H\", \"clarity\": \"VVS2\", \"depth\": 61.8, \"table\": 57.0, \"price\": 8014, \"x\": 6.85, \"y\": 6.89, \"z\": 4.25, \"model\": \"gb\", \"pred\": 8532.582764359793}, {\"carat\": 0.33, \"cut\": \"Ideal\", \"color\": \"H\", \"clarity\": \"VS1\", \"depth\": 61.9, \"table\": 55.0, \"price\": 598, \"x\": 4.46, \"y\": 4.49, \"z\": 2.77, \"model\": \"lm\", \"pred\": 124.05611798516384}, {\"carat\": 0.72, \"cut\": \"Ideal\", \"color\": \"G\", \"clarity\": \"VVS2\", \"depth\": 61.9, \"table\": 57.0, \"price\": 3849, \"x\": 5.72, \"y\": 5.75, \"z\": 3.55, \"model\": \"lm\", \"pred\": 4494.464951392317}, {\"carat\": 0.39, \"cut\": \"Ideal\", \"color\": \"G\", \"clarity\": \"VS1\", \"depth\": 61.3, \"table\": 56.0, \"price\": 752, \"x\": 4.68, \"y\": 4.71, \"z\": 2.88, \"model\": \"lm\", \"pred\": 1129.7219797368007}, {\"carat\": 0.71, \"cut\": \"Ideal\", \"color\": \"E\", \"clarity\": \"VS1\", \"depth\": 62.4, \"table\": 57.0, \"price\": 3354, \"x\": 5.67, \"y\": 5.71, \"z\": 3.55, \"model\": \"lm\", \"pred\": 4267.800276809033}, {\"carat\": 0.54, \"cut\": \"Ideal\", \"color\": \"D\", \"clarity\": \"VVS1\", \"depth\": 61.4, \"table\": 58.0, \"price\": 3139, \"x\": 5.28, \"y\": 5.25, \"z\": 3.23, \"model\": \"lm\", \"pred\": 3505.9895235613867}, {\"carat\": 1.1, \"cut\": \"Premium\", \"color\": \"G\", \"clarity\": \"VS2\", \"depth\": 62.8, \"table\": 58.0, \"price\": 6387, \"x\": 6.6, \"y\": 6.58, \"z\": 4.14, \"model\": \"gb\", \"pred\": 6354.0082515800805}, {\"carat\": 0.75, \"cut\": \"Ideal\", \"color\": \"I\", \"clarity\": \"SI1\", \"depth\": 61.8, \"table\": 55.0, \"price\": 2871, \"x\": 5.83, \"y\": 5.85, \"z\": 3.61, \"model\": \"lm\", \"pred\": 2433.435029347273}, {\"carat\": 0.51, \"cut\": \"Premium\", \"color\": \"F\", \"clarity\": \"VVS2\", \"depth\": 62.3, \"table\": 58.0, \"price\": 1953, \"x\": 5.08, \"y\": 5.1, \"z\": 3.17, \"model\": \"lm\", \"pred\": 2702.408854277491}, {\"carat\": 0.5, \"cut\": \"Very Good\", \"color\": \"D\", \"clarity\": \"SI2\", \"depth\": 58.9, \"table\": 60.0, \"price\": 1123, \"x\": 5.2, \"y\": 5.23, \"z\": 3.07, \"model\": \"lm\", \"pred\": 554.9291491980448}, {\"carat\": 0.35, \"cut\": \"Ideal\", \"color\": \"E\", \"clarity\": \"SI2\", \"depth\": 61.7, \"table\": 56.0, \"price\": 491, \"x\": 4.53, \"y\": 4.55, \"z\": 2.8, \"model\": \"gb\", \"pred\": 582.1791070398381}, {\"carat\": 0.51, \"cut\": \"Premium\", \"color\": \"I\", \"clarity\": \"SI1\", \"depth\": 61.3, \"table\": 58.0, \"price\": 1084, \"x\": 5.16, \"y\": 5.11, \"z\": 3.15, \"model\": \"gb\", \"pred\": 1078.7856101865386}, {\"carat\": 0.71, \"cut\": \"Premium\", \"color\": \"F\", \"clarity\": \"VS1\", \"depth\": 58.6, \"table\": 62.0, \"price\": 3082, \"x\": 5.88, \"y\": 5.82, \"z\": 3.43, \"model\": \"gb\", \"pred\": 2947.070269350565}, {\"carat\": 0.44, \"cut\": \"Ideal\", \"color\": \"F\", \"clarity\": \"SI1\", \"depth\": 61.0, \"table\": 57.0, \"price\": 1040, \"x\": 4.91, \"y\": 4.89, \"z\": 2.99, \"model\": \"lm\", \"pred\": 815.7269450969188}, {\"carat\": 0.32, \"cut\": \"Ideal\", \"color\": \"G\", \"clarity\": \"VVS2\", \"depth\": 60.6, \"table\": 57.0, \"price\": 730, \"x\": 4.41, \"y\": 4.43, \"z\": 2.68, \"model\": \"gb\", \"pred\": 775.9540647455929}, {\"carat\": 0.9, \"cut\": \"Very Good\", \"color\": \"G\", \"clarity\": \"VS1\", \"depth\": 62.4, \"table\": 55.0, \"price\": 4358, \"x\": 6.11, \"y\": 6.17, \"z\": 3.83, \"model\": \"gb\", \"pred\": 4752.11051528216}, {\"carat\": 1.2, \"cut\": \"Ideal\", \"color\": \"J\", \"clarity\": \"SI1\", \"depth\": 62.5, \"table\": 55.0, \"price\": 4536, \"x\": 6.84, \"y\": 6.79, \"z\": 4.26, \"model\": \"gb\", \"pred\": 5059.709708897999}, {\"carat\": 0.32, \"cut\": \"Ideal\", \"color\": \"I\", \"clarity\": \"VS2\", \"depth\": 61.6, \"table\": 56.0, \"price\": 576, \"x\": 4.39, \"y\": 4.37, \"z\": 2.7, \"model\": \"lm\", \"pred\": -743.4592754952563}, {\"carat\": 2.01, \"cut\": \"Very Good\", \"color\": \"I\", \"clarity\": \"SI1\", \"depth\": 64.1, \"table\": 57.0, \"price\": 15145, \"x\": 7.89, \"y\": 7.94, \"z\": 5.07, \"model\": \"lm\", \"pred\": 13480.419860659287}, {\"carat\": 0.57, \"cut\": \"Good\", \"color\": \"G\", \"clarity\": \"VS2\", \"depth\": 58.2, \"table\": 66.0, \"price\": 1816, \"x\": 5.34, \"y\": 5.45, \"z\": 3.14, \"model\": \"lm\", \"pred\": 2069.688320935379}, {\"carat\": 0.34, \"cut\": \"Ideal\", \"color\": \"D\", \"clarity\": \"SI1\", \"depth\": 61.2, \"table\": 57.0, \"price\": 803, \"x\": 4.51, \"y\": 4.48, \"z\": 2.75, \"model\": \"gb\", \"pred\": 761.3832772775992}, {\"carat\": 1.54, \"cut\": \"Premium\", \"color\": \"G\", \"clarity\": \"VS1\", \"depth\": 61.9, \"table\": 59.0, \"price\": 13609, \"x\": 7.34, \"y\": 7.37, \"z\": 4.55, \"model\": \"gb\", \"pred\": 14066.090468497383}, {\"carat\": 0.53, \"cut\": \"Ideal\", \"color\": \"G\", \"clarity\": \"VVS1\", \"depth\": 61.8, \"table\": 56.0, \"price\": 1956, \"x\": 5.19, \"y\": 5.24, \"z\": 3.22, \"model\": \"lm\", \"pred\": 2910.9286986957227}, {\"carat\": 0.24, \"cut\": \"Very Good\", \"color\": \"D\", \"clarity\": \"VS2\", \"depth\": 61.4, \"table\": 60.0, \"price\": 373, \"x\": 3.98, \"y\": 4.0, \"z\": 2.45, \"model\": \"lm\", \"pred\": -163.58524483032397}, {\"carat\": 0.71, \"cut\": \"Premium\", \"color\": \"I\", \"clarity\": \"VS1\", \"depth\": 62.5, \"table\": 61.0, \"price\": 2202, \"x\": 5.68, \"y\": 5.64, \"z\": 3.54, \"model\": \"lm\", \"pred\": 2910.322321023067}, {\"carat\": 0.3, \"cut\": \"Ideal\", \"color\": \"E\", \"clarity\": \"VVS1\", \"depth\": 62.3, \"table\": 55.0, \"price\": 862, \"x\": 4.31, \"y\": 4.32, \"z\": 2.69, \"model\": \"lm\", \"pred\": 1161.6361103911067}, {\"carat\": 0.3, \"cut\": \"Ideal\", \"color\": \"D\", \"clarity\": \"VS2\", \"depth\": 62.3, \"table\": 56.0, \"price\": 790, \"x\": 4.31, \"y\": 4.29, \"z\": 2.68, \"model\": \"gb\", \"pred\": 807.0991805783909}, {\"carat\": 1.01, \"cut\": \"Very Good\", \"color\": \"G\", \"clarity\": \"VS2\", \"depth\": 63.4, \"table\": 55.0, \"price\": 6406, \"x\": 6.35, \"y\": 6.4, \"z\": 4.04, \"model\": \"gb\", \"pred\": 6111.2820920372815}, {\"carat\": 0.31, \"cut\": \"Premium\", \"color\": \"F\", \"clarity\": \"VS2\", \"depth\": 59.4, \"table\": 58.0, \"price\": 583, \"x\": 4.37, \"y\": 4.45, \"z\": 2.62, \"model\": \"lm\", \"pred\": 175.81276975736822}, {\"carat\": 0.38, \"cut\": \"Premium\", \"color\": \"J\", \"clarity\": \"VVS2\", \"depth\": 60.5, \"table\": 59.0, \"price\": 778, \"x\": 4.72, \"y\": 4.69, \"z\": 2.84, \"model\": \"lm\", \"pred\": -474.7002281123287}, {\"carat\": 0.3, \"cut\": \"Ideal\", \"color\": \"F\", \"clarity\": \"VVS2\", \"depth\": 61.4, \"table\": 56.0, \"price\": 694, \"x\": 4.32, \"y\": 4.35, \"z\": 2.66, \"model\": \"gb\", \"pred\": 780.5568148085354}, {\"carat\": 0.32, \"cut\": \"Ideal\", \"color\": \"E\", \"clarity\": \"VVS1\", \"depth\": 60.9, \"table\": 57.0, \"price\": 954, \"x\": 4.42, \"y\": 4.45, \"z\": 2.7, \"model\": \"lm\", \"pred\": 1339.358688041174}, {\"carat\": 0.94, \"cut\": \"Premium\", \"color\": \"E\", \"clarity\": \"SI2\", \"depth\": 62.4, \"table\": 58.0, \"price\": 4027, \"x\": 6.33, \"y\": 6.26, \"z\": 3.93, \"model\": \"gb\", \"pred\": 3866.371635876267}, {\"carat\": 0.37, \"cut\": \"Premium\", \"color\": \"D\", \"clarity\": \"VVS2\", \"depth\": 60.7, \"table\": 59.0, \"price\": 1038, \"x\": 4.66, \"y\": 4.63, \"z\": 2.82, \"model\": \"lm\", \"pred\": 1761.6608433087467}, {\"carat\": 1.52, \"cut\": \"Very Good\", \"color\": \"G\", \"clarity\": \"SI1\", \"depth\": 62.4, \"table\": 60.0, \"price\": 11014, \"x\": 7.25, \"y\": 7.34, \"z\": 4.55, \"model\": \"lm\", \"pred\": 10060.319074099423}, {\"carat\": 0.52, \"cut\": \"Ideal\", \"color\": \"I\", \"clarity\": \"VVS1\", \"depth\": 60.1, \"table\": 56.0, \"price\": 1454, \"x\": 5.24, \"y\": 5.27, \"z\": 3.16, \"model\": \"lm\", \"pred\": 1887.9650440039068}, {\"carat\": 1.0, \"cut\": \"Very Good\", \"color\": \"E\", \"clarity\": \"SI1\", \"depth\": 63.1, \"table\": 57.0, \"price\": 5051, \"x\": 6.36, \"y\": 6.39, \"z\": 4.02, \"model\": \"gb\", \"pred\": 5219.16773925875}, {\"carat\": 0.7, \"cut\": \"Fair\", \"color\": \"H\", \"clarity\": \"SI1\", \"depth\": 61.0, \"table\": 66.0, \"price\": 1995, \"x\": 5.68, \"y\": 5.64, \"z\": 3.45, \"model\": \"gb\", \"pred\": 1909.3785139859162}, {\"carat\": 0.72, \"cut\": \"Good\", \"color\": \"I\", \"clarity\": \"SI1\", \"depth\": 63.6, \"table\": 59.0, \"price\": 1909, \"x\": 5.61, \"y\": 5.58, \"z\": 3.56, \"model\": \"gb\", \"pred\": 1966.2792262017235}, {\"carat\": 0.31, \"cut\": \"Good\", \"color\": \"E\", \"clarity\": \"VS1\", \"depth\": 59.0, \"table\": 63.0, \"price\": 600, \"x\": 4.44, \"y\": 4.47, \"z\": 2.63, \"model\": \"gb\", \"pred\": 682.5232277132078}, {\"carat\": 0.59, \"cut\": \"Very Good\", \"color\": \"G\", \"clarity\": \"SI1\", \"depth\": 59.3, \"table\": 58.0, \"price\": 1555, \"x\": 5.45, \"y\": 5.51, \"z\": 3.25, \"model\": \"gb\", \"pred\": 1442.5015984388504}, {\"carat\": 0.31, \"cut\": \"Ideal\", \"color\": \"E\", \"clarity\": \"VVS2\", \"depth\": 61.8, \"table\": 54.0, \"price\": 864, \"x\": 4.34, \"y\": 4.36, \"z\": 2.69, \"model\": \"lm\", \"pred\": 1145.6691642370995}, {\"carat\": 1.7, \"cut\": \"Premium\", \"color\": \"J\", \"clarity\": \"VS2\", \"depth\": 62.8, \"table\": 59.0, \"price\": 9939, \"x\": 7.6, \"y\": 7.55, \"z\": 4.76, \"model\": \"gb\", \"pred\": 9240.395628461052}, {\"carat\": 1.02, \"cut\": \"Very Good\", \"color\": \"E\", \"clarity\": \"SI1\", \"depth\": 63.5, \"table\": 55.0, \"price\": 5245, \"x\": 6.3, \"y\": 6.37, \"z\": 4.02, \"model\": \"lm\", \"pred\": 5911.771687518907}, {\"carat\": 0.47, \"cut\": \"Ideal\", \"color\": \"D\", \"clarity\": \"VVS1\", \"depth\": 62.0, \"table\": 54.0, \"price\": 2460, \"x\": 4.99, \"y\": 5.01, \"z\": 3.1, \"model\": \"lm\", \"pred\": 2883.9605017861495}, {\"carat\": 0.71, \"cut\": \"Very Good\", \"color\": \"F\", \"clarity\": \"VVS2\", \"depth\": 60.6, \"table\": 58.0, \"price\": 3494, \"x\": 5.76, \"y\": 5.79, \"z\": 3.5, \"model\": \"gb\", \"pred\": 3297.75209684544}, {\"carat\": 1.06, \"cut\": \"Premium\", \"color\": \"D\", \"clarity\": \"SI2\", \"depth\": 62.5, \"table\": 56.0, \"price\": 5393, \"x\": 6.61, \"y\": 6.47, \"z\": 4.09, \"model\": \"lm\", \"pred\": 5551.840348794107}, {\"carat\": 1.0, \"cut\": \"Very Good\", \"color\": \"E\", \"clarity\": \"SI1\", \"depth\": 63.1, \"table\": 57.0, \"price\": 5051, \"x\": 6.36, \"y\": 6.39, \"z\": 4.02, \"model\": \"lm\", \"pred\": 5734.049109868842}, {\"carat\": 1.7, \"cut\": \"Premium\", \"color\": \"J\", \"clarity\": \"VS2\", \"depth\": 62.9, \"table\": 62.0, \"price\": 9225, \"x\": 7.47, \"y\": 7.38, \"z\": 4.67, \"model\": \"lm\", \"pred\": 10505.619588772646}, {\"carat\": 0.9, \"cut\": \"Very Good\", \"color\": \"E\", \"clarity\": \"SI2\", \"depth\": 63.4, \"table\": 56.0, \"price\": 3187, \"x\": 6.15, \"y\": 5.99, \"z\": 3.85, \"model\": \"lm\", \"pred\": 3897.698220829915}, {\"carat\": 0.4, \"cut\": \"Premium\", \"color\": \"E\", \"clarity\": \"SI2\", \"depth\": 60.5, \"table\": 59.0, \"price\": 640, \"x\": 4.74, \"y\": 4.78, \"z\": 2.88, \"model\": \"gb\", \"pred\": 716.2084384743563}, {\"carat\": 1.0, \"cut\": \"Premium\", \"color\": \"G\", \"clarity\": \"VVS2\", \"depth\": 62.8, \"table\": 59.0, \"price\": 7840, \"x\": 6.43, \"y\": 6.38, \"z\": 4.02, \"model\": \"gb\", \"pred\": 7178.014166033498}, {\"carat\": 0.5, \"cut\": \"Good\", \"color\": \"I\", \"clarity\": \"VS2\", \"depth\": 60.4, \"table\": 64.0, \"price\": 1047, \"x\": 5.12, \"y\": 5.08, \"z\": 3.08, \"model\": \"gb\", \"pred\": 1161.8490569546325}, {\"carat\": 0.32, \"cut\": \"Ideal\", \"color\": \"F\", \"clarity\": \"VS2\", \"depth\": 61.7, \"table\": 55.0, \"price\": 645, \"x\": 4.4, \"y\": 4.41, \"z\": 2.72, \"model\": \"gb\", \"pred\": 716.2060245062662}, {\"carat\": 0.51, \"cut\": \"Premium\", \"color\": \"I\", \"clarity\": \"SI1\", \"depth\": 62.7, \"table\": 59.0, \"price\": 984, \"x\": 5.06, \"y\": 5.09, \"z\": 3.18, \"model\": \"lm\", \"pred\": 171.9055622984415}, {\"carat\": 0.9, \"cut\": \"Very Good\", \"color\": \"E\", \"clarity\": \"VS2\", \"depth\": 62.2, \"table\": 56.0, \"price\": 4707, \"x\": 6.12, \"y\": 6.17, \"z\": 3.82, \"model\": \"gb\", \"pred\": 4826.078142104341}, {\"carat\": 1.0, \"cut\": \"Good\", \"color\": \"I\", \"clarity\": \"SI1\", \"depth\": 65.6, \"table\": 56.0, \"price\": 4042, \"x\": 6.23, \"y\": 6.3, \"z\": 4.11, \"model\": \"lm\", \"pred\": 4312.480259911129}, {\"carat\": 0.7, \"cut\": \"Ideal\", \"color\": \"G\", \"clarity\": \"SI1\", \"depth\": 60.9, \"table\": 56.0, \"price\": 2965, \"x\": 5.73, \"y\": 5.79, \"z\": 3.51, \"model\": \"lm\", \"pred\": 2923.230951088885}, {\"carat\": 1.5, \"cut\": \"Very Good\", \"color\": \"F\", \"clarity\": \"SI1\", \"depth\": 63.0, \"table\": 55.0, \"price\": 10372, \"x\": 7.27, \"y\": 7.31, \"z\": 4.59, \"model\": \"gb\", \"pred\": 11353.153796044548}, {\"carat\": 0.75, \"cut\": \"Ideal\", \"color\": \"J\", \"clarity\": \"VS1\", \"depth\": 61.9, \"table\": 56.0, \"price\": 2161, \"x\": 5.81, \"y\": 5.85, \"z\": 3.61, \"model\": \"gb\", \"pred\": 2360.7191416748306}, {\"carat\": 0.4, \"cut\": \"Ideal\", \"color\": \"G\", \"clarity\": \"VS2\", \"depth\": 62.1, \"table\": 58.0, \"price\": 859, \"x\": 4.68, \"y\": 4.72, \"z\": 2.92, \"model\": \"lm\", \"pred\": 901.5334009717908}, {\"carat\": 1.5, \"cut\": \"Very Good\", \"color\": \"E\", \"clarity\": \"VS1\", \"depth\": 59.0, \"table\": 62.0, \"price\": 15957, \"x\": 7.45, \"y\": 7.47, \"z\": 4.4, \"model\": \"lm\", \"pred\": 11138.304533344473}, {\"carat\": 0.5, \"cut\": \"Ideal\", \"color\": \"H\", \"clarity\": \"SI1\", \"depth\": 61.3, \"table\": 56.0, \"price\": 1666, \"x\": 5.12, \"y\": 5.16, \"z\": 3.15, \"model\": \"gb\", \"pred\": 1171.2707240913498}, {\"carat\": 1.5, \"cut\": \"Very Good\", \"color\": \"J\", \"clarity\": \"VVS1\", \"depth\": 62.3, \"table\": 62.0, \"price\": 8415, \"x\": 7.16, \"y\": 7.23, \"z\": 4.48, \"model\": \"lm\", \"pred\": 9561.913329876286}, {\"carat\": 0.93, \"cut\": \"Premium\", \"color\": \"E\", \"clarity\": \"SI2\", \"depth\": 60.5, \"table\": 57.0, \"price\": 4250, \"x\": 6.37, \"y\": 6.32, \"z\": 3.84, \"model\": \"lm\", \"pred\": 4184.961112699198}, {\"carat\": 0.9, \"cut\": \"Fair\", \"color\": \"F\", \"clarity\": \"VS2\", \"depth\": 58.9, \"table\": 67.0, \"price\": 3992, \"x\": 6.18, \"y\": 6.17, \"z\": 3.64, \"model\": \"gb\", \"pred\": 4105.942266443415}, {\"carat\": 1.51, \"cut\": \"Premium\", \"color\": \"G\", \"clarity\": \"VS2\", \"depth\": 62.0, \"table\": 57.0, \"price\": 12571, \"x\": 7.38, \"y\": 7.33, \"z\": 4.56, \"model\": \"gb\", \"pred\": 12857.956677744534}, {\"carat\": 0.86, \"cut\": \"Premium\", \"color\": \"F\", \"clarity\": \"SI2\", \"depth\": 59.3, \"table\": 62.0, \"price\": 2818, \"x\": 6.36, \"y\": 6.22, \"z\": 3.73, \"model\": \"lm\", \"pred\": 3471.3045397117085}, {\"carat\": 1.01, \"cut\": \"Very Good\", \"color\": \"J\", \"clarity\": \"SI2\", \"depth\": 62.8, \"table\": 59.0, \"price\": 3906, \"x\": 6.34, \"y\": 6.37, \"z\": 3.99, \"model\": \"lm\", \"pred\": 2761.632519028647}, {\"carat\": 0.3, \"cut\": \"Very Good\", \"color\": \"H\", \"clarity\": \"VS2\", \"depth\": 60.9, \"table\": 61.0, \"price\": 473, \"x\": 4.27, \"y\": 4.3, \"z\": 2.61, \"model\": \"gb\", \"pred\": 489.4420823633177}, {\"carat\": 1.0, \"cut\": \"Good\", \"color\": \"G\", \"clarity\": \"SI1\", \"depth\": 62.5, \"table\": 65.0, \"price\": 4528, \"x\": 6.24, \"y\": 6.31, \"z\": 3.92, \"model\": \"lm\", \"pred\": 5246.582625777909}, {\"carat\": 0.24, \"cut\": \"Premium\", \"color\": \"E\", \"clarity\": \"VS2\", \"depth\": 62.6, \"table\": 58.0, \"price\": 536, \"x\": 4.03, \"y\": 3.99, \"z\": 2.51, \"model\": \"gb\", \"pred\": 548.8111741860836}, {\"carat\": 0.7, \"cut\": \"Ideal\", \"color\": \"F\", \"clarity\": \"SI1\", \"depth\": 62.3, \"table\": 56.0, \"price\": 2382, \"x\": 5.65, \"y\": 5.68, \"z\": 3.53, \"model\": \"lm\", \"pred\": 3126.1204545477917}, {\"carat\": 1.46, \"cut\": \"Very Good\", \"color\": \"J\", \"clarity\": \"VS2\", \"depth\": 59.7, \"table\": 59.0, \"price\": 7358, \"x\": 7.36, \"y\": 7.39, \"z\": 4.4, \"model\": \"lm\", \"pred\": 8352.26963157766}, {\"carat\": 0.7, \"cut\": \"Good\", \"color\": \"F\", \"clarity\": \"SI1\", \"depth\": 64.3, \"table\": 63.0, \"price\": 1955, \"x\": 5.55, \"y\": 5.58, \"z\": 3.58, \"model\": \"gb\", \"pred\": 2232.519531002405}, {\"carat\": 1.02, \"cut\": \"Very Good\", \"color\": \"E\", \"clarity\": \"IF\", \"depth\": 58.1, \"table\": 59.0, \"price\": 11420, \"x\": 6.71, \"y\": 6.75, \"z\": 3.91, \"model\": \"lm\", \"pred\": 7757.7305447800245}, {\"carat\": 2.01, \"cut\": \"Very Good\", \"color\": \"E\", \"clarity\": \"SI2\", \"depth\": 58.9, \"table\": 60.0, \"price\": 17024, \"x\": 8.2, \"y\": 8.24, \"z\": 4.84, \"model\": \"gb\", \"pred\": 17088.025077536287}, {\"carat\": 0.33, \"cut\": \"Ideal\", \"color\": \"F\", \"clarity\": \"VVS1\", \"depth\": 61.7, \"table\": 55.0, \"price\": 880, \"x\": 4.42, \"y\": 4.46, \"z\": 2.74, \"model\": \"lm\", \"pred\": 1336.5924256539574}, {\"carat\": 1.1, \"cut\": \"Ideal\", \"color\": \"D\", \"clarity\": \"VVS2\", \"depth\": 61.0, \"table\": 56.0, \"price\": 10410, \"x\": 6.67, \"y\": 6.73, \"z\": 4.09, \"model\": \"gb\", \"pred\": 12098.513177586856}, {\"carat\": 0.42, \"cut\": \"Ideal\", \"color\": \"I\", \"clarity\": \"VS1\", \"depth\": 62.0, \"table\": 55.0, \"price\": 773, \"x\": 4.83, \"y\": 4.85, \"z\": 3.0, \"model\": \"gb\", \"pred\": 813.2308550771762}, {\"carat\": 1.5, \"cut\": \"Good\", \"color\": \"G\", \"clarity\": \"I1\", \"depth\": 64.0, \"table\": 61.0, \"price\": 4731, \"x\": 7.15, \"y\": 7.04, \"z\": 0.0, \"model\": \"lm\", \"pred\": 6115.95907967622}, {\"carat\": 0.74, \"cut\": \"Premium\", \"color\": \"D\", \"clarity\": \"SI2\", \"depth\": 61.8, \"table\": 59.0, \"price\": 2291, \"x\": 5.85, \"y\": 5.83, \"z\": 3.61, \"model\": \"lm\", \"pred\": 2708.279106393033}, {\"carat\": 0.32, \"cut\": \"Good\", \"color\": \"F\", \"clarity\": \"VS2\", \"depth\": 63.6, \"table\": 57.0, \"price\": 828, \"x\": 4.37, \"y\": 4.34, \"z\": 2.77, \"model\": \"lm\", \"pred\": 51.045603768446206}, {\"carat\": 0.38, \"cut\": \"Ideal\", \"color\": \"D\", \"clarity\": \"VVS1\", \"depth\": 60.3, \"table\": 56.0, \"price\": 1915, \"x\": 4.74, \"y\": 4.72, \"z\": 2.85, \"model\": \"lm\", \"pred\": 2084.2089023608487}, {\"carat\": 0.9, \"cut\": \"Good\", \"color\": \"F\", \"clarity\": \"VS2\", \"depth\": 63.1, \"table\": 57.0, \"price\": 4370, \"x\": 6.13, \"y\": 6.16, \"z\": 3.88, \"model\": \"lm\", \"pred\": 5205.000355620391}, {\"carat\": 0.43, \"cut\": \"Ideal\", \"color\": \"I\", \"clarity\": \"VVS1\", \"depth\": 62.2, \"table\": 57.0, \"price\": 968, \"x\": 4.84, \"y\": 4.81, \"z\": 3.0, \"model\": \"gb\", \"pred\": 952.2490989627754}, {\"carat\": 0.42, \"cut\": \"Premium\", \"color\": \"F\", \"clarity\": \"SI1\", \"depth\": 62.9, \"table\": 57.0, \"price\": 992, \"x\": 4.77, \"y\": 4.73, \"z\": 2.99, \"model\": \"gb\", \"pred\": 853.2537444938413}, {\"carat\": 0.43, \"cut\": \"Ideal\", \"color\": \"G\", \"clarity\": \"VS1\", \"depth\": 61.1, \"table\": 56.0, \"price\": 943, \"x\": 4.86, \"y\": 4.9, \"z\": 2.98, \"model\": \"lm\", \"pred\": 1485.1671350369352}, {\"carat\": 0.57, \"cut\": \"Ideal\", \"color\": \"G\", \"clarity\": \"SI2\", \"depth\": 61.6, \"table\": 54.0, \"price\": 1193, \"x\": 5.35, \"y\": 5.37, \"z\": 3.3, \"model\": \"gb\", \"pred\": 1294.4730446249216}, {\"carat\": 0.38, \"cut\": \"Premium\", \"color\": \"E\", \"clarity\": \"VVS1\", \"depth\": 61.9, \"table\": 58.0, \"price\": 1327, \"x\": 4.66, \"y\": 4.62, \"z\": 2.87, \"model\": \"lm\", \"pred\": 1743.6678857433499}, {\"carat\": 0.32, \"cut\": \"Ideal\", \"color\": \"G\", \"clarity\": \"VVS1\", \"depth\": 61.1, \"table\": 53.0, \"price\": 842, \"x\": 4.4, \"y\": 4.44, \"z\": 2.7, \"model\": \"lm\", \"pred\": 1044.841633370018}, {\"carat\": 0.41, \"cut\": \"Good\", \"color\": \"E\", \"clarity\": \"VVS2\", \"depth\": 63.1, \"table\": 58.0, \"price\": 1060, \"x\": 4.72, \"y\": 4.75, \"z\": 2.99, \"model\": \"gb\", \"pred\": 1099.6266036691584}, {\"carat\": 0.33, \"cut\": \"Ideal\", \"color\": \"D\", \"clarity\": \"VS2\", \"depth\": 62.3, \"table\": 56.0, \"price\": 1002, \"x\": 4.46, \"y\": 4.43, \"z\": 2.77, \"model\": \"gb\", \"pred\": 867.9812850050134}, {\"carat\": 1.08, \"cut\": \"Ideal\", \"color\": \"H\", \"clarity\": \"SI1\", \"depth\": 62.2, \"table\": 57.0, \"price\": 4333, \"x\": 6.56, \"y\": 6.6, \"z\": 4.09, \"model\": \"lm\", \"pred\": 5827.461797638724}, {\"carat\": 0.42, \"cut\": \"Premium\", \"color\": \"D\", \"clarity\": \"SI2\", \"depth\": 62.1, \"table\": 59.0, \"price\": 898, \"x\": 4.82, \"y\": 4.78, \"z\": 2.98, \"model\": \"lm\", \"pred\": -135.28213600804065}, {\"carat\": 2.03, \"cut\": \"Premium\", \"color\": \"J\", \"clarity\": \"SI2\", \"depth\": 60.4, \"table\": 59.0, \"price\": 9435, \"x\": 8.15, \"y\": 8.12, \"z\": 4.91, \"model\": \"gb\", \"pred\": 11762.341279645965}, {\"carat\": 0.71, \"cut\": \"Premium\", \"color\": \"D\", \"clarity\": \"VS2\", \"depth\": 62.1, \"table\": 60.0, \"price\": 2950, \"x\": 5.72, \"y\": 5.68, \"z\": 3.54, \"model\": \"gb\", \"pred\": 3033.084556647713}, {\"carat\": 1.02, \"cut\": \"Very Good\", \"color\": \"F\", \"clarity\": \"SI1\", \"depth\": 60.7, \"table\": 59.0, \"price\": 5155, \"x\": 6.49, \"y\": 6.55, \"z\": 3.96, \"model\": \"gb\", \"pred\": 5106.298382768078}, {\"carat\": 0.34, \"cut\": \"Ideal\", \"color\": \"E\", \"clarity\": \"VVS1\", \"depth\": 61.1, \"table\": 56.0, \"price\": 1208, \"x\": 4.52, \"y\": 4.55, \"z\": 2.77, \"model\": \"gb\", \"pred\": 1075.0851459527826}, {\"carat\": 0.3, \"cut\": \"Ideal\", \"color\": \"J\", \"clarity\": \"IF\", \"depth\": 61.5, \"table\": 56.0, \"price\": 489, \"x\": 4.32, \"y\": 4.33, \"z\": 2.66, \"model\": \"gb\", \"pred\": 572.5640974407056}, {\"carat\": 1.27, \"cut\": \"Ideal\", \"color\": \"E\", \"clarity\": \"SI2\", \"depth\": 60.2, \"table\": 57.0, \"price\": 6383, \"x\": 7.09, \"y\": 7.14, \"z\": 4.28, \"model\": \"lm\", \"pred\": 7335.103467998366}, {\"carat\": 0.32, \"cut\": \"Good\", \"color\": \"I\", \"clarity\": \"SI1\", \"depth\": 63.9, \"table\": 55.0, \"price\": 432, \"x\": 4.34, \"y\": 4.36, \"z\": 2.78, \"model\": \"lm\", \"pred\": -1730.0873801911505}, {\"carat\": 1.03, \"cut\": \"Very Good\", \"color\": \"F\", \"clarity\": \"VS1\", \"depth\": 62.2, \"table\": 57.0, \"price\": 7233, \"x\": 6.47, \"y\": 6.51, \"z\": 4.04, \"model\": \"lm\", \"pred\": 6870.196407355645}, {\"carat\": 0.24, \"cut\": \"Very Good\", \"color\": \"E\", \"clarity\": \"VVS1\", \"depth\": 62.8, \"table\": 59.0, \"price\": 485, \"x\": 3.94, \"y\": 3.96, \"z\": 2.48, \"model\": \"lm\", \"pred\": 478.9308167986974}, {\"carat\": 0.34, \"cut\": \"Very Good\", \"color\": \"F\", \"clarity\": \"SI2\", \"depth\": 63.5, \"table\": 56.0, \"price\": 574, \"x\": 4.48, \"y\": 4.44, \"z\": 2.83, \"model\": \"lm\", \"pred\": -1170.1615045842166}, {\"carat\": 1.61, \"cut\": \"Premium\", \"color\": \"J\", \"clarity\": \"VS2\", \"depth\": 61.7, \"table\": 59.0, \"price\": 7844, \"x\": 7.51, \"y\": 7.46, \"z\": 4.62, \"model\": \"gb\", \"pred\": 8040.627747663666}, {\"carat\": 0.3, \"cut\": \"Very Good\", \"color\": \"G\", \"clarity\": \"VS2\", \"depth\": 61.4, \"table\": 54.0, \"price\": 526, \"x\": 4.31, \"y\": 4.36, \"z\": 2.66, \"model\": \"gb\", \"pred\": 548.0548343694741}, {\"carat\": 2.15, \"cut\": \"Premium\", \"color\": \"H\", \"clarity\": \"SI2\", \"depth\": 62.2, \"table\": 56.0, \"price\": 12458, \"x\": 8.29, \"y\": 8.2, \"z\": 5.13, \"model\": \"lm\", \"pred\": 14259.023165880692}, {\"carat\": 0.62, \"cut\": \"Ideal\", \"color\": \"G\", \"clarity\": \"VS1\", \"depth\": 60.7, \"table\": 55.0, \"price\": 2206, \"x\": 5.55, \"y\": 5.59, \"z\": 3.38, \"model\": \"gb\", \"pred\": 2229.766977957121}, {\"carat\": 0.7, \"cut\": \"Good\", \"color\": \"H\", \"clarity\": \"VS2\", \"depth\": 59.1, \"table\": 65.0, \"price\": 2352, \"x\": 5.85, \"y\": 5.75, \"z\": 3.43, \"model\": \"lm\", \"pred\": 2752.3869468593766}, {\"carat\": 0.32, \"cut\": \"Premium\", \"color\": \"E\", \"clarity\": \"SI1\", \"depth\": 61.2, \"table\": 58.0, \"price\": 524, \"x\": 4.37, \"y\": 4.42, \"z\": 2.69, \"model\": \"lm\", \"pred\": -287.83950483925764}, {\"carat\": 0.26, \"cut\": \"Very Good\", \"color\": \"D\", \"clarity\": \"VS2\", \"depth\": 60.8, \"table\": 59.0, \"price\": 403, \"x\": 4.13, \"y\": 4.16, \"z\": 2.52, \"model\": \"gb\", \"pred\": 532.5347898892563}, {\"carat\": 0.41, \"cut\": \"Ideal\", \"color\": \"H\", \"clarity\": \"VS2\", \"depth\": 61.7, \"table\": 56.0, \"price\": 1163, \"x\": 4.77, \"y\": 4.79, \"z\": 2.95, \"model\": \"lm\", \"pred\": 517.8965609953875}, {\"carat\": 1.29, \"cut\": \"Premium\", \"color\": \"I\", \"clarity\": \"SI1\", \"depth\": 62.1, \"table\": 57.0, \"price\": 6140, \"x\": 7.03, \"y\": 6.92, \"z\": 4.33, \"model\": \"gb\", \"pred\": 5886.178806854548}, {\"carat\": 0.31, \"cut\": \"Ideal\", \"color\": \"J\", \"clarity\": \"VVS1\", \"depth\": 62.4, \"table\": 54.0, \"price\": 461, \"x\": 4.32, \"y\": 4.35, \"z\": 2.7, \"model\": \"lm\", \"pred\": -863.0424796604939}, {\"carat\": 0.7, \"cut\": \"Very Good\", \"color\": \"F\", \"clarity\": \"SI2\", \"depth\": 62.9, \"table\": 56.0, \"price\": 2131, \"x\": 5.68, \"y\": 5.71, \"z\": 3.58, \"model\": \"gb\", \"pred\": 2129.8982942697103}, {\"carat\": 0.3, \"cut\": \"Ideal\", \"color\": \"F\", \"clarity\": \"VS2\", \"depth\": 60.4, \"table\": 56.0, \"price\": 776, \"x\": 4.37, \"y\": 4.34, \"z\": 2.63, \"model\": \"gb\", \"pred\": 761.4034300829721}, {\"carat\": 0.61, \"cut\": \"Premium\", \"color\": \"F\", \"clarity\": \"SI2\", \"depth\": 60.9, \"table\": 58.0, \"price\": 1303, \"x\": 5.44, \"y\": 5.52, \"z\": 3.34, \"model\": \"gb\", \"pred\": 1434.5737290602615}, {\"carat\": 0.33, \"cut\": \"Premium\", \"color\": \"I\", \"clarity\": \"VVS1\", \"depth\": 61.9, \"table\": 60.0, \"price\": 780, \"x\": 4.44, \"y\": 4.41, \"z\": 2.74, \"model\": \"lm\", \"pred\": 70.74202108024383}, {\"carat\": 0.7, \"cut\": \"Very Good\", \"color\": \"D\", \"clarity\": \"VS2\", \"depth\": 60.7, \"table\": 58.0, \"price\": 3092, \"x\": 5.7, \"y\": 5.73, \"z\": 3.47, \"model\": \"gb\", \"pred\": 2936.8184290911513}, {\"carat\": 0.9, \"cut\": \"Very Good\", \"color\": \"I\", \"clarity\": \"VS2\", \"depth\": 62.3, \"table\": 64.0, \"price\": 3605, \"x\": 6.1, \"y\": 6.13, \"z\": 3.81, \"model\": \"gb\", \"pred\": 3329.496446863885}, {\"carat\": 0.24, \"cut\": \"Very Good\", \"color\": \"F\", \"clarity\": \"VVS1\", \"depth\": 60.6, \"table\": 60.0, \"price\": 478, \"x\": 4.03, \"y\": 4.06, \"z\": 2.45, \"model\": \"lm\", \"pred\": 387.3032655864454}, {\"carat\": 0.72, \"cut\": \"Ideal\", \"color\": \"G\", \"clarity\": \"SI2\", \"depth\": 62.6, \"table\": 52.0, \"price\": 2295, \"x\": 5.74, \"y\": 5.77, \"z\": 3.6, \"model\": \"lm\", \"pred\": 2153.2155279503613}, {\"carat\": 0.7, \"cut\": \"Very Good\", \"color\": \"G\", \"clarity\": \"SI1\", \"depth\": 64.3, \"table\": 56.0, \"price\": 2517, \"x\": 5.56, \"y\": 5.58, \"z\": 3.58, \"model\": \"lm\", \"pred\": 2773.693390446676}, {\"carat\": 0.73, \"cut\": \"Ideal\", \"color\": \"I\", \"clarity\": \"VS1\", \"depth\": 61.1, \"table\": 56.0, \"price\": 2596, \"x\": 5.79, \"y\": 5.83, \"z\": 3.55, \"model\": \"lm\", \"pred\": 3216.903433921162}, {\"carat\": 1.02, \"cut\": \"Ideal\", \"color\": \"G\", \"clarity\": \"VS1\", \"depth\": 62.0, \"table\": 55.0, \"price\": 6968, \"x\": 6.4, \"y\": 6.53, \"z\": 4.01, \"model\": \"gb\", \"pred\": 7094.418907035743}, {\"carat\": 0.27, \"cut\": \"Very Good\", \"color\": \"F\", \"clarity\": \"VS2\", \"depth\": 61.8, \"table\": 57.0, \"price\": 518, \"x\": 4.14, \"y\": 4.18, \"z\": 2.57, \"model\": \"gb\", \"pred\": 508.3107369217528}, {\"carat\": 1.0, \"cut\": \"Premium\", \"color\": \"G\", \"clarity\": \"VS2\", \"depth\": 62.0, \"table\": 62.0, \"price\": 5645, \"x\": 6.41, \"y\": 6.36, \"z\": 3.96, \"model\": \"gb\", \"pred\": 5804.757192120558}, {\"carat\": 1.04, \"cut\": \"Very Good\", \"color\": \"H\", \"clarity\": \"IF\", \"depth\": 62.0, \"table\": 55.0, \"price\": 6694, \"x\": 6.51, \"y\": 6.55, \"z\": 4.05, \"model\": \"lm\", \"pred\": 7168.437938957498}, {\"carat\": 0.7, \"cut\": \"Ideal\", \"color\": \"E\", \"clarity\": \"SI1\", \"depth\": 62.6, \"table\": 55.0, \"price\": 2656, \"x\": 5.62, \"y\": 5.66, \"z\": 3.53, \"model\": \"gb\", \"pred\": 2548.8857357964357}, {\"carat\": 0.7, \"cut\": \"Very Good\", \"color\": \"I\", \"clarity\": \"VS2\", \"depth\": 62.3, \"table\": 58.0, \"price\": 2273, \"x\": 5.58, \"y\": 5.65, \"z\": 3.5, \"model\": \"lm\", \"pred\": 2483.7321392138065}, {\"carat\": 1.24, \"cut\": \"Very Good\", \"color\": \"E\", \"clarity\": \"VS1\", \"depth\": 62.0, \"table\": 58.0, \"price\": 10185, \"x\": 6.9, \"y\": 6.96, \"z\": 4.3, \"model\": \"lm\", \"pred\": 8827.911023893601}, {\"carat\": 1.02, \"cut\": \"Premium\", \"color\": \"F\", \"clarity\": \"VS2\", \"depth\": 62.4, \"table\": 59.0, \"price\": 6773, \"x\": 6.45, \"y\": 6.4, \"z\": 4.01, \"model\": \"lm\", \"pred\": 6484.96427633475}, {\"carat\": 1.54, \"cut\": \"Premium\", \"color\": \"G\", \"clarity\": \"SI2\", \"depth\": 59.4, \"table\": 60.0, \"price\": 7707, \"x\": 7.49, \"y\": 7.52, \"z\": 4.46, \"model\": \"lm\", \"pred\": 9310.982676355085}, {\"carat\": 0.43, \"cut\": \"Ideal\", \"color\": \"F\", \"clarity\": \"VVS1\", \"depth\": 62.1, \"table\": 55.0, \"price\": 1422, \"x\": 4.85, \"y\": 4.81, \"z\": 3.0, \"model\": \"lm\", \"pred\": 2225.205313904292}, {\"carat\": 0.8, \"cut\": \"Ideal\", \"color\": \"D\", \"clarity\": \"SI1\", \"depth\": 61.7, \"table\": 56.0, \"price\": 3195, \"x\": 5.96, \"y\": 6.0, \"z\": 3.69, \"model\": \"gb\", \"pred\": 3540.333992007325}, {\"carat\": 0.48, \"cut\": \"Very Good\", \"color\": \"D\", \"clarity\": \"VVS2\", \"depth\": 59.5, \"table\": 57.0, \"price\": 2329, \"x\": 5.16, \"y\": 5.12, \"z\": 3.06, \"model\": \"gb\", \"pred\": 1973.2054437158133}, {\"carat\": 0.77, \"cut\": \"Good\", \"color\": \"E\", \"clarity\": \"SI2\", \"depth\": 64.1, \"table\": 56.0, \"price\": 2005, \"x\": 5.84, \"y\": 5.77, \"z\": 3.72, \"model\": \"lm\", \"pred\": 2549.552036684704}, {\"carat\": 0.53, \"cut\": \"Ideal\", \"color\": \"D\", \"clarity\": \"VS2\", \"depth\": 61.4, \"table\": 55.0, \"price\": 1585, \"x\": 5.21, \"y\": 5.24, \"z\": 3.21, \"model\": \"gb\", \"pred\": 1895.1194052613776}, {\"carat\": 0.56, \"cut\": \"Ideal\", \"color\": \"E\", \"clarity\": \"VS1\", \"depth\": 61.2, \"table\": 56.0, \"price\": 2085, \"x\": 5.3, \"y\": 5.34, \"z\": 3.26, \"model\": \"gb\", \"pred\": 2053.702922152958}, {\"carat\": 0.71, \"cut\": \"Premium\", \"color\": \"E\", \"clarity\": \"SI1\", \"depth\": 60.3, \"table\": 60.0, \"price\": 2674, \"x\": 5.77, \"y\": 5.74, \"z\": 3.47, \"model\": \"gb\", \"pred\": 2509.440790883868}, {\"carat\": 0.72, \"cut\": \"Very Good\", \"color\": \"D\", \"clarity\": \"VS2\", \"depth\": 61.8, \"table\": 58.0, \"price\": 3075, \"x\": 5.73, \"y\": 5.76, \"z\": 3.55, \"model\": \"gb\", \"pred\": 3253.787802104975}, {\"carat\": 1.52, \"cut\": \"Very Good\", \"color\": \"D\", \"clarity\": \"SI1\", \"depth\": 62.0, \"table\": 58.0, \"price\": 11595, \"x\": 7.37, \"y\": 7.4, \"z\": 4.58, \"model\": \"gb\", \"pred\": 12239.151212199497}, {\"carat\": 2.29, \"cut\": \"Very Good\", \"color\": \"I\", \"clarity\": \"SI1\", \"depth\": 61.8, \"table\": 59.0, \"price\": 18068, \"x\": 8.44, \"y\": 8.51, \"z\": 5.24, \"model\": \"lm\", \"pred\": 15968.535947760227}, {\"carat\": 1.01, \"cut\": \"Premium\", \"color\": \"E\", \"clarity\": \"SI2\", \"depth\": 61.8, \"table\": 61.0, \"price\": 3801, \"x\": 6.35, \"y\": 6.29, \"z\": 3.9, \"model\": \"lm\", \"pred\": 4895.851423299465}, {\"carat\": 0.53, \"cut\": \"Premium\", \"color\": \"E\", \"clarity\": \"VS2\", \"depth\": 61.6, \"table\": 57.0, \"price\": 1813, \"x\": 5.21, \"y\": 5.18, \"z\": 3.2, \"model\": \"gb\", \"pred\": 1760.3023618195646}, {\"carat\": 0.53, \"cut\": \"Premium\", \"color\": \"E\", \"clarity\": \"VS2\", \"depth\": 59.8, \"table\": 58.0, \"price\": 1813, \"x\": 5.27, \"y\": 5.26, \"z\": 3.15, \"model\": \"gb\", \"pred\": 1728.005367330878}, {\"carat\": 1.04, \"cut\": \"Premium\", \"color\": \"I\", \"clarity\": \"SI1\", \"depth\": 62.5, \"table\": 62.0, \"price\": 4252, \"x\": 6.45, \"y\": 6.39, \"z\": 4.01, \"model\": \"lm\", \"pred\": 4881.553870025219}, {\"carat\": 1.05, \"cut\": \"Ideal\", \"color\": \"G\", \"clarity\": \"VS1\", \"depth\": 62.2, \"table\": 57.0, \"price\": 7357, \"x\": 6.49, \"y\": 6.51, \"z\": 4.04, \"model\": \"gb\", \"pred\": 7114.6924902914525}, {\"carat\": 1.5, \"cut\": \"Premium\", \"color\": \"I\", \"clarity\": \"SI2\", \"depth\": 61.2, \"table\": 59.0, \"price\": 7476, \"x\": 7.39, \"y\": 7.36, \"z\": 4.51, \"model\": \"lm\", \"pred\": 8021.435155188169}, {\"carat\": 0.51, \"cut\": \"Good\", \"color\": \"H\", \"clarity\": \"SI1\", \"depth\": 63.6, \"table\": 57.0, \"price\": 1116, \"x\": 5.09, \"y\": 5.04, \"z\": 3.22, \"model\": \"gb\", \"pred\": 1122.3427112066624}, {\"carat\": 0.81, \"cut\": \"Ideal\", \"color\": \"E\", \"clarity\": \"SI1\", \"depth\": 61.9, \"table\": 55.0, \"price\": 3913, \"x\": 5.98, \"y\": 6.01, \"z\": 3.71, \"model\": \"lm\", \"pred\": 4195.222182835413}, {\"carat\": 0.79, \"cut\": \"Premium\", \"color\": \"D\", \"clarity\": \"SI2\", \"depth\": 61.8, \"table\": 58.0, \"price\": 2735, \"x\": 5.95, \"y\": 5.89, \"z\": 3.66, \"model\": \"lm\", \"pred\": 3152.5855505182}, {\"carat\": 0.9, \"cut\": \"Premium\", \"color\": \"H\", \"clarity\": \"SI2\", \"depth\": 58.3, \"table\": 60.0, \"price\": 3371, \"x\": 6.34, \"y\": 6.31, \"z\": 3.69, \"model\": \"gb\", \"pred\": 3138.386827239438}, {\"carat\": 0.4, \"cut\": \"Good\", \"color\": \"H\", \"clarity\": \"SI1\", \"depth\": 62.0, \"table\": 61.0, \"price\": 667, \"x\": 4.69, \"y\": 4.73, \"z\": 2.92, \"model\": \"gb\", \"pred\": 644.0144188493928}, {\"carat\": 0.41, \"cut\": \"Very Good\", \"color\": \"G\", \"clarity\": \"VVS2\", \"depth\": 61.6, \"table\": 56.0, \"price\": 1007, \"x\": 4.76, \"y\": 4.78, \"z\": 2.94, \"model\": \"gb\", \"pred\": 1080.6527967738423}, {\"carat\": 0.91, \"cut\": \"Very Good\", \"color\": \"E\", \"clarity\": \"SI1\", \"depth\": 60.5, \"table\": 61.0, \"price\": 4211, \"x\": 6.19, \"y\": 6.23, \"z\": 3.76, \"model\": \"lm\", \"pred\": 4934.297510443538}, {\"carat\": 0.59, \"cut\": \"Ideal\", \"color\": \"H\", \"clarity\": \"SI1\", \"depth\": 61.1, \"table\": 57.0, \"price\": 1445, \"x\": 5.39, \"y\": 5.41, \"z\": 3.3, \"model\": \"gb\", \"pred\": 1413.4629037972973}, {\"carat\": 0.3, \"cut\": \"Ideal\", \"color\": \"E\", \"clarity\": \"SI1\", \"depth\": 61.7, \"table\": 55.0, \"price\": 640, \"x\": 4.33, \"y\": 4.36, \"z\": 2.68, \"model\": \"gb\", \"pred\": 618.4218154858304}, {\"carat\": 0.33, \"cut\": \"Ideal\", \"color\": \"G\", \"clarity\": \"VS2\", \"depth\": 62.6, \"table\": 57.0, \"price\": 743, \"x\": 4.47, \"y\": 4.45, \"z\": 2.79, \"model\": \"gb\", \"pred\": 727.5617610948598}, {\"carat\": 0.51, \"cut\": \"Very Good\", \"color\": \"D\", \"clarity\": \"VVS2\", \"depth\": 63.1, \"table\": 58.0, \"price\": 2289, \"x\": 5.1, \"y\": 5.07, \"z\": 3.21, \"model\": \"lm\", \"pred\": 2985.0398614650317}, {\"carat\": 1.8, \"cut\": \"Ideal\", \"color\": \"H\", \"clarity\": \"SI1\", \"depth\": 62.2, \"table\": 57.0, \"price\": 9399, \"x\": 7.79, \"y\": 7.71, \"z\": 4.82, \"model\": \"gb\", \"pred\": 12946.013540797305}, {\"carat\": 0.39, \"cut\": \"Premium\", \"color\": \"D\", \"clarity\": \"VS2\", \"depth\": 61.3, \"table\": 58.0, \"price\": 958, \"x\": 4.7, \"y\": 4.73, \"z\": 2.89, \"model\": \"gb\", \"pred\": 986.7852704740567}, {\"carat\": 1.13, \"cut\": \"Very Good\", \"color\": \"F\", \"clarity\": \"SI1\", \"depth\": 60.6, \"table\": 60.0, \"price\": 5481, \"x\": 6.67, \"y\": 6.76, \"z\": 4.07, \"model\": \"lm\", \"pred\": 6797.618313382021}, {\"carat\": 2.4, \"cut\": \"Ideal\", \"color\": \"J\", \"clarity\": \"SI1\", \"depth\": 60.6, \"table\": 57.0, \"price\": 16274, \"x\": 8.62, \"y\": 8.76, \"z\": 5.26, \"model\": \"gb\", \"pred\": 15171.961596723697}, {\"carat\": 0.32, \"cut\": \"Ideal\", \"color\": \"E\", \"clarity\": \"VS2\", \"depth\": 62.2, \"table\": 55.0, \"price\": 900, \"x\": 4.38, \"y\": 4.36, \"z\": 2.72, \"model\": \"lm\", \"pred\": 485.1601450426815}, {\"carat\": 0.34, \"cut\": \"Ideal\", \"color\": \"D\", \"clarity\": \"SI1\", \"depth\": 62.0, \"table\": 56.0, \"price\": 803, \"x\": 4.5, \"y\": 4.47, \"z\": 2.78, \"model\": \"gb\", \"pred\": 771.629964805345}, {\"carat\": 0.92, \"cut\": \"Ideal\", \"color\": \"E\", \"clarity\": \"SI1\", \"depth\": 61.4, \"table\": 55.0, \"price\": 4183, \"x\": 6.29, \"y\": 6.25, \"z\": 3.85, \"model\": \"gb\", \"pred\": 4776.45428682272}, {\"carat\": 0.26, \"cut\": \"Very Good\", \"color\": \"F\", \"clarity\": \"VS2\", \"depth\": 62.9, \"table\": 59.0, \"price\": 453, \"x\": 4.04, \"y\": 4.07, \"z\": 2.55, \"model\": \"gb\", \"pred\": 502.4726995985461}, {\"carat\": 0.79, \"cut\": \"Very Good\", \"color\": \"H\", \"clarity\": \"VS1\", \"depth\": 63.7, \"table\": 56.0, \"price\": 2784, \"x\": 5.85, \"y\": 5.92, \"z\": 3.75, \"model\": \"lm\", \"pred\": 4062.1378432944975}, {\"carat\": 0.53, \"cut\": \"Premium\", \"color\": \"J\", \"clarity\": \"VS2\", \"depth\": 60.9, \"table\": 59.0, \"price\": 1122, \"x\": 5.27, \"y\": 5.2, \"z\": 3.19, \"model\": \"gb\", \"pred\": 1183.7735629590666}, {\"carat\": 0.72, \"cut\": \"Very Good\", \"color\": \"I\", \"clarity\": \"VS2\", \"depth\": 63.3, \"table\": 55.0, \"price\": 2337, \"x\": 5.7, \"y\": 5.74, \"z\": 3.62, \"model\": \"lm\", \"pred\": 2661.4547168638737}, {\"carat\": 0.38, \"cut\": \"Good\", \"color\": \"G\", \"clarity\": \"VS2\", \"depth\": 58.8, \"table\": 62.0, \"price\": 771, \"x\": 4.68, \"y\": 4.71, \"z\": 2.76, \"model\": \"lm\", \"pred\": 381.3238332597412}, {\"carat\": 0.42, \"cut\": \"Ideal\", \"color\": \"G\", \"clarity\": \"VS1\", \"depth\": 61.8, \"table\": 57.0, \"price\": 984, \"x\": 4.82, \"y\": 4.79, \"z\": 2.97, \"model\": \"lm\", \"pred\": 1396.3058462119016}, {\"carat\": 1.06, \"cut\": \"Premium\", \"color\": \"J\", \"clarity\": \"SI2\", \"depth\": 61.3, \"table\": 60.0, \"price\": 3740, \"x\": 6.59, \"y\": 6.52, \"z\": 4.02, \"model\": \"gb\", \"pred\": 3626.330628380782}, {\"carat\": 0.5, \"cut\": \"Ideal\", \"color\": \"I\", \"clarity\": \"SI1\", \"depth\": 61.4, \"table\": 56.0, \"price\": 1066, \"x\": 5.13, \"y\": 5.16, \"z\": 3.16, \"model\": \"lm\", \"pred\": 211.90280872143467}, {\"carat\": 1.32, \"cut\": \"Premium\", \"color\": \"G\", \"clarity\": \"SI2\", \"depth\": 58.9, \"table\": 59.0, \"price\": 4524, \"x\": 7.25, \"y\": 7.18, \"z\": 4.25, \"model\": \"gb\", \"pred\": 6072.56625528135}, {\"carat\": 0.71, \"cut\": \"Very Good\", \"color\": \"G\", \"clarity\": \"VS2\", \"depth\": 63.3, \"table\": 56.0, \"price\": 2549, \"x\": 5.67, \"y\": 5.74, \"z\": 3.61, \"model\": \"gb\", \"pred\": 2677.1882454554056}, {\"carat\": 1.71, \"cut\": \"Ideal\", \"color\": \"E\", \"clarity\": \"SI2\", \"depth\": 61.9, \"table\": 57.0, \"price\": 11816, \"x\": 7.69, \"y\": 7.65, \"z\": 4.75, \"model\": \"lm\", \"pred\": 11245.000176299842}, {\"carat\": 0.34, \"cut\": \"Premium\", \"color\": \"D\", \"clarity\": \"SI1\", \"depth\": 61.2, \"table\": 58.0, \"price\": 803, \"x\": 4.49, \"y\": 4.47, \"z\": 2.74, \"model\": \"gb\", \"pred\": 773.1634186647339}, {\"carat\": 1.21, \"cut\": \"Very Good\", \"color\": \"I\", \"clarity\": \"SI1\", \"depth\": 60.6, \"table\": 56.0, \"price\": 5457, \"x\": 6.89, \"y\": 6.97, \"z\": 4.2, \"model\": \"lm\", \"pred\": 6371.516754656606}, {\"carat\": 1.04, \"cut\": \"Very Good\", \"color\": \"G\", \"clarity\": \"SI2\", \"depth\": 60.9, \"table\": 58.0, \"price\": 4200, \"x\": 6.52, \"y\": 6.58, \"z\": 3.99, \"model\": \"lm\", \"pred\": 4847.239209709226}, {\"carat\": 0.9, \"cut\": \"Very Good\", \"color\": \"H\", \"clarity\": \"VS1\", \"depth\": 62.1, \"table\": 57.0, \"price\": 4455, \"x\": 6.17, \"y\": 6.23, \"z\": 3.85, \"model\": \"lm\", \"pred\": 5039.612020369866}, {\"carat\": 1.0, \"cut\": \"Ideal\", \"color\": \"E\", \"clarity\": \"SI1\", \"depth\": 62.6, \"table\": 56.0, \"price\": 4480, \"x\": 6.37, \"y\": 6.29, \"z\": 3.96, \"model\": \"gb\", \"pred\": 5294.8855225980715}, {\"carat\": 0.71, \"cut\": \"Good\", \"color\": \"H\", \"clarity\": \"SI1\", \"depth\": 63.4, \"table\": 54.0, \"price\": 2056, \"x\": 5.6, \"y\": 5.67, \"z\": 3.57, \"model\": \"gb\", \"pred\": 2139.247767377083}, {\"carat\": 1.31, \"cut\": \"Ideal\", \"color\": \"G\", \"clarity\": \"VS1\", \"depth\": 62.0, \"table\": 53.0, \"price\": 10556, \"x\": 7.06, \"y\": 7.07, \"z\": 4.37, \"model\": \"lm\", \"pred\": 9304.960551639888}, {\"carat\": 0.3, \"cut\": \"Very Good\", \"color\": \"I\", \"clarity\": \"SI1\", \"depth\": 61.6, \"table\": 62.0, \"price\": 394, \"x\": 4.27, \"y\": 4.3, \"z\": 2.64, \"model\": \"lm\", \"pred\": -1714.8605284214457}, {\"carat\": 0.4, \"cut\": \"Good\", \"color\": \"I\", \"clarity\": \"VS1\", \"depth\": 63.8, \"table\": 55.0, \"price\": 945, \"x\": 4.69, \"y\": 4.65, \"z\": 2.98, \"model\": \"gb\", \"pred\": 701.0806198568521}, {\"carat\": 2.4, \"cut\": \"Very Good\", \"color\": \"I\", \"clarity\": \"SI2\", \"depth\": 60.6, \"table\": 58.5, \"price\": 17955, \"x\": 8.59, \"y\": 8.67, \"z\": 5.24, \"model\": \"lm\", \"pred\": 15998.272124047004}, {\"carat\": 0.31, \"cut\": \"Premium\", \"color\": \"E\", \"clarity\": \"SI1\", \"depth\": 62.7, \"table\": 58.0, \"price\": 605, \"x\": 4.35, \"y\": 4.32, \"z\": 2.72, \"model\": \"lm\", \"pred\": -376.7007936642912}, {\"carat\": 0.32, \"cut\": \"Very Good\", \"color\": \"G\", \"clarity\": \"SI1\", \"depth\": 62.0, \"table\": 55.0, \"price\": 477, \"x\": 4.41, \"y\": 4.43, \"z\": 2.74, \"model\": \"gb\", \"pred\": 548.7930035816012}, {\"carat\": 0.4, \"cut\": \"Ideal\", \"color\": \"E\", \"clarity\": \"VVS2\", \"depth\": 61.8, \"table\": 56.0, \"price\": 1238, \"x\": 4.77, \"y\": 4.74, \"z\": 2.94, \"model\": \"lm\", \"pred\": 1945.4207636624005}, {\"carat\": 0.52, \"cut\": \"Ideal\", \"color\": \"F\", \"clarity\": \"VVS2\", \"depth\": 62.1, \"table\": 54.0, \"price\": 1978, \"x\": 5.17, \"y\": 5.2, \"z\": 3.22, \"model\": \"lm\", \"pred\": 2920.1286783505516}, {\"carat\": 1.1, \"cut\": \"Ideal\", \"color\": \"H\", \"clarity\": \"SI2\", \"depth\": 62.6, \"table\": 56.0, \"price\": 4537, \"x\": 6.57, \"y\": 6.65, \"z\": 4.14, \"model\": \"lm\", \"pred\": 5057.4463745001985}, {\"carat\": 1.25, \"cut\": \"Very Good\", \"color\": \"J\", \"clarity\": \"VS1\", \"depth\": 61.8, \"table\": 58.0, \"price\": 5628, \"x\": 6.89, \"y\": 6.93, \"z\": 4.27, \"model\": \"gb\", \"pred\": 5673.371677267967}, {\"carat\": 0.32, \"cut\": \"Premium\", \"color\": \"H\", \"clarity\": \"VS2\", \"depth\": 60.7, \"table\": 58.0, \"price\": 505, \"x\": 4.43, \"y\": 4.46, \"z\": 2.7, \"model\": \"gb\", \"pred\": 589.8237634386372}, {\"carat\": 0.7, \"cut\": \"Premium\", \"color\": \"F\", \"clarity\": \"SI1\", \"depth\": 59.4, \"table\": 60.0, \"price\": 2239, \"x\": 5.77, \"y\": 5.74, \"z\": 3.42, \"model\": \"gb\", \"pred\": 2265.8529312588707}, {\"carat\": 0.35, \"cut\": \"Ideal\", \"color\": \"I\", \"clarity\": \"IF\", \"depth\": 62.7, \"table\": 55.0, \"price\": 778, \"x\": 4.51, \"y\": 4.55, \"z\": 2.84, \"model\": \"lm\", \"pred\": 724.9423336070496}, {\"carat\": 0.33, \"cut\": \"Very Good\", \"color\": \"F\", \"clarity\": \"VVS2\", \"depth\": 63.5, \"table\": 54.0, \"price\": 694, \"x\": 4.42, \"y\": 4.37, \"z\": 2.79, \"model\": \"lm\", \"pred\": 1082.2266300327058}, {\"carat\": 0.43, \"cut\": \"Ideal\", \"color\": \"E\", \"clarity\": \"VVS1\", \"depth\": 61.0, \"table\": 57.0, \"price\": 1827, \"x\": 4.85, \"y\": 4.88, \"z\": 2.97, \"model\": \"gb\", \"pred\": 1405.7767037326907}, {\"carat\": 0.3, \"cut\": \"Very Good\", \"color\": \"I\", \"clarity\": \"VS1\", \"depth\": 58.8, \"table\": 61.0, \"price\": 473, \"x\": 4.38, \"y\": 4.43, \"z\": 2.59, \"model\": \"lm\", \"pred\": -753.6695461974896}, {\"carat\": 0.54, \"cut\": \"Good\", \"color\": \"H\", \"clarity\": \"VS1\", \"depth\": 63.2, \"table\": 60.0, \"price\": 1361, \"x\": 5.13, \"y\": 5.16, \"z\": 3.25, \"model\": \"gb\", \"pred\": 1562.634886197417}, {\"carat\": 0.31, \"cut\": \"Very Good\", \"color\": \"I\", \"clarity\": \"VS1\", \"depth\": 63.0, \"table\": 58.0, \"price\": 489, \"x\": 4.29, \"y\": 4.32, \"z\": 2.71, \"model\": \"gb\", \"pred\": 485.4368157211197}, {\"carat\": 0.34, \"cut\": \"Ideal\", \"color\": \"G\", \"clarity\": \"VS2\", \"depth\": 61.8, \"table\": 56.0, \"price\": 596, \"x\": 4.48, \"y\": 4.52, \"z\": 2.78, \"model\": \"gb\", \"pred\": 698.938515676788}, {\"carat\": 1.25, \"cut\": \"Very Good\", \"color\": \"G\", \"clarity\": \"VS2\", \"depth\": 62.2, \"table\": 57.0, \"price\": 8941, \"x\": 6.84, \"y\": 6.88, \"z\": 4.27, \"model\": \"lm\", \"pred\": 8305.20539045743}, {\"carat\": 0.54, \"cut\": \"Ideal\", \"color\": \"E\", \"clarity\": \"VS2\", \"depth\": 61.1, \"table\": 57.0, \"price\": 1825, \"x\": 5.24, \"y\": 5.26, \"z\": 3.21, \"model\": \"lm\", \"pred\": 2440.1084991934194}, {\"carat\": 1.25, \"cut\": \"Ideal\", \"color\": \"I\", \"clarity\": \"VS2\", \"depth\": 60.0, \"table\": 57.0, \"price\": 4795, \"x\": 7.07, \"y\": 7.02, \"z\": 4.23, \"model\": \"lm\", \"pred\": 7520.640585232863}, {\"carat\": 1.2, \"cut\": \"Ideal\", \"color\": \"G\", \"clarity\": \"SI1\", \"depth\": 61.2, \"table\": 56.0, \"price\": 6502, \"x\": 6.92, \"y\": 6.84, \"z\": 4.21, \"model\": \"lm\", \"pred\": 7366.295392340563}, {\"carat\": 1.49, \"cut\": \"Fair\", \"color\": \"F\", \"clarity\": \"SI1\", \"depth\": 59.6, \"table\": 63.0, \"price\": 8779, \"x\": 7.2, \"y\": 7.34, \"z\": 4.33, \"model\": \"lm\", \"pred\": 9147.90783339951}, {\"carat\": 1.02, \"cut\": \"Premium\", \"color\": \"H\", \"clarity\": \"VS1\", \"depth\": 62.1, \"table\": 59.0, \"price\": 5469, \"x\": 6.38, \"y\": 6.43, \"z\": 3.98, \"model\": \"gb\", \"pred\": 5441.7133925553835}, {\"carat\": 0.51, \"cut\": \"Ideal\", \"color\": \"I\", \"clarity\": \"SI2\", \"depth\": 61.3, \"table\": 55.0, \"price\": 991, \"x\": 5.18, \"y\": 5.19, \"z\": 3.18, \"model\": \"lm\", \"pred\": -646.973903242123}, {\"carat\": 0.37, \"cut\": \"Very Good\", \"color\": \"E\", \"clarity\": \"SI1\", \"depth\": 60.6, \"table\": 54.0, \"price\": 649, \"x\": 4.63, \"y\": 4.68, \"z\": 2.82, \"model\": \"lm\", \"pred\": 135.78791389172784}, {\"carat\": 1.53, \"cut\": \"Ideal\", \"color\": \"I\", \"clarity\": \"SI2\", \"depth\": 61.8, \"table\": 56.0, \"price\": 6255, \"x\": 7.4, \"y\": 7.35, \"z\": 4.56, \"model\": \"gb\", \"pred\": 7712.462842139786}, {\"carat\": 0.71, \"cut\": \"Ideal\", \"color\": \"E\", \"clarity\": \"VS1\", \"depth\": 59.7, \"table\": 57.0, \"price\": 3272, \"x\": 5.84, \"y\": 5.86, \"z\": 3.49, \"model\": \"gb\", \"pred\": 3424.700976117185}, {\"carat\": 1.51, \"cut\": \"Premium\", \"color\": \"G\", \"clarity\": \"VVS2\", \"depth\": 60.9, \"table\": 58.0, \"price\": 15164, \"x\": 7.38, \"y\": 7.42, \"z\": 4.51, \"model\": \"lm\", \"pred\": 11385.648233321941}, {\"carat\": 1.0, \"cut\": \"Premium\", \"color\": \"E\", \"clarity\": \"VS1\", \"depth\": 60.4, \"table\": 59.0, \"price\": 7744, \"x\": 6.51, \"y\": 6.54, \"z\": 3.94, \"model\": \"gb\", \"pred\": 7421.243366428322}, {\"carat\": 2.02, \"cut\": \"Premium\", \"color\": \"E\", \"clarity\": \"SI2\", \"depth\": 60.4, \"table\": 57.0, \"price\": 14574, \"x\": 8.21, \"y\": 8.18, \"z\": 4.95, \"model\": \"lm\", \"pred\": 13870.841594627856}, {\"carat\": 0.32, \"cut\": \"Ideal\", \"color\": \"D\", \"clarity\": \"SI1\", \"depth\": 62.7, \"table\": 57.0, \"price\": 756, \"x\": 4.37, \"y\": 4.34, \"z\": 2.73, \"model\": \"lm\", \"pred\": 52.70151177824209}, {\"carat\": 0.41, \"cut\": \"Good\", \"color\": \"E\", \"clarity\": \"SI2\", \"depth\": 63.4, \"table\": 58.0, \"price\": 638, \"x\": 4.71, \"y\": 4.75, \"z\": 3.0, \"model\": \"gb\", \"pred\": 666.0327661816467}, {\"carat\": 0.9, \"cut\": \"Good\", \"color\": \"H\", \"clarity\": \"SI1\", \"depth\": 62.1, \"table\": 61.0, \"price\": 3447, \"x\": 6.07, \"y\": 6.11, \"z\": 3.78, \"model\": \"lm\", \"pred\": 3885.4716087261377}, {\"carat\": 0.38, \"cut\": \"Very Good\", \"color\": \"H\", \"clarity\": \"SI1\", \"depth\": 63.3, \"table\": 57.0, \"price\": 812, \"x\": 4.62, \"y\": 4.58, \"z\": 2.91, \"model\": \"gb\", \"pred\": 634.9837167371503}, {\"carat\": 1.2, \"cut\": \"Very Good\", \"color\": \"D\", \"clarity\": \"VS2\", \"depth\": 63.5, \"table\": 58.0, \"price\": 9138, \"x\": 6.68, \"y\": 6.71, \"z\": 4.25, \"model\": \"lm\", \"pred\": 8367.098482372894}, {\"carat\": 0.9, \"cut\": \"Good\", \"color\": \"I\", \"clarity\": \"SI1\", \"depth\": 63.8, \"table\": 57.0, \"price\": 2823, \"x\": 6.06, \"y\": 6.13, \"z\": 3.89, \"model\": \"lm\", \"pred\": 3423.8673716607946}, {\"carat\": 0.7, \"cut\": \"Very Good\", \"color\": \"F\", \"clarity\": \"SI2\", \"depth\": 62.9, \"table\": 56.0, \"price\": 2131, \"x\": 5.68, \"y\": 5.71, \"z\": 3.58, \"model\": \"lm\", \"pred\": 2028.8448931169903}, {\"carat\": 0.7, \"cut\": \"Ideal\", \"color\": \"I\", \"clarity\": \"SI1\", \"depth\": 62.8, \"table\": 56.0, \"price\": 2417, \"x\": 5.63, \"y\": 5.68, \"z\": 3.55, \"model\": \"gb\", \"pred\": 2057.6221271200548}, {\"carat\": 0.78, \"cut\": \"Ideal\", \"color\": \"D\", \"clarity\": \"VS2\", \"depth\": 62.9, \"table\": 56.0, \"price\": 3736, \"x\": 5.85, \"y\": 5.88, \"z\": 3.69, \"model\": \"gb\", \"pred\": 3710.9405076942853}, {\"carat\": 1.15, \"cut\": \"Very Good\", \"color\": \"D\", \"clarity\": \"SI2\", \"depth\": 61.8, \"table\": 61.0, \"price\": 5186, \"x\": 6.62, \"y\": 6.69, \"z\": 4.11, \"model\": \"gb\", \"pred\": 5060.157590110923}, {\"carat\": 1.07, \"cut\": \"Ideal\", \"color\": \"G\", \"clarity\": \"VS1\", \"depth\": 61.8, \"table\": 57.0, \"price\": 6793, \"x\": 6.52, \"y\": 6.58, \"z\": 4.05, \"model\": \"lm\", \"pred\": 7172.2896198390845}, {\"carat\": 0.41, \"cut\": \"Ideal\", \"color\": \"G\", \"clarity\": \"IF\", \"depth\": 61.7, \"table\": 56.0, \"price\": 1367, \"x\": 4.77, \"y\": 4.8, \"z\": 2.95, \"model\": \"gb\", \"pred\": 1325.8071728352431}, {\"carat\": 0.41, \"cut\": \"Ideal\", \"color\": \"D\", \"clarity\": \"VS1\", \"depth\": 61.3, \"table\": 54.0, \"price\": 1151, \"x\": 4.8, \"y\": 4.83, \"z\": 2.95, \"model\": \"lm\", \"pred\": 1813.6440934274988}, {\"carat\": 1.08, \"cut\": \"Premium\", \"color\": \"G\", \"clarity\": \"VS2\", \"depth\": 62.3, \"table\": 58.0, \"price\": 6532, \"x\": 6.54, \"y\": 6.5, \"z\": 4.06, \"model\": \"gb\", \"pred\": 6340.281594323596}, {\"carat\": 0.33, \"cut\": \"Very Good\", \"color\": \"D\", \"clarity\": \"VS2\", \"depth\": 62.5, \"table\": 59.0, \"price\": 681, \"x\": 4.39, \"y\": 4.41, \"z\": 2.75, \"model\": \"gb\", \"pred\": 725.86515660132}, {\"carat\": 0.31, \"cut\": \"Premium\", \"color\": \"I\", \"clarity\": \"VVS2\", \"depth\": 62.1, \"table\": 58.0, \"price\": 698, \"x\": 4.33, \"y\": 4.3, \"z\": 2.68, \"model\": \"gb\", \"pred\": 628.6600688362}, {\"carat\": 0.71, \"cut\": \"Ideal\", \"color\": \"H\", \"clarity\": \"IF\", \"depth\": 61.1, \"table\": 56.0, \"price\": 3290, \"x\": 5.74, \"y\": 5.78, \"z\": 3.52, \"model\": \"lm\", \"pred\": 4385.552968373601}, {\"carat\": 0.42, \"cut\": \"Ideal\", \"color\": \"H\", \"clarity\": \"VS2\", \"depth\": 62.9, \"table\": 56.0, \"price\": 992, \"x\": 4.79, \"y\": 4.72, \"z\": 2.99, \"model\": \"lm\", \"pred\": 606.7578498204211}, {\"carat\": 0.53, \"cut\": \"Ideal\", \"color\": \"H\", \"clarity\": \"VS2\", \"depth\": 61.4, \"table\": 56.0, \"price\": 2031, \"x\": 5.2, \"y\": 5.23, \"z\": 3.2, \"model\": \"gb\", \"pred\": 1477.1085948978055}, {\"carat\": 1.51, \"cut\": \"Ideal\", \"color\": \"I\", \"clarity\": \"SI1\", \"depth\": 62.8, \"table\": 54.0, \"price\": 8574, \"x\": 7.31, \"y\": 7.27, \"z\": 4.58, \"model\": \"lm\", \"pred\": 9186.892980049824}, {\"carat\": 0.47, \"cut\": \"Premium\", \"color\": \"G\", \"clarity\": \"VS2\", \"depth\": 61.8, \"table\": 60.0, \"price\": 1102, \"x\": 4.98, \"y\": 4.95, \"z\": 3.07, \"model\": \"lm\", \"pred\": 1394.7038874989985}, {\"carat\": 0.34, \"cut\": \"Ideal\", \"color\": \"E\", \"clarity\": \"VS1\", \"depth\": 61.0, \"table\": 57.0, \"price\": 1033, \"x\": 4.52, \"y\": 4.49, \"z\": 2.75, \"model\": \"lm\", \"pred\": 979.9325902827924}, {\"carat\": 1.0, \"cut\": \"Premium\", \"color\": \"G\", \"clarity\": \"SI2\", \"depth\": 62.5, \"table\": 59.0, \"price\": 3136, \"x\": 6.41, \"y\": 6.33, \"z\": 3.98, \"model\": \"lm\", \"pred\": 4512.473079803272}, {\"carat\": 1.72, \"cut\": \"Ideal\", \"color\": \"H\", \"clarity\": \"SI1\", \"depth\": 62.2, \"table\": 57.0, \"price\": 7840, \"x\": 7.65, \"y\": 7.55, \"z\": 4.72, \"model\": \"lm\", \"pred\": 11514.584282440868}, {\"carat\": 0.27, \"cut\": \"Ideal\", \"color\": \"D\", \"clarity\": \"VVS1\", \"depth\": 61.7, \"table\": 57.0, \"price\": 586, \"x\": 4.16, \"y\": 4.2, \"z\": 2.58, \"model\": \"gb\", \"pred\": 788.9015277867642}, {\"carat\": 0.35, \"cut\": \"Premium\", \"color\": \"F\", \"clarity\": \"VS2\", \"depth\": 60.9, \"table\": 57.0, \"price\": 879, \"x\": 4.58, \"y\": 4.55, \"z\": 2.78, \"model\": \"gb\", \"pred\": 822.8767785203149}, {\"carat\": 0.76, \"cut\": \"Ideal\", \"color\": \"F\", \"clarity\": \"SI1\", \"depth\": 62.6, \"table\": 57.0, \"price\": 2719, \"x\": 5.84, \"y\": 5.89, \"z\": 3.67, \"model\": \"lm\", \"pred\": 3659.288187497993}, {\"carat\": 1.65, \"cut\": \"Premium\", \"color\": \"D\", \"clarity\": \"SI1\", \"depth\": 60.4, \"table\": 60.0, \"price\": 11310, \"x\": 7.63, \"y\": 7.58, \"z\": 4.59, \"model\": \"lm\", \"pred\": 11742.394390259675}, {\"carat\": 0.55, \"cut\": \"Ideal\", \"color\": \"G\", \"clarity\": \"VS2\", \"depth\": 60.1, \"table\": 55.0, \"price\": 1634, \"x\": 5.33, \"y\": 5.37, \"z\": 3.22, \"model\": \"gb\", \"pred\": 1624.3504052633857}, {\"carat\": 0.4, \"cut\": \"Good\", \"color\": \"F\", \"clarity\": \"VS1\", \"depth\": 63.1, \"table\": 59.0, \"price\": 877, \"x\": 4.64, \"y\": 4.68, \"z\": 2.94, \"model\": \"gb\", \"pred\": 911.0683321679448}, {\"carat\": 0.34, \"cut\": \"Very Good\", \"color\": \"G\", \"clarity\": \"SI1\", \"depth\": 60.8, \"table\": 59.0, \"price\": 507, \"x\": 4.46, \"y\": 4.56, \"z\": 2.74, \"model\": \"gb\", \"pred\": 561.7492262745714}, {\"carat\": 2.01, \"cut\": \"Very Good\", \"color\": \"I\", \"clarity\": \"VS1\", \"depth\": 59.8, \"table\": 63.0, \"price\": 16914, \"x\": 8.11, \"y\": 8.14, \"z\": 4.86, \"model\": \"gb\", \"pred\": 16866.87742707185}, {\"carat\": 0.71, \"cut\": \"Ideal\", \"color\": \"F\", \"clarity\": \"SI1\", \"depth\": 62.9, \"table\": 57.0, \"price\": 2381, \"x\": 5.71, \"y\": 5.65, \"z\": 3.57, \"model\": \"lm\", \"pred\": 3214.981743372825}, {\"carat\": 0.9, \"cut\": \"Good\", \"color\": \"H\", \"clarity\": \"SI1\", \"depth\": 64.2, \"table\": 60.0, \"price\": 2974, \"x\": 6.05, \"y\": 6.02, \"z\": 3.87, \"model\": \"lm\", \"pred\": 3885.4716087261377}, {\"carat\": 0.31, \"cut\": \"Ideal\", \"color\": \"F\", \"clarity\": \"VVS1\", \"depth\": 62.0, \"table\": 54.0, \"price\": 840, \"x\": 4.36, \"y\": 4.38, \"z\": 2.71, \"model\": \"lm\", \"pred\": 1158.8698480038902}, {\"carat\": 1.44, \"cut\": \"Premium\", \"color\": \"G\", \"clarity\": \"VS2\", \"depth\": 59.5, \"table\": 61.0, \"price\": 11032, \"x\": 7.38, \"y\": 7.3, \"z\": 4.37, \"model\": \"gb\", \"pred\": 10666.496320562806}, {\"carat\": 0.4, \"cut\": \"Ideal\", \"color\": \"E\", \"clarity\": \"VVS2\", \"depth\": 61.8, \"table\": 55.0, \"price\": 1158, \"x\": 4.74, \"y\": 4.78, \"z\": 2.94, \"model\": \"gb\", \"pred\": 1202.1293847063996}, {\"carat\": 1.11, \"cut\": \"Ideal\", \"color\": \"I\", \"clarity\": \"SI2\", \"depth\": 61.9, \"table\": 57.0, \"price\": 4377, \"x\": 6.62, \"y\": 6.66, \"z\": 4.11, \"model\": \"gb\", \"pred\": 4393.5596040623695}, {\"carat\": 1.02, \"cut\": \"Very Good\", \"color\": \"E\", \"clarity\": \"VS2\", \"depth\": 63.3, \"table\": 57.0, \"price\": 6582, \"x\": 6.37, \"y\": 6.43, \"z\": 4.05, \"model\": \"gb\", \"pred\": 6648.553412349565}, {\"carat\": 0.41, \"cut\": \"Premium\", \"color\": \"F\", \"clarity\": \"VS2\", \"depth\": 62.6, \"table\": 58.0, \"price\": 1107, \"x\": 4.81, \"y\": 4.75, \"z\": 2.99, \"model\": \"lm\", \"pred\": 1064.4256580077026}, {\"carat\": 0.53, \"cut\": \"Ideal\", \"color\": \"G\", \"clarity\": \"VVS2\", \"depth\": 61.9, \"table\": 54.0, \"price\": 1867, \"x\": 5.2, \"y\": 5.23, \"z\": 3.23, \"model\": \"gb\", \"pred\": 1933.797287660089}, {\"carat\": 0.5, \"cut\": \"Premium\", \"color\": \"G\", \"clarity\": \"I1\", \"depth\": 62.2, \"table\": 59.0, \"price\": 1020, \"x\": 5.07, \"y\": 5.03, \"z\": 3.14, \"model\": \"lm\", \"pred\": -2556.541348013176}, {\"carat\": 0.41, \"cut\": \"Very Good\", \"color\": \"G\", \"clarity\": \"SI2\", \"depth\": 59.6, \"table\": 60.0, \"price\": 621, \"x\": 4.82, \"y\": 4.85, \"z\": 2.88, \"model\": \"gb\", \"pred\": 632.5061343001639}, {\"carat\": 0.51, \"cut\": \"Ideal\", \"color\": \"J\", \"clarity\": \"VS1\", \"depth\": 61.6, \"table\": 54.0, \"price\": 988, \"x\": 5.14, \"y\": 5.18, \"z\": 3.18, \"model\": \"lm\", \"pred\": 377.03462143172686}, {\"carat\": 0.7, \"cut\": \"Ideal\", \"color\": \"E\", \"clarity\": \"VS2\", \"depth\": 62.1, \"table\": 54.0, \"price\": 2839, \"x\": 5.69, \"y\": 5.72, \"z\": 3.54, \"model\": \"lm\", \"pred\": 3861.889120393956}, {\"carat\": 0.5, \"cut\": \"Very Good\", \"color\": \"G\", \"clarity\": \"VVS1\", \"depth\": 63.3, \"table\": 53.0, \"price\": 1885, \"x\": 5.06, \"y\": 5.09, \"z\": 3.21, \"model\": \"lm\", \"pred\": 2494.80727157841}, {\"carat\": 0.71, \"cut\": \"Premium\", \"color\": \"I\", \"clarity\": \"VVS1\", \"depth\": 62.0, \"table\": 58.0, \"price\": 2572, \"x\": 5.7, \"y\": 5.65, \"z\": 3.52, \"model\": \"lm\", \"pred\": 3447.470996431518}, {\"carat\": 0.77, \"cut\": \"Ideal\", \"color\": \"J\", \"clarity\": \"VS2\", \"depth\": 61.9, \"table\": 54.0, \"price\": 2292, \"x\": 5.89, \"y\": 5.94, \"z\": 3.66, \"model\": \"lm\", \"pred\": 2370.378263292553}, {\"carat\": 1.72, \"cut\": \"Premium\", \"color\": \"H\", \"clarity\": \"VS2\", \"depth\": 61.3, \"table\": 59.0, \"price\": 13609, \"x\": 7.72, \"y\": 7.69, \"z\": 4.72, \"model\": \"gb\", \"pred\": 12950.878393434356}, {\"carat\": 1.57, \"cut\": \"Ideal\", \"color\": \"J\", \"clarity\": \"VVS2\", \"depth\": 61.4, \"table\": 57.0, \"price\": 9516, \"x\": 7.5, \"y\": 7.45, \"z\": 4.59, \"model\": \"lm\", \"pred\": 10228.65167731469}, {\"carat\": 0.31, \"cut\": \"Premium\", \"color\": \"E\", \"clarity\": \"VS1\", \"depth\": 61.0, \"table\": 60.0, \"price\": 636, \"x\": 4.35, \"y\": 4.37, \"z\": 2.66, \"model\": \"gb\", \"pred\": 775.4968511724352}, {\"carat\": 1.5, \"cut\": \"Ideal\", \"color\": \"I\", \"clarity\": \"SI1\", \"depth\": 62.3, \"table\": 55.0, \"price\": 8736, \"x\": 7.35, \"y\": 7.31, \"z\": 4.57, \"model\": \"lm\", \"pred\": 9098.031691224787}, {\"carat\": 0.4, \"cut\": \"Very Good\", \"color\": \"F\", \"clarity\": \"VVS1\", \"depth\": 61.9, \"table\": 59.0, \"price\": 1111, \"x\": 4.71, \"y\": 4.75, \"z\": 2.93, \"model\": \"lm\", \"pred\": 1809.0838867869816}, {\"carat\": 0.33, \"cut\": \"Premium\", \"color\": \"G\", \"clarity\": \"VS1\", \"depth\": 62.0, \"table\": 59.0, \"price\": 854, \"x\": 4.42, \"y\": 4.36, \"z\": 2.72, \"model\": \"gb\", \"pred\": 801.0550306440769}, {\"carat\": 1.12, \"cut\": \"Very Good\", \"color\": \"E\", \"clarity\": \"SI2\", \"depth\": 60.9, \"table\": 63.0, \"price\": 3864, \"x\": 6.65, \"y\": 6.59, \"z\": 4.03, \"model\": \"lm\", \"pred\": 5852.646574980653}, {\"carat\": 0.93, \"cut\": \"Ideal\", \"color\": \"E\", \"clarity\": \"SI1\", \"depth\": 61.9, \"table\": 55.0, \"price\": 4511, \"x\": 6.26, \"y\": 6.31, \"z\": 3.89, \"model\": \"gb\", \"pred\": 4939.35693868403}, {\"carat\": 0.39, \"cut\": \"Premium\", \"color\": \"E\", \"clarity\": \"VS1\", \"depth\": 59.6, \"table\": 60.0, \"price\": 1097, \"x\": 4.75, \"y\": 4.72, \"z\": 2.82, \"model\": \"lm\", \"pred\": 1295.3804991599327}, {\"carat\": 0.43, \"cut\": \"Premium\", \"color\": \"F\", \"clarity\": \"VS2\", \"depth\": 61.0, \"table\": 57.0, \"price\": 968, \"x\": 4.87, \"y\": 4.84, \"z\": 2.96, \"model\": \"lm\", \"pred\": 1242.1482356577699}, {\"carat\": 0.9, \"cut\": \"Good\", \"color\": \"E\", \"clarity\": \"SI1\", \"depth\": 60.8, \"table\": 65.0, \"price\": 3625, \"x\": 6.31, \"y\": 6.18, \"z\": 3.8, \"model\": \"lm\", \"pred\": 4652.4867921987325}, {\"carat\": 0.7, \"cut\": \"Very Good\", \"color\": \"H\", \"clarity\": \"VS1\", \"depth\": 62.1, \"table\": 56.0, \"price\": 2422, \"x\": 5.65, \"y\": 5.68, \"z\": 3.52, \"model\": \"gb\", \"pred\": 2484.7978119828244}, {\"carat\": 0.52, \"cut\": \"Very Good\", \"color\": \"G\", \"clarity\": \"VS2\", \"depth\": 63.2, \"table\": 58.0, \"price\": 1577, \"x\": 5.12, \"y\": 5.1, \"z\": 3.23, \"model\": \"gb\", \"pred\": 1547.9926586958084}, {\"carat\": 0.71, \"cut\": \"Very Good\", \"color\": \"I\", \"clarity\": \"SI1\", \"depth\": 61.5, \"table\": 58.0, \"price\": 2141, \"x\": 5.67, \"y\": 5.72, \"z\": 3.5, \"model\": \"gb\", \"pred\": 2078.8973296383833}, {\"carat\": 0.34, \"cut\": \"Premium\", \"color\": \"H\", \"clarity\": \"VS2\", \"depth\": 61.3, \"table\": 60.0, \"price\": 537, \"x\": 4.47, \"y\": 4.53, \"z\": 2.76, \"model\": \"lm\", \"pred\": -232.99099602787373}, {\"carat\": 0.71, \"cut\": \"Very Good\", \"color\": \"E\", \"clarity\": \"VS1\", \"depth\": 63.3, \"table\": 59.0, \"price\": 3064, \"x\": 5.64, \"y\": 5.68, \"z\": 3.58, \"model\": \"lm\", \"pred\": 4118.262716166823}, {\"carat\": 0.34, \"cut\": \"Ideal\", \"color\": \"E\", \"clarity\": \"SI1\", \"depth\": 60.7, \"table\": 57.0, \"price\": 765, \"x\": 4.51, \"y\": 4.48, \"z\": 2.73, \"model\": \"gb\", \"pred\": 716.7090714570572}, {\"carat\": 0.4, \"cut\": \"Good\", \"color\": \"F\", \"clarity\": \"SI1\", \"depth\": 63.6, \"table\": 57.0, \"price\": 737, \"x\": 4.67, \"y\": 4.7, \"z\": 2.98, \"model\": \"gb\", \"pred\": 741.5106395819663}, {\"carat\": 1.52, \"cut\": \"Premium\", \"color\": \"H\", \"clarity\": \"SI1\", \"depth\": 61.0, \"table\": 58.0, \"price\": 9527, \"x\": 7.39, \"y\": 7.44, \"z\": 4.52, \"model\": \"gb\", \"pred\": 9730.789495675264}, {\"carat\": 0.29, \"cut\": \"Premium\", \"color\": \"F\", \"clarity\": \"SI1\", \"depth\": 62.4, \"table\": 58.0, \"price\": 403, \"x\": 4.24, \"y\": 4.26, \"z\": 2.65, \"model\": \"gb\", \"pred\": 546.6649140540017}, {\"carat\": 0.32, \"cut\": \"Ideal\", \"color\": \"G\", \"clarity\": \"VS2\", \"depth\": 62.1, \"table\": 55.0, \"price\": 673, \"x\": 4.36, \"y\": 4.39, \"z\": 2.71, \"model\": \"lm\", \"pred\": 190.64309037152267}, {\"carat\": 1.32, \"cut\": \"Ideal\", \"color\": \"G\", \"clarity\": \"VS1\", \"depth\": 61.7, \"table\": 56.0, \"price\": 11584, \"x\": 7.04, \"y\": 7.07, \"z\": 4.35, \"model\": \"gb\", \"pred\": 10382.340903135153}, {\"carat\": 0.51, \"cut\": \"Ideal\", \"color\": \"G\", \"clarity\": \"VS1\", \"depth\": 62.3, \"table\": 53.5, \"price\": 1652, \"x\": 5.09, \"y\": 5.14, \"z\": 3.19, \"model\": \"lm\", \"pred\": 2196.057445637204}, {\"carat\": 1.51, \"cut\": \"Very Good\", \"color\": \"H\", \"clarity\": \"VS2\", \"depth\": 63.1, \"table\": 57.0, \"price\": 8219, \"x\": 7.24, \"y\": 7.21, \"z\": 4.56, \"model\": \"gb\", \"pred\": 10173.537764464874}, {\"carat\": 1.5, \"cut\": \"Premium\", \"color\": \"E\", \"clarity\": \"SI1\", \"depth\": 61.4, \"table\": 59.0, \"price\": 11638, \"x\": 7.41, \"y\": 7.24, \"z\": 4.5, \"model\": \"lm\", \"pred\": 10197.792576514696}, {\"carat\": 0.5, \"cut\": \"Premium\", \"color\": \"G\", \"clarity\": \"VVS1\", \"depth\": 62.3, \"table\": 59.0, \"price\": 2070, \"x\": 5.04, \"y\": 5.01, \"z\": 3.13, \"model\": \"gb\", \"pred\": 1814.9720137311585}, {\"carat\": 0.24, \"cut\": \"Very Good\", \"color\": \"G\", \"clarity\": \"VVS2\", \"depth\": 62.0, \"table\": 56.0, \"price\": 449, \"x\": 4.0, \"y\": 4.03, \"z\": 2.49, \"model\": \"lm\", \"pred\": 79.58552714849702}, {\"carat\": 0.4, \"cut\": \"Ideal\", \"color\": \"G\", \"clarity\": \"VS2\", \"depth\": 61.2, \"table\": 57.0, \"price\": 807, \"x\": 4.73, \"y\": 4.78, \"z\": 2.91, \"model\": \"gb\", \"pred\": 861.9029608691549}, {\"carat\": 0.26, \"cut\": \"Ideal\", \"color\": \"G\", \"clarity\": \"VVS2\", \"depth\": 61.4, \"table\": 56.0, \"price\": 545, \"x\": 4.11, \"y\": 4.14, \"z\": 2.53, \"model\": \"lm\", \"pred\": 406.8456654407737}, {\"carat\": 0.55, \"cut\": \"Ideal\", \"color\": \"D\", \"clarity\": \"VS2\", \"depth\": 61.8, \"table\": 54.0, \"price\": 1928, \"x\": 5.26, \"y\": 5.29, \"z\": 3.26, \"model\": \"lm\", \"pred\": 2740.652269387926}, {\"carat\": 1.02, \"cut\": \"Premium\", \"color\": \"F\", \"clarity\": \"SI1\", \"depth\": 61.0, \"table\": 59.0, \"price\": 5455, \"x\": 6.58, \"y\": 6.47, \"z\": 3.98, \"model\": \"gb\", \"pred\": 5099.112557025297}, {\"carat\": 1.5, \"cut\": \"Ideal\", \"color\": \"G\", \"clarity\": \"VS2\", \"depth\": 61.4, \"table\": 59.0, \"price\": 13428, \"x\": 7.37, \"y\": 7.32, \"z\": 4.5, \"model\": \"lm\", \"pred\": 10676.27517172548}, {\"carat\": 1.5, \"cut\": \"Very Good\", \"color\": \"J\", \"clarity\": \"VS2\", \"depth\": 60.5, \"table\": 63.0, \"price\": 7308, \"x\": 7.32, \"y\": 7.27, \"z\": 4.41, \"model\": \"lm\", \"pred\": 8707.714786877794}, {\"carat\": 0.3, \"cut\": \"Ideal\", \"color\": \"D\", \"clarity\": \"VS2\", \"depth\": 62.2, \"table\": 54.0, \"price\": 710, \"x\": 4.28, \"y\": 4.31, \"z\": 2.67, \"model\": \"gb\", \"pred\": 708.2428577345768}, {\"carat\": 2.03, \"cut\": \"Ideal\", \"color\": \"I\", \"clarity\": \"SI2\", \"depth\": 61.1, \"table\": 56.0, \"price\": 11172, \"x\": 8.22, \"y\": 8.17, \"z\": 5.01, \"model\": \"gb\", \"pred\": 14012.270485511914}, {\"carat\": 0.74, \"cut\": \"Very Good\", \"color\": \"E\", \"clarity\": \"SI2\", \"depth\": 61.8, \"table\": 60.0, \"price\": 2391, \"x\": 5.78, \"y\": 5.8, \"z\": 3.58, \"model\": \"gb\", \"pred\": 2530.5347570810904}, {\"carat\": 0.55, \"cut\": \"Ideal\", \"color\": \"G\", \"clarity\": \"VVS1\", \"depth\": 61.5, \"table\": 55.0, \"price\": 2473, \"x\": 5.28, \"y\": 5.26, \"z\": 3.24, \"model\": \"gb\", \"pred\": 2155.3906247528707}, {\"carat\": 0.36, \"cut\": \"Premium\", \"color\": \"G\", \"clarity\": \"VS1\", \"depth\": 62.3, \"table\": 59.0, \"price\": 726, \"x\": 4.5, \"y\": 4.55, \"z\": 2.82, \"model\": \"lm\", \"pred\": 734.2795780136738}, {\"carat\": 0.33, \"cut\": \"Ideal\", \"color\": \"G\", \"clarity\": \"VS1\", \"depth\": 61.4, \"table\": 55.0, \"price\": 666, \"x\": 4.44, \"y\": 4.48, \"z\": 2.74, \"model\": \"gb\", \"pred\": 730.8833603436565}, {\"carat\": 0.42, \"cut\": \"Ideal\", \"color\": \"E\", \"clarity\": \"VVS1\", \"depth\": 61.6, \"table\": 56.0, \"price\": 1400, \"x\": 4.82, \"y\": 4.85, \"z\": 2.98, \"model\": \"gb\", \"pred\": 1394.1367739575421}, {\"carat\": 1.17, \"cut\": \"Fair\", \"color\": \"H\", \"clarity\": \"SI2\", \"depth\": 60.0, \"table\": 66.0, \"price\": 4717, \"x\": 6.86, \"y\": 6.78, \"z\": 4.09, \"model\": \"gb\", \"pred\": 4034.5966155225374}, {\"carat\": 0.51, \"cut\": \"Very Good\", \"color\": \"I\", \"clarity\": \"VS2\", \"depth\": 60.3, \"table\": 63.0, \"price\": 1068, \"x\": 5.16, \"y\": 5.13, \"z\": 3.1, \"model\": \"gb\", \"pred\": 1206.9031771078212}, {\"carat\": 0.44, \"cut\": \"Premium\", \"color\": \"D\", \"clarity\": \"SI1\", \"depth\": 62.9, \"table\": 58.0, \"price\": 1089, \"x\": 4.85, \"y\": 4.82, \"z\": 3.04, \"model\": \"lm\", \"pred\": 990.178442430618}, {\"carat\": 0.27, \"cut\": \"Ideal\", \"color\": \"E\", \"clarity\": \"VS2\", \"depth\": 60.8, \"table\": 56.0, \"price\": 537, \"x\": 4.25, \"y\": 4.23, \"z\": 2.58, \"model\": \"gb\", \"pred\": 616.5788241076721}, {\"carat\": 0.72, \"cut\": \"Very Good\", \"color\": \"D\", \"clarity\": \"VS1\", \"depth\": 62.7, \"table\": 58.0, \"price\": 2951, \"x\": 5.65, \"y\": 5.68, \"z\": 3.55, \"model\": \"gb\", \"pred\": 3286.0554406588403}, {\"carat\": 0.46, \"cut\": \"Premium\", \"color\": \"E\", \"clarity\": \"VS1\", \"depth\": 61.9, \"table\": 58.0, \"price\": 1372, \"x\": 4.91, \"y\": 4.94, \"z\": 3.05, \"model\": \"lm\", \"pred\": 1917.409520935168}, {\"carat\": 1.0, \"cut\": \"Ideal\", \"color\": \"F\", \"clarity\": \"SI2\", \"depth\": 62.7, \"table\": 57.0, \"price\": 4721, \"x\": 6.37, \"y\": 6.42, \"z\": 4.01, \"model\": \"lm\", \"pred\": 4844.221118510207}, {\"carat\": 1.33, \"cut\": \"Ideal\", \"color\": \"F\", \"clarity\": \"VVS2\", \"depth\": 61.9, \"table\": 55.0, \"price\": 15031, \"x\": 7.02, \"y\": 7.07, \"z\": 4.36, \"model\": \"lm\", \"pred\": 10117.893073178271}, {\"carat\": 0.31, \"cut\": \"Ideal\", \"color\": \"D\", \"clarity\": \"VVS2\", \"depth\": 61.0, \"table\": 55.0, \"price\": 1074, \"x\": 4.38, \"y\": 4.41, \"z\": 2.68, \"model\": \"gb\", \"pred\": 886.499701688203}, {\"carat\": 0.33, \"cut\": \"Premium\", \"color\": \"H\", \"clarity\": \"SI1\", \"depth\": 63.0, \"table\": 58.0, \"price\": 610, \"x\": 4.42, \"y\": 4.4, \"z\": 2.78, \"model\": \"gb\", \"pred\": 575.634485089357}, {\"carat\": 1.0, \"cut\": \"Ideal\", \"color\": \"I\", \"clarity\": \"SI2\", \"depth\": 58.8, \"table\": 55.0, \"price\": 3629, \"x\": 6.53, \"y\": 6.46, \"z\": 3.82, \"model\": \"lm\", \"pred\": 3707.229249184521}, {\"carat\": 0.27, \"cut\": \"Very Good\", \"color\": \"E\", \"clarity\": \"VS2\", \"depth\": 59.5, \"table\": 56.0, \"price\": 470, \"x\": 4.2, \"y\": 4.31, \"z\": 2.53, \"model\": \"gb\", \"pred\": 485.35054618972066}, {\"carat\": 1.0, \"cut\": \"Premium\", \"color\": \"F\", \"clarity\": \"VS1\", \"depth\": 62.7, \"table\": 55.0, \"price\": 7056, \"x\": 6.39, \"y\": 6.34, \"z\": 3.99, \"model\": \"lm\", \"pred\": 6624.291566274726}, {\"carat\": 1.05, \"cut\": \"Very Good\", \"color\": \"H\", \"clarity\": \"SI1\", \"depth\": 63.1, \"table\": 60.0, \"price\": 4692, \"x\": 6.49, \"y\": 6.42, \"z\": 4.07, \"model\": \"lm\", \"pred\": 5411.340370521414}, {\"carat\": 0.7, \"cut\": \"Fair\", \"color\": \"H\", \"clarity\": \"VS1\", \"depth\": 64.9, \"table\": 56.0, \"price\": 2152, \"x\": 5.68, \"y\": 5.56, \"z\": 3.65, \"model\": \"gb\", \"pred\": 2227.4904738230607}, {\"carat\": 1.54, \"cut\": \"Ideal\", \"color\": \"G\", \"clarity\": \"VS2\", \"depth\": 60.2, \"table\": 59.0, \"price\": 13508, \"x\": 7.47, \"y\": 7.52, \"z\": 4.51, \"model\": \"gb\", \"pred\": 13486.904686223152}, {\"carat\": 3.0, \"cut\": \"Good\", \"color\": \"E\", \"clarity\": \"I1\", \"depth\": 64.2, \"table\": 65.0, \"price\": 11548, \"x\": 9.08, \"y\": 8.96, \"z\": 5.79, \"model\": \"lm\", \"pred\": 19739.66945810241}, {\"carat\": 0.26, \"cut\": \"Very Good\", \"color\": \"F\", \"clarity\": \"VS2\", \"depth\": 62.9, \"table\": 59.0, \"price\": 453, \"x\": 4.04, \"y\": 4.07, \"z\": 2.55, \"model\": \"lm\", \"pred\": -289.1726997619817}, {\"carat\": 0.41, \"cut\": \"Very Good\", \"color\": \"I\", \"clarity\": \"VVS2\", \"depth\": 63.1, \"table\": 56.0, \"price\": 1061, \"x\": 4.75, \"y\": 4.72, \"z\": 2.99, \"model\": \"lm\", \"pred\": 656.1250713072867}, {\"carat\": 0.36, \"cut\": \"Ideal\", \"color\": \"J\", \"clarity\": \"VS1\", \"depth\": 61.7, \"table\": 53.7, \"price\": 513, \"x\": 4.58, \"y\": 4.62, \"z\": 2.84, \"model\": \"gb\", \"pred\": 488.70238060075513}, {\"carat\": 0.81, \"cut\": \"Ideal\", \"color\": \"F\", \"clarity\": \"SI2\", \"depth\": 62.6, \"table\": 55.0, \"price\": 2795, \"x\": 5.92, \"y\": 5.96, \"z\": 3.72, \"model\": \"gb\", \"pred\": 2880.548476013957}, {\"carat\": 0.92, \"cut\": \"Good\", \"color\": \"G\", \"clarity\": \"VVS2\", \"depth\": 58.8, \"table\": 57.0, \"price\": 5390, \"x\": 6.32, \"y\": 6.37, \"z\": 3.73, \"model\": \"lm\", \"pred\": 5929.203737831003}, {\"carat\": 0.34, \"cut\": \"Ideal\", \"color\": \"D\", \"clarity\": \"VS2\", \"depth\": 62.1, \"table\": 55.0, \"price\": 923, \"x\": 4.49, \"y\": 4.46, \"z\": 2.78, \"model\": \"gb\", \"pred\": 894.4928833834332}, {\"carat\": 1.06, \"cut\": \"Premium\", \"color\": \"H\", \"clarity\": \"SI1\", \"depth\": 61.6, \"table\": 59.0, \"price\": 4872, \"x\": 6.55, \"y\": 6.54, \"z\": 4.03, \"model\": \"lm\", \"pred\": 5520.8806847406295}, {\"carat\": 0.72, \"cut\": \"Very Good\", \"color\": \"G\", \"clarity\": \"IF\", \"depth\": 60.7, \"table\": 56.0, \"price\": 3614, \"x\": 5.78, \"y\": 5.81, \"z\": 3.52, \"model\": \"gb\", \"pred\": 3469.1841161105754}, {\"carat\": 0.54, \"cut\": \"Ideal\", \"color\": \"E\", \"clarity\": \"VS2\", \"depth\": 62.2, \"table\": 55.0, \"price\": 1847, \"x\": 5.24, \"y\": 5.21, \"z\": 3.25, \"model\": \"gb\", \"pred\": 1768.036011550247}, {\"carat\": 1.78, \"cut\": \"Premium\", \"color\": \"H\", \"clarity\": \"SI2\", \"depth\": 59.1, \"table\": 60.0, \"price\": 11262, \"x\": 7.93, \"y\": 7.87, \"z\": 4.67, \"model\": \"lm\", \"pred\": 10971.155479354451}, {\"carat\": 0.33, \"cut\": \"Premium\", \"color\": \"D\", \"clarity\": \"SI1\", \"depth\": 60.3, \"table\": 58.0, \"price\": 608, \"x\": 4.47, \"y\": 4.49, \"z\": 2.7, \"model\": \"lm\", \"pred\": 12.704265355248936}, {\"carat\": 0.8, \"cut\": \"Very Good\", \"color\": \"I\", \"clarity\": \"VS2\", \"depth\": 62.0, \"table\": 58.0, \"price\": 2833, \"x\": 5.86, \"y\": 5.95, \"z\": 3.66, \"model\": \"lm\", \"pred\": 3372.345027464143}, {\"carat\": 0.51, \"cut\": \"Premium\", \"color\": \"G\", \"clarity\": \"VS2\", \"depth\": 61.2, \"table\": 60.0, \"price\": 1438, \"x\": 5.12, \"y\": 5.17, \"z\": 3.15, \"model\": \"gb\", \"pred\": 1559.0158904405746}, {\"carat\": 1.01, \"cut\": \"Very Good\", \"color\": \"I\", \"clarity\": \"SI1\", \"depth\": 61.4, \"table\": 62.0, \"price\": 4693, \"x\": 6.39, \"y\": 6.45, \"z\": 3.94, \"model\": \"lm\", \"pred\": 4594.290978155935}, {\"carat\": 1.01, \"cut\": \"Very Good\", \"color\": \"I\", \"clarity\": \"SI1\", \"depth\": 62.7, \"table\": 56.0, \"price\": 4212, \"x\": 6.36, \"y\": 6.43, \"z\": 4.01, \"model\": \"gb\", \"pred\": 4273.998368655002}, {\"carat\": 1.29, \"cut\": \"Good\", \"color\": \"D\", \"clarity\": \"SI2\", \"depth\": 57.9, \"table\": 59.0, \"price\": 6140, \"x\": 7.22, \"y\": 7.18, \"z\": 4.17, \"model\": \"gb\", \"pred\": 6303.323011811028}, {\"carat\": 1.04, \"cut\": \"Premium\", \"color\": \"G\", \"clarity\": \"VS2\", \"depth\": 62.5, \"table\": 58.0, \"price\": 6290, \"x\": 6.47, \"y\": 6.43, \"z\": 4.03, \"model\": \"gb\", \"pred\": 6168.762794409549}, {\"carat\": 0.32, \"cut\": \"Ideal\", \"color\": \"E\", \"clarity\": \"IF\", \"depth\": 62.6, \"table\": 55.0, \"price\": 1095, \"x\": 4.38, \"y\": 4.41, \"z\": 2.75, \"model\": \"gb\", \"pred\": 1036.2598065453553}, {\"carat\": 0.53, \"cut\": \"Ideal\", \"color\": \"E\", \"clarity\": \"SI1\", \"depth\": 62.0, \"table\": 55.0, \"price\": 1607, \"x\": 5.21, \"y\": 5.17, \"z\": 3.22, \"model\": \"gb\", \"pred\": 1518.5336343381991}, {\"carat\": 0.53, \"cut\": \"Ideal\", \"color\": \"H\", \"clarity\": \"SI1\", \"depth\": 62.3, \"table\": 57.0, \"price\": 1197, \"x\": 5.2, \"y\": 5.24, \"z\": 3.25, \"model\": \"gb\", \"pred\": 1220.262325409471}, {\"carat\": 0.46, \"cut\": \"Ideal\", \"color\": \"D\", \"clarity\": \"VS1\", \"depth\": 61.6, \"table\": 57.0, \"price\": 1637, \"x\": 4.95, \"y\": 4.98, \"z\": 3.06, \"model\": \"gb\", \"pred\": 1440.5256570150582}, {\"carat\": 0.91, \"cut\": \"Good\", \"color\": \"G\", \"clarity\": \"VVS2\", \"depth\": 64.1, \"table\": 58.0, \"price\": 4464, \"x\": 6.1, \"y\": 6.06, \"z\": 3.9, \"model\": \"lm\", \"pred\": 5840.342449005971}, {\"carat\": 1.5, \"cut\": \"Premium\", \"color\": \"D\", \"clarity\": \"SI2\", \"depth\": 61.9, \"table\": 58.0, \"price\": 8649, \"x\": 7.34, \"y\": 7.27, \"z\": 4.52, \"model\": \"gb\", \"pred\": 9044.191296921015}, {\"carat\": 0.36, \"cut\": \"Ideal\", \"color\": \"D\", \"clarity\": \"VS1\", \"depth\": 62.8, \"table\": 55.0, \"price\": 1018, \"x\": 4.55, \"y\": 4.52, \"z\": 2.85, \"model\": \"lm\", \"pred\": 1369.3376493023325}, {\"carat\": 0.43, \"cut\": \"Very Good\", \"color\": \"D\", \"clarity\": \"SI2\", \"depth\": 63.4, \"table\": 57.0, \"price\": 858, \"x\": 4.81, \"y\": 4.78, \"z\": 3.04, \"model\": \"gb\", \"pred\": 767.6690038695438}, {\"carat\": 1.15, \"cut\": \"Premium\", \"color\": \"G\", \"clarity\": \"SI1\", \"depth\": 62.0, \"table\": 58.0, \"price\": 4863, \"x\": 6.77, \"y\": 6.68, \"z\": 4.17, \"model\": \"gb\", \"pred\": 5465.876360552988}, {\"carat\": 1.07, \"cut\": \"Ideal\", \"color\": \"J\", \"clarity\": \"VS2\", \"depth\": 61.6, \"table\": 56.0, \"price\": 4686, \"x\": 6.59, \"y\": 6.55, \"z\": 4.04, \"model\": \"gb\", \"pred\": 4727.745972691706}, {\"carat\": 0.31, \"cut\": \"Ideal\", \"color\": \"I\", \"clarity\": \"SI1\", \"depth\": 62.1, \"table\": 54.0, \"price\": 436, \"x\": 4.37, \"y\": 4.39, \"z\": 2.72, \"model\": \"lm\", \"pred\": -1476.4616789542026}, {\"carat\": 1.6, \"cut\": \"Premium\", \"color\": \"H\", \"clarity\": \"SI2\", \"depth\": 59.4, \"table\": 59.0, \"price\": 8184, \"x\": 7.55, \"y\": 7.6, \"z\": 4.5, \"model\": \"gb\", \"pred\": 8005.787890589233}, {\"carat\": 0.75, \"cut\": \"Ideal\", \"color\": \"J\", \"clarity\": \"VS2\", \"depth\": 62.3, \"table\": 57.0, \"price\": 1923, \"x\": 5.81, \"y\": 5.84, \"z\": 3.63, \"model\": \"lm\", \"pred\": 2192.655685642486}, {\"carat\": 0.33, \"cut\": \"Ideal\", \"color\": \"F\", \"clarity\": \"VVS2\", \"depth\": 61.3, \"table\": 56.0, \"price\": 810, \"x\": 4.44, \"y\": 4.46, \"z\": 2.73, \"model\": \"gb\", \"pred\": 855.6830640906907}, {\"carat\": 0.37, \"cut\": \"Very Good\", \"color\": \"G\", \"clarity\": \"VS1\", \"depth\": 59.2, \"table\": 61.0, \"price\": 746, \"x\": 4.63, \"y\": 4.7, \"z\": 2.76, \"model\": \"lm\", \"pred\": 802.4618414445257}, {\"carat\": 0.51, \"cut\": \"Very Good\", \"color\": \"D\", \"clarity\": \"VS2\", \"depth\": 63.1, \"table\": 58.0, \"price\": 1793, \"x\": 5.13, \"y\": 5.08, \"z\": 3.22, \"model\": \"gb\", \"pred\": 1770.6404990247888}, {\"carat\": 0.38, \"cut\": \"Very Good\", \"color\": \"H\", \"clarity\": \"VS2\", \"depth\": 61.5, \"table\": 55.0, \"price\": 645, \"x\": 4.66, \"y\": 4.67, \"z\": 2.86, \"model\": \"gb\", \"pred\": 707.0743797902455}, {\"carat\": 0.47, \"cut\": \"Ideal\", \"color\": \"H\", \"clarity\": \"VS2\", \"depth\": 62.7, \"table\": 55.0, \"price\": 989, \"x\": 4.95, \"y\": 5.08, \"z\": 3.15, \"model\": \"gb\", \"pred\": 1166.9910336468804}, {\"carat\": 0.72, \"cut\": \"Premium\", \"color\": \"D\", \"clarity\": \"SI1\", \"depth\": 61.4, \"table\": 59.0, \"price\": 2903, \"x\": 5.79, \"y\": 5.71, \"z\": 3.53, \"model\": \"gb\", \"pred\": 2781.337740571375}, {\"carat\": 1.09, \"cut\": \"Ideal\", \"color\": \"D\", \"clarity\": \"SI2\", \"depth\": 61.3, \"table\": 57.0, \"price\": 5267, \"x\": 6.64, \"y\": 6.67, \"z\": 4.08, \"model\": \"lm\", \"pred\": 5947.282750517234}, {\"carat\": 1.02, \"cut\": \"Ideal\", \"color\": \"H\", \"clarity\": \"SI2\", \"depth\": 60.5, \"table\": 57.0, \"price\": 4375, \"x\": 6.56, \"y\": 6.52, \"z\": 3.95, \"model\": \"gb\", \"pred\": 4276.969567309736}, {\"carat\": 0.3, \"cut\": \"Ideal\", \"color\": \"E\", \"clarity\": \"VS2\", \"depth\": 61.8, \"table\": 56.0, \"price\": 844, \"x\": 4.32, \"y\": 4.29, \"z\": 2.66, \"model\": \"lm\", \"pred\": 307.43756739261426}, {\"carat\": 1.65, \"cut\": \"Ideal\", \"color\": \"G\", \"clarity\": \"VS2\", \"depth\": 60.8, \"table\": 56.0, \"price\": 14456, \"x\": 7.65, \"y\": 7.7, \"z\": 4.67, \"model\": \"lm\", \"pred\": 12009.194504100982}, {\"carat\": 0.7, \"cut\": \"Good\", \"color\": \"E\", \"clarity\": \"VS2\", \"depth\": 64.1, \"table\": 55.0, \"price\": 2793, \"x\": 5.6, \"y\": 5.66, \"z\": 3.61, \"model\": \"lm\", \"pred\": 3519.4021303319737}, {\"carat\": 1.7, \"cut\": \"Very Good\", \"color\": \"J\", \"clarity\": \"VS1\", \"depth\": 62.9, \"table\": 58.0, \"price\": 10165, \"x\": 7.54, \"y\": 7.67, \"z\": 4.79, \"model\": \"gb\", \"pred\": 10137.602920067866}, {\"carat\": 0.4, \"cut\": \"Ideal\", \"color\": \"G\", \"clarity\": \"VVS1\", \"depth\": 62.4, \"table\": 57.0, \"price\": 1123, \"x\": 4.74, \"y\": 4.78, \"z\": 2.97, \"model\": \"gb\", \"pred\": 1161.9469517084274}, {\"carat\": 1.02, \"cut\": \"Premium\", \"color\": \"F\", \"clarity\": \"SI2\", \"depth\": 62.5, \"table\": 57.0, \"price\": 4570, \"x\": 6.47, \"y\": 6.43, \"z\": 4.03, \"model\": \"lm\", \"pred\": 4893.0851609122465}, {\"carat\": 1.59, \"cut\": \"Ideal\", \"color\": \"H\", \"clarity\": \"VS1\", \"depth\": 60.7, \"table\": 56.0, \"price\": 13839, \"x\": 7.54, \"y\": 7.58, \"z\": 4.59, \"model\": \"lm\", \"pred\": 11320.578509939389}, {\"carat\": 2.0, \"cut\": \"Fair\", \"color\": \"I\", \"clarity\": \"SI2\", \"depth\": 65.2, \"table\": 59.0, \"price\": 10483, \"x\": 7.74, \"y\": 7.69, \"z\": 5.03, \"model\": \"gb\", \"pred\": 9744.871632237939}, {\"carat\": 2.02, \"cut\": \"Premium\", \"color\": \"H\", \"clarity\": \"VS2\", \"depth\": 62.7, \"table\": 53.0, \"price\": 18207, \"x\": 8.02, \"y\": 7.95, \"z\": 0.0, \"model\": \"gb\", \"pred\": 15901.448931755283}, {\"carat\": 0.79, \"cut\": \"Premium\", \"color\": \"H\", \"clarity\": \"SI1\", \"depth\": 63.0, \"table\": 54.0, \"price\": 2420, \"x\": 5.9, \"y\": 5.86, \"z\": 3.69, \"model\": \"gb\", \"pred\": 2565.5328509317683}, {\"carat\": 2.01, \"cut\": \"Premium\", \"color\": \"I\", \"clarity\": \"VS2\", \"depth\": 61.0, \"table\": 61.0, \"price\": 16778, \"x\": 8.15, \"y\": 7.99, \"z\": 4.92, \"model\": \"gb\", \"pred\": 15799.312351994731}, {\"carat\": 0.52, \"cut\": \"Ideal\", \"color\": \"E\", \"clarity\": \"VS2\", \"depth\": 62.4, \"table\": 57.0, \"price\": 1743, \"x\": 5.14, \"y\": 5.12, \"z\": 3.2, \"model\": \"lm\", \"pred\": 2262.385921543352}, {\"carat\": 1.26, \"cut\": \"Ideal\", \"color\": \"H\", \"clarity\": \"SI1\", \"depth\": 61.9, \"table\": 57.0, \"price\": 8110, \"x\": 6.88, \"y\": 6.93, \"z\": 4.27, \"model\": \"lm\", \"pred\": 7426.964996489327}, {\"carat\": 0.41, \"cut\": \"Ideal\", \"color\": \"E\", \"clarity\": \"SI1\", \"depth\": 61.4, \"table\": 57.0, \"price\": 904, \"x\": 4.8, \"y\": 4.78, \"z\": 2.94, \"model\": \"gb\", \"pred\": 900.4866683815112}, {\"carat\": 0.5, \"cut\": \"Ideal\", \"color\": \"E\", \"clarity\": \"VS1\", \"depth\": 61.9, \"table\": 56.0, \"price\": 1716, \"x\": 5.09, \"y\": 5.12, \"z\": 3.16, \"model\": \"lm\", \"pred\": 2401.7132114833285}, {\"carat\": 0.23, \"cut\": \"Very Good\", \"color\": \"E\", \"clarity\": \"VVS2\", \"depth\": 62.7, \"table\": 59.0, \"price\": 465, \"x\": 3.93, \"y\": 3.95, \"z\": 2.47, \"model\": \"lm\", \"pred\": 285.2412929946213}, {\"carat\": 0.77, \"cut\": \"Premium\", \"color\": \"E\", \"clarity\": \"VS2\", \"depth\": 60.5, \"table\": 59.0, \"price\": 3234, \"x\": 5.98, \"y\": 5.92, \"z\": 3.6, \"model\": \"lm\", \"pred\": 4355.059606921162}, {\"carat\": 0.24, \"cut\": \"Ideal\", \"color\": \"G\", \"clarity\": \"VS1\", \"depth\": 61.8, \"table\": 54.0, \"price\": 490, \"x\": 4.01, \"y\": 4.02, \"z\": 2.48, \"model\": \"gb\", \"pred\": 458.0958899044404}, {\"carat\": 1.03, \"cut\": \"Ideal\", \"color\": \"F\", \"clarity\": \"SI1\", \"depth\": 62.0, \"table\": 56.0, \"price\": 5974, \"x\": 6.47, \"y\": 6.5, \"z\": 4.02, \"model\": \"lm\", \"pred\": 6058.542985773899}, {\"carat\": 0.36, \"cut\": \"Ideal\", \"color\": \"D\", \"clarity\": \"VS2\", \"depth\": 62.5, \"table\": 55.0, \"price\": 773, \"x\": 4.55, \"y\": 4.57, \"z\": 2.85, \"model\": \"gb\", \"pred\": 878.4302677876753}, {\"carat\": 1.34, \"cut\": \"Premium\", \"color\": \"H\", \"clarity\": \"VS2\", \"depth\": 62.3, \"table\": 60.0, \"price\": 7816, \"x\": 7.05, \"y\": 7.02, \"z\": 4.38, \"model\": \"gb\", \"pred\": 7484.2199929721155}, {\"carat\": 0.72, \"cut\": \"Premium\", \"color\": \"I\", \"clarity\": \"SI1\", \"depth\": 61.5, \"table\": 59.0, \"price\": 2262, \"x\": 5.78, \"y\": 5.73, \"z\": 3.54, \"model\": \"gb\", \"pred\": 2107.172849620364}, {\"carat\": 0.3, \"cut\": \"Premium\", \"color\": \"J\", \"clarity\": \"VS1\", \"depth\": 61.2, \"table\": 61.0, \"price\": 506, \"x\": 4.33, \"y\": 4.3, \"z\": 2.64, \"model\": \"gb\", \"pred\": 477.1839432112379}, {\"carat\": 0.42, \"cut\": \"Premium\", \"color\": \"D\", \"clarity\": \"VVS2\", \"depth\": 62.8, \"table\": 59.0, \"price\": 1241, \"x\": 4.76, \"y\": 4.73, \"z\": 2.98, \"model\": \"lm\", \"pred\": 2205.967287433913}, {\"carat\": 1.11, \"cut\": \"Premium\", \"color\": \"G\", \"clarity\": \"VS2\", \"depth\": 61.0, \"table\": 59.0, \"price\": 5346, \"x\": 6.7, \"y\": 6.67, \"z\": 4.08, \"model\": \"lm\", \"pred\": 7081.826372301148}, {\"carat\": 0.71, \"cut\": \"Very Good\", \"color\": \"I\", \"clarity\": \"VS2\", \"depth\": 61.1, \"table\": 60.0, \"price\": 2384, \"x\": 5.72, \"y\": 5.77, \"z\": 3.51, \"model\": \"gb\", \"pred\": 2341.1828596281325}, {\"carat\": 0.73, \"cut\": \"Ideal\", \"color\": \"D\", \"clarity\": \"SI2\", \"depth\": 62.4, \"table\": 56.0, \"price\": 2707, \"x\": 5.77, \"y\": 5.74, \"z\": 3.59, \"model\": \"lm\", \"pred\": 2748.276352816026}, {\"carat\": 0.81, \"cut\": \"Premium\", \"color\": \"G\", \"clarity\": \"VS2\", \"depth\": 61.2, \"table\": 60.0, \"price\": 3084, \"x\": 6.0, \"y\": 5.99, \"z\": 3.67, \"model\": \"gb\", \"pred\": 3127.0633872008393}, {\"carat\": 0.33, \"cut\": \"Ideal\", \"color\": \"E\", \"clarity\": \"VVS1\", \"depth\": 61.5, \"table\": 57.0, \"price\": 1052, \"x\": 4.47, \"y\": 4.44, \"z\": 2.74, \"model\": \"lm\", \"pred\": 1428.2199768662094}, {\"carat\": 0.32, \"cut\": \"Ideal\", \"color\": \"E\", \"clarity\": \"VS2\", \"depth\": 62.6, \"table\": 53.0, \"price\": 900, \"x\": 4.38, \"y\": 4.37, \"z\": 2.74, \"model\": \"lm\", \"pred\": 485.1601450426815}, {\"carat\": 0.6, \"cut\": \"Very Good\", \"color\": \"F\", \"clarity\": \"VVS1\", \"depth\": 61.2, \"table\": 58.0, \"price\": 3333, \"x\": 5.42, \"y\": 5.46, \"z\": 3.33, \"model\": \"gb\", \"pred\": 2861.1055096207624}, {\"carat\": 1.07, \"cut\": \"Very Good\", \"color\": \"G\", \"clarity\": \"SI2\", \"depth\": 62.9, \"table\": 59.0, \"price\": 4321, \"x\": 6.51, \"y\": 6.58, \"z\": 4.12, \"model\": \"gb\", \"pred\": 4410.450033637366}, {\"carat\": 0.92, \"cut\": \"Good\", \"color\": \"F\", \"clarity\": \"SI2\", \"depth\": 64.2, \"table\": 58.0, \"price\": 3282, \"x\": 6.14, \"y\": 6.11, \"z\": 3.93, \"model\": \"gb\", \"pred\": 3363.9159909916552}, {\"carat\": 0.36, \"cut\": \"Ideal\", \"color\": \"E\", \"clarity\": \"VS1\", \"depth\": 60.8, \"table\": 55.0, \"price\": 767, \"x\": 4.58, \"y\": 4.63, \"z\": 2.8, \"model\": \"gb\", \"pred\": 904.161263565204}, {\"carat\": 1.75, \"cut\": \"Premium\", \"color\": \"D\", \"clarity\": \"SI2\", \"depth\": 60.6, \"table\": 60.0, \"price\": 13363, \"x\": 7.74, \"y\": 7.78, \"z\": 4.7, \"model\": \"lm\", \"pred\": 11683.269277721422}, {\"carat\": 0.41, \"cut\": \"Ideal\", \"color\": \"D\", \"clarity\": \"SI1\", \"depth\": 60.8, \"table\": 57.0, \"price\": 1015, \"x\": 4.84, \"y\": 4.8, \"z\": 2.93, \"model\": \"lm\", \"pred\": 852.4531112035429}, {\"carat\": 2.14, \"cut\": \"Good\", \"color\": \"I\", \"clarity\": \"SI2\", \"depth\": 63.8, \"table\": 57.0, \"price\": 14452, \"x\": 8.17, \"y\": 8.14, \"z\": 5.2, \"model\": \"lm\", \"pred\": 13494.929185176365}, {\"carat\": 0.32, \"cut\": \"Premium\", \"color\": \"E\", \"clarity\": \"SI1\", \"depth\": 62.2, \"table\": 57.0, \"price\": 720, \"x\": 4.43, \"y\": 4.38, \"z\": 2.74, \"model\": \"gb\", \"pred\": 711.6838195371878}, {\"carat\": 1.07, \"cut\": \"Ideal\", \"color\": \"H\", \"clarity\": \"SI2\", \"depth\": 62.4, \"table\": 55.0, \"price\": 4840, \"x\": 6.56, \"y\": 6.59, \"z\": 4.1, \"model\": \"lm\", \"pred\": 4790.8625080251}, {\"carat\": 0.4, \"cut\": \"Ideal\", \"color\": \"G\", \"clarity\": \"VS2\", \"depth\": 61.2, \"table\": 57.0, \"price\": 1035, \"x\": 4.78, \"y\": 4.73, \"z\": 2.91, \"model\": \"lm\", \"pred\": 901.5334009717908}, {\"carat\": 1.54, \"cut\": \"Premium\", \"color\": \"J\", \"clarity\": \"VVS1\", \"depth\": 62.4, \"table\": 59.0, \"price\": 9215, \"x\": 7.36, \"y\": 7.38, \"z\": 4.6, \"model\": \"gb\", \"pred\": 9477.884515916368}, {\"carat\": 0.4, \"cut\": \"Ideal\", \"color\": \"I\", \"clarity\": \"VVS1\", \"depth\": 61.4, \"table\": 58.0, \"price\": 790, \"x\": 4.72, \"y\": 4.76, \"z\": 2.91, \"model\": \"lm\", \"pred\": 821.6295781035051}, {\"carat\": 2.1, \"cut\": \"Very Good\", \"color\": \"H\", \"clarity\": \"SI1\", \"depth\": 62.9, \"table\": 57.0, \"price\": 18480, \"x\": 8.12, \"y\": 8.19, \"z\": 5.13, \"model\": \"lm\", \"pred\": 14741.775697149937}, {\"carat\": 0.4, \"cut\": \"Ideal\", \"color\": \"F\", \"clarity\": \"SI2\", \"depth\": 61.5, \"table\": 56.0, \"price\": 764, \"x\": 4.75, \"y\": 4.78, \"z\": 2.93, \"model\": \"lm\", \"pred\": -487.45621099180516}, {\"carat\": 2.19, \"cut\": \"Very Good\", \"color\": \"I\", \"clarity\": \"SI1\", \"depth\": 62.6, \"table\": 58.0, \"price\": 14819, \"x\": 8.24, \"y\": 8.33, \"z\": 5.19, \"model\": \"lm\", \"pred\": 15079.923059509892}]}};\n",
       "var opt = {};\n",
       "var type = \"vega-lite\";\n",
       "var id = \"32e5e754-c2b3-4d1c-b51f-6dd49412adce\";\n",
       "\n",
       "var output_area = this;\n",
       "\n",
       "require([\"nbextensions/jupyter-vega/index\"], function(vega) {\n",
       "  var target = document.createElement(\"div\");\n",
       "  target.id = id;\n",
       "  target.className = \"vega-embed\";\n",
       "\n",
       "  var style = document.createElement(\"style\");\n",
       "  style.textContent = [\n",
       "    \".vega-embed .error p {\",\n",
       "    \"  color: firebrick;\",\n",
       "    \"  font-size: 14px;\",\n",
       "    \"}\",\n",
       "  ].join(\"\\\\n\");\n",
       "\n",
       "  // element is a jQuery wrapped DOM element inside the output area\n",
       "  // see http://ipython.readthedocs.io/en/stable/api/generated/\\\n",
       "  // IPython.display.html#IPython.display.Javascript.__init__\n",
       "  element[0].appendChild(target);\n",
       "  element[0].appendChild(style);\n",
       "\n",
       "  vega.render(\"#\" + id, spec, type, opt, output_area);\n",
       "}, function (err) {\n",
       "  if (err.requireType !== \"scripterror\") {\n",
       "    throw(err);\n",
       "  }\n",
       "});\n"
      ],
      "text/plain": [
       "<vega.vegalite.VegaLite at 0x7f90d750bd30>"
      ]
     },
     "metadata": {
      "jupyter-vega": "#32e5e754-c2b3-4d1c-b51f-6dd49412adce"
     },
     "output_type": "display_data"
    },
    {
     "data": {
      "image/png": "[encoded data removed]"
     },
     "metadata": {
      "jupyter-vega": "#32e5e754-c2b3-4d1c-b51f-6dd49412adce"
     },
     "output_type": "display_data"
    },
    {
     "data": {
      "text/plain": []
     },
     "execution_count": 43,
     "metadata": {},
     "output_type": "execute_result"
    }
   ],
   "source": [
    "pred=diamonds_split[1].as_data_frame().assign(\n",
    "  model='gb',pred=gb_predictions.as_data_frame()).append(\n",
    "  diamonds_split[1].as_data_frame().assign(\n",
    "  model='lm',pred=lm_predictions.as_data_frame())).sample(1000)\n",
    "    \n",
    "alt.Chart(pred).mark_circle(opacity=0.25).encode(\n",
    "    x='price',y='pred',color='model'\n",
    ").interactive()"
   ]
  },
  {
   "cell_type": "code",
   "execution_count": null,
   "metadata": {},
   "outputs": [],
   "source": []
  }
 ],
 "metadata": {
  "kernelspec": {
   "display_name": "Python 3",
   "language": "python",
   "name": "python3"
  },
  "language_info": {
   "codemirror_mode": {
    "name": "ipython",
    "version": 3
   },
   "file_extension": ".py",
   "mimetype": "text/x-python",
   "name": "python",
   "nbconvert_exporter": "python",
   "pygments_lexer": "ipython3",
   "version": "3.6.5"
  },
  "toc": {
   "base_numbering": 1,
   "nav_menu": {},
   "number_sections": true,
   "sideBar": true,
   "skip_h1_title": false,
   "title_cell": "Table of Contents",
   "title_sidebar": "Contents",
   "toc_cell": false,
   "toc_position": {},
   "toc_section_display": true,
   "toc_window_display": false
  }
 },
 "nbformat": 4,
 "nbformat_minor": 2
}
